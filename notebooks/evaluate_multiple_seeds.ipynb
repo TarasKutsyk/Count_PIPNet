{
 "cells": [
  {
   "cell_type": "markdown",
   "metadata": {},
   "source": [
    "# Setup"
   ]
  },
  {
   "cell_type": "code",
   "execution_count": 1,
   "metadata": {},
   "outputs": [
    {
     "name": "stdout",
     "output_type": "stream",
     "text": [
      "Base path: /mnt/ssd-1/mechinterp/taras/Count_PIPNet\n"
     ]
    }
   ],
   "source": [
    "# Enable auto-reloading of imports when they have been modified\n",
    "from IPython import get_ipython\n",
    "ipython = get_ipython(); assert ipython is not None\n",
    "ipython.run_line_magic(\"load_ext\", \"autoreload\")\n",
    "ipython.run_line_magic(\"autoreload\", \"2\")\n",
    "\n",
    "import os\n",
    "import json\n",
    "import torch\n",
    "import torch.nn as nn\n",
    "import pandas as pd\n",
    "import numpy as np\n",
    "import matplotlib.pyplot as plt\n",
    "import seaborn as sns\n",
    "from pathlib import Path\n",
    "import sys\n",
    "import plotly.express as px\n",
    "import plotly.graph_objects as go\n",
    "from tqdm.notebook import tqdm\n",
    "\n",
    "# Disable gradient computation - this notebook will only perform forward passes\n",
    "torch.set_grad_enabled(False)\n",
    "\n",
    "from pathlib import Path\n",
    "import sys\n",
    "import os\n",
    "\n",
    "# Add the base (root) directory to the path so we can import the util modules\n",
    "def get_base_folder(project_root = \"Count_PIPNet\"):\n",
    "\t# Find the project root dynamically\n",
    "\tcurrent_dir = os.getcwd()\n",
    "\twhile True:\n",
    "\t\tif os.path.basename(current_dir) == project_root:  # Adjust to match your project root folder name\n",
    "\t\t\tbreak\n",
    "\t\tparent = os.path.dirname(current_dir)\n",
    "\t\tif parent == current_dir:  # Stop if we reach the system root (failsafe)\n",
    "\t\t\traise RuntimeError(f\"Project root {project_root} not found. Check your folder structure.\")\n",
    "\t\tcurrent_dir = parent\n",
    "\n",
    "\treturn Path(current_dir)\n",
    "\n",
    "base_path = get_base_folder() # \"PIPNet\"\n",
    "print(f\"Base path: {base_path}\")\n",
    "sys.path.append(str(base_path))"
   ]
  },
  {
   "cell_type": "code",
   "execution_count": 2,
   "metadata": {},
   "outputs": [],
   "source": [
    "from util.vis_pipnet import vizualize_network\n",
    "from pipnet.count_pipnet import get_count_network\n",
    "from util.checkpoint_manager import CheckpointManager\n",
    "from pipnet.test import evaluate_model_lightweight\n",
    "from pipnet.pipnet import get_pipnet\n",
    "from util.data import get_dataloaders\n",
    "from util.args import get_args\n",
    "from util.vis_pipnet import vizualize_network"
   ]
  },
  {
   "cell_type": "code",
   "execution_count": 3,
   "metadata": {},
   "outputs": [
    {
     "name": "stdout",
     "output_type": "stream",
     "text": [
      ">>> Using cuda:3 device <<<\n"
     ]
    }
   ],
   "source": [
    "# Device setup\n",
    "GPU_TO_USE = 3\n",
    "\n",
    "if torch.backends.mps.is_available():\n",
    "    device = \"mps\"\n",
    "else:\n",
    "    device = f\"cuda:{GPU_TO_USE}\" if torch.cuda.is_available() else \"cpu\"\n",
    "\n",
    "print(f'>>> Using {device} device <<<')"
   ]
  },
  {
   "cell_type": "markdown",
   "metadata": {},
   "source": [
    "# Loading utilities"
   ]
  },
  {
   "cell_type": "code",
   "execution_count": 4,
   "metadata": {},
   "outputs": [],
   "source": [
    "# Function to load a model from a checkpoint\n",
    "def load_model(run_dir, checkpoint_name='net_trained_best', base_path=base_path, gpu_id=GPU_TO_USE):\n",
    "    \"\"\"\n",
    "    Load a model from a checkpoint directory for evaluation purposes.\n",
    "\n",
    "    Args:\n",
    "        run_dir: Directory containing the run results\n",
    "        checkpoint_name: Name of checkpoint to load (default: 'net_trained_best')\n",
    "        base_path: Base path for dataset directories\n",
    "        gpu_id: GPU ID to use\n",
    "        \n",
    "    Returns:\n",
    "        Tuple of (net, trainloader, testloader, classes, args, is_count_pipnet)\n",
    "    \"\"\"\n",
    "    # Step 1: Load the configuration used for this run\n",
    "    metadata_dir = os.path.join(run_dir, 'metadata')\n",
    "    args_path = os.path.join(metadata_dir, 'args.pickle')\n",
    "\n",
    "    import pickle\n",
    "    with open(args_path, 'rb') as f:\n",
    "        args = pickle.load(f)\n",
    "    print(f\"Loaded configuration from {args_path}\")\n",
    "\n",
    "    # Explicitly set GPU ID to ensure device consistency\n",
    "    if torch.cuda.is_available():\n",
    "        args.gpu_ids = str(gpu_id)\n",
    "        device = torch.device(f'cuda:{gpu_id}')\n",
    "        torch.cuda.set_device(device)\n",
    "    else:\n",
    "        device = torch.device('cpu')\n",
    "\n",
    "    print(f\"Using device: {device}\")\n",
    "\n",
    "    # Step 2: Create dataloaders\n",
    "    args.log_dir = run_dir  # Use the run directory as log_dir\n",
    "    trainloader, trainloader_pretraining, trainloader_normal, \\\n",
    "    trainloader_normal_augment, projectloader, valid_loader, testloader, classes = get_dataloaders(args, device, base_path,\n",
    "                                                                                                    test_set_projection_full=True)\n",
    "    # Step 3: Create a model with the same architecture\n",
    "    if hasattr(args, 'model') and args.model == 'count_pipnet':\n",
    "        is_count_pipnet = True\n",
    "        net, num_prototypes = get_count_network(\n",
    "            num_classes=len(classes), \n",
    "            args=args,\n",
    "            max_count=getattr(args, 'max_count', 3),\n",
    "            use_ste=getattr(args, 'use_ste', False))\n",
    "    else:\n",
    "        is_count_pipnet = False\n",
    "        net, num_prototypes = get_pipnet(len(classes), args)\n",
    "\n",
    "    # Step 4: Move model to device\n",
    "    net = net.to(device)\n",
    "\n",
    "    # Step 5: Forward one batch through the backbone to get the latent output size\n",
    "    with torch.no_grad():\n",
    "        # Use a small batch to determine output shape\n",
    "        xs1, _, _ = next(iter(trainloader))\n",
    "        xs1 = xs1.to(device)\n",
    "\n",
    "        # Single-forward pass without DataParallel\n",
    "        features = net._net(xs1)\n",
    "        proto_features = net._add_on(features)\n",
    "\n",
    "        wshape = proto_features.shape[-1]\n",
    "        args.wshape = wshape  # needed for calculating image patch size\n",
    "        print(f\"Output shape: {proto_features.shape}, setting wshape={wshape}\")\n",
    "            \n",
    "    # Step 6: Now wrap with DataParallel\n",
    "    device_ids = [gpu_id]\n",
    "    print(f\"Using device_ids: {device_ids}\")\n",
    "    net = nn.DataParallel(net, device_ids=device_ids)\n",
    "\n",
    "    # Step 7: Direct checkpoint loading\n",
    "    checkpoint_path = os.path.join(run_dir, 'checkpoints', checkpoint_name)\n",
    "    if not os.path.exists(checkpoint_path):\n",
    "        print(f\"Checkpoint not found at {checkpoint_path}, trying alternative paths...\")\n",
    "        # Try with full path as fallback\n",
    "        if os.path.exists(checkpoint_name):\n",
    "            checkpoint_path = checkpoint_name\n",
    "        else:\n",
    "            # Try other common checkpoint names\n",
    "            alternatives = [\n",
    "                os.path.join(run_dir, 'checkpoints', 'net_trained_last'),\n",
    "                os.path.join(run_dir, 'checkpoints', 'net_trained'),\n",
    "                checkpoint_name # in case the direct path was passed\n",
    "            ]\n",
    "            for alt_path in alternatives:\n",
    "                if os.path.exists(alt_path):\n",
    "                    checkpoint_path = alt_path\n",
    "                    print(f\"Found alternative checkpoint at {checkpoint_path}\")\n",
    "                    break\n",
    "            else:\n",
    "                print(\"No checkpoint found\")\n",
    "                return None, None, None, None, None, None\n",
    "\n",
    "    try:\n",
    "        # Load just the model state dict\n",
    "        checkpoint = torch.load(checkpoint_path, map_location=device)\n",
    "        \n",
    "        if 'model_state_dict' in checkpoint:\n",
    "            net.load_state_dict(checkpoint['model_state_dict'], strict=True)\n",
    "            print(f\"Successfully loaded model state from {checkpoint_path}\")\n",
    "            \n",
    "            # Display additional information if available\n",
    "            if 'epoch' in checkpoint:\n",
    "                print(f\"Checkpoint from epoch {checkpoint['epoch']}\")\n",
    "            if 'accuracy' in checkpoint:\n",
    "                print(f\"Model accuracy: {checkpoint['accuracy']:.4f}\")\n",
    "            \n",
    "            return net, testloader, classes, args, is_count_pipnet\n",
    "        else:\n",
    "            print(f\"Checkpoint doesn't contain model_state_dict\")\n",
    "            return None, None, None, None, None, None\n",
    "            \n",
    "    except Exception as e:\n",
    "        print(f\"Error loading checkpoint: {str(e)}\")\n",
    "        import traceback\n",
    "        traceback.print_exc()\n",
    "        return None, None, None, None, None, None"
   ]
  },
  {
   "cell_type": "markdown",
   "metadata": {},
   "source": [
    "# Evaluation utilities"
   ]
  },
  {
   "cell_type": "code",
   "execution_count": 5,
   "metadata": {},
   "outputs": [],
   "source": [
    "import warnings\n",
    "# Suppress SettingWithCopyWarning\n",
    "warnings.simplefilter(action='ignore', category=pd.errors.SettingWithCopyWarning)\n",
    "# Suppress FutureWarning\n",
    "warnings.simplefilter(action='ignore', category=FutureWarning)"
   ]
  },
  {
   "cell_type": "code",
   "execution_count": 6,
   "metadata": {},
   "outputs": [],
   "source": [
    "def evaluate_model(net, testloader, device, args=None):\n",
    "    \"\"\"\n",
    "    Evaluate a model on the test set using a lightweight evaluation.\n",
    "    \n",
    "    Args:\n",
    "        net: The model to evaluate\n",
    "        testloader: DataLoader for the test set\n",
    "        device: Device to run evaluation on\n",
    "        args: Arguments object containing parameters (optional)\n",
    "        \n",
    "    Returns:\n",
    "        Dictionary containing evaluation metrics\n",
    "    \"\"\"\n",
    "    print(\"Evaluating model...\")\n",
    "    \n",
    "    # Use the lightweight evaluation function\n",
    "    eval_info = evaluate_model_lightweight(net, testloader, device)\n",
    "    \n",
    "    # If you still want to run the full eval_pipnet for additional metrics,\n",
    "    # you can add a parameter to control this\n",
    "    if args and getattr(args, 'run_full_evaluation', False):\n",
    "        from pipnet.test import eval_pipnet\n",
    "        enforce_weight_sparsity = getattr(args, 'enforce_weight_sparsity', True)\n",
    "        full_eval_info = eval_pipnet(net, testloader, \"evaluation\", device, \n",
    "                                    log=None, enforce_weight_sparsity=enforce_weight_sparsity,\n",
    "                                    args=args)\n",
    "        # Add full evaluation metrics to the results\n",
    "        eval_info.update(full_eval_info)\n",
    "    \n",
    "    return eval_info"
   ]
  },
  {
   "cell_type": "code",
   "execution_count": 7,
   "metadata": {},
   "outputs": [],
   "source": [
    "# Function to load and parse the log_epoch_overview.csv file\n",
    "def load_training_metrics(run_dir):\n",
    "    \"\"\"\n",
    "    Load the training metrics from the log_epoch_overview.csv file.\n",
    "    \n",
    "    Args:\n",
    "        run_dir: Directory containing the run results\n",
    "        \n",
    "    Returns:\n",
    "        pandas DataFrame containing the metrics\n",
    "    \"\"\"\n",
    "    log_path = os.path.join(run_dir, 'log_epoch_overview.csv')\n",
    "    \n",
    "    if not os.path.exists(log_path):\n",
    "        print(f\"Log file not found at {log_path}\")\n",
    "        return None\n",
    "    \n",
    "    try:\n",
    "        # Load the CSV file\n",
    "        df = pd.read_csv(log_path)\n",
    "        \n",
    "        # Convert 'n.a.' strings to NaN\n",
    "        df = df.replace('n.a.', np.nan)\n",
    "        \n",
    "        # Convert to numeric types where possible\n",
    "        for col in df.columns:\n",
    "            df[col] = pd.to_numeric(df[col], errors='ignore')\n",
    "        \n",
    "        # Determine which epochs were pretraining\n",
    "        pretraining_mask = df['test_top1_acc'].isna()\n",
    "        df['phase'] = 'training'\n",
    "        df.loc[pretraining_mask, 'phase'] = 'pretraining'\n",
    "        \n",
    "        # Calculate the real epoch number (pretraining + training)\n",
    "        df['real_epoch'] = df.index + 1\n",
    "        \n",
    "        # Calculate the training epoch number (just for the training phase)\n",
    "        training_epochs = (~pretraining_mask).cumsum()\n",
    "        df.loc[~pretraining_mask, 'training_epoch'] = training_epochs[~pretraining_mask]\n",
    "        \n",
    "        return df\n",
    "    \n",
    "    except Exception as e:\n",
    "        print(f\"Error loading log file: {str(e)}\")\n",
    "        import traceback\n",
    "        traceback.print_exc()\n",
    "        return None"
   ]
  },
  {
   "cell_type": "markdown",
   "metadata": {},
   "source": [
    "## Seed group evaluation"
   ]
  },
  {
   "cell_type": "code",
   "execution_count": 8,
   "metadata": {},
   "outputs": [],
   "source": [
    "# Function to extract meaningful name and seed from run directory name\n",
    "def extract_name_and_seed(run_name):\n",
    "    \"\"\"\n",
    "    Extract the meaningful name and seed from a run directory name.\n",
    "    \n",
    "    Args:\n",
    "        run_name: Name of the run directory\n",
    "    \n",
    "    Returns:\n",
    "        Tuple of (meaningful_name, seed, full_name)\n",
    "    \"\"\"\n",
    "    import re\n",
    "    \n",
    "    # Try to match patterns like \"_s{seed}_\" or \"seed{seed}_\" in the name\n",
    "    seed_pattern = r'_s(\\d+)_|seed(\\d+)_'\n",
    "    seed_match = re.search(seed_pattern, run_name)\n",
    "    \n",
    "    if seed_match:\n",
    "        # Extract the seed value from the first successful group\n",
    "        seed = seed_match.group(1) if seed_match.group(1) else seed_match.group(2)\n",
    "        \n",
    "        # Remove date pattern (assuming format like 'YYYYMMDD_HHMMSS_')\n",
    "        date_pattern = r'^\\d{8}_\\d{6}_\\d+_'\n",
    "        name_without_date = re.sub(date_pattern, '', run_name)\n",
    "        \n",
    "        # Replace the seed part with a placeholder to get the meaningful name\n",
    "        meaningful_name = re.sub(seed_pattern, '_SEED_', name_without_date)\n",
    "        \n",
    "        return meaningful_name, seed, run_name\n",
    "    else:\n",
    "        # If no seed found, use the full name\n",
    "        return run_name, None, run_name\n",
    "\n",
    "# Function to group run directories by meaningful name (ignoring seed and date)\n",
    "def group_runs_by_config(run_dirs):\n",
    "    \"\"\"\n",
    "    Group run directories by configuration (ignoring seed and date).\n",
    "    \n",
    "    Args:\n",
    "        run_dirs: Dictionary mapping run names to run directories\n",
    "    \n",
    "    Returns:\n",
    "        Dictionary mapping meaningful names to lists of (seed, run_dir) tuples\n",
    "    \"\"\"\n",
    "    config_groups = {}\n",
    "    \n",
    "    for run_name, run_dir in run_dirs.items():\n",
    "        meaningful_name, seed, full_name = extract_name_and_seed(run_name)\n",
    "        \n",
    "        if seed is not None:  # Only consider runs with identified seeds\n",
    "            if meaningful_name not in config_groups:\n",
    "                config_groups[meaningful_name] = []\n",
    "            \n",
    "            config_groups[meaningful_name].append((seed, run_dir, full_name))\n",
    "    \n",
    "    # Sort runs within each group by seed\n",
    "    for group_name in config_groups:\n",
    "        config_groups[group_name].sort(key=lambda x: int(x[0]))\n",
    "    \n",
    "    # Print summary of found groups\n",
    "    print(f\"Found {len(config_groups)} configuration groups:\")\n",
    "    for group_name, runs in config_groups.items():\n",
    "        seed_list = [seed for seed, _, _ in runs]\n",
    "        print(f\"  - {group_name}: {len(runs)} runs with seeds {', '.join(seed_list)}\")\n",
    "    \n",
    "    return config_groups"
   ]
  },
  {
   "cell_type": "code",
   "execution_count": 9,
   "metadata": {},
   "outputs": [],
   "source": [
    "from util.histograms import class_idx_to_name\n",
    "import matplotlib.pyplot as plt\n",
    "import seaborn as sns\n",
    "\n",
    "# Function to evaluate a group of runs with the same configuration but different seeds\n",
    "def evaluate_run_group(config_name, seed_runs, output_dir, plot_confusion_matrix = True,\n",
    "                       metrics_to_plot=None, plot_individual_seeds=True):\n",
    "    \"\"\"\n",
    "    Evaluate a group of runs with the same configuration but different seeds.\n",
    "    \n",
    "    Args:\n",
    "        config_name: Name of the configuration group\n",
    "        seed_runs: List of (seed, run_dir, full_name) tuples for runs in this group\n",
    "        output_dir: Directory to save evaluation results\n",
    "    \n",
    "    Returns:\n",
    "        Dictionary containing evaluation results\n",
    "    \"\"\"\n",
    "    print(f\"\\n{'='*60}\")\n",
    "    print(f\"Evaluating configuration group: {config_name}\")\n",
    "    print(f\"{'='*60}\")\n",
    "\n",
    "    # Hard-code the desired order for the confusion matrix\n",
    "    desired_order = [\n",
    "        \"1 Circle\", \"2 Circles\", \"3 Circles\",\n",
    "        \"1 Triangle\", \"2 Triangles\", \"3 Triangles\",\n",
    "        \"1 Hexagon\", \"2 Hexagons\", \"3 Hexagons\"\n",
    "    ]\n",
    "    \n",
    "    group_output_dir = os.path.join(output_dir, config_name)\n",
    "    os.makedirs(group_output_dir, exist_ok=True)\n",
    "    \n",
    "    results = {\n",
    "        'config_name': config_name,\n",
    "        'seeds': [],\n",
    "        'test_accuracies': [],\n",
    "        'seed_metrics': {}\n",
    "    }\n",
    "    \n",
    "    # Initialize DataFrames for collecting metrics across seeds\n",
    "    metrics_dfs = []\n",
    "    \n",
    "    # Evaluate each seed\n",
    "    for seed, run_dir, full_name in seed_runs:\n",
    "        print(f\"\\nEvaluating seed {seed} from {os.path.basename(run_dir)}\")\n",
    "        \n",
    "        seed_output_dir = os.path.join(group_output_dir, f\"seed_{seed}\")\n",
    "        os.makedirs(seed_output_dir, exist_ok=True)\n",
    "        \n",
    "        # Load the model for this seed\n",
    "        net, testloader, classes, args, is_count_pipnet = load_model(\n",
    "            run_dir, checkpoint_name='net_trained_best'\n",
    "        )\n",
    "        \n",
    "        # Evaluate on test set\n",
    "        eval_info = evaluate_model(net, testloader, device, args)\n",
    "\n",
    "        # print(f'Finished evaluating {full_name}, results:\\n', eval_info) \n",
    "        \n",
    "        # Record results\n",
    "        results['seeds'].append(seed)\n",
    "        results['test_accuracies'].append(eval_info['accuracy'])\n",
    "        results['seed_metrics'][seed] = eval_info\n",
    "        \n",
    "        # Save evaluation results for this seed\n",
    "        eval_results_path = os.path.join(seed_output_dir, 'test_evaluation.json')\n",
    "        with open(eval_results_path, 'w') as f:\n",
    "            # Convert any non-serializable objects to strings\n",
    "            serializable_info = {}\n",
    "            for k, v in eval_info.items():\n",
    "                if isinstance(v, (int, float, str, bool, list, dict)) or v is None:\n",
    "                    serializable_info[k] = v\n",
    "                else:\n",
    "                    serializable_info[k] = str(v)\n",
    "                    \n",
    "            json.dump(serializable_info, f, indent=2)\n",
    "\n",
    "        # Load training metrics for this seed\n",
    "        df = load_training_metrics(run_dir)\n",
    "        if df is not None:\n",
    "            # Add seed information to the DataFrame\n",
    "            df['seed'] = seed\n",
    "            df['full_name'] = full_name\n",
    "            metrics_dfs.append(df)\n",
    "\n",
    "        # Plot confusion matrix if available\n",
    "        if plot_confusion_matrix and 'confusion_matrix' in eval_info:\n",
    "            # Create a directory for visualization\n",
    "            vis_dir = os.path.join(seed_output_dir, 'visualizations')\n",
    "            os.makedirs(vis_dir, exist_ok=True)\n",
    "    \n",
    "            # Get confusion matrix and class information\n",
    "            cm = eval_info['confusion_matrix']\n",
    "            num_classes = eval_info['num_classes']\n",
    "            \n",
    "            # Get class names for all indices\n",
    "            class_names = [class_idx_to_name(i) for i in range(num_classes)]\n",
    "            \n",
    "            # Convert class names to indices\n",
    "            reorder_idx = []\n",
    "            for desired_name in desired_order:\n",
    "                if desired_name in class_names:\n",
    "                    idx = class_names.index(desired_name)\n",
    "                    reorder_idx.append(idx)\n",
    "            \n",
    "            # If we have the wrong number of classes, fall back to original order\n",
    "            if len(reorder_idx) != num_classes:\n",
    "                print(f\"Warning: Not all classes found in desired order. Using original order.\")\n",
    "                reorder_idx = list(range(num_classes))\n",
    "            \n",
    "            # Reorder confusion matrix\n",
    "            cm_reordered = cm[reorder_idx, :][:, reorder_idx]\n",
    "            class_names_reordered = [class_names[i] for i in reorder_idx]\n",
    "            \n",
    "            # Plot confusion matrix\n",
    "            plt.figure(figsize=(12, 10))\n",
    "            sns.heatmap(cm_reordered, annot=True, fmt='d', cmap='Blues',\n",
    "                       xticklabels=class_names_reordered,\n",
    "                       yticklabels=class_names_reordered)\n",
    "            plt.xlabel('Predicted')\n",
    "            plt.ylabel('True')\n",
    "            plt.title(f'Confusion Matrix {full_name}')\n",
    "            \n",
    "            # Rotate x labels for better readability\n",
    "            plt.xticks(rotation=45, ha='right')\n",
    "            plt.tight_layout()\n",
    "            \n",
    "            # Save the plot\n",
    "            cm_path = os.path.join(vis_dir, 'confusion_matrix.png')\n",
    "            plt.savefig(cm_path, bbox_inches='tight')\n",
    "    \n",
    "            display(plt.gcf())\n",
    "            plt.close()\n",
    "    \n",
    "    # Calculate mean and standard deviation of test accuracies\n",
    "    if results['test_accuracies']:\n",
    "        results['mean_accuracy'] = np.mean(results['test_accuracies'])\n",
    "        results['std_accuracy'] = np.std(results['test_accuracies'])\n",
    "        \n",
    "        print(f\"\\nTest accuracy across {len(results['seeds'])} seeds:\")\n",
    "        print(f\"  Mean: {results['mean_accuracy']:.4f}\")\n",
    "        print(f\"  Std: {results['std_accuracy']:.4f}\")\n",
    "        print(f\"  Range: {min(results['test_accuracies']):.4f} - {max(results['test_accuracies']):.4f}\")\n",
    "        \n",
    "        # Save summary of test accuracies\n",
    "        summary_path = os.path.join(group_output_dir, 'test_accuracy_summary.json')\n",
    "        with open(summary_path, 'w') as f:\n",
    "            json.dump({\n",
    "                'config_name': config_name,\n",
    "                'seeds': results['seeds'],\n",
    "                'test_accuracies': results['test_accuracies'],\n",
    "                'mean_accuracy': results['mean_accuracy'],\n",
    "                'std_accuracy': results['std_accuracy']\n",
    "            }, f, indent=2)\n",
    "    \n",
    "    # Merge metrics DataFrames and create plots with error bars\n",
    "    if metrics_dfs:\n",
    "        combined_df = pd.concat(metrics_dfs, ignore_index=True)\n",
    "        results['combined_metrics'] = combined_df\n",
    "        \n",
    "        # Plot metrics with error bars\n",
    "        plot_group_metrics(combined_df, group_output_dir, config_name, metrics_to_plot=metrics_to_plot,\n",
    "                           plot_individual_seeds=plot_individual_seeds)\n",
    "    \n",
    "    return results"
   ]
  },
  {
   "cell_type": "markdown",
   "metadata": {},
   "source": [
    "## Plotting functions"
   ]
  },
  {
   "cell_type": "code",
   "execution_count": 10,
   "metadata": {},
   "outputs": [],
   "source": [
    "import os\n",
    "from plotly.io import write_image\n",
    "\n",
    "def sanitize_filename(title: str) -> str:\n",
    "    \"\"\"Sanitize the title string to be a valid filename.\"\"\"\n",
    "    return \"\".join(c if c.isalnum() or c in (' ', '-', '_') else '_' for c in title).replace(' ', '_')\n",
    "\n",
    "def export_plotly_figure_images(fig, title, output_dir, suffix=\"\", png_scale=1):\n",
    "    \"\"\"Export a Plotly figure to high-res PNG and PDF using a sanitized title.\"\"\"\n",
    "    # Sanitize filename\n",
    "    base_name = sanitize_filename(title)\n",
    "    if suffix:\n",
    "        base_name += f\"_{suffix}\"\n",
    "\n",
    "    # Define full paths\n",
    "    png_path = os.path.join(output_dir, f\"{base_name}.png\")\n",
    "    pdf_path = os.path.join(output_dir, f\"{base_name}.pdf\")\n",
    "\n",
    "    # Get layout width and height (fallbacks if not set)\n",
    "    width = fig.layout.width or 1000\n",
    "    height = fig.layout.height or 600\n",
    "\n",
    "    # Export high-res PNG and PDF\n",
    "    write_image(fig, png_path, width=width, height=height, engine=\"orca\", scale=png_scale)\n",
    "    write_image(fig, pdf_path, width=width, height=height, engine=\"orca\")\n",
    "\n",
    "def plot_group_metrics(combined_df, output_dir, config_name, metrics_to_plot=None,\n",
    "                       plot_individual_seeds=False, num_y_ticks=10, suffix=\"\"):\n",
    "    \"\"\"\n",
    "    Plot metrics for a group of runs with the same configuration but different seeds.\n",
    "    Now supports plotting multiple metrics on the same graph.\n",
    "    \n",
    "    Args:\n",
    "        combined_df: DataFrame containing metrics for all seeds\n",
    "        output_dir: Directory to save plots\n",
    "        config_name: Name of the configuration group\n",
    "        metrics_to_plot: List of metrics to plot. Can contain:\n",
    "                         - Tuples (metric, title, y_axis_title) for single metrics\n",
    "                         - Lists of tuples [(metric1, title1, y_label1), ...] for multiple metrics on same plot\n",
    "    \n",
    "    Returns:\n",
    "        Dictionary of plotly figure objects\n",
    "    \"\"\"\n",
    "    figures = {}\n",
    "\n",
    "    if metrics_to_plot is None:\n",
    "        # Default metrics to plot if none provided\n",
    "        metrics_to_plot = [\n",
    "            ('test_top1_acc', 'Test Accuracy', 'Accuracy'),\n",
    "            ('local_size_for_true_class', 'Local Size for Predicted Class', 'Count'),\n",
    "            ('local_size_for_all_classes', 'Local Size for All Classes', 'Size'),\n",
    "            ('num_nonzero_prototypes', 'Global explanation size', 'Size'),\n",
    "            ('almost_nonzeros_pooled', 'Number of non-zero prototypes', 'Count'),\n",
    "            ('prototypes_per_class', 'Total explanation size', 'Size')\n",
    "        ]\n",
    "    \n",
    "    # Only keep training phase data\n",
    "    training_df = combined_df[combined_df['phase'] == 'training']\n",
    "    \n",
    "    # Process each item in metrics_to_plot\n",
    "    for item in metrics_to_plot:\n",
    "        # Check if the item is a list (multiple metrics to plot together)\n",
    "        if isinstance(item, list):\n",
    "            # Plot multiple metrics on the same figure\n",
    "            plot_multiple_metrics(training_df, item, output_dir, config_name, figures, plot_individual_seeds, \n",
    "                                  num_y_ticks=num_y_ticks, suffix=suffix)\n",
    "        else:\n",
    "            # Plot a single metric (original behavior)\n",
    "            metric, title, y_axis_title = item\n",
    "            if metric in training_df.columns and not training_df[metric].isna().all():\n",
    "                plot_single_metric(training_df, metric, title, y_axis_title, output_dir, config_name, figures, plot_individual_seeds, \n",
    "                                   num_y_ticks=num_y_ticks, suffix=suffix)\n",
    "    \n",
    "    return figures\n",
    "\n",
    "def plot_single_metric(training_df, metric, title, y_axis_title, output_dir, config_name, figures, plot_individual_seeds=False,\n",
    "                       num_y_ticks = 10, suffix=\"\"):\n",
    "    \"\"\"Plot a single metric with error bars (extracted from original function).\"\"\"\n",
    "    # Group by training epoch and calculate statistics\n",
    "    metrics_by_epoch = training_df.groupby('training_epoch')[metric].agg(['mean', 'std']).reset_index()\n",
    "    \n",
    "    # Create figure with error bars\n",
    "    fig = go.Figure()\n",
    "    \n",
    "    # Add mean line\n",
    "    fig.add_trace(go.Scatter(\n",
    "        x=metrics_by_epoch['training_epoch'],\n",
    "        y=metrics_by_epoch['mean'],\n",
    "        mode='lines',\n",
    "        name='Mean',\n",
    "        line=dict(color='royalblue'),\n",
    "        marker=dict(size=8)\n",
    "    ))\n",
    "    \n",
    "    # Add error bands (mean ± std)\n",
    "    fig.add_trace(go.Scatter(\n",
    "        x=metrics_by_epoch['training_epoch'],\n",
    "        y=metrics_by_epoch['mean'] + metrics_by_epoch['std'],\n",
    "        mode='lines',\n",
    "        name='Upper Bound',\n",
    "        line=dict(width=0),\n",
    "        showlegend=False\n",
    "    ))\n",
    "    \n",
    "    fig.add_trace(go.Scatter(\n",
    "        x=metrics_by_epoch['training_epoch'],\n",
    "        y=metrics_by_epoch['mean'] - metrics_by_epoch['std'],\n",
    "        mode='lines',\n",
    "        name='Lower Bound',\n",
    "        line=dict(width=0),\n",
    "        fill='tonexty',\n",
    "        fillcolor='rgba(65, 105, 225, 0.2)',\n",
    "        showlegend=False\n",
    "    ))\n",
    "    \n",
    "    # Compute the y-axis range\n",
    "    y_min = metrics_by_epoch['mean'].min()\n",
    "    y_max = metrics_by_epoch['mean'].max()\n",
    "    y_range = y_max - y_min\n",
    "    \n",
    "    # Dynamically determine y-axis tick step\n",
    "    dtick = max(1, round(y_range / num_y_ticks))  # ensure at least 1 unit spacing\n",
    "\n",
    "    # Update layout\n",
    "    fig.update_layout(\n",
    "        title=f\"{title} (Mean ± Std across seeds) - {config_name}\",\n",
    "        xaxis_title=\"Epoch\",\n",
    "        yaxis_title=y_axis_title,\n",
    "        legend=dict(orientation=\"h\", yanchor=\"bottom\", y=1.02, xanchor=\"right\", x=1),\n",
    "        xaxis=dict(showgrid=True),\n",
    "        yaxis=dict(showgrid=True, dtick=dtick if 'Accuracy' not in y_axis_title else 0.1),\n",
    "        hovermode=\"x unified\",\n",
    "        height=600\n",
    "    )\n",
    "\n",
    "    export_plotly_figure_images(fig, title, output_dir, suffix or \"with_error_bars\")\n",
    "    \n",
    "    # Save figure\n",
    "    fig_path = os.path.join(output_dir, f\"{metric}_with_error_bars.html\")\n",
    "    fig.write_html(fig_path)\n",
    "    \n",
    "    # Display the figure in the notebook\n",
    "    from IPython.display import display\n",
    "    display(fig)\n",
    "    \n",
    "    figures[metric] = fig\n",
    "    \n",
    "    if plot_individual_seeds:\n",
    "        # Create individual seeds plot (keeping original functionality)\n",
    "        fig = px.line(\n",
    "            training_df, \n",
    "            x='training_epoch', \n",
    "            y=metric, \n",
    "            color='seed',\n",
    "            title=f\"{title} (Individual Seeds) - {config_name}\",\n",
    "            labels={'training_epoch': 'Epoch', metric: y_axis_title}\n",
    "        )\n",
    "        \n",
    "        fig.update_layout(\n",
    "            legend=dict(orientation=\"h\", yanchor=\"bottom\", y=1.02, xanchor=\"right\", x=1),\n",
    "            xaxis=dict(showgrid=True),\n",
    "            yaxis=dict(showgrid=True, dtick=dtick if 'Accuracy' not in y_axis_title else 0.1),\n",
    "        )\n",
    "        \n",
    "        fig_path = os.path.join(output_dir, f\"{metric}_individual_seeds.html\")\n",
    "        fig.write_html(fig_path)\n",
    "        export_plotly_figure_images(fig, f\"{title} (Individual Seeds)\", output_dir, suffix or \"individual_seeds\")\n",
    "        display(fig)\n",
    "        \n",
    "        figures[f\"{metric}_individual\"] = fig\n",
    "\n",
    "def plot_multiple_metrics(training_df, metrics_list, output_dir, config_name, figures, plot_individual_seeds=False,\n",
    "                          num_y_ticks = 10, suffix=\"\"):\n",
    "    \"\"\"Plot multiple metrics on the same figure with error bars.\"\"\"\n",
    "    # Extract metrics that exist in the DataFrame\n",
    "    valid_metrics = []\n",
    "    for metric_tuple in metrics_list:\n",
    "        metric, title, _ = metric_tuple\n",
    "        if metric in training_df.columns and not training_df[metric].isna().all():\n",
    "            valid_metrics.append(metric_tuple)\n",
    "    \n",
    "    if not valid_metrics:\n",
    "        print(\"No valid metrics to plot together\")\n",
    "        return\n",
    "    \n",
    "    # Create a combined title from all metric titles\n",
    "    combined_title = \" & \".join([title for _, title, _ in valid_metrics])\n",
    "    \n",
    "    # Use the y-axis title from the first metric (assuming they have the same unit)\n",
    "    y_axis_title = valid_metrics[0][2]\n",
    "    \n",
    "    # Create figure for multiple metrics\n",
    "    fig = go.Figure()\n",
    "    \n",
    "    # Define colors for lines and fill areas\n",
    "    line_colors = ['royalblue', 'green', 'red', 'purple', 'orange', 'brown', 'pink', 'gray']\n",
    "    fill_colors = [\n",
    "        'rgba(65, 105, 225, 0.2)',  # royalblue with alpha\n",
    "        'rgba(0, 128, 0, 0.2)',     # green with alpha\n",
    "        'rgba(255, 0, 0, 0.2)',     # red with alpha\n",
    "        'rgba(128, 0, 128, 0.2)',   # purple with alpha\n",
    "        'rgba(255, 165, 0, 0.2)',   # orange with alpha\n",
    "        'rgba(165, 42, 42, 0.2)',   # brown with alpha\n",
    "        'rgba(255, 192, 203, 0.2)', # pink with alpha\n",
    "        'rgba(128, 128, 128, 0.2)'  # gray with alpha\n",
    "    ]\n",
    "    \n",
    "    # Add each metric to the figure\n",
    "    for i, (metric, title, _) in enumerate(valid_metrics):\n",
    "        color_idx = i % len(line_colors)\n",
    "        line_color = line_colors[color_idx]\n",
    "        fill_color = fill_colors[color_idx]\n",
    "        \n",
    "        # Group by training epoch and calculate statistics\n",
    "        metrics_by_epoch = training_df.groupby('training_epoch')[metric].agg(['mean', 'std']).reset_index()\n",
    "        \n",
    "        # Add mean line\n",
    "        fig.add_trace(go.Scatter(\n",
    "            x=metrics_by_epoch['training_epoch'],\n",
    "            y=metrics_by_epoch['mean'],\n",
    "            mode='lines',\n",
    "            name=f\"{title}\",\n",
    "            line=dict(color=line_color),\n",
    "            marker=dict(size=8)\n",
    "        ))\n",
    "        \n",
    "        # Add error bands (mean ± std)\n",
    "        fig.add_trace(go.Scatter(\n",
    "            x=metrics_by_epoch['training_epoch'],\n",
    "            y=metrics_by_epoch['mean'] + metrics_by_epoch['std'],\n",
    "            mode='lines',\n",
    "            name=f\"{title} (Upper)\",\n",
    "            line=dict(width=0),\n",
    "            showlegend=False\n",
    "        ))\n",
    "        \n",
    "        fig.add_trace(go.Scatter(\n",
    "            x=metrics_by_epoch['training_epoch'],\n",
    "            y=metrics_by_epoch['mean'] - metrics_by_epoch['std'],\n",
    "            mode='lines',\n",
    "            name=f\"{title} (Lower)\",\n",
    "            line=dict(width=0),\n",
    "            fill='tonexty',\n",
    "            fillcolor=fill_color,\n",
    "            showlegend=False\n",
    "        ))\n",
    "    \n",
    "    # Compute the y-axis range\n",
    "    y_min = metrics_by_epoch['mean'].min()\n",
    "    y_max = metrics_by_epoch['mean'].max()\n",
    "    y_range = y_max - y_min\n",
    "    \n",
    "    # Dynamically determine y-axis tick step\n",
    "    dtick = max(1, round(y_range / num_y_ticks))  # ensure at least 1 unit spacing\n",
    "\n",
    "    # Update layout\n",
    "    fig.update_layout(\n",
    "        title=f\"{combined_title} (Mean ± Std across seeds) - {config_name}\",\n",
    "        xaxis_title=\"Epoch\",\n",
    "        yaxis_title=y_axis_title,\n",
    "        legend=dict(orientation=\"h\", yanchor=\"bottom\", y=1.02, xanchor=\"right\", x=1),\n",
    "        xaxis=dict(showgrid=True),\n",
    "        yaxis=dict(showgrid=True, dtick=dtick if 'Accuracy' not in y_axis_title else 0.1),\n",
    "        hovermode=\"x unified\",\n",
    "        height=600\n",
    "    )\n",
    "    \n",
    "    # Create a unique filename based on the metrics\n",
    "    filename = \"_and_\".join([metric for metric, _, _ in valid_metrics])\n",
    "    fig_path = os.path.join(output_dir, f\"{filename}_combined_with_error_bars.html\")\n",
    "    export_plotly_figure_images(fig, combined_title, output_dir, suffix or \"combined_with_error_bars\")\n",
    "    fig.write_html(fig_path)\n",
    "    \n",
    "    # Display the figure in the notebook\n",
    "    from IPython.display import display\n",
    "    display(fig)\n",
    "    \n",
    "    figures[filename] = fig\n",
    "\n",
    "    if plot_individual_seeds:\n",
    "        # Also create individual plots for each metric (for consistency with single metric plots)\n",
    "        for metric, title, y_axis_title in valid_metrics:\n",
    "            fig = px.line(\n",
    "                training_df, \n",
    "                x='training_epoch', \n",
    "                y=metric, \n",
    "                color='seed',\n",
    "                title=f\"{title} (Individual Seeds) - {config_name}\",\n",
    "                labels={'training_epoch': 'Epoch', metric: y_axis_title}\n",
    "            )\n",
    "            \n",
    "            fig.update_layout(\n",
    "                legend=dict(orientation=\"h\", yanchor=\"bottom\", y=1.02, xanchor=\"right\", x=1),\n",
    "                xaxis=dict(showgrid=True),\n",
    "                yaxis=dict(showgrid=True, dtick=dtick if 'Accuracy' not in y_axis_title else 0.1),\n",
    "            )\n",
    "            \n",
    "            fig_path = os.path.join(output_dir, f\"{metric}_individual_seeds.html\")\n",
    "            export_plotly_figure_images(fig, f\"{title} (Individual Seeds)\", output_dir, suffix or \"individual_seeds\")\n",
    "            fig.write_html(fig_path)\n",
    "            display(fig)\n",
    "            \n",
    "            figures[f\"{metric}_individual\"] = fig"
   ]
  },
  {
   "cell_type": "markdown",
   "metadata": {},
   "source": [
    "# Loading the models"
   ]
  },
  {
   "cell_type": "code",
   "execution_count": 11,
   "metadata": {},
   "outputs": [
    {
     "name": "stdout",
     "output_type": "stream",
     "text": [
      "Experiment directory: /mnt/ssd-1/mechinterp/taras/Count_PIPNet/runs/pipnet\n"
     ]
    }
   ],
   "source": [
    "# Define the base directory for your experiments\n",
    "multi_experiment_dir = base_path / 'runs/pipnet' \n",
    "print(f\"Experiment directory: {multi_experiment_dir}\")"
   ]
  },
  {
   "cell_type": "code",
   "execution_count": 12,
   "metadata": {},
   "outputs": [
    {
     "name": "stdout",
     "output_type": "stream",
     "text": [
      "Evaluation results will be saved to /mnt/ssd-1/mechinterp/taras/Count_PIPNet/evaluations\n"
     ]
    }
   ],
   "source": [
    "# Create a directory for saving evaluation results\n",
    "eval_results_dir = base_path / 'evaluations'\n",
    "os.makedirs(eval_results_dir, exist_ok=True)\n",
    "print(f\"Evaluation results will be saved to {eval_results_dir}\")"
   ]
  },
  {
   "cell_type": "code",
   "execution_count": 13,
   "metadata": {},
   "outputs": [],
   "source": [
    "summary_path = os.path.join(multi_experiment_dir, 'summary.json')\n",
    "use_summary = False\n",
    "\n",
    "if use_summary:\n",
    "    try:\n",
    "    \t# Load the summary file to get all run directories\n",
    "    \twith open(summary_path, 'r') as f:\n",
    "    \t\tsummary = json.load(f)\n",
    "    \n",
    "    \tprint(f\"Found {len(summary)} trained models\")\n",
    "    except FileNotFoundError:\n",
    "        summary = None\n",
    "        print(f\"Summary file NOT found at {summary_path}. Please ensure the training was completed and the summary file was generated.\")\n",
    "else:\n",
    "    summary = None"
   ]
  },
  {
   "cell_type": "code",
   "execution_count": 19,
   "metadata": {},
   "outputs": [
    {
     "name": "stdout",
     "output_type": "stream",
     "text": [
      "Found 21 run directories\n"
     ]
    }
   ],
   "source": [
    "# Option to use hard-coded run directories (specify just the base names)\n",
    "hard_coded_run_dirs = [\n",
    "]\n",
    "\n",
    "if hard_coded_run_dirs:\n",
    "    # Convert base names to full paths (assume they're in the 'runs/' folder)\n",
    "    run_dirs = {}\n",
    "    for run_name in hard_coded_run_dirs:\n",
    "        full_path = base_path / 'runs' / run_name\n",
    "        if os.path.isdir(full_path) and os.path.exists(os.path.join(full_path, 'metadata')):\n",
    "            run_dirs[run_name] = str(full_path)\n",
    "        else:\n",
    "            print(f\"Warning: Run directory '{run_name}' not found at {full_path}\")\n",
    "    print(f\"Using {len(run_dirs)} manually specified run directories\")\n",
    "elif summary is None:\n",
    "    run_dirs = {}\n",
    "    for item in os.listdir(multi_experiment_dir):\n",
    "        item_path = os.path.join(multi_experiment_dir, item)\n",
    "        if os.path.isdir(item_path) and os.path.exists(os.path.join(item_path, 'metadata')):\n",
    "            run_dirs[item] = item_path\n",
    "    print(f\"Found {len(run_dirs)} run directories\")\n",
    "else:\n",
    "    # Use the runs from the summary file\n",
    "    run_dirs = {os.path.basename(run['log_dir']): run['log_dir'] for run in summary}"
   ]
  },
  {
   "cell_type": "code",
   "execution_count": 20,
   "metadata": {},
   "outputs": [
    {
     "data": {
      "text/plain": [
       "{'20250514_170854_7_pipnet_s42_stage7_p192': '/mnt/ssd-1/mechinterp/taras/Count_PIPNet/runs/pipnet/20250514_170854_7_pipnet_s42_stage7_p192',\n",
       " '20250515_014633_10_pipnet_s21_stage7_p192': '/mnt/ssd-1/mechinterp/taras/Count_PIPNet/runs/pipnet/20250515_014633_10_pipnet_s21_stage7_p192',\n",
       " '20250514_225343_9_pipnet_s88_stage7_p192': '/mnt/ssd-1/mechinterp/taras/Count_PIPNet/runs/pipnet/20250514_225343_9_pipnet_s88_stage7_p192',\n",
       " '20250514_200106_8_pipnet_s39_stage7_p192': '/mnt/ssd-1/mechinterp/taras/Count_PIPNet/runs/pipnet/20250514_200106_8_pipnet_s39_stage7_p192',\n",
       " '20250514_141637_6_pipnet_s14_stage7_p192': '/mnt/ssd-1/mechinterp/taras/Count_PIPNet/runs/pipnet/20250514_141637_6_pipnet_s14_stage7_p192'}"
      ]
     },
     "execution_count": 20,
     "metadata": {},
     "output_type": "execute_result"
    }
   ],
   "source": [
    "# Select only the runs containing a specific string\n",
    "filter_str = 'stage7_p192'  # Change this to filter different configurations\n",
    "run_dirs = {dir: value for dir, value in run_dirs.items() if filter_str in dir}\n",
    "run_dirs  # Display the filtered directories for verification"
   ]
  },
  {
   "cell_type": "code",
   "execution_count": 21,
   "metadata": {},
   "outputs": [
    {
     "name": "stdout",
     "output_type": "stream",
     "text": [
      "Found 1 configuration groups:\n",
      "  - pipnet_SEED_stage7_p192: 5 runs with seeds 14, 21, 39, 42, 88\n"
     ]
    }
   ],
   "source": [
    "# Group runs by configuration (ignoring seed and date)\n",
    "config_groups = group_runs_by_config(run_dirs)\n",
    "# config_groups"
   ]
  },
  {
   "cell_type": "markdown",
   "metadata": {},
   "source": [
    "# Main part (multiple seeds)"
   ]
  },
  {
   "cell_type": "markdown",
   "metadata": {},
   "source": [
    "## Evaluation part"
   ]
  },
  {
   "cell_type": "code",
   "execution_count": 22,
   "metadata": {},
   "outputs": [],
   "source": [
    "# List of metrics to plot\n",
    "metrics_to_plot = [\n",
    "    ('test_top1_acc', 'Test Accuracy', 'Accuracy'),\n",
    "    [('local_size_for_true_class', 'Local Size for Predicted Class', 'Count'),\n",
    "    ('local_size_for_all_classes', 'Local Size for All Classes', 'Size')],\n",
    "    # ('num_nonzero_prototypes', 'Global explanation size', 'Size'),\n",
    "    # ('almost_nonzeros_pooled', 'Number of non-zero prototypes', 'Count'),\n",
    "    # ('prototypes_per_class', 'Total explanation size', 'Size')\n",
    "]"
   ]
  },
  {
   "cell_type": "code",
   "execution_count": 23,
   "metadata": {},
   "outputs": [
    {
     "data": {
      "application/vnd.jupyter.widget-view+json": {
       "model_id": "a05c155981f646b195d1c34a0c1c2621",
       "version_major": 2,
       "version_minor": 0
      },
      "text/plain": [
       "Evaluating configuration groups:   0%|          | 0/1 [00:00<?, ?it/s]"
      ]
     },
     "metadata": {},
     "output_type": "display_data"
    },
    {
     "name": "stdout",
     "output_type": "stream",
     "text": [
      "\n",
      "============================================================\n",
      "Evaluating configuration group: pipnet_SEED_stage7_p192\n",
      "============================================================\n",
      "\n",
      "Evaluating seed 14 from 20250514_141637_6_pipnet_s14_stage7_p192\n",
      "Loaded configuration from /mnt/ssd-1/mechinterp/taras/Count_PIPNet/runs/pipnet/20250514_141637_6_pipnet_s14_stage7_p192/metadata/args.pickle\n",
      "Using device: cuda:3\n",
      "Num classes (k) =  9 ['class_1', 'class_2', 'class_3', 'class_4', 'class_5'] etc.\n",
      "Number of prototypes set from 768 to 192 . Extra 1x1 conv layer added. Not recommended.\n",
      "Output shape: torch.Size([64, 192, 22, 22]), setting wshape=22\n",
      "Using device_ids: [3]\n",
      "Successfully loaded model state from /mnt/ssd-1/mechinterp/taras/Count_PIPNet/runs/pipnet/20250514_141637_6_pipnet_s14_stage7_p192/checkpoints/net_trained_best\n",
      "Checkpoint from epoch 19\n",
      "Model accuracy: 1.0000\n",
      "Evaluating model...\n"
     ]
    },
    {
     "name": "stderr",
     "output_type": "stream",
     "text": [
      "\n",
      "Evaluating:   0%|                                                                                       | 0/15 [00:00<?, ?it/s]\u001b[A\n",
      "Evaluating:   7%|█████▎                                                                         | 1/15 [00:00<00:07,  1.80it/s]\u001b[A\n",
      "Evaluating:  13%|██████████▌                                                                    | 2/15 [00:00<00:04,  3.17it/s]\u001b[A\n",
      "Evaluating:  20%|███████████████▊                                                               | 3/15 [00:00<00:02,  4.16it/s]\u001b[A\n",
      "Evaluating:  27%|█████████████████████                                                          | 4/15 [00:01<00:02,  4.89it/s]\u001b[A\n",
      "Evaluating:  33%|██████████████████████████▎                                                    | 5/15 [00:01<00:01,  5.41it/s]\u001b[A\n",
      "Evaluating:  40%|███████████████████████████████▌                                               | 6/15 [00:01<00:01,  5.81it/s]\u001b[A\n",
      "Evaluating:  47%|████████████████████████████████████▊                                          | 7/15 [00:01<00:01,  6.08it/s]\u001b[A\n",
      "Evaluating:  53%|██████████████████████████████████████████▏                                    | 8/15 [00:01<00:01,  6.23it/s]\u001b[A\n",
      "Evaluating:  60%|███████████████████████████████████████████████▍                               | 9/15 [00:01<00:00,  6.39it/s]\u001b[A\n",
      "Evaluating:  67%|████████████████████████████████████████████████████                          | 10/15 [00:01<00:00,  6.50it/s]\u001b[A\n",
      "Evaluating:  73%|█████████████████████████████████████████████████████████▏                    | 11/15 [00:02<00:00,  6.57it/s]\u001b[A\n",
      "Evaluating:  80%|██████████████████████████████████████████████████████████████▍               | 12/15 [00:02<00:00,  6.60it/s]\u001b[A\n",
      "Evaluating:  87%|███████████████████████████████████████████████████████████████████▌          | 13/15 [00:02<00:00,  6.64it/s]\u001b[A\n",
      "Evaluating: 100%|██████████████████████████████████████████████████████████████████████████████| 15/15 [00:02<00:00,  5.84it/s]\u001b[A"
     ]
    },
    {
     "name": "stdout",
     "output_type": "stream",
     "text": [
      "Evaluation completed. Accuracy: 0.9978\n",
      "\n",
      "Evaluating seed 21 from 20250515_014633_10_pipnet_s21_stage7_p192\n",
      "Loaded configuration from /mnt/ssd-1/mechinterp/taras/Count_PIPNet/runs/pipnet/20250515_014633_10_pipnet_s21_stage7_p192/metadata/args.pickle\n",
      "Using device: cuda:3\n",
      "Num classes (k) =  9 ['class_1', 'class_2', 'class_3', 'class_4', 'class_5'] etc.\n"
     ]
    },
    {
     "name": "stderr",
     "output_type": "stream",
     "text": [
      "\n"
     ]
    },
    {
     "name": "stdout",
     "output_type": "stream",
     "text": [
      "Number of prototypes set from 768 to 192 . Extra 1x1 conv layer added. Not recommended.\n",
      "Output shape: torch.Size([64, 192, 22, 22]), setting wshape=22\n",
      "Using device_ids: [3]\n",
      "Successfully loaded model state from /mnt/ssd-1/mechinterp/taras/Count_PIPNet/runs/pipnet/20250515_014633_10_pipnet_s21_stage7_p192/checkpoints/net_trained_best\n",
      "Checkpoint from epoch 24\n",
      "Model accuracy: 1.0000\n",
      "Evaluating model...\n"
     ]
    },
    {
     "name": "stderr",
     "output_type": "stream",
     "text": [
      "\n",
      "Evaluating:   0%|                                                                                       | 0/15 [00:00<?, ?it/s]\u001b[A\n",
      "Evaluating:   7%|█████▎                                                                         | 1/15 [00:00<00:06,  2.15it/s]\u001b[A\n",
      "Evaluating:  13%|██████████▌                                                                    | 2/15 [00:00<00:03,  3.56it/s]\u001b[A\n",
      "Evaluating:  20%|███████████████▊                                                               | 3/15 [00:00<00:02,  4.54it/s]\u001b[A\n",
      "Evaluating:  27%|█████████████████████                                                          | 4/15 [00:00<00:02,  5.20it/s]\u001b[A\n",
      "Evaluating:  33%|██████████████████████████▎                                                    | 5/15 [00:01<00:01,  5.65it/s]\u001b[A\n",
      "Evaluating:  40%|███████████████████████████████▌                                               | 6/15 [00:01<00:01,  5.94it/s]\u001b[A\n",
      "Evaluating:  47%|████████████████████████████████████▊                                          | 7/15 [00:01<00:01,  6.17it/s]\u001b[A\n",
      "Evaluating:  53%|██████████████████████████████████████████▏                                    | 8/15 [00:01<00:01,  6.35it/s]\u001b[A\n",
      "Evaluating:  60%|███████████████████████████████████████████████▍                               | 9/15 [00:01<00:00,  6.47it/s]\u001b[A\n",
      "Evaluating:  67%|████████████████████████████████████████████████████                          | 10/15 [00:01<00:00,  6.55it/s]\u001b[A\n",
      "Evaluating:  73%|█████████████████████████████████████████████████████████▏                    | 11/15 [00:01<00:00,  6.60it/s]\u001b[A\n",
      "Evaluating:  80%|██████████████████████████████████████████████████████████████▍               | 12/15 [00:02<00:00,  6.58it/s]\u001b[A\n",
      "Evaluating:  87%|███████████████████████████████████████████████████████████████████▌          | 13/15 [00:02<00:00,  6.61it/s]\u001b[A\n",
      "Evaluating: 100%|██████████████████████████████████████████████████████████████████████████████| 15/15 [00:02<00:00,  6.07it/s]\u001b[A"
     ]
    },
    {
     "name": "stdout",
     "output_type": "stream",
     "text": [
      "Evaluation completed. Accuracy: 1.0000\n",
      "\n",
      "Evaluating seed 39 from 20250514_200106_8_pipnet_s39_stage7_p192\n",
      "Loaded configuration from /mnt/ssd-1/mechinterp/taras/Count_PIPNet/runs/pipnet/20250514_200106_8_pipnet_s39_stage7_p192/metadata/args.pickle\n",
      "Using device: cuda:3\n",
      "Num classes (k) =  9 ['class_1', 'class_2', 'class_3', 'class_4', 'class_5'] etc.\n"
     ]
    },
    {
     "name": "stderr",
     "output_type": "stream",
     "text": [
      "\n"
     ]
    },
    {
     "name": "stdout",
     "output_type": "stream",
     "text": [
      "Number of prototypes set from 768 to 192 . Extra 1x1 conv layer added. Not recommended.\n",
      "Output shape: torch.Size([64, 192, 22, 22]), setting wshape=22\n",
      "Using device_ids: [3]\n",
      "Successfully loaded model state from /mnt/ssd-1/mechinterp/taras/Count_PIPNet/runs/pipnet/20250514_200106_8_pipnet_s39_stage7_p192/checkpoints/net_trained_best\n",
      "Checkpoint from epoch 19\n",
      "Model accuracy: 1.0000\n",
      "Evaluating model...\n"
     ]
    },
    {
     "name": "stderr",
     "output_type": "stream",
     "text": [
      "\n",
      "Evaluating:   0%|                                                                                       | 0/15 [00:00<?, ?it/s]\u001b[A\n",
      "Evaluating:   7%|█████▎                                                                         | 1/15 [00:00<00:07,  1.92it/s]\u001b[A\n",
      "Evaluating:  13%|██████████▌                                                                    | 2/15 [00:00<00:03,  3.32it/s]\u001b[A\n",
      "Evaluating:  20%|███████████████▊                                                               | 3/15 [00:00<00:02,  4.30it/s]\u001b[A\n",
      "Evaluating:  27%|█████████████████████                                                          | 4/15 [00:00<00:02,  5.02it/s]\u001b[A\n",
      "Evaluating:  33%|██████████████████████████▎                                                    | 5/15 [00:01<00:01,  5.53it/s]\u001b[A\n",
      "Evaluating:  40%|███████████████████████████████▌                                               | 6/15 [00:01<00:01,  5.87it/s]\u001b[A\n",
      "Evaluating:  47%|████████████████████████████████████▊                                          | 7/15 [00:01<00:01,  6.14it/s]\u001b[A\n",
      "Evaluating:  53%|██████████████████████████████████████████▏                                    | 8/15 [00:01<00:01,  6.32it/s]\u001b[A\n",
      "Evaluating:  60%|███████████████████████████████████████████████▍                               | 9/15 [00:01<00:00,  6.46it/s]\u001b[A\n",
      "Evaluating:  67%|████████████████████████████████████████████████████                          | 10/15 [00:01<00:00,  6.55it/s]\u001b[A\n",
      "Evaluating:  73%|█████████████████████████████████████████████████████████▏                    | 11/15 [00:02<00:00,  6.56it/s]\u001b[A\n",
      "Evaluating:  80%|██████████████████████████████████████████████████████████████▍               | 12/15 [00:02<00:00,  6.62it/s]\u001b[A\n",
      "Evaluating:  87%|███████████████████████████████████████████████████████████████████▌          | 13/15 [00:02<00:00,  6.67it/s]\u001b[A\n",
      "Evaluating: 100%|██████████████████████████████████████████████████████████████████████████████| 15/15 [00:02<00:00,  5.96it/s]\u001b[A"
     ]
    },
    {
     "name": "stdout",
     "output_type": "stream",
     "text": [
      "Evaluation completed. Accuracy: 0.9989\n",
      "\n",
      "Evaluating seed 42 from 20250514_170854_7_pipnet_s42_stage7_p192\n",
      "Loaded configuration from /mnt/ssd-1/mechinterp/taras/Count_PIPNet/runs/pipnet/20250514_170854_7_pipnet_s42_stage7_p192/metadata/args.pickle\n",
      "Using device: cuda:3\n",
      "Num classes (k) =  9 ['class_1', 'class_2', 'class_3', 'class_4', 'class_5'] etc.\n"
     ]
    },
    {
     "name": "stderr",
     "output_type": "stream",
     "text": [
      "\n"
     ]
    },
    {
     "name": "stdout",
     "output_type": "stream",
     "text": [
      "Number of prototypes set from 768 to 192 . Extra 1x1 conv layer added. Not recommended.\n",
      "Output shape: torch.Size([64, 192, 22, 22]), setting wshape=22\n",
      "Using device_ids: [3]\n",
      "Successfully loaded model state from /mnt/ssd-1/mechinterp/taras/Count_PIPNet/runs/pipnet/20250514_170854_7_pipnet_s42_stage7_p192/checkpoints/net_trained_best\n",
      "Checkpoint from epoch 34\n",
      "Model accuracy: 1.0000\n",
      "Evaluating model...\n"
     ]
    },
    {
     "name": "stderr",
     "output_type": "stream",
     "text": [
      "\n",
      "Evaluating:   0%|                                                                                       | 0/15 [00:00<?, ?it/s]\u001b[A\n",
      "Evaluating:   7%|█████▎                                                                         | 1/15 [00:00<00:06,  2.10it/s]\u001b[A\n",
      "Evaluating:  13%|██████████▌                                                                    | 2/15 [00:00<00:03,  3.51it/s]\u001b[A\n",
      "Evaluating:  20%|███████████████▊                                                               | 3/15 [00:00<00:02,  4.50it/s]\u001b[A\n",
      "Evaluating:  27%|█████████████████████                                                          | 4/15 [00:00<00:02,  5.14it/s]\u001b[A\n",
      "Evaluating:  33%|██████████████████████████▎                                                    | 5/15 [00:01<00:01,  5.62it/s]\u001b[A\n",
      "Evaluating:  40%|███████████████████████████████▌                                               | 6/15 [00:01<00:01,  5.96it/s]\u001b[A\n",
      "Evaluating:  47%|████████████████████████████████████▊                                          | 7/15 [00:01<00:01,  6.17it/s]\u001b[A\n",
      "Evaluating:  53%|██████████████████████████████████████████▏                                    | 8/15 [00:01<00:01,  6.36it/s]\u001b[A\n",
      "Evaluating:  60%|███████████████████████████████████████████████▍                               | 9/15 [00:01<00:00,  6.46it/s]\u001b[A\n",
      "Evaluating:  67%|████████████████████████████████████████████████████                          | 10/15 [00:01<00:00,  6.56it/s]\u001b[A\n",
      "Evaluating:  73%|█████████████████████████████████████████████████████████▏                    | 11/15 [00:01<00:00,  6.63it/s]\u001b[A\n",
      "Evaluating:  80%|██████████████████████████████████████████████████████████████▍               | 12/15 [00:02<00:00,  6.67it/s]\u001b[A\n",
      "Evaluating:  87%|███████████████████████████████████████████████████████████████████▌          | 13/15 [00:02<00:00,  6.70it/s]\u001b[A\n",
      "Evaluating: 100%|██████████████████████████████████████████████████████████████████████████████| 15/15 [00:02<00:00,  6.06it/s]\u001b[A"
     ]
    },
    {
     "name": "stdout",
     "output_type": "stream",
     "text": [
      "Evaluation completed. Accuracy: 0.9978\n",
      "\n",
      "Evaluating seed 88 from 20250514_225343_9_pipnet_s88_stage7_p192\n",
      "Loaded configuration from /mnt/ssd-1/mechinterp/taras/Count_PIPNet/runs/pipnet/20250514_225343_9_pipnet_s88_stage7_p192/metadata/args.pickle\n",
      "Using device: cuda:3\n",
      "Num classes (k) =  9 ['class_1', 'class_2', 'class_3', 'class_4', 'class_5'] etc.\n"
     ]
    },
    {
     "name": "stderr",
     "output_type": "stream",
     "text": [
      "\n"
     ]
    },
    {
     "name": "stdout",
     "output_type": "stream",
     "text": [
      "Number of prototypes set from 768 to 192 . Extra 1x1 conv layer added. Not recommended.\n",
      "Output shape: torch.Size([64, 192, 22, 22]), setting wshape=22\n",
      "Using device_ids: [3]\n",
      "Successfully loaded model state from /mnt/ssd-1/mechinterp/taras/Count_PIPNet/runs/pipnet/20250514_225343_9_pipnet_s88_stage7_p192/checkpoints/net_trained_best\n",
      "Checkpoint from epoch 15\n",
      "Model accuracy: 1.0000\n",
      "Evaluating model...\n"
     ]
    },
    {
     "name": "stderr",
     "output_type": "stream",
     "text": [
      "\n",
      "Evaluating:   0%|                                                                                       | 0/15 [00:00<?, ?it/s]\u001b[A\n",
      "Evaluating:   7%|█████▎                                                                         | 1/15 [00:00<00:06,  2.16it/s]\u001b[A\n",
      "Evaluating:  13%|██████████▌                                                                    | 2/15 [00:00<00:03,  3.57it/s]\u001b[A\n",
      "Evaluating:  20%|███████████████▊                                                               | 3/15 [00:00<00:02,  4.52it/s]\u001b[A\n",
      "Evaluating:  27%|█████████████████████                                                          | 4/15 [00:00<00:02,  5.18it/s]\u001b[A\n",
      "Evaluating:  33%|██████████████████████████▎                                                    | 5/15 [00:01<00:01,  5.67it/s]\u001b[A\n",
      "Evaluating:  40%|███████████████████████████████▌                                               | 6/15 [00:01<00:01,  6.00it/s]\u001b[A\n",
      "Evaluating:  47%|████████████████████████████████████▊                                          | 7/15 [00:01<00:01,  6.21it/s]\u001b[A\n",
      "Evaluating:  53%|██████████████████████████████████████████▏                                    | 8/15 [00:01<00:01,  6.38it/s]\u001b[A\n",
      "Evaluating:  60%|███████████████████████████████████████████████▍                               | 9/15 [00:01<00:00,  6.47it/s]\u001b[A\n",
      "Evaluating:  67%|████████████████████████████████████████████████████                          | 10/15 [00:01<00:00,  6.56it/s]\u001b[A\n",
      "Evaluating:  73%|█████████████████████████████████████████████████████████▏                    | 11/15 [00:01<00:00,  6.62it/s]\u001b[A\n",
      "Evaluating:  80%|██████████████████████████████████████████████████████████████▍               | 12/15 [00:02<00:00,  6.67it/s]\u001b[A\n",
      "Evaluating:  87%|███████████████████████████████████████████████████████████████████▌          | 13/15 [00:02<00:00,  6.68it/s]\u001b[A\n",
      "Evaluating: 100%|██████████████████████████████████████████████████████████████████████████████| 15/15 [00:02<00:00,  6.09it/s]\u001b[A\n"
     ]
    },
    {
     "name": "stdout",
     "output_type": "stream",
     "text": [
      "Evaluation completed. Accuracy: 0.9989\n",
      "\n",
      "Test accuracy across 5 seeds:\n",
      "  Mean: 0.9987\n",
      "  Std: 0.0008\n",
      "  Range: 0.9978 - 1.0000\n"
     ]
    },
    {
     "ename": "ValueError",
     "evalue": "\nThe orca executable is required in order to export figures as static images,\nbut the executable that was found at '/home/taras/miniconda3/envs/taras_ami/bin/orca'\ndoes not seem to be a valid plotly orca executable. Please refer to the end of\nthis message for details on what went wrong.\n\nIf you haven't installed orca yet, you can do so using conda as follows:\n\n    $ conda install -c plotly plotly-orca\n\nAlternatively, see other installation methods in the orca project README at\nhttps://github.com/plotly/orca\n\nAfter installation is complete, no further configuration should be needed.\n\nIf you have installed orca, then for some reason plotly.py was unable to\nlocate it. In this case, set the `plotly.io.orca.config.executable`\nproperty to the full path of your orca executable. For example:\n\n    >>> plotly.io.orca.config.executable = '/path/to/orca'\n\nAfter updating this executable property, try the export operation again.\nIf it is successful then you may want to save this configuration so that it\nwill be applied automatically in future sessions. You can do this as follows:\n\n    >>> plotly.io.orca.config.save()\n\nIf you're still having trouble, feel free to ask for help on the forums at\nhttps://community.plot.ly/c/api/python\n\nHere is the error that was returned by the command\n    $ /home/taras/miniconda3/envs/taras_ami/bin/orca --help\n\n[Return code: 127]\n/home/taras/miniconda3/envs/taras_ami/lib/orca_app/orca: error while loading shared libraries: libnss3.so: cannot open shared object file: No such file or directory\n\nNote: When used on Linux, orca requires an X11 display server, but none was\ndetected. Please install Xvfb and configure plotly.py to run orca using Xvfb\nas follows:\n\n    >>> import plotly.io as pio\n    >>> pio.orca.config.use_xvfb = True\n\nYou can save this configuration for use in future sessions as follows:\n\n    >>> pio.orca.config.save()\n\nSee https://www.x.org/releases/X11R7.6/doc/man/man1/Xvfb.1.xhtml\nfor more info on Xvfb\n",
     "output_type": "error",
     "traceback": [
      "\u001b[0;31m---------------------------------------------------------------------------\u001b[0m",
      "\u001b[0;31mValueError\u001b[0m                                Traceback (most recent call last)",
      "Cell \u001b[0;32mIn[23], line 6\u001b[0m\n\u001b[1;32m      3\u001b[0m \u001b[38;5;28;01mfor\u001b[39;00m config_name, seed_runs \u001b[38;5;129;01min\u001b[39;00m tqdm(config_groups\u001b[38;5;241m.\u001b[39mitems(), desc\u001b[38;5;241m=\u001b[39m\u001b[38;5;124m\"\u001b[39m\u001b[38;5;124mEvaluating configuration groups\u001b[39m\u001b[38;5;124m\"\u001b[39m):\n\u001b[1;32m      4\u001b[0m     \u001b[38;5;66;03m# Only evaluate groups with multiple seeds\u001b[39;00m\n\u001b[1;32m      5\u001b[0m     \u001b[38;5;28;01mif\u001b[39;00m \u001b[38;5;28mlen\u001b[39m(seed_runs) \u001b[38;5;241m>\u001b[39m\u001b[38;5;241m=\u001b[39m \u001b[38;5;241m1\u001b[39m:\n\u001b[0;32m----> 6\u001b[0m         group_result \u001b[38;5;241m=\u001b[39m \u001b[43mevaluate_run_group\u001b[49m\u001b[43m(\u001b[49m\u001b[43mconfig_name\u001b[49m\u001b[43m,\u001b[49m\u001b[43m \u001b[49m\u001b[43mseed_runs\u001b[49m\u001b[43m,\u001b[49m\u001b[43m \u001b[49m\u001b[43meval_results_dir\u001b[49m\u001b[43m,\u001b[49m\u001b[43m \u001b[49m\n\u001b[1;32m      7\u001b[0m \u001b[43m                                          \u001b[49m\u001b[43mplot_confusion_matrix\u001b[49m\u001b[38;5;241;43m=\u001b[39;49m\u001b[38;5;28;43;01mFalse\u001b[39;49;00m\u001b[43m,\u001b[49m\u001b[43m \u001b[49m\u001b[43mmetrics_to_plot\u001b[49m\u001b[38;5;241;43m=\u001b[39;49m\u001b[43mmetrics_to_plot\u001b[49m\u001b[43m,\u001b[49m\n\u001b[1;32m      8\u001b[0m \u001b[43m                                          \u001b[49m\u001b[43mplot_individual_seeds\u001b[49m\u001b[38;5;241;43m=\u001b[39;49m\u001b[38;5;28;43;01mTrue\u001b[39;49;00m\u001b[43m)\u001b[49m\n\u001b[1;32m      9\u001b[0m         all_group_results\u001b[38;5;241m.\u001b[39mappend(group_result)\n\u001b[1;32m     11\u001b[0m \u001b[38;5;66;03m# Create a summary table of results\u001b[39;00m\n",
      "Cell \u001b[0;32mIn[9], line 162\u001b[0m, in \u001b[0;36mevaluate_run_group\u001b[0;34m(config_name, seed_runs, output_dir, plot_confusion_matrix, metrics_to_plot, plot_individual_seeds)\u001b[0m\n\u001b[1;32m    159\u001b[0m     results[\u001b[38;5;124m'\u001b[39m\u001b[38;5;124mcombined_metrics\u001b[39m\u001b[38;5;124m'\u001b[39m] \u001b[38;5;241m=\u001b[39m combined_df\n\u001b[1;32m    161\u001b[0m     \u001b[38;5;66;03m# Plot metrics with error bars\u001b[39;00m\n\u001b[0;32m--> 162\u001b[0m     \u001b[43mplot_group_metrics\u001b[49m\u001b[43m(\u001b[49m\u001b[43mcombined_df\u001b[49m\u001b[43m,\u001b[49m\u001b[43m \u001b[49m\u001b[43mgroup_output_dir\u001b[49m\u001b[43m,\u001b[49m\u001b[43m \u001b[49m\u001b[43mconfig_name\u001b[49m\u001b[43m,\u001b[49m\u001b[43m \u001b[49m\u001b[43mmetrics_to_plot\u001b[49m\u001b[38;5;241;43m=\u001b[39;49m\u001b[43mmetrics_to_plot\u001b[49m\u001b[43m,\u001b[49m\n\u001b[1;32m    163\u001b[0m \u001b[43m                       \u001b[49m\u001b[43mplot_individual_seeds\u001b[49m\u001b[38;5;241;43m=\u001b[39;49m\u001b[43mplot_individual_seeds\u001b[49m\u001b[43m)\u001b[49m\n\u001b[1;32m    165\u001b[0m \u001b[38;5;28;01mreturn\u001b[39;00m results\n",
      "Cell \u001b[0;32mIn[10], line 71\u001b[0m, in \u001b[0;36mplot_group_metrics\u001b[0;34m(combined_df, output_dir, config_name, metrics_to_plot, plot_individual_seeds, num_y_ticks, suffix)\u001b[0m\n\u001b[1;32m     69\u001b[0m         metric, title, y_axis_title \u001b[38;5;241m=\u001b[39m item\n\u001b[1;32m     70\u001b[0m         \u001b[38;5;28;01mif\u001b[39;00m metric \u001b[38;5;129;01min\u001b[39;00m training_df\u001b[38;5;241m.\u001b[39mcolumns \u001b[38;5;129;01mand\u001b[39;00m \u001b[38;5;129;01mnot\u001b[39;00m training_df[metric]\u001b[38;5;241m.\u001b[39misna()\u001b[38;5;241m.\u001b[39mall():\n\u001b[0;32m---> 71\u001b[0m             \u001b[43mplot_single_metric\u001b[49m\u001b[43m(\u001b[49m\u001b[43mtraining_df\u001b[49m\u001b[43m,\u001b[49m\u001b[43m \u001b[49m\u001b[43mmetric\u001b[49m\u001b[43m,\u001b[49m\u001b[43m \u001b[49m\u001b[43mtitle\u001b[49m\u001b[43m,\u001b[49m\u001b[43m \u001b[49m\u001b[43my_axis_title\u001b[49m\u001b[43m,\u001b[49m\u001b[43m \u001b[49m\u001b[43moutput_dir\u001b[49m\u001b[43m,\u001b[49m\u001b[43m \u001b[49m\u001b[43mconfig_name\u001b[49m\u001b[43m,\u001b[49m\u001b[43m \u001b[49m\u001b[43mfigures\u001b[49m\u001b[43m,\u001b[49m\u001b[43m \u001b[49m\u001b[43mplot_individual_seeds\u001b[49m\u001b[43m,\u001b[49m\u001b[43m \u001b[49m\n\u001b[1;32m     72\u001b[0m \u001b[43m                               \u001b[49m\u001b[43mnum_y_ticks\u001b[49m\u001b[38;5;241;43m=\u001b[39;49m\u001b[43mnum_y_ticks\u001b[49m\u001b[43m,\u001b[49m\u001b[43m \u001b[49m\u001b[43msuffix\u001b[49m\u001b[38;5;241;43m=\u001b[39;49m\u001b[43msuffix\u001b[49m\u001b[43m)\u001b[49m\n\u001b[1;32m     74\u001b[0m \u001b[38;5;28;01mreturn\u001b[39;00m figures\n",
      "Cell \u001b[0;32mIn[10], line 136\u001b[0m, in \u001b[0;36mplot_single_metric\u001b[0;34m(training_df, metric, title, y_axis_title, output_dir, config_name, figures, plot_individual_seeds, num_y_ticks, suffix)\u001b[0m\n\u001b[1;32m    124\u001b[0m \u001b[38;5;66;03m# Update layout\u001b[39;00m\n\u001b[1;32m    125\u001b[0m fig\u001b[38;5;241m.\u001b[39mupdate_layout(\n\u001b[1;32m    126\u001b[0m     title\u001b[38;5;241m=\u001b[39m\u001b[38;5;124mf\u001b[39m\u001b[38;5;124m\"\u001b[39m\u001b[38;5;132;01m{\u001b[39;00mtitle\u001b[38;5;132;01m}\u001b[39;00m\u001b[38;5;124m (Mean ± Std across seeds) - \u001b[39m\u001b[38;5;132;01m{\u001b[39;00mconfig_name\u001b[38;5;132;01m}\u001b[39;00m\u001b[38;5;124m\"\u001b[39m,\n\u001b[1;32m    127\u001b[0m     xaxis_title\u001b[38;5;241m=\u001b[39m\u001b[38;5;124m\"\u001b[39m\u001b[38;5;124mEpoch\u001b[39m\u001b[38;5;124m\"\u001b[39m,\n\u001b[0;32m   (...)\u001b[0m\n\u001b[1;32m    133\u001b[0m     height\u001b[38;5;241m=\u001b[39m\u001b[38;5;241m600\u001b[39m\n\u001b[1;32m    134\u001b[0m )\n\u001b[0;32m--> 136\u001b[0m \u001b[43mexport_plotly_figure_images\u001b[49m\u001b[43m(\u001b[49m\u001b[43mfig\u001b[49m\u001b[43m,\u001b[49m\u001b[43m \u001b[49m\u001b[43mtitle\u001b[49m\u001b[43m,\u001b[49m\u001b[43m \u001b[49m\u001b[43moutput_dir\u001b[49m\u001b[43m,\u001b[49m\u001b[43m \u001b[49m\u001b[43msuffix\u001b[49m\u001b[43m \u001b[49m\u001b[38;5;129;43;01mor\u001b[39;49;00m\u001b[43m \u001b[49m\u001b[38;5;124;43m\"\u001b[39;49m\u001b[38;5;124;43mwith_error_bars\u001b[39;49m\u001b[38;5;124;43m\"\u001b[39;49m\u001b[43m)\u001b[49m\n\u001b[1;32m    138\u001b[0m \u001b[38;5;66;03m# Save figure\u001b[39;00m\n\u001b[1;32m    139\u001b[0m fig_path \u001b[38;5;241m=\u001b[39m os\u001b[38;5;241m.\u001b[39mpath\u001b[38;5;241m.\u001b[39mjoin(output_dir, \u001b[38;5;124mf\u001b[39m\u001b[38;5;124m\"\u001b[39m\u001b[38;5;132;01m{\u001b[39;00mmetric\u001b[38;5;132;01m}\u001b[39;00m\u001b[38;5;124m_with_error_bars.html\u001b[39m\u001b[38;5;124m\"\u001b[39m)\n",
      "Cell \u001b[0;32mIn[10], line 24\u001b[0m, in \u001b[0;36mexport_plotly_figure_images\u001b[0;34m(fig, title, output_dir, suffix, png_scale)\u001b[0m\n\u001b[1;32m     21\u001b[0m height \u001b[38;5;241m=\u001b[39m fig\u001b[38;5;241m.\u001b[39mlayout\u001b[38;5;241m.\u001b[39mheight \u001b[38;5;129;01mor\u001b[39;00m \u001b[38;5;241m600\u001b[39m\n\u001b[1;32m     23\u001b[0m \u001b[38;5;66;03m# Export high-res PNG and PDF\u001b[39;00m\n\u001b[0;32m---> 24\u001b[0m \u001b[43mwrite_image\u001b[49m\u001b[43m(\u001b[49m\u001b[43mfig\u001b[49m\u001b[43m,\u001b[49m\u001b[43m \u001b[49m\u001b[43mpng_path\u001b[49m\u001b[43m,\u001b[49m\u001b[43m \u001b[49m\u001b[43mwidth\u001b[49m\u001b[38;5;241;43m=\u001b[39;49m\u001b[43mwidth\u001b[49m\u001b[43m,\u001b[49m\u001b[43m \u001b[49m\u001b[43mheight\u001b[49m\u001b[38;5;241;43m=\u001b[39;49m\u001b[43mheight\u001b[49m\u001b[43m,\u001b[49m\u001b[43m \u001b[49m\u001b[43mengine\u001b[49m\u001b[38;5;241;43m=\u001b[39;49m\u001b[38;5;124;43m\"\u001b[39;49m\u001b[38;5;124;43morca\u001b[39;49m\u001b[38;5;124;43m\"\u001b[39;49m\u001b[43m,\u001b[49m\u001b[43m \u001b[49m\u001b[43mscale\u001b[49m\u001b[38;5;241;43m=\u001b[39;49m\u001b[43mpng_scale\u001b[49m\u001b[43m)\u001b[49m\n\u001b[1;32m     25\u001b[0m write_image(fig, pdf_path, width\u001b[38;5;241m=\u001b[39mwidth, height\u001b[38;5;241m=\u001b[39mheight, engine\u001b[38;5;241m=\u001b[39m\u001b[38;5;124m\"\u001b[39m\u001b[38;5;124morca\u001b[39m\u001b[38;5;124m\"\u001b[39m)\n",
      "File \u001b[0;32m~/miniconda3/envs/taras_ami/lib/python3.10/site-packages/plotly/io/_kaleido.py:266\u001b[0m, in \u001b[0;36mwrite_image\u001b[0;34m(fig, file, format, scale, width, height, validate, engine)\u001b[0m\n\u001b[1;32m    250\u001b[0m             \u001b[38;5;28;01mraise\u001b[39;00m \u001b[38;5;167;01mValueError\u001b[39;00m(\n\u001b[1;32m    251\u001b[0m \u001b[38;5;250m                \u001b[39m\u001b[38;5;124;03m\"\"\"\u001b[39;00m\n\u001b[1;32m    252\u001b[0m \u001b[38;5;124;03mCannot infer image type from output path '{file}'.\u001b[39;00m\n\u001b[0;32m   (...)\u001b[0m\n\u001b[1;32m    260\u001b[0m                 )\n\u001b[1;32m    261\u001b[0m             )\n\u001b[1;32m    263\u001b[0m     \u001b[38;5;66;03m# Request image\u001b[39;00m\n\u001b[1;32m    264\u001b[0m     \u001b[38;5;66;03m# -------------\u001b[39;00m\n\u001b[1;32m    265\u001b[0m     \u001b[38;5;66;03m# Do this first so we don't create a file if image conversion fails\u001b[39;00m\n\u001b[0;32m--> 266\u001b[0m     img_data \u001b[38;5;241m=\u001b[39m \u001b[43mto_image\u001b[49m\u001b[43m(\u001b[49m\n\u001b[1;32m    267\u001b[0m \u001b[43m        \u001b[49m\u001b[43mfig\u001b[49m\u001b[43m,\u001b[49m\n\u001b[1;32m    268\u001b[0m \u001b[43m        \u001b[49m\u001b[38;5;28;43mformat\u001b[39;49m\u001b[38;5;241;43m=\u001b[39;49m\u001b[38;5;28;43mformat\u001b[39;49m\u001b[43m,\u001b[49m\n\u001b[1;32m    269\u001b[0m \u001b[43m        \u001b[49m\u001b[43mscale\u001b[49m\u001b[38;5;241;43m=\u001b[39;49m\u001b[43mscale\u001b[49m\u001b[43m,\u001b[49m\n\u001b[1;32m    270\u001b[0m \u001b[43m        \u001b[49m\u001b[43mwidth\u001b[49m\u001b[38;5;241;43m=\u001b[39;49m\u001b[43mwidth\u001b[49m\u001b[43m,\u001b[49m\n\u001b[1;32m    271\u001b[0m \u001b[43m        \u001b[49m\u001b[43mheight\u001b[49m\u001b[38;5;241;43m=\u001b[39;49m\u001b[43mheight\u001b[49m\u001b[43m,\u001b[49m\n\u001b[1;32m    272\u001b[0m \u001b[43m        \u001b[49m\u001b[43mvalidate\u001b[49m\u001b[38;5;241;43m=\u001b[39;49m\u001b[43mvalidate\u001b[49m\u001b[43m,\u001b[49m\n\u001b[1;32m    273\u001b[0m \u001b[43m        \u001b[49m\u001b[43mengine\u001b[49m\u001b[38;5;241;43m=\u001b[39;49m\u001b[43mengine\u001b[49m\u001b[43m,\u001b[49m\n\u001b[1;32m    274\u001b[0m \u001b[43m    \u001b[49m\u001b[43m)\u001b[49m\n\u001b[1;32m    276\u001b[0m     \u001b[38;5;66;03m# Open file\u001b[39;00m\n\u001b[1;32m    277\u001b[0m     \u001b[38;5;66;03m# ---------\u001b[39;00m\n\u001b[1;32m    278\u001b[0m     \u001b[38;5;28;01mif\u001b[39;00m path \u001b[38;5;129;01mis\u001b[39;00m \u001b[38;5;28;01mNone\u001b[39;00m:\n\u001b[1;32m    279\u001b[0m         \u001b[38;5;66;03m# We previously failed to make sense of `file` as a pathlib object.\u001b[39;00m\n\u001b[1;32m    280\u001b[0m         \u001b[38;5;66;03m# Attempt to write to `file` as an open file descriptor.\u001b[39;00m\n",
      "File \u001b[0;32m~/miniconda3/envs/taras_ami/lib/python3.10/site-packages/plotly/io/_kaleido.py:115\u001b[0m, in \u001b[0;36mto_image\u001b[0;34m(fig, format, width, height, scale, validate, engine)\u001b[0m\n\u001b[1;32m    111\u001b[0m \u001b[38;5;28;01mif\u001b[39;00m engine \u001b[38;5;241m==\u001b[39m \u001b[38;5;124m\"\u001b[39m\u001b[38;5;124morca\u001b[39m\u001b[38;5;124m\"\u001b[39m:\n\u001b[1;32m    112\u001b[0m     \u001b[38;5;66;03m# Fall back to legacy orca image export path\u001b[39;00m\n\u001b[1;32m    113\u001b[0m     \u001b[38;5;28;01mfrom\u001b[39;00m\u001b[38;5;250m \u001b[39m\u001b[38;5;21;01m.\u001b[39;00m\u001b[38;5;21;01m_orca\u001b[39;00m\u001b[38;5;250m \u001b[39m\u001b[38;5;28;01mimport\u001b[39;00m to_image \u001b[38;5;28;01mas\u001b[39;00m to_image_orca\n\u001b[0;32m--> 115\u001b[0m     \u001b[38;5;28;01mreturn\u001b[39;00m \u001b[43mto_image_orca\u001b[49m\u001b[43m(\u001b[49m\n\u001b[1;32m    116\u001b[0m \u001b[43m        \u001b[49m\u001b[43mfig\u001b[49m\u001b[43m,\u001b[49m\n\u001b[1;32m    117\u001b[0m \u001b[43m        \u001b[49m\u001b[38;5;28;43mformat\u001b[39;49m\u001b[38;5;241;43m=\u001b[39;49m\u001b[38;5;28;43mformat\u001b[39;49m\u001b[43m,\u001b[49m\n\u001b[1;32m    118\u001b[0m \u001b[43m        \u001b[49m\u001b[43mwidth\u001b[49m\u001b[38;5;241;43m=\u001b[39;49m\u001b[43mwidth\u001b[49m\u001b[43m,\u001b[49m\n\u001b[1;32m    119\u001b[0m \u001b[43m        \u001b[49m\u001b[43mheight\u001b[49m\u001b[38;5;241;43m=\u001b[39;49m\u001b[43mheight\u001b[49m\u001b[43m,\u001b[49m\n\u001b[1;32m    120\u001b[0m \u001b[43m        \u001b[49m\u001b[43mscale\u001b[49m\u001b[38;5;241;43m=\u001b[39;49m\u001b[43mscale\u001b[49m\u001b[43m,\u001b[49m\n\u001b[1;32m    121\u001b[0m \u001b[43m        \u001b[49m\u001b[43mvalidate\u001b[49m\u001b[38;5;241;43m=\u001b[39;49m\u001b[43mvalidate\u001b[49m\u001b[43m,\u001b[49m\n\u001b[1;32m    122\u001b[0m \u001b[43m    \u001b[49m\u001b[43m)\u001b[49m\n\u001b[1;32m    123\u001b[0m \u001b[38;5;28;01melif\u001b[39;00m engine \u001b[38;5;241m!=\u001b[39m \u001b[38;5;124m\"\u001b[39m\u001b[38;5;124mkaleido\u001b[39m\u001b[38;5;124m\"\u001b[39m:\n\u001b[1;32m    124\u001b[0m     \u001b[38;5;28;01mraise\u001b[39;00m \u001b[38;5;167;01mValueError\u001b[39;00m(\n\u001b[1;32m    125\u001b[0m         \u001b[38;5;124m\"\u001b[39m\u001b[38;5;124mInvalid image export engine specified: \u001b[39m\u001b[38;5;132;01m{engine}\u001b[39;00m\u001b[38;5;124m\"\u001b[39m\u001b[38;5;241m.\u001b[39mformat(\n\u001b[1;32m    126\u001b[0m             engine\u001b[38;5;241m=\u001b[39m\u001b[38;5;28mrepr\u001b[39m(engine)\n\u001b[1;32m    127\u001b[0m         )\n\u001b[1;32m    128\u001b[0m     )\n",
      "File \u001b[0;32m~/miniconda3/envs/taras_ami/lib/python3.10/site-packages/plotly/io/_orca.py:1445\u001b[0m, in \u001b[0;36mto_image\u001b[0;34m(fig, format, width, height, scale, validate)\u001b[0m\n\u001b[1;32m   1393\u001b[0m \u001b[38;5;250m\u001b[39m\u001b[38;5;124;03m\"\"\"\u001b[39;00m\n\u001b[1;32m   1394\u001b[0m \u001b[38;5;124;03mConvert a figure to a static image bytes string\u001b[39;00m\n\u001b[1;32m   1395\u001b[0m \n\u001b[0;32m   (...)\u001b[0m\n\u001b[1;32m   1441\u001b[0m \u001b[38;5;124;03m    The image data\u001b[39;00m\n\u001b[1;32m   1442\u001b[0m \u001b[38;5;124;03m\"\"\"\u001b[39;00m\n\u001b[1;32m   1443\u001b[0m \u001b[38;5;66;03m# Make sure orca sever is running\u001b[39;00m\n\u001b[1;32m   1444\u001b[0m \u001b[38;5;66;03m# -------------------------------\u001b[39;00m\n\u001b[0;32m-> 1445\u001b[0m \u001b[43mensure_server\u001b[49m\u001b[43m(\u001b[49m\u001b[43m)\u001b[49m\n\u001b[1;32m   1447\u001b[0m \u001b[38;5;66;03m# Handle defaults\u001b[39;00m\n\u001b[1;32m   1448\u001b[0m \u001b[38;5;66;03m# ---------------\u001b[39;00m\n\u001b[1;32m   1449\u001b[0m \u001b[38;5;66;03m# Apply configuration defaults to unspecified arguments\u001b[39;00m\n\u001b[1;32m   1450\u001b[0m \u001b[38;5;28;01mif\u001b[39;00m \u001b[38;5;28mformat\u001b[39m \u001b[38;5;129;01mis\u001b[39;00m \u001b[38;5;28;01mNone\u001b[39;00m:\n",
      "File \u001b[0;32m~/miniconda3/envs/taras_ami/lib/python3.10/site-packages/plotly/io/_orca.py:1296\u001b[0m, in \u001b[0;36mensure_server\u001b[0;34m()\u001b[0m\n\u001b[1;32m   1293\u001b[0m \u001b[38;5;28;01mif\u001b[39;00m \u001b[38;5;129;01mnot\u001b[39;00m config\u001b[38;5;241m.\u001b[39mserver_url:\n\u001b[1;32m   1294\u001b[0m     \u001b[38;5;66;03m# Validate orca executable only if server_url is not provided\u001b[39;00m\n\u001b[1;32m   1295\u001b[0m     \u001b[38;5;28;01mif\u001b[39;00m status\u001b[38;5;241m.\u001b[39mstate \u001b[38;5;241m==\u001b[39m \u001b[38;5;124m\"\u001b[39m\u001b[38;5;124munvalidated\u001b[39m\u001b[38;5;124m\"\u001b[39m:\n\u001b[0;32m-> 1296\u001b[0m         \u001b[43mvalidate_executable\u001b[49m\u001b[43m(\u001b[49m\u001b[43m)\u001b[49m\n\u001b[1;32m   1297\u001b[0m     \u001b[38;5;66;03m# Acquire lock to make sure that we keep the properties of orca_state\u001b[39;00m\n\u001b[1;32m   1298\u001b[0m     \u001b[38;5;66;03m# consistent across threads\u001b[39;00m\n\u001b[1;32m   1299\u001b[0m     \u001b[38;5;28;01mwith\u001b[39;00m orca_lock:\n\u001b[1;32m   1300\u001b[0m         \u001b[38;5;66;03m# Cancel the current shutdown timer, if any\u001b[39;00m\n",
      "File \u001b[0;32m~/miniconda3/envs/taras_ami/lib/python3.10/site-packages/plotly/io/_orca.py:1090\u001b[0m, in \u001b[0;36mvalidate_executable\u001b[0;34m()\u001b[0m\n\u001b[1;32m   1073\u001b[0m         \u001b[38;5;28;01mif\u001b[39;00m sys\u001b[38;5;241m.\u001b[39mplatform\u001b[38;5;241m.\u001b[39mstartswith(\u001b[38;5;124m\"\u001b[39m\u001b[38;5;124mlinux\u001b[39m\u001b[38;5;124m\"\u001b[39m) \u001b[38;5;129;01mand\u001b[39;00m \u001b[38;5;129;01mnot\u001b[39;00m os\u001b[38;5;241m.\u001b[39menviron\u001b[38;5;241m.\u001b[39mget(\u001b[38;5;124m\"\u001b[39m\u001b[38;5;124mDISPLAY\u001b[39m\u001b[38;5;124m\"\u001b[39m):\n\u001b[1;32m   1075\u001b[0m             err_msg \u001b[38;5;241m+\u001b[39m\u001b[38;5;241m=\u001b[39m \u001b[38;5;124m\"\"\"\u001b[39m\u001b[38;5;130;01m\\\u001b[39;00m\n\u001b[1;32m   1076\u001b[0m \u001b[38;5;124mNote: When used on Linux, orca requires an X11 display server, but none was\u001b[39m\n\u001b[1;32m   1077\u001b[0m \u001b[38;5;124mdetected. Please install Xvfb and configure plotly.py to run orca using Xvfb\u001b[39m\n\u001b[0;32m   (...)\u001b[0m\n\u001b[1;32m   1088\u001b[0m \u001b[38;5;124mfor more info on Xvfb\u001b[39m\n\u001b[1;32m   1089\u001b[0m \u001b[38;5;124m\"\"\"\u001b[39m\n\u001b[0;32m-> 1090\u001b[0m         \u001b[38;5;28;01mraise\u001b[39;00m \u001b[38;5;167;01mValueError\u001b[39;00m(err_msg)\n\u001b[1;32m   1092\u001b[0m     \u001b[38;5;28;01mif\u001b[39;00m \u001b[38;5;129;01mnot\u001b[39;00m help_result:\n\u001b[1;32m   1093\u001b[0m         \u001b[38;5;28;01mraise\u001b[39;00m \u001b[38;5;167;01mValueError\u001b[39;00m(\n\u001b[1;32m   1094\u001b[0m             invalid_executable_msg\n\u001b[1;32m   1095\u001b[0m             \u001b[38;5;241m+\u001b[39m \u001b[38;5;124m\"\"\"\u001b[39m\n\u001b[0;32m   (...)\u001b[0m\n\u001b[1;32m   1100\u001b[0m             )\n\u001b[1;32m   1101\u001b[0m         )\n",
      "\u001b[0;31mValueError\u001b[0m: \nThe orca executable is required in order to export figures as static images,\nbut the executable that was found at '/home/taras/miniconda3/envs/taras_ami/bin/orca'\ndoes not seem to be a valid plotly orca executable. Please refer to the end of\nthis message for details on what went wrong.\n\nIf you haven't installed orca yet, you can do so using conda as follows:\n\n    $ conda install -c plotly plotly-orca\n\nAlternatively, see other installation methods in the orca project README at\nhttps://github.com/plotly/orca\n\nAfter installation is complete, no further configuration should be needed.\n\nIf you have installed orca, then for some reason plotly.py was unable to\nlocate it. In this case, set the `plotly.io.orca.config.executable`\nproperty to the full path of your orca executable. For example:\n\n    >>> plotly.io.orca.config.executable = '/path/to/orca'\n\nAfter updating this executable property, try the export operation again.\nIf it is successful then you may want to save this configuration so that it\nwill be applied automatically in future sessions. You can do this as follows:\n\n    >>> plotly.io.orca.config.save()\n\nIf you're still having trouble, feel free to ask for help on the forums at\nhttps://community.plot.ly/c/api/python\n\nHere is the error that was returned by the command\n    $ /home/taras/miniconda3/envs/taras_ami/bin/orca --help\n\n[Return code: 127]\n/home/taras/miniconda3/envs/taras_ami/lib/orca_app/orca: error while loading shared libraries: libnss3.so: cannot open shared object file: No such file or directory\n\nNote: When used on Linux, orca requires an X11 display server, but none was\ndetected. Please install Xvfb and configure plotly.py to run orca using Xvfb\nas follows:\n\n    >>> import plotly.io as pio\n    >>> pio.orca.config.use_xvfb = True\n\nYou can save this configuration for use in future sessions as follows:\n\n    >>> pio.orca.config.save()\n\nSee https://www.x.org/releases/X11R7.6/doc/man/man1/Xvfb.1.xhtml\nfor more info on Xvfb\n"
     ]
    }
   ],
   "source": [
    "# Evaluate each configuration group\n",
    "all_group_results = []\n",
    "for config_name, seed_runs in tqdm(config_groups.items(), desc=\"Evaluating configuration groups\"):\n",
    "    # Only evaluate groups with multiple seeds\n",
    "    if len(seed_runs) >= 1:\n",
    "        group_result = evaluate_run_group(config_name, seed_runs, eval_results_dir, \n",
    "                                          plot_confusion_matrix=False, metrics_to_plot=metrics_to_plot,\n",
    "                                          plot_individual_seeds=True)\n",
    "        all_group_results.append(group_result)\n",
    "\n",
    "# Create a summary table of results\n",
    "print(\"\\nSummary of results by configuration:\")\n",
    "summary_data = []\n",
    "for result in all_group_results:\n",
    "    if 'mean_accuracy' in result:\n",
    "        summary_data.append({\n",
    "            'config': result['config_name'],\n",
    "            'num_seeds': len(result['seeds']),\n",
    "            'mean_accuracy': result['mean_accuracy'],\n",
    "            'std_accuracy': result['std_accuracy'],\n",
    "            'min_accuracy': min(result['test_accuracies']),\n",
    "            'max_accuracy': max(result['test_accuracies'])\n",
    "        })\n",
    "\n",
    "if summary_data:\n",
    "    summary_df = pd.DataFrame(summary_data)\n",
    "    summary_df = summary_df.sort_values('mean_accuracy', ascending=False)\n",
    "    \n",
    "    # Save to CSV\n",
    "    summary_path = os.path.join(eval_results_dir, 'config_results_summary.csv')\n",
    "    summary_df.to_csv(summary_path, index=False)\n",
    "    \n",
    "    # Print summary\n",
    "    display(summary_df)\n",
    "    print(f\"\\nConfiguration summary saved to {summary_path}\")\n",
    "\n",
    "print(\"\\nAnalysis complete!\")"
   ]
  },
  {
   "cell_type": "markdown",
   "metadata": {},
   "source": [
    "## Plotting validation metrics"
   ]
  },
  {
   "cell_type": "code",
   "execution_count": 31,
   "metadata": {},
   "outputs": [],
   "source": [
    "# List of metrics to plot\n",
    "metrics_to_plot = [\n",
    "    ('test_top1_acc', 'Test Accuracy', 'Accuracy'),\n",
    "    [('local_size_for_true_class', 'Local Size for Predicted Class', 'Count'),\n",
    "    ('local_size_for_all_classes', 'Local Size for All Classes', 'Size'),\n",
    "    ],\n",
    "    [('num_nonzero_prototypes', 'Global explanation size', 'Size'),\n",
    "    ('prototypes_per_class', 'Total explanation size', 'Size')\n",
    "    ],\n",
    "    ('almost_nonzeros_pooled', 'Number of non-zero prototypes', 'Count'),\n",
    "]"
   ]
  },
  {
   "cell_type": "code",
   "execution_count": 34,
   "metadata": {},
   "outputs": [
    {
     "name": "stdout",
     "output_type": "stream",
     "text": [
      "\n",
      "Plotting metrics for configuration: pipnet_SEED_stage7_p0\n"
     ]
    },
    {
     "data": {
      "application/vnd.plotly.v1+json": {
       "config": {
        "plotlyServerURL": "https://plot.ly"
       },
       "data": [
        {
         "line": {
          "color": "royalblue"
         },
         "marker": {
          "size": 8
         },
         "mode": "lines",
         "name": "Mean",
         "type": "scatter",
         "x": [
          1,
          2,
          3,
          4,
          5,
          6,
          7,
          8,
          9,
          10,
          11,
          12,
          13,
          14,
          15,
          16,
          17,
          18,
          19,
          20,
          21,
          22,
          23,
          24,
          25,
          26,
          27,
          28,
          29,
          30,
          31,
          32,
          33,
          34,
          35,
          36,
          37,
          38,
          39,
          40,
          41,
          42,
          43,
          44,
          45,
          46,
          47,
          48,
          49,
          50
         ],
         "y": [
          0.4335416666666666,
          0.47062499999999996,
          0.49812500000000004,
          0.5535416666666666,
          0.5964583333333333,
          0.5891666666666666,
          0.565625,
          0.5627083333333334,
          0.5045833333333334,
          0.5727083333333333,
          0.7689583333333333,
          0.9170833333333333,
          0.9706250000000001,
          0.9970833333333333,
          0.9722916666666667,
          0.9970833333333333,
          0.9985416666666668,
          0.99875,
          0.9989583333333332,
          0.9989583333333332,
          0.9985416666666665,
          0.999375,
          0.9885416666666667,
          0.99875,
          0.9979166666666666,
          0.9991666666666665,
          0.9989583333333332,
          0.9987499999999999,
          0.9933333333333334,
          0.9983333333333334,
          0.9993749999999999,
          0.9983333333333334,
          0.9995833333333334,
          0.9995833333333334,
          0.9995833333333334,
          0.9981249999999999,
          0.9991666666666668,
          0.999375,
          0.9991666666666668,
          0.9991666666666668,
          0.9993749999999999,
          0.9958333333333333,
          0.999375,
          0.9993749999999999,
          0.9993749999999999,
          0.9991666666666668,
          0.9991666666666668,
          0.9991666666666668,
          0.9991666666666668,
          0.9962499999999999
         ]
        },
        {
         "line": {
          "width": 0
         },
         "mode": "lines",
         "name": "Upper Bound",
         "showlegend": false,
         "type": "scatter",
         "x": [
          1,
          2,
          3,
          4,
          5,
          6,
          7,
          8,
          9,
          10,
          11,
          12,
          13,
          14,
          15,
          16,
          17,
          18,
          19,
          20,
          21,
          22,
          23,
          24,
          25,
          26,
          27,
          28,
          29,
          30,
          31,
          32,
          33,
          34,
          35,
          36,
          37,
          38,
          39,
          40,
          41,
          42,
          43,
          44,
          45,
          46,
          47,
          48,
          49,
          50
         ],
         "y": [
          0.4649941357668819,
          0.49703284224325117,
          0.5167647219966155,
          0.588180803371652,
          0.6345725166805103,
          0.6646267715602828,
          0.641602427203377,
          0.6249316793673315,
          0.5612015341147272,
          0.6386607243585603,
          0.8558654267259008,
          0.960055081966075,
          0.9989843630433094,
          0.9982244219948023,
          1.0025412792674917,
          0.9993416128529874,
          0.9994733616572916,
          0.999621520860973,
          1.0002341092410327,
          0.9996949028970691,
          1.0002847083886126,
          1.000306694990625,
          1.0135850318336903,
          1.0001081671677505,
          1.0003595915415746,
          0.9996325141619791,
          0.9996949028970692,
          0.999891088661469,
          1.0070857005538036,
          0.9999130990508441,
          0.9999455443307346,
          1.0000763750552795,
          1.0005150283239583,
          1.000153877664068,
          1.000153877664068,
          0.9996700413514782,
          1.0000381875276396,
          1.000306694990625,
          1.0000381875276396,
          1.0000381875276396,
          0.9999455443307346,
          1.0034524681449624,
          1.000306694990625,
          0.9999455443307346,
          0.9999455443307346,
          1.0000381875276396,
          1.0000381875276396,
          1.0000381875276396,
          1.0000381875276396,
          1.0034893959807891
         ]
        },
        {
         "fill": "tonexty",
         "fillcolor": "rgba(65, 105, 225, 0.2)",
         "line": {
          "width": 0
         },
         "mode": "lines",
         "name": "Lower Bound",
         "showlegend": false,
         "type": "scatter",
         "x": [
          1,
          2,
          3,
          4,
          5,
          6,
          7,
          8,
          9,
          10,
          11,
          12,
          13,
          14,
          15,
          16,
          17,
          18,
          19,
          20,
          21,
          22,
          23,
          24,
          25,
          26,
          27,
          28,
          29,
          30,
          31,
          32,
          33,
          34,
          35,
          36,
          37,
          38,
          39,
          40,
          41,
          42,
          43,
          44,
          45,
          46,
          47,
          48,
          49,
          50
         ],
         "y": [
          0.4020891975664513,
          0.44421715775674875,
          0.4794852780033846,
          0.5189025299616812,
          0.5583441499861563,
          0.5137065617730504,
          0.4896475727966231,
          0.5004849872993352,
          0.4479651325519396,
          0.5067559423081063,
          0.6820512399407658,
          0.8741115847005915,
          0.9422656369566907,
          0.9959422446718643,
          0.9420420540658415,
          0.9948250538136792,
          0.9976099716760419,
          0.997878479139027,
          0.9976825574256336,
          0.9982217637695973,
          0.9967986249447205,
          0.9984433050093751,
          0.9634983014996431,
          0.9973918328322495,
          0.9954737417917586,
          0.998700819171354,
          0.9982217637695971,
          0.9976089113385308,
          0.9795809661128632,
          0.9967535676158227,
          0.9988044556692652,
          0.9965902916113873,
          0.9986516383427085,
          0.9990127890025987,
          0.9990127890025987,
          0.9965799586485217,
          0.9982951458056938,
          0.9984433050093752,
          0.9982951458056938,
          0.9982951458056938,
          0.9988044556692652,
          0.9882141985217043,
          0.9984433050093751,
          0.9988044556692652,
          0.9988044556692652,
          0.9982951458056938,
          0.9982951458056938,
          0.9982951458056938,
          0.9982951458056938,
          0.9890106040192106
         ]
        }
       ],
       "layout": {
        "height": 600,
        "hovermode": "x unified",
        "legend": {
         "orientation": "h",
         "x": 1,
         "xanchor": "right",
         "y": 1.02,
         "yanchor": "bottom"
        },
        "template": {
         "data": {
          "bar": [
           {
            "error_x": {
             "color": "#2a3f5f"
            },
            "error_y": {
             "color": "#2a3f5f"
            },
            "marker": {
             "line": {
              "color": "#E5ECF6",
              "width": 0.5
             },
             "pattern": {
              "fillmode": "overlay",
              "size": 10,
              "solidity": 0.2
             }
            },
            "type": "bar"
           }
          ],
          "barpolar": [
           {
            "marker": {
             "line": {
              "color": "#E5ECF6",
              "width": 0.5
             },
             "pattern": {
              "fillmode": "overlay",
              "size": 10,
              "solidity": 0.2
             }
            },
            "type": "barpolar"
           }
          ],
          "carpet": [
           {
            "aaxis": {
             "endlinecolor": "#2a3f5f",
             "gridcolor": "white",
             "linecolor": "white",
             "minorgridcolor": "white",
             "startlinecolor": "#2a3f5f"
            },
            "baxis": {
             "endlinecolor": "#2a3f5f",
             "gridcolor": "white",
             "linecolor": "white",
             "minorgridcolor": "white",
             "startlinecolor": "#2a3f5f"
            },
            "type": "carpet"
           }
          ],
          "choropleth": [
           {
            "colorbar": {
             "outlinewidth": 0,
             "ticks": ""
            },
            "type": "choropleth"
           }
          ],
          "contour": [
           {
            "colorbar": {
             "outlinewidth": 0,
             "ticks": ""
            },
            "colorscale": [
             [
              0,
              "#0d0887"
             ],
             [
              0.1111111111111111,
              "#46039f"
             ],
             [
              0.2222222222222222,
              "#7201a8"
             ],
             [
              0.3333333333333333,
              "#9c179e"
             ],
             [
              0.4444444444444444,
              "#bd3786"
             ],
             [
              0.5555555555555556,
              "#d8576b"
             ],
             [
              0.6666666666666666,
              "#ed7953"
             ],
             [
              0.7777777777777778,
              "#fb9f3a"
             ],
             [
              0.8888888888888888,
              "#fdca26"
             ],
             [
              1,
              "#f0f921"
             ]
            ],
            "type": "contour"
           }
          ],
          "contourcarpet": [
           {
            "colorbar": {
             "outlinewidth": 0,
             "ticks": ""
            },
            "type": "contourcarpet"
           }
          ],
          "heatmap": [
           {
            "colorbar": {
             "outlinewidth": 0,
             "ticks": ""
            },
            "colorscale": [
             [
              0,
              "#0d0887"
             ],
             [
              0.1111111111111111,
              "#46039f"
             ],
             [
              0.2222222222222222,
              "#7201a8"
             ],
             [
              0.3333333333333333,
              "#9c179e"
             ],
             [
              0.4444444444444444,
              "#bd3786"
             ],
             [
              0.5555555555555556,
              "#d8576b"
             ],
             [
              0.6666666666666666,
              "#ed7953"
             ],
             [
              0.7777777777777778,
              "#fb9f3a"
             ],
             [
              0.8888888888888888,
              "#fdca26"
             ],
             [
              1,
              "#f0f921"
             ]
            ],
            "type": "heatmap"
           }
          ],
          "heatmapgl": [
           {
            "colorbar": {
             "outlinewidth": 0,
             "ticks": ""
            },
            "colorscale": [
             [
              0,
              "#0d0887"
             ],
             [
              0.1111111111111111,
              "#46039f"
             ],
             [
              0.2222222222222222,
              "#7201a8"
             ],
             [
              0.3333333333333333,
              "#9c179e"
             ],
             [
              0.4444444444444444,
              "#bd3786"
             ],
             [
              0.5555555555555556,
              "#d8576b"
             ],
             [
              0.6666666666666666,
              "#ed7953"
             ],
             [
              0.7777777777777778,
              "#fb9f3a"
             ],
             [
              0.8888888888888888,
              "#fdca26"
             ],
             [
              1,
              "#f0f921"
             ]
            ],
            "type": "heatmapgl"
           }
          ],
          "histogram": [
           {
            "marker": {
             "pattern": {
              "fillmode": "overlay",
              "size": 10,
              "solidity": 0.2
             }
            },
            "type": "histogram"
           }
          ],
          "histogram2d": [
           {
            "colorbar": {
             "outlinewidth": 0,
             "ticks": ""
            },
            "colorscale": [
             [
              0,
              "#0d0887"
             ],
             [
              0.1111111111111111,
              "#46039f"
             ],
             [
              0.2222222222222222,
              "#7201a8"
             ],
             [
              0.3333333333333333,
              "#9c179e"
             ],
             [
              0.4444444444444444,
              "#bd3786"
             ],
             [
              0.5555555555555556,
              "#d8576b"
             ],
             [
              0.6666666666666666,
              "#ed7953"
             ],
             [
              0.7777777777777778,
              "#fb9f3a"
             ],
             [
              0.8888888888888888,
              "#fdca26"
             ],
             [
              1,
              "#f0f921"
             ]
            ],
            "type": "histogram2d"
           }
          ],
          "histogram2dcontour": [
           {
            "colorbar": {
             "outlinewidth": 0,
             "ticks": ""
            },
            "colorscale": [
             [
              0,
              "#0d0887"
             ],
             [
              0.1111111111111111,
              "#46039f"
             ],
             [
              0.2222222222222222,
              "#7201a8"
             ],
             [
              0.3333333333333333,
              "#9c179e"
             ],
             [
              0.4444444444444444,
              "#bd3786"
             ],
             [
              0.5555555555555556,
              "#d8576b"
             ],
             [
              0.6666666666666666,
              "#ed7953"
             ],
             [
              0.7777777777777778,
              "#fb9f3a"
             ],
             [
              0.8888888888888888,
              "#fdca26"
             ],
             [
              1,
              "#f0f921"
             ]
            ],
            "type": "histogram2dcontour"
           }
          ],
          "mesh3d": [
           {
            "colorbar": {
             "outlinewidth": 0,
             "ticks": ""
            },
            "type": "mesh3d"
           }
          ],
          "parcoords": [
           {
            "line": {
             "colorbar": {
              "outlinewidth": 0,
              "ticks": ""
             }
            },
            "type": "parcoords"
           }
          ],
          "pie": [
           {
            "automargin": true,
            "type": "pie"
           }
          ],
          "scatter": [
           {
            "fillpattern": {
             "fillmode": "overlay",
             "size": 10,
             "solidity": 0.2
            },
            "type": "scatter"
           }
          ],
          "scatter3d": [
           {
            "line": {
             "colorbar": {
              "outlinewidth": 0,
              "ticks": ""
             }
            },
            "marker": {
             "colorbar": {
              "outlinewidth": 0,
              "ticks": ""
             }
            },
            "type": "scatter3d"
           }
          ],
          "scattercarpet": [
           {
            "marker": {
             "colorbar": {
              "outlinewidth": 0,
              "ticks": ""
             }
            },
            "type": "scattercarpet"
           }
          ],
          "scattergeo": [
           {
            "marker": {
             "colorbar": {
              "outlinewidth": 0,
              "ticks": ""
             }
            },
            "type": "scattergeo"
           }
          ],
          "scattergl": [
           {
            "marker": {
             "colorbar": {
              "outlinewidth": 0,
              "ticks": ""
             }
            },
            "type": "scattergl"
           }
          ],
          "scattermapbox": [
           {
            "marker": {
             "colorbar": {
              "outlinewidth": 0,
              "ticks": ""
             }
            },
            "type": "scattermapbox"
           }
          ],
          "scatterpolar": [
           {
            "marker": {
             "colorbar": {
              "outlinewidth": 0,
              "ticks": ""
             }
            },
            "type": "scatterpolar"
           }
          ],
          "scatterpolargl": [
           {
            "marker": {
             "colorbar": {
              "outlinewidth": 0,
              "ticks": ""
             }
            },
            "type": "scatterpolargl"
           }
          ],
          "scatterternary": [
           {
            "marker": {
             "colorbar": {
              "outlinewidth": 0,
              "ticks": ""
             }
            },
            "type": "scatterternary"
           }
          ],
          "surface": [
           {
            "colorbar": {
             "outlinewidth": 0,
             "ticks": ""
            },
            "colorscale": [
             [
              0,
              "#0d0887"
             ],
             [
              0.1111111111111111,
              "#46039f"
             ],
             [
              0.2222222222222222,
              "#7201a8"
             ],
             [
              0.3333333333333333,
              "#9c179e"
             ],
             [
              0.4444444444444444,
              "#bd3786"
             ],
             [
              0.5555555555555556,
              "#d8576b"
             ],
             [
              0.6666666666666666,
              "#ed7953"
             ],
             [
              0.7777777777777778,
              "#fb9f3a"
             ],
             [
              0.8888888888888888,
              "#fdca26"
             ],
             [
              1,
              "#f0f921"
             ]
            ],
            "type": "surface"
           }
          ],
          "table": [
           {
            "cells": {
             "fill": {
              "color": "#EBF0F8"
             },
             "line": {
              "color": "white"
             }
            },
            "header": {
             "fill": {
              "color": "#C8D4E3"
             },
             "line": {
              "color": "white"
             }
            },
            "type": "table"
           }
          ]
         },
         "layout": {
          "annotationdefaults": {
           "arrowcolor": "#2a3f5f",
           "arrowhead": 0,
           "arrowwidth": 1
          },
          "autotypenumbers": "strict",
          "coloraxis": {
           "colorbar": {
            "outlinewidth": 0,
            "ticks": ""
           }
          },
          "colorscale": {
           "diverging": [
            [
             0,
             "#8e0152"
            ],
            [
             0.1,
             "#c51b7d"
            ],
            [
             0.2,
             "#de77ae"
            ],
            [
             0.3,
             "#f1b6da"
            ],
            [
             0.4,
             "#fde0ef"
            ],
            [
             0.5,
             "#f7f7f7"
            ],
            [
             0.6,
             "#e6f5d0"
            ],
            [
             0.7,
             "#b8e186"
            ],
            [
             0.8,
             "#7fbc41"
            ],
            [
             0.9,
             "#4d9221"
            ],
            [
             1,
             "#276419"
            ]
           ],
           "sequential": [
            [
             0,
             "#0d0887"
            ],
            [
             0.1111111111111111,
             "#46039f"
            ],
            [
             0.2222222222222222,
             "#7201a8"
            ],
            [
             0.3333333333333333,
             "#9c179e"
            ],
            [
             0.4444444444444444,
             "#bd3786"
            ],
            [
             0.5555555555555556,
             "#d8576b"
            ],
            [
             0.6666666666666666,
             "#ed7953"
            ],
            [
             0.7777777777777778,
             "#fb9f3a"
            ],
            [
             0.8888888888888888,
             "#fdca26"
            ],
            [
             1,
             "#f0f921"
            ]
           ],
           "sequentialminus": [
            [
             0,
             "#0d0887"
            ],
            [
             0.1111111111111111,
             "#46039f"
            ],
            [
             0.2222222222222222,
             "#7201a8"
            ],
            [
             0.3333333333333333,
             "#9c179e"
            ],
            [
             0.4444444444444444,
             "#bd3786"
            ],
            [
             0.5555555555555556,
             "#d8576b"
            ],
            [
             0.6666666666666666,
             "#ed7953"
            ],
            [
             0.7777777777777778,
             "#fb9f3a"
            ],
            [
             0.8888888888888888,
             "#fdca26"
            ],
            [
             1,
             "#f0f921"
            ]
           ]
          },
          "colorway": [
           "#636efa",
           "#EF553B",
           "#00cc96",
           "#ab63fa",
           "#FFA15A",
           "#19d3f3",
           "#FF6692",
           "#B6E880",
           "#FF97FF",
           "#FECB52"
          ],
          "font": {
           "color": "#2a3f5f"
          },
          "geo": {
           "bgcolor": "white",
           "lakecolor": "white",
           "landcolor": "#E5ECF6",
           "showlakes": true,
           "showland": true,
           "subunitcolor": "white"
          },
          "hoverlabel": {
           "align": "left"
          },
          "hovermode": "closest",
          "mapbox": {
           "style": "light"
          },
          "paper_bgcolor": "white",
          "plot_bgcolor": "#E5ECF6",
          "polar": {
           "angularaxis": {
            "gridcolor": "white",
            "linecolor": "white",
            "ticks": ""
           },
           "bgcolor": "#E5ECF6",
           "radialaxis": {
            "gridcolor": "white",
            "linecolor": "white",
            "ticks": ""
           }
          },
          "scene": {
           "xaxis": {
            "backgroundcolor": "#E5ECF6",
            "gridcolor": "white",
            "gridwidth": 2,
            "linecolor": "white",
            "showbackground": true,
            "ticks": "",
            "zerolinecolor": "white"
           },
           "yaxis": {
            "backgroundcolor": "#E5ECF6",
            "gridcolor": "white",
            "gridwidth": 2,
            "linecolor": "white",
            "showbackground": true,
            "ticks": "",
            "zerolinecolor": "white"
           },
           "zaxis": {
            "backgroundcolor": "#E5ECF6",
            "gridcolor": "white",
            "gridwidth": 2,
            "linecolor": "white",
            "showbackground": true,
            "ticks": "",
            "zerolinecolor": "white"
           }
          },
          "shapedefaults": {
           "line": {
            "color": "#2a3f5f"
           }
          },
          "ternary": {
           "aaxis": {
            "gridcolor": "white",
            "linecolor": "white",
            "ticks": ""
           },
           "baxis": {
            "gridcolor": "white",
            "linecolor": "white",
            "ticks": ""
           },
           "bgcolor": "#E5ECF6",
           "caxis": {
            "gridcolor": "white",
            "linecolor": "white",
            "ticks": ""
           }
          },
          "title": {
           "x": 0.05
          },
          "xaxis": {
           "automargin": true,
           "gridcolor": "white",
           "linecolor": "white",
           "ticks": "",
           "title": {
            "standoff": 15
           },
           "zerolinecolor": "white",
           "zerolinewidth": 2
          },
          "yaxis": {
           "automargin": true,
           "gridcolor": "white",
           "linecolor": "white",
           "ticks": "",
           "title": {
            "standoff": 15
           },
           "zerolinecolor": "white",
           "zerolinewidth": 2
          }
         }
        },
        "title": {
         "text": "Test Accuracy (Mean ± Std across seeds) - pipnet_SEED_stage7_p0"
        },
        "xaxis": {
         "showgrid": true,
         "title": {
          "text": "Epoch"
         }
        },
        "yaxis": {
         "dtick": 0.1,
         "showgrid": true,
         "title": {
          "text": "Accuracy"
         }
        }
       }
      },
      "image/png": "[encoded data removed]",
      "text/html": [
       "<div>                            <div id=\"a5bacc52-6c6c-4e5b-8419-3c96dbf5a90c\" class=\"plotly-graph-div\" style=\"height:600px; width:100%;\"></div>            <script type=\"text/javascript\">                require([\"plotly\"], function(Plotly) {                    window.PLOTLYENV=window.PLOTLYENV || {};                                    if (document.getElementById(\"a5bacc52-6c6c-4e5b-8419-3c96dbf5a90c\")) {                    Plotly.newPlot(                        \"a5bacc52-6c6c-4e5b-8419-3c96dbf5a90c\",                        [{\"line\":{\"color\":\"royalblue\"},\"marker\":{\"size\":8},\"mode\":\"lines\",\"name\":\"Mean\",\"x\":[1.0,2.0,3.0,4.0,5.0,6.0,7.0,8.0,9.0,10.0,11.0,12.0,13.0,14.0,15.0,16.0,17.0,18.0,19.0,20.0,21.0,22.0,23.0,24.0,25.0,26.0,27.0,28.0,29.0,30.0,31.0,32.0,33.0,34.0,35.0,36.0,37.0,38.0,39.0,40.0,41.0,42.0,43.0,44.0,45.0,46.0,47.0,48.0,49.0,50.0],\"y\":[0.4335416666666666,0.47062499999999996,0.49812500000000004,0.5535416666666666,0.5964583333333333,0.5891666666666666,0.565625,0.5627083333333334,0.5045833333333334,0.5727083333333333,0.7689583333333333,0.9170833333333333,0.9706250000000001,0.9970833333333333,0.9722916666666667,0.9970833333333333,0.9985416666666668,0.99875,0.9989583333333332,0.9989583333333332,0.9985416666666665,0.999375,0.9885416666666667,0.99875,0.9979166666666666,0.9991666666666665,0.9989583333333332,0.9987499999999999,0.9933333333333334,0.9983333333333334,0.9993749999999999,0.9983333333333334,0.9995833333333334,0.9995833333333334,0.9995833333333334,0.9981249999999999,0.9991666666666668,0.999375,0.9991666666666668,0.9991666666666668,0.9993749999999999,0.9958333333333333,0.999375,0.9993749999999999,0.9993749999999999,0.9991666666666668,0.9991666666666668,0.9991666666666668,0.9991666666666668,0.9962499999999999],\"type\":\"scatter\"},{\"line\":{\"width\":0},\"mode\":\"lines\",\"name\":\"Upper Bound\",\"showlegend\":false,\"x\":[1.0,2.0,3.0,4.0,5.0,6.0,7.0,8.0,9.0,10.0,11.0,12.0,13.0,14.0,15.0,16.0,17.0,18.0,19.0,20.0,21.0,22.0,23.0,24.0,25.0,26.0,27.0,28.0,29.0,30.0,31.0,32.0,33.0,34.0,35.0,36.0,37.0,38.0,39.0,40.0,41.0,42.0,43.0,44.0,45.0,46.0,47.0,48.0,49.0,50.0],\"y\":[0.4649941357668819,0.49703284224325117,0.5167647219966155,0.588180803371652,0.6345725166805103,0.6646267715602828,0.641602427203377,0.6249316793673315,0.5612015341147272,0.6386607243585603,0.8558654267259008,0.960055081966075,0.9989843630433094,0.9982244219948023,1.0025412792674917,0.9993416128529874,0.9994733616572916,0.999621520860973,1.0002341092410327,0.9996949028970691,1.0002847083886126,1.000306694990625,1.0135850318336903,1.0001081671677505,1.0003595915415746,0.9996325141619791,0.9996949028970692,0.999891088661469,1.0070857005538036,0.9999130990508441,0.9999455443307346,1.0000763750552795,1.0005150283239583,1.000153877664068,1.000153877664068,0.9996700413514782,1.0000381875276396,1.000306694990625,1.0000381875276396,1.0000381875276396,0.9999455443307346,1.0034524681449624,1.000306694990625,0.9999455443307346,0.9999455443307346,1.0000381875276396,1.0000381875276396,1.0000381875276396,1.0000381875276396,1.0034893959807891],\"type\":\"scatter\"},{\"fill\":\"tonexty\",\"fillcolor\":\"rgba(65, 105, 225, 0.2)\",\"line\":{\"width\":0},\"mode\":\"lines\",\"name\":\"Lower Bound\",\"showlegend\":false,\"x\":[1.0,2.0,3.0,4.0,5.0,6.0,7.0,8.0,9.0,10.0,11.0,12.0,13.0,14.0,15.0,16.0,17.0,18.0,19.0,20.0,21.0,22.0,23.0,24.0,25.0,26.0,27.0,28.0,29.0,30.0,31.0,32.0,33.0,34.0,35.0,36.0,37.0,38.0,39.0,40.0,41.0,42.0,43.0,44.0,45.0,46.0,47.0,48.0,49.0,50.0],\"y\":[0.4020891975664513,0.44421715775674875,0.4794852780033846,0.5189025299616812,0.5583441499861563,0.5137065617730504,0.4896475727966231,0.5004849872993352,0.4479651325519396,0.5067559423081063,0.6820512399407658,0.8741115847005915,0.9422656369566907,0.9959422446718643,0.9420420540658415,0.9948250538136792,0.9976099716760419,0.997878479139027,0.9976825574256336,0.9982217637695973,0.9967986249447205,0.9984433050093751,0.9634983014996431,0.9973918328322495,0.9954737417917586,0.998700819171354,0.9982217637695971,0.9976089113385308,0.9795809661128632,0.9967535676158227,0.9988044556692652,0.9965902916113873,0.9986516383427085,0.9990127890025987,0.9990127890025987,0.9965799586485217,0.9982951458056938,0.9984433050093752,0.9982951458056938,0.9982951458056938,0.9988044556692652,0.9882141985217043,0.9984433050093751,0.9988044556692652,0.9988044556692652,0.9982951458056938,0.9982951458056938,0.9982951458056938,0.9982951458056938,0.9890106040192106],\"type\":\"scatter\"}],                        {\"template\":{\"data\":{\"histogram2dcontour\":[{\"type\":\"histogram2dcontour\",\"colorbar\":{\"outlinewidth\":0,\"ticks\":\"\"},\"colorscale\":[[0.0,\"#0d0887\"],[0.1111111111111111,\"#46039f\"],[0.2222222222222222,\"#7201a8\"],[0.3333333333333333,\"#9c179e\"],[0.4444444444444444,\"#bd3786\"],[0.5555555555555556,\"#d8576b\"],[0.6666666666666666,\"#ed7953\"],[0.7777777777777778,\"#fb9f3a\"],[0.8888888888888888,\"#fdca26\"],[1.0,\"#f0f921\"]]}],\"choropleth\":[{\"type\":\"choropleth\",\"colorbar\":{\"outlinewidth\":0,\"ticks\":\"\"}}],\"histogram2d\":[{\"type\":\"histogram2d\",\"colorbar\":{\"outlinewidth\":0,\"ticks\":\"\"},\"colorscale\":[[0.0,\"#0d0887\"],[0.1111111111111111,\"#46039f\"],[0.2222222222222222,\"#7201a8\"],[0.3333333333333333,\"#9c179e\"],[0.4444444444444444,\"#bd3786\"],[0.5555555555555556,\"#d8576b\"],[0.6666666666666666,\"#ed7953\"],[0.7777777777777778,\"#fb9f3a\"],[0.8888888888888888,\"#fdca26\"],[1.0,\"#f0f921\"]]}],\"heatmap\":[{\"type\":\"heatmap\",\"colorbar\":{\"outlinewidth\":0,\"ticks\":\"\"},\"colorscale\":[[0.0,\"#0d0887\"],[0.1111111111111111,\"#46039f\"],[0.2222222222222222,\"#7201a8\"],[0.3333333333333333,\"#9c179e\"],[0.4444444444444444,\"#bd3786\"],[0.5555555555555556,\"#d8576b\"],[0.6666666666666666,\"#ed7953\"],[0.7777777777777778,\"#fb9f3a\"],[0.8888888888888888,\"#fdca26\"],[1.0,\"#f0f921\"]]}],\"heatmapgl\":[{\"type\":\"heatmapgl\",\"colorbar\":{\"outlinewidth\":0,\"ticks\":\"\"},\"colorscale\":[[0.0,\"#0d0887\"],[0.1111111111111111,\"#46039f\"],[0.2222222222222222,\"#7201a8\"],[0.3333333333333333,\"#9c179e\"],[0.4444444444444444,\"#bd3786\"],[0.5555555555555556,\"#d8576b\"],[0.6666666666666666,\"#ed7953\"],[0.7777777777777778,\"#fb9f3a\"],[0.8888888888888888,\"#fdca26\"],[1.0,\"#f0f921\"]]}],\"contourcarpet\":[{\"type\":\"contourcarpet\",\"colorbar\":{\"outlinewidth\":0,\"ticks\":\"\"}}],\"contour\":[{\"type\":\"contour\",\"colorbar\":{\"outlinewidth\":0,\"ticks\":\"\"},\"colorscale\":[[0.0,\"#0d0887\"],[0.1111111111111111,\"#46039f\"],[0.2222222222222222,\"#7201a8\"],[0.3333333333333333,\"#9c179e\"],[0.4444444444444444,\"#bd3786\"],[0.5555555555555556,\"#d8576b\"],[0.6666666666666666,\"#ed7953\"],[0.7777777777777778,\"#fb9f3a\"],[0.8888888888888888,\"#fdca26\"],[1.0,\"#f0f921\"]]}],\"surface\":[{\"type\":\"surface\",\"colorbar\":{\"outlinewidth\":0,\"ticks\":\"\"},\"colorscale\":[[0.0,\"#0d0887\"],[0.1111111111111111,\"#46039f\"],[0.2222222222222222,\"#7201a8\"],[0.3333333333333333,\"#9c179e\"],[0.4444444444444444,\"#bd3786\"],[0.5555555555555556,\"#d8576b\"],[0.6666666666666666,\"#ed7953\"],[0.7777777777777778,\"#fb9f3a\"],[0.8888888888888888,\"#fdca26\"],[1.0,\"#f0f921\"]]}],\"mesh3d\":[{\"type\":\"mesh3d\",\"colorbar\":{\"outlinewidth\":0,\"ticks\":\"\"}}],\"scatter\":[{\"fillpattern\":{\"fillmode\":\"overlay\",\"size\":10,\"solidity\":0.2},\"type\":\"scatter\"}],\"parcoords\":[{\"type\":\"parcoords\",\"line\":{\"colorbar\":{\"outlinewidth\":0,\"ticks\":\"\"}}}],\"scatterpolargl\":[{\"type\":\"scatterpolargl\",\"marker\":{\"colorbar\":{\"outlinewidth\":0,\"ticks\":\"\"}}}],\"bar\":[{\"error_x\":{\"color\":\"#2a3f5f\"},\"error_y\":{\"color\":\"#2a3f5f\"},\"marker\":{\"line\":{\"color\":\"#E5ECF6\",\"width\":0.5},\"pattern\":{\"fillmode\":\"overlay\",\"size\":10,\"solidity\":0.2}},\"type\":\"bar\"}],\"scattergeo\":[{\"type\":\"scattergeo\",\"marker\":{\"colorbar\":{\"outlinewidth\":0,\"ticks\":\"\"}}}],\"scatterpolar\":[{\"type\":\"scatterpolar\",\"marker\":{\"colorbar\":{\"outlinewidth\":0,\"ticks\":\"\"}}}],\"histogram\":[{\"marker\":{\"pattern\":{\"fillmode\":\"overlay\",\"size\":10,\"solidity\":0.2}},\"type\":\"histogram\"}],\"scattergl\":[{\"type\":\"scattergl\",\"marker\":{\"colorbar\":{\"outlinewidth\":0,\"ticks\":\"\"}}}],\"scatter3d\":[{\"type\":\"scatter3d\",\"line\":{\"colorbar\":{\"outlinewidth\":0,\"ticks\":\"\"}},\"marker\":{\"colorbar\":{\"outlinewidth\":0,\"ticks\":\"\"}}}],\"scattermapbox\":[{\"type\":\"scattermapbox\",\"marker\":{\"colorbar\":{\"outlinewidth\":0,\"ticks\":\"\"}}}],\"scatterternary\":[{\"type\":\"scatterternary\",\"marker\":{\"colorbar\":{\"outlinewidth\":0,\"ticks\":\"\"}}}],\"scattercarpet\":[{\"type\":\"scattercarpet\",\"marker\":{\"colorbar\":{\"outlinewidth\":0,\"ticks\":\"\"}}}],\"carpet\":[{\"aaxis\":{\"endlinecolor\":\"#2a3f5f\",\"gridcolor\":\"white\",\"linecolor\":\"white\",\"minorgridcolor\":\"white\",\"startlinecolor\":\"#2a3f5f\"},\"baxis\":{\"endlinecolor\":\"#2a3f5f\",\"gridcolor\":\"white\",\"linecolor\":\"white\",\"minorgridcolor\":\"white\",\"startlinecolor\":\"#2a3f5f\"},\"type\":\"carpet\"}],\"table\":[{\"cells\":{\"fill\":{\"color\":\"#EBF0F8\"},\"line\":{\"color\":\"white\"}},\"header\":{\"fill\":{\"color\":\"#C8D4E3\"},\"line\":{\"color\":\"white\"}},\"type\":\"table\"}],\"barpolar\":[{\"marker\":{\"line\":{\"color\":\"#E5ECF6\",\"width\":0.5},\"pattern\":{\"fillmode\":\"overlay\",\"size\":10,\"solidity\":0.2}},\"type\":\"barpolar\"}],\"pie\":[{\"automargin\":true,\"type\":\"pie\"}]},\"layout\":{\"autotypenumbers\":\"strict\",\"colorway\":[\"#636efa\",\"#EF553B\",\"#00cc96\",\"#ab63fa\",\"#FFA15A\",\"#19d3f3\",\"#FF6692\",\"#B6E880\",\"#FF97FF\",\"#FECB52\"],\"font\":{\"color\":\"#2a3f5f\"},\"hovermode\":\"closest\",\"hoverlabel\":{\"align\":\"left\"},\"paper_bgcolor\":\"white\",\"plot_bgcolor\":\"#E5ECF6\",\"polar\":{\"bgcolor\":\"#E5ECF6\",\"angularaxis\":{\"gridcolor\":\"white\",\"linecolor\":\"white\",\"ticks\":\"\"},\"radialaxis\":{\"gridcolor\":\"white\",\"linecolor\":\"white\",\"ticks\":\"\"}},\"ternary\":{\"bgcolor\":\"#E5ECF6\",\"aaxis\":{\"gridcolor\":\"white\",\"linecolor\":\"white\",\"ticks\":\"\"},\"baxis\":{\"gridcolor\":\"white\",\"linecolor\":\"white\",\"ticks\":\"\"},\"caxis\":{\"gridcolor\":\"white\",\"linecolor\":\"white\",\"ticks\":\"\"}},\"coloraxis\":{\"colorbar\":{\"outlinewidth\":0,\"ticks\":\"\"}},\"colorscale\":{\"sequential\":[[0.0,\"#0d0887\"],[0.1111111111111111,\"#46039f\"],[0.2222222222222222,\"#7201a8\"],[0.3333333333333333,\"#9c179e\"],[0.4444444444444444,\"#bd3786\"],[0.5555555555555556,\"#d8576b\"],[0.6666666666666666,\"#ed7953\"],[0.7777777777777778,\"#fb9f3a\"],[0.8888888888888888,\"#fdca26\"],[1.0,\"#f0f921\"]],\"sequentialminus\":[[0.0,\"#0d0887\"],[0.1111111111111111,\"#46039f\"],[0.2222222222222222,\"#7201a8\"],[0.3333333333333333,\"#9c179e\"],[0.4444444444444444,\"#bd3786\"],[0.5555555555555556,\"#d8576b\"],[0.6666666666666666,\"#ed7953\"],[0.7777777777777778,\"#fb9f3a\"],[0.8888888888888888,\"#fdca26\"],[1.0,\"#f0f921\"]],\"diverging\":[[0,\"#8e0152\"],[0.1,\"#c51b7d\"],[0.2,\"#de77ae\"],[0.3,\"#f1b6da\"],[0.4,\"#fde0ef\"],[0.5,\"#f7f7f7\"],[0.6,\"#e6f5d0\"],[0.7,\"#b8e186\"],[0.8,\"#7fbc41\"],[0.9,\"#4d9221\"],[1,\"#276419\"]]},\"xaxis\":{\"gridcolor\":\"white\",\"linecolor\":\"white\",\"ticks\":\"\",\"title\":{\"standoff\":15},\"zerolinecolor\":\"white\",\"automargin\":true,\"zerolinewidth\":2},\"yaxis\":{\"gridcolor\":\"white\",\"linecolor\":\"white\",\"ticks\":\"\",\"title\":{\"standoff\":15},\"zerolinecolor\":\"white\",\"automargin\":true,\"zerolinewidth\":2},\"scene\":{\"xaxis\":{\"backgroundcolor\":\"#E5ECF6\",\"gridcolor\":\"white\",\"linecolor\":\"white\",\"showbackground\":true,\"ticks\":\"\",\"zerolinecolor\":\"white\",\"gridwidth\":2},\"yaxis\":{\"backgroundcolor\":\"#E5ECF6\",\"gridcolor\":\"white\",\"linecolor\":\"white\",\"showbackground\":true,\"ticks\":\"\",\"zerolinecolor\":\"white\",\"gridwidth\":2},\"zaxis\":{\"backgroundcolor\":\"#E5ECF6\",\"gridcolor\":\"white\",\"linecolor\":\"white\",\"showbackground\":true,\"ticks\":\"\",\"zerolinecolor\":\"white\",\"gridwidth\":2}},\"shapedefaults\":{\"line\":{\"color\":\"#2a3f5f\"}},\"annotationdefaults\":{\"arrowcolor\":\"#2a3f5f\",\"arrowhead\":0,\"arrowwidth\":1},\"geo\":{\"bgcolor\":\"white\",\"landcolor\":\"#E5ECF6\",\"subunitcolor\":\"white\",\"showland\":true,\"showlakes\":true,\"lakecolor\":\"white\"},\"title\":{\"x\":0.05},\"mapbox\":{\"style\":\"light\"}}},\"legend\":{\"orientation\":\"h\",\"yanchor\":\"bottom\",\"y\":1.02,\"xanchor\":\"right\",\"x\":1},\"xaxis\":{\"title\":{\"text\":\"Epoch\"},\"showgrid\":true},\"yaxis\":{\"title\":{\"text\":\"Accuracy\"},\"showgrid\":true,\"dtick\":0.1},\"title\":{\"text\":\"Test Accuracy (Mean ± Std across seeds) - pipnet_SEED_stage7_p0\"},\"hovermode\":\"x unified\",\"height\":600},                        {\"responsive\": true}                    ).then(function(){\n",
       "                            \n",
       "var gd = document.getElementById('a5bacc52-6c6c-4e5b-8419-3c96dbf5a90c');\n",
       "var x = new MutationObserver(function (mutations, observer) {{\n",
       "        var display = window.getComputedStyle(gd).display;\n",
       "        if (!display || display === 'none') {{\n",
       "            console.log([gd, 'removed!']);\n",
       "            Plotly.purge(gd);\n",
       "            observer.disconnect();\n",
       "        }}\n",
       "}});\n",
       "\n",
       "// Listen for the removal of the full notebook cells\n",
       "var notebookContainer = gd.closest('#notebook-container');\n",
       "if (notebookContainer) {{\n",
       "    x.observe(notebookContainer, {childList: true});\n",
       "}}\n",
       "\n",
       "// Listen for the clearing of the current output cell\n",
       "var outputEl = gd.closest('.output');\n",
       "if (outputEl) {{\n",
       "    x.observe(outputEl, {childList: true});\n",
       "}}\n",
       "\n",
       "                        })                };                });            </script>        </div>"
      ]
     },
     "metadata": {},
     "output_type": "display_data"
    },
    {
     "data": {
      "application/vnd.plotly.v1+json": {
       "config": {
        "plotlyServerURL": "https://plot.ly"
       },
       "data": [
        {
         "line": {
          "color": "royalblue"
         },
         "marker": {
          "size": 8
         },
         "mode": "lines",
         "name": "Local Size for Predicted Class",
         "type": "scatter",
         "x": [
          1,
          2,
          3,
          4,
          5,
          6,
          7,
          8,
          9,
          10,
          11,
          12,
          13,
          14,
          15,
          16,
          17,
          18,
          19,
          20,
          21,
          22,
          23,
          24,
          25,
          26,
          27,
          28,
          29,
          30,
          31,
          32,
          33,
          34,
          35,
          36,
          37,
          38,
          39,
          40,
          41,
          42,
          43,
          44,
          45,
          46,
          47,
          48,
          49,
          50
         ],
         "y": [
          50.60604166666667,
          58.8375,
          63.27458333333334,
          63.346041666666665,
          56.72958333333334,
          53.93145833333333,
          52.383541666666666,
          49.526875,
          52.22625000000001,
          52.801874999999995,
          62.25666666666666,
          58.817083333333336,
          56.110416666666666,
          54.766875000000006,
          50.903958333333335,
          49.09916666666667,
          47.43125,
          45.36479166666666,
          46.29,
          43.78958333333334,
          43.536458333333336,
          41.29416666666667,
          39.315625,
          39.463541666666664,
          38.42833333333333,
          37.34291666666667,
          36.884375,
          36.091249999999995,
          34.210208333333334,
          33.532291666666666,
          32.89083333333333,
          32.85041666666667,
          32.88979166666667,
          32.192083333333336,
          31.926041666666663,
          31.3325,
          30.6975,
          30.1575,
          29.54270833333333,
          28.732916666666664,
          28.840416666666663,
          28.539166666666667,
          28.407291666666662,
          28.20625,
          27.886041666666664,
          27.314166666666665,
          27.096875,
          26.58833333333333,
          26.302916666666665,
          25.363541666666666
         ]
        },
        {
         "line": {
          "width": 0
         },
         "mode": "lines",
         "name": "Local Size for Predicted Class (Upper)",
         "showlegend": false,
         "type": "scatter",
         "x": [
          1,
          2,
          3,
          4,
          5,
          6,
          7,
          8,
          9,
          10,
          11,
          12,
          13,
          14,
          15,
          16,
          17,
          18,
          19,
          20,
          21,
          22,
          23,
          24,
          25,
          26,
          27,
          28,
          29,
          30,
          31,
          32,
          33,
          34,
          35,
          36,
          37,
          38,
          39,
          40,
          41,
          42,
          43,
          44,
          45,
          46,
          47,
          48,
          49,
          50
         ],
         "y": [
          52.5367473556481,
          64.99677766778612,
          68.15735700540118,
          70.28062561493567,
          62.05089315481017,
          57.54219103252335,
          58.08712438231749,
          53.889045760717615,
          53.208192375596994,
          57.22266295040325,
          71.35169081733362,
          67.5373935033792,
          59.96263992388288,
          58.708675960648335,
          54.0015152118186,
          51.78405743816206,
          50.09758369910168,
          48.263035792066844,
          48.96236173685453,
          45.160438631726265,
          44.41655602115223,
          41.964345646828974,
          41.441075192304034,
          40.44600094672827,
          39.38123016394599,
          38.65056485842268,
          37.958217389877866,
          37.317478745285264,
          34.69487972562603,
          34.39101901100229,
          33.9414956368551,
          33.655188473199594,
          34.006583044575194,
          33.6844693548862,
          32.83394156564369,
          32.729924932142055,
          31.83802977151946,
          30.862902715086488,
          30.68448643198582,
          29.236463440361632,
          29.761032685518533,
          29.448181426833624,
          29.183546880573825,
          29.026796097691957,
          28.845479888434426,
          28.364885046911027,
          28.040204675530305,
          27.31056876824185,
          27.195974503733908,
          26.01673104082009
         ]
        },
        {
         "fill": "tonexty",
         "fillcolor": "rgba(65, 105, 225, 0.2)",
         "line": {
          "width": 0
         },
         "mode": "lines",
         "name": "Local Size for Predicted Class (Lower)",
         "showlegend": false,
         "type": "scatter",
         "x": [
          1,
          2,
          3,
          4,
          5,
          6,
          7,
          8,
          9,
          10,
          11,
          12,
          13,
          14,
          15,
          16,
          17,
          18,
          19,
          20,
          21,
          22,
          23,
          24,
          25,
          26,
          27,
          28,
          29,
          30,
          31,
          32,
          33,
          34,
          35,
          36,
          37,
          38,
          39,
          40,
          41,
          42,
          43,
          44,
          45,
          46,
          47,
          48,
          49,
          50
         ],
         "y": [
          48.675335977685236,
          52.67822233221387,
          58.3918096612655,
          56.411457718397656,
          51.40827351185651,
          50.320725634143315,
          46.67995895101584,
          45.16470423928238,
          51.24430762440302,
          48.381087049596744,
          53.1616425159997,
          50.096773163287466,
          52.25819340945045,
          50.825074039351676,
          47.80640145484807,
          46.41427589517128,
          44.764916300898314,
          42.46654754126648,
          43.617638263145466,
          42.418728034940415,
          42.65636064551444,
          40.623987686504364,
          37.19017480769596,
          38.48108238660506,
          37.47543650272066,
          36.03526847491065,
          35.81053261012213,
          34.865021254714726,
          33.72553694104064,
          32.67356432233104,
          31.840171029811565,
          32.04564486013374,
          31.773000288758137,
          30.699697311780472,
          31.01814176768963,
          29.935075067857948,
          29.556970228480544,
          29.45209728491351,
          28.40093023468084,
          28.229369892971697,
          27.919800647814792,
          27.63015190649971,
          27.6310364527595,
          27.385703902308045,
          26.926603444898902,
          26.263448286422303,
          26.153545324469697,
          25.86609789842481,
          25.409858829599422,
          24.710352292513242
         ]
        },
        {
         "line": {
          "color": "green"
         },
         "marker": {
          "size": 8
         },
         "mode": "lines",
         "name": "Local Size for All Classes",
         "type": "scatter",
         "x": [
          1,
          2,
          3,
          4,
          5,
          6,
          7,
          8,
          9,
          10,
          11,
          12,
          13,
          14,
          15,
          16,
          17,
          18,
          19,
          20,
          21,
          22,
          23,
          24,
          25,
          26,
          27,
          28,
          29,
          30,
          31,
          32,
          33,
          34,
          35,
          36,
          37,
          38,
          39,
          40,
          41,
          42,
          43,
          44,
          45,
          46,
          47,
          48,
          49,
          50
         ],
         "y": [
          50.60604166666667,
          58.8375,
          63.438541666666666,
          65.324375,
          59.94145833333333,
          57.020208333333336,
          55.78479166666666,
          53.852291666666666,
          56.92166666666667,
          59.230416666666656,
          71.26708333333333,
          65.76104166666667,
          65.075625,
          64.93333333333334,
          64.35062500000001,
          60.130624999999995,
          58.51937499999999,
          55.97479166666667,
          57.03895833333333,
          53.869791666666664,
          53.466458333333335,
          49.343125,
          48.072500000000005,
          46.619166666666665,
          45.01916666666666,
          43.03937499999999,
          42.235,
          40.963541666666664,
          38.30416666666666,
          36.80458333333333,
          35.78104166666667,
          36.00479166666666,
          35.654375,
          35.021875,
          34.4075,
          33.97958333333334,
          33.06604166666666,
          32.36291666666666,
          31.290208333333332,
          30.314375000000002,
          30.401666666666664,
          30.328541666666666,
          29.858125,
          29.708333333333332,
          29.26770833333333,
          28.512291666666663,
          28.251875000000002,
          27.560208333333332,
          27.1875,
          26.197291666666665
         ]
        },
        {
         "line": {
          "width": 0
         },
         "mode": "lines",
         "name": "Local Size for All Classes (Upper)",
         "showlegend": false,
         "type": "scatter",
         "x": [
          1,
          2,
          3,
          4,
          5,
          6,
          7,
          8,
          9,
          10,
          11,
          12,
          13,
          14,
          15,
          16,
          17,
          18,
          19,
          20,
          21,
          22,
          23,
          24,
          25,
          26,
          27,
          28,
          29,
          30,
          31,
          32,
          33,
          34,
          35,
          36,
          37,
          38,
          39,
          40,
          41,
          42,
          43,
          44,
          45,
          46,
          47,
          48,
          49,
          50
         ],
         "y": [
          52.5367473556481,
          64.99677766778612,
          68.38966190150859,
          71.70779224576319,
          66.19765016206722,
          60.2119668414495,
          61.62595919244745,
          58.60080605422925,
          58.126712346774205,
          64.82461257727657,
          81.14109846969981,
          76.16776563506039,
          70.55014713239888,
          69.64878817066523,
          67.0160145664234,
          63.76779980767658,
          61.978989204943744,
          59.63564861407799,
          61.18428811588096,
          55.787038097323936,
          55.85080891843478,
          50.139314656269164,
          51.74545600222367,
          48.14322140273807,
          46.5275885894219,
          45.35552164146226,
          43.78312127124658,
          41.487001191493505,
          39.17851010833764,
          38.14988173869891,
          36.66311421177075,
          37.110377576486904,
          37.25147003947141,
          36.38105182942501,
          35.41031867294073,
          35.69877749942661,
          34.37624418626473,
          32.96388277615783,
          32.32581901057956,
          30.90599462474376,
          31.3364023481675,
          31.149660020841324,
          30.584185870740765,
          30.49525303795877,
          30.141799503214305,
          29.58359187495784,
          29.180735480661507,
          28.394421865878773,
          28.176006815771338,
          26.91245656303187
         ]
        },
        {
         "fill": "tonexty",
         "fillcolor": "rgba(0, 128, 0, 0.2)",
         "line": {
          "width": 0
         },
         "mode": "lines",
         "name": "Local Size for All Classes (Lower)",
         "showlegend": false,
         "type": "scatter",
         "x": [
          1,
          2,
          3,
          4,
          5,
          6,
          7,
          8,
          9,
          10,
          11,
          12,
          13,
          14,
          15,
          16,
          17,
          18,
          19,
          20,
          21,
          22,
          23,
          24,
          25,
          26,
          27,
          28,
          29,
          30,
          31,
          32,
          33,
          34,
          35,
          36,
          37,
          38,
          39,
          40,
          41,
          42,
          43,
          44,
          45,
          46,
          47,
          48,
          49,
          50
         ],
         "y": [
          48.675335977685236,
          52.67822233221387,
          58.48742143182475,
          58.94095775423681,
          53.68526650459944,
          53.82844982521717,
          49.94362414088587,
          49.10377727910408,
          55.71662098655913,
          53.63622075605674,
          61.393068196966844,
          55.35431769827295,
          59.601102867601135,
          60.21787849600145,
          61.68523543357663,
          56.49345019232341,
          55.059760795056235,
          52.31393471925535,
          52.89362855078571,
          51.95254523600939,
          51.08210774823189,
          48.54693534373084,
          44.39954399777634,
          45.09511193059526,
          43.510744743911424,
          40.723228358537725,
          40.68687872875342,
          40.440082141839824,
          37.42982322499568,
          35.45928492796776,
          34.89896912156259,
          34.89920575684642,
          34.0572799605286,
          33.66269817057499,
          33.404681327059265,
          32.260389167240064,
          31.7558391470686,
          31.7619505571755,
          30.254597656087107,
          29.722755375256245,
          29.466930985165828,
          29.50742331249201,
          29.132064129259238,
          28.921413628707896,
          28.393617163452358,
          27.440991458375485,
          27.323014519338496,
          26.72599480078789,
          26.198993184228662,
          25.48212677030146
         ]
        }
       ],
       "layout": {
        "height": 600,
        "hovermode": "x unified",
        "legend": {
         "orientation": "h",
         "x": 1,
         "xanchor": "right",
         "y": 1.02,
         "yanchor": "bottom"
        },
        "template": {
         "data": {
          "bar": [
           {
            "error_x": {
             "color": "#2a3f5f"
            },
            "error_y": {
             "color": "#2a3f5f"
            },
            "marker": {
             "line": {
              "color": "#E5ECF6",
              "width": 0.5
             },
             "pattern": {
              "fillmode": "overlay",
              "size": 10,
              "solidity": 0.2
             }
            },
            "type": "bar"
           }
          ],
          "barpolar": [
           {
            "marker": {
             "line": {
              "color": "#E5ECF6",
              "width": 0.5
             },
             "pattern": {
              "fillmode": "overlay",
              "size": 10,
              "solidity": 0.2
             }
            },
            "type": "barpolar"
           }
          ],
          "carpet": [
           {
            "aaxis": {
             "endlinecolor": "#2a3f5f",
             "gridcolor": "white",
             "linecolor": "white",
             "minorgridcolor": "white",
             "startlinecolor": "#2a3f5f"
            },
            "baxis": {
             "endlinecolor": "#2a3f5f",
             "gridcolor": "white",
             "linecolor": "white",
             "minorgridcolor": "white",
             "startlinecolor": "#2a3f5f"
            },
            "type": "carpet"
           }
          ],
          "choropleth": [
           {
            "colorbar": {
             "outlinewidth": 0,
             "ticks": ""
            },
            "type": "choropleth"
           }
          ],
          "contour": [
           {
            "colorbar": {
             "outlinewidth": 0,
             "ticks": ""
            },
            "colorscale": [
             [
              0,
              "#0d0887"
             ],
             [
              0.1111111111111111,
              "#46039f"
             ],
             [
              0.2222222222222222,
              "#7201a8"
             ],
             [
              0.3333333333333333,
              "#9c179e"
             ],
             [
              0.4444444444444444,
              "#bd3786"
             ],
             [
              0.5555555555555556,
              "#d8576b"
             ],
             [
              0.6666666666666666,
              "#ed7953"
             ],
             [
              0.7777777777777778,
              "#fb9f3a"
             ],
             [
              0.8888888888888888,
              "#fdca26"
             ],
             [
              1,
              "#f0f921"
             ]
            ],
            "type": "contour"
           }
          ],
          "contourcarpet": [
           {
            "colorbar": {
             "outlinewidth": 0,
             "ticks": ""
            },
            "type": "contourcarpet"
           }
          ],
          "heatmap": [
           {
            "colorbar": {
             "outlinewidth": 0,
             "ticks": ""
            },
            "colorscale": [
             [
              0,
              "#0d0887"
             ],
             [
              0.1111111111111111,
              "#46039f"
             ],
             [
              0.2222222222222222,
              "#7201a8"
             ],
             [
              0.3333333333333333,
              "#9c179e"
             ],
             [
              0.4444444444444444,
              "#bd3786"
             ],
             [
              0.5555555555555556,
              "#d8576b"
             ],
             [
              0.6666666666666666,
              "#ed7953"
             ],
             [
              0.7777777777777778,
              "#fb9f3a"
             ],
             [
              0.8888888888888888,
              "#fdca26"
             ],
             [
              1,
              "#f0f921"
             ]
            ],
            "type": "heatmap"
           }
          ],
          "heatmapgl": [
           {
            "colorbar": {
             "outlinewidth": 0,
             "ticks": ""
            },
            "colorscale": [
             [
              0,
              "#0d0887"
             ],
             [
              0.1111111111111111,
              "#46039f"
             ],
             [
              0.2222222222222222,
              "#7201a8"
             ],
             [
              0.3333333333333333,
              "#9c179e"
             ],
             [
              0.4444444444444444,
              "#bd3786"
             ],
             [
              0.5555555555555556,
              "#d8576b"
             ],
             [
              0.6666666666666666,
              "#ed7953"
             ],
             [
              0.7777777777777778,
              "#fb9f3a"
             ],
             [
              0.8888888888888888,
              "#fdca26"
             ],
             [
              1,
              "#f0f921"
             ]
            ],
            "type": "heatmapgl"
           }
          ],
          "histogram": [
           {
            "marker": {
             "pattern": {
              "fillmode": "overlay",
              "size": 10,
              "solidity": 0.2
             }
            },
            "type": "histogram"
           }
          ],
          "histogram2d": [
           {
            "colorbar": {
             "outlinewidth": 0,
             "ticks": ""
            },
            "colorscale": [
             [
              0,
              "#0d0887"
             ],
             [
              0.1111111111111111,
              "#46039f"
             ],
             [
              0.2222222222222222,
              "#7201a8"
             ],
             [
              0.3333333333333333,
              "#9c179e"
             ],
             [
              0.4444444444444444,
              "#bd3786"
             ],
             [
              0.5555555555555556,
              "#d8576b"
             ],
             [
              0.6666666666666666,
              "#ed7953"
             ],
             [
              0.7777777777777778,
              "#fb9f3a"
             ],
             [
              0.8888888888888888,
              "#fdca26"
             ],
             [
              1,
              "#f0f921"
             ]
            ],
            "type": "histogram2d"
           }
          ],
          "histogram2dcontour": [
           {
            "colorbar": {
             "outlinewidth": 0,
             "ticks": ""
            },
            "colorscale": [
             [
              0,
              "#0d0887"
             ],
             [
              0.1111111111111111,
              "#46039f"
             ],
             [
              0.2222222222222222,
              "#7201a8"
             ],
             [
              0.3333333333333333,
              "#9c179e"
             ],
             [
              0.4444444444444444,
              "#bd3786"
             ],
             [
              0.5555555555555556,
              "#d8576b"
             ],
             [
              0.6666666666666666,
              "#ed7953"
             ],
             [
              0.7777777777777778,
              "#fb9f3a"
             ],
             [
              0.8888888888888888,
              "#fdca26"
             ],
             [
              1,
              "#f0f921"
             ]
            ],
            "type": "histogram2dcontour"
           }
          ],
          "mesh3d": [
           {
            "colorbar": {
             "outlinewidth": 0,
             "ticks": ""
            },
            "type": "mesh3d"
           }
          ],
          "parcoords": [
           {
            "line": {
             "colorbar": {
              "outlinewidth": 0,
              "ticks": ""
             }
            },
            "type": "parcoords"
           }
          ],
          "pie": [
           {
            "automargin": true,
            "type": "pie"
           }
          ],
          "scatter": [
           {
            "fillpattern": {
             "fillmode": "overlay",
             "size": 10,
             "solidity": 0.2
            },
            "type": "scatter"
           }
          ],
          "scatter3d": [
           {
            "line": {
             "colorbar": {
              "outlinewidth": 0,
              "ticks": ""
             }
            },
            "marker": {
             "colorbar": {
              "outlinewidth": 0,
              "ticks": ""
             }
            },
            "type": "scatter3d"
           }
          ],
          "scattercarpet": [
           {
            "marker": {
             "colorbar": {
              "outlinewidth": 0,
              "ticks": ""
             }
            },
            "type": "scattercarpet"
           }
          ],
          "scattergeo": [
           {
            "marker": {
             "colorbar": {
              "outlinewidth": 0,
              "ticks": ""
             }
            },
            "type": "scattergeo"
           }
          ],
          "scattergl": [
           {
            "marker": {
             "colorbar": {
              "outlinewidth": 0,
              "ticks": ""
             }
            },
            "type": "scattergl"
           }
          ],
          "scattermapbox": [
           {
            "marker": {
             "colorbar": {
              "outlinewidth": 0,
              "ticks": ""
             }
            },
            "type": "scattermapbox"
           }
          ],
          "scatterpolar": [
           {
            "marker": {
             "colorbar": {
              "outlinewidth": 0,
              "ticks": ""
             }
            },
            "type": "scatterpolar"
           }
          ],
          "scatterpolargl": [
           {
            "marker": {
             "colorbar": {
              "outlinewidth": 0,
              "ticks": ""
             }
            },
            "type": "scatterpolargl"
           }
          ],
          "scatterternary": [
           {
            "marker": {
             "colorbar": {
              "outlinewidth": 0,
              "ticks": ""
             }
            },
            "type": "scatterternary"
           }
          ],
          "surface": [
           {
            "colorbar": {
             "outlinewidth": 0,
             "ticks": ""
            },
            "colorscale": [
             [
              0,
              "#0d0887"
             ],
             [
              0.1111111111111111,
              "#46039f"
             ],
             [
              0.2222222222222222,
              "#7201a8"
             ],
             [
              0.3333333333333333,
              "#9c179e"
             ],
             [
              0.4444444444444444,
              "#bd3786"
             ],
             [
              0.5555555555555556,
              "#d8576b"
             ],
             [
              0.6666666666666666,
              "#ed7953"
             ],
             [
              0.7777777777777778,
              "#fb9f3a"
             ],
             [
              0.8888888888888888,
              "#fdca26"
             ],
             [
              1,
              "#f0f921"
             ]
            ],
            "type": "surface"
           }
          ],
          "table": [
           {
            "cells": {
             "fill": {
              "color": "#EBF0F8"
             },
             "line": {
              "color": "white"
             }
            },
            "header": {
             "fill": {
              "color": "#C8D4E3"
             },
             "line": {
              "color": "white"
             }
            },
            "type": "table"
           }
          ]
         },
         "layout": {
          "annotationdefaults": {
           "arrowcolor": "#2a3f5f",
           "arrowhead": 0,
           "arrowwidth": 1
          },
          "autotypenumbers": "strict",
          "coloraxis": {
           "colorbar": {
            "outlinewidth": 0,
            "ticks": ""
           }
          },
          "colorscale": {
           "diverging": [
            [
             0,
             "#8e0152"
            ],
            [
             0.1,
             "#c51b7d"
            ],
            [
             0.2,
             "#de77ae"
            ],
            [
             0.3,
             "#f1b6da"
            ],
            [
             0.4,
             "#fde0ef"
            ],
            [
             0.5,
             "#f7f7f7"
            ],
            [
             0.6,
             "#e6f5d0"
            ],
            [
             0.7,
             "#b8e186"
            ],
            [
             0.8,
             "#7fbc41"
            ],
            [
             0.9,
             "#4d9221"
            ],
            [
             1,
             "#276419"
            ]
           ],
           "sequential": [
            [
             0,
             "#0d0887"
            ],
            [
             0.1111111111111111,
             "#46039f"
            ],
            [
             0.2222222222222222,
             "#7201a8"
            ],
            [
             0.3333333333333333,
             "#9c179e"
            ],
            [
             0.4444444444444444,
             "#bd3786"
            ],
            [
             0.5555555555555556,
             "#d8576b"
            ],
            [
             0.6666666666666666,
             "#ed7953"
            ],
            [
             0.7777777777777778,
             "#fb9f3a"
            ],
            [
             0.8888888888888888,
             "#fdca26"
            ],
            [
             1,
             "#f0f921"
            ]
           ],
           "sequentialminus": [
            [
             0,
             "#0d0887"
            ],
            [
             0.1111111111111111,
             "#46039f"
            ],
            [
             0.2222222222222222,
             "#7201a8"
            ],
            [
             0.3333333333333333,
             "#9c179e"
            ],
            [
             0.4444444444444444,
             "#bd3786"
            ],
            [
             0.5555555555555556,
             "#d8576b"
            ],
            [
             0.6666666666666666,
             "#ed7953"
            ],
            [
             0.7777777777777778,
             "#fb9f3a"
            ],
            [
             0.8888888888888888,
             "#fdca26"
            ],
            [
             1,
             "#f0f921"
            ]
           ]
          },
          "colorway": [
           "#636efa",
           "#EF553B",
           "#00cc96",
           "#ab63fa",
           "#FFA15A",
           "#19d3f3",
           "#FF6692",
           "#B6E880",
           "#FF97FF",
           "#FECB52"
          ],
          "font": {
           "color": "#2a3f5f"
          },
          "geo": {
           "bgcolor": "white",
           "lakecolor": "white",
           "landcolor": "#E5ECF6",
           "showlakes": true,
           "showland": true,
           "subunitcolor": "white"
          },
          "hoverlabel": {
           "align": "left"
          },
          "hovermode": "closest",
          "mapbox": {
           "style": "light"
          },
          "paper_bgcolor": "white",
          "plot_bgcolor": "#E5ECF6",
          "polar": {
           "angularaxis": {
            "gridcolor": "white",
            "linecolor": "white",
            "ticks": ""
           },
           "bgcolor": "#E5ECF6",
           "radialaxis": {
            "gridcolor": "white",
            "linecolor": "white",
            "ticks": ""
           }
          },
          "scene": {
           "xaxis": {
            "backgroundcolor": "#E5ECF6",
            "gridcolor": "white",
            "gridwidth": 2,
            "linecolor": "white",
            "showbackground": true,
            "ticks": "",
            "zerolinecolor": "white"
           },
           "yaxis": {
            "backgroundcolor": "#E5ECF6",
            "gridcolor": "white",
            "gridwidth": 2,
            "linecolor": "white",
            "showbackground": true,
            "ticks": "",
            "zerolinecolor": "white"
           },
           "zaxis": {
            "backgroundcolor": "#E5ECF6",
            "gridcolor": "white",
            "gridwidth": 2,
            "linecolor": "white",
            "showbackground": true,
            "ticks": "",
            "zerolinecolor": "white"
           }
          },
          "shapedefaults": {
           "line": {
            "color": "#2a3f5f"
           }
          },
          "ternary": {
           "aaxis": {
            "gridcolor": "white",
            "linecolor": "white",
            "ticks": ""
           },
           "baxis": {
            "gridcolor": "white",
            "linecolor": "white",
            "ticks": ""
           },
           "bgcolor": "#E5ECF6",
           "caxis": {
            "gridcolor": "white",
            "linecolor": "white",
            "ticks": ""
           }
          },
          "title": {
           "x": 0.05
          },
          "xaxis": {
           "automargin": true,
           "gridcolor": "white",
           "linecolor": "white",
           "ticks": "",
           "title": {
            "standoff": 15
           },
           "zerolinecolor": "white",
           "zerolinewidth": 2
          },
          "yaxis": {
           "automargin": true,
           "gridcolor": "white",
           "linecolor": "white",
           "ticks": "",
           "title": {
            "standoff": 15
           },
           "zerolinecolor": "white",
           "zerolinewidth": 2
          }
         }
        },
        "title": {
         "text": "Local Size for Predicted Class & Local Size for All Classes (Mean ± Std across seeds) - pipnet_SEED_stage7_p0"
        },
        "xaxis": {
         "showgrid": true,
         "title": {
          "text": "Epoch"
         }
        },
        "yaxis": {
         "dtick": 3,
         "showgrid": true,
         "title": {
          "text": "Count"
         }
        }
       }
      },
      "image/png": "[encoded data removed]",
      "text/html": [
       "<div>                            <div id=\"96661e20-a546-412c-a77b-0e4423436806\" class=\"plotly-graph-div\" style=\"height:600px; width:100%;\"></div>            <script type=\"text/javascript\">                require([\"plotly\"], function(Plotly) {                    window.PLOTLYENV=window.PLOTLYENV || {};                                    if (document.getElementById(\"96661e20-a546-412c-a77b-0e4423436806\")) {                    Plotly.newPlot(                        \"96661e20-a546-412c-a77b-0e4423436806\",                        [{\"line\":{\"color\":\"royalblue\"},\"marker\":{\"size\":8},\"mode\":\"lines\",\"name\":\"Local Size for Predicted Class\",\"x\":[1.0,2.0,3.0,4.0,5.0,6.0,7.0,8.0,9.0,10.0,11.0,12.0,13.0,14.0,15.0,16.0,17.0,18.0,19.0,20.0,21.0,22.0,23.0,24.0,25.0,26.0,27.0,28.0,29.0,30.0,31.0,32.0,33.0,34.0,35.0,36.0,37.0,38.0,39.0,40.0,41.0,42.0,43.0,44.0,45.0,46.0,47.0,48.0,49.0,50.0],\"y\":[50.60604166666667,58.8375,63.27458333333334,63.346041666666665,56.72958333333334,53.93145833333333,52.383541666666666,49.526875,52.22625000000001,52.801874999999995,62.25666666666666,58.817083333333336,56.110416666666666,54.766875000000006,50.903958333333335,49.09916666666667,47.43125,45.36479166666666,46.29,43.78958333333334,43.536458333333336,41.29416666666667,39.315625,39.463541666666664,38.42833333333333,37.34291666666667,36.884375,36.091249999999995,34.210208333333334,33.532291666666666,32.89083333333333,32.85041666666667,32.88979166666667,32.192083333333336,31.926041666666663,31.3325,30.6975,30.1575,29.54270833333333,28.732916666666664,28.840416666666663,28.539166666666667,28.407291666666662,28.20625,27.886041666666664,27.314166666666665,27.096875,26.58833333333333,26.302916666666665,25.363541666666666],\"type\":\"scatter\"},{\"line\":{\"width\":0},\"mode\":\"lines\",\"name\":\"Local Size for Predicted Class (Upper)\",\"showlegend\":false,\"x\":[1.0,2.0,3.0,4.0,5.0,6.0,7.0,8.0,9.0,10.0,11.0,12.0,13.0,14.0,15.0,16.0,17.0,18.0,19.0,20.0,21.0,22.0,23.0,24.0,25.0,26.0,27.0,28.0,29.0,30.0,31.0,32.0,33.0,34.0,35.0,36.0,37.0,38.0,39.0,40.0,41.0,42.0,43.0,44.0,45.0,46.0,47.0,48.0,49.0,50.0],\"y\":[52.5367473556481,64.99677766778612,68.15735700540118,70.28062561493567,62.05089315481017,57.54219103252335,58.08712438231749,53.889045760717615,53.208192375596994,57.22266295040325,71.35169081733362,67.5373935033792,59.96263992388288,58.708675960648335,54.0015152118186,51.78405743816206,50.09758369910168,48.263035792066844,48.96236173685453,45.160438631726265,44.41655602115223,41.964345646828974,41.441075192304034,40.44600094672827,39.38123016394599,38.65056485842268,37.958217389877866,37.317478745285264,34.69487972562603,34.39101901100229,33.9414956368551,33.655188473199594,34.006583044575194,33.6844693548862,32.83394156564369,32.729924932142055,31.83802977151946,30.862902715086488,30.68448643198582,29.236463440361632,29.761032685518533,29.448181426833624,29.183546880573825,29.026796097691957,28.845479888434426,28.364885046911027,28.040204675530305,27.31056876824185,27.195974503733908,26.01673104082009],\"type\":\"scatter\"},{\"fill\":\"tonexty\",\"fillcolor\":\"rgba(65, 105, 225, 0.2)\",\"line\":{\"width\":0},\"mode\":\"lines\",\"name\":\"Local Size for Predicted Class (Lower)\",\"showlegend\":false,\"x\":[1.0,2.0,3.0,4.0,5.0,6.0,7.0,8.0,9.0,10.0,11.0,12.0,13.0,14.0,15.0,16.0,17.0,18.0,19.0,20.0,21.0,22.0,23.0,24.0,25.0,26.0,27.0,28.0,29.0,30.0,31.0,32.0,33.0,34.0,35.0,36.0,37.0,38.0,39.0,40.0,41.0,42.0,43.0,44.0,45.0,46.0,47.0,48.0,49.0,50.0],\"y\":[48.675335977685236,52.67822233221387,58.3918096612655,56.411457718397656,51.40827351185651,50.320725634143315,46.67995895101584,45.16470423928238,51.24430762440302,48.381087049596744,53.1616425159997,50.096773163287466,52.25819340945045,50.825074039351676,47.80640145484807,46.41427589517128,44.764916300898314,42.46654754126648,43.617638263145466,42.418728034940415,42.65636064551444,40.623987686504364,37.19017480769596,38.48108238660506,37.47543650272066,36.03526847491065,35.81053261012213,34.865021254714726,33.72553694104064,32.67356432233104,31.840171029811565,32.04564486013374,31.773000288758137,30.699697311780472,31.01814176768963,29.935075067857948,29.556970228480544,29.45209728491351,28.40093023468084,28.229369892971697,27.919800647814792,27.63015190649971,27.6310364527595,27.385703902308045,26.926603444898902,26.263448286422303,26.153545324469697,25.86609789842481,25.409858829599422,24.710352292513242],\"type\":\"scatter\"},{\"line\":{\"color\":\"green\"},\"marker\":{\"size\":8},\"mode\":\"lines\",\"name\":\"Local Size for All Classes\",\"x\":[1.0,2.0,3.0,4.0,5.0,6.0,7.0,8.0,9.0,10.0,11.0,12.0,13.0,14.0,15.0,16.0,17.0,18.0,19.0,20.0,21.0,22.0,23.0,24.0,25.0,26.0,27.0,28.0,29.0,30.0,31.0,32.0,33.0,34.0,35.0,36.0,37.0,38.0,39.0,40.0,41.0,42.0,43.0,44.0,45.0,46.0,47.0,48.0,49.0,50.0],\"y\":[50.60604166666667,58.8375,63.438541666666666,65.324375,59.94145833333333,57.020208333333336,55.78479166666666,53.852291666666666,56.92166666666667,59.230416666666656,71.26708333333333,65.76104166666667,65.075625,64.93333333333334,64.35062500000001,60.130624999999995,58.51937499999999,55.97479166666667,57.03895833333333,53.869791666666664,53.466458333333335,49.343125,48.072500000000005,46.619166666666665,45.01916666666666,43.03937499999999,42.235,40.963541666666664,38.30416666666666,36.80458333333333,35.78104166666667,36.00479166666666,35.654375,35.021875,34.4075,33.97958333333334,33.06604166666666,32.36291666666666,31.290208333333332,30.314375000000002,30.401666666666664,30.328541666666666,29.858125,29.708333333333332,29.26770833333333,28.512291666666663,28.251875000000002,27.560208333333332,27.1875,26.197291666666665],\"type\":\"scatter\"},{\"line\":{\"width\":0},\"mode\":\"lines\",\"name\":\"Local Size for All Classes (Upper)\",\"showlegend\":false,\"x\":[1.0,2.0,3.0,4.0,5.0,6.0,7.0,8.0,9.0,10.0,11.0,12.0,13.0,14.0,15.0,16.0,17.0,18.0,19.0,20.0,21.0,22.0,23.0,24.0,25.0,26.0,27.0,28.0,29.0,30.0,31.0,32.0,33.0,34.0,35.0,36.0,37.0,38.0,39.0,40.0,41.0,42.0,43.0,44.0,45.0,46.0,47.0,48.0,49.0,50.0],\"y\":[52.5367473556481,64.99677766778612,68.38966190150859,71.70779224576319,66.19765016206722,60.2119668414495,61.62595919244745,58.60080605422925,58.126712346774205,64.82461257727657,81.14109846969981,76.16776563506039,70.55014713239888,69.64878817066523,67.0160145664234,63.76779980767658,61.978989204943744,59.63564861407799,61.18428811588096,55.787038097323936,55.85080891843478,50.139314656269164,51.74545600222367,48.14322140273807,46.5275885894219,45.35552164146226,43.78312127124658,41.487001191493505,39.17851010833764,38.14988173869891,36.66311421177075,37.110377576486904,37.25147003947141,36.38105182942501,35.41031867294073,35.69877749942661,34.37624418626473,32.96388277615783,32.32581901057956,30.90599462474376,31.3364023481675,31.149660020841324,30.584185870740765,30.49525303795877,30.141799503214305,29.58359187495784,29.180735480661507,28.394421865878773,28.176006815771338,26.91245656303187],\"type\":\"scatter\"},{\"fill\":\"tonexty\",\"fillcolor\":\"rgba(0, 128, 0, 0.2)\",\"line\":{\"width\":0},\"mode\":\"lines\",\"name\":\"Local Size for All Classes (Lower)\",\"showlegend\":false,\"x\":[1.0,2.0,3.0,4.0,5.0,6.0,7.0,8.0,9.0,10.0,11.0,12.0,13.0,14.0,15.0,16.0,17.0,18.0,19.0,20.0,21.0,22.0,23.0,24.0,25.0,26.0,27.0,28.0,29.0,30.0,31.0,32.0,33.0,34.0,35.0,36.0,37.0,38.0,39.0,40.0,41.0,42.0,43.0,44.0,45.0,46.0,47.0,48.0,49.0,50.0],\"y\":[48.675335977685236,52.67822233221387,58.48742143182475,58.94095775423681,53.68526650459944,53.82844982521717,49.94362414088587,49.10377727910408,55.71662098655913,53.63622075605674,61.393068196966844,55.35431769827295,59.601102867601135,60.21787849600145,61.68523543357663,56.49345019232341,55.059760795056235,52.31393471925535,52.89362855078571,51.95254523600939,51.08210774823189,48.54693534373084,44.39954399777634,45.09511193059526,43.510744743911424,40.723228358537725,40.68687872875342,40.440082141839824,37.42982322499568,35.45928492796776,34.89896912156259,34.89920575684642,34.0572799605286,33.66269817057499,33.404681327059265,32.260389167240064,31.7558391470686,31.7619505571755,30.254597656087107,29.722755375256245,29.466930985165828,29.50742331249201,29.132064129259238,28.921413628707896,28.393617163452358,27.440991458375485,27.323014519338496,26.72599480078789,26.198993184228662,25.48212677030146],\"type\":\"scatter\"}],                        {\"template\":{\"data\":{\"histogram2dcontour\":[{\"type\":\"histogram2dcontour\",\"colorbar\":{\"outlinewidth\":0,\"ticks\":\"\"},\"colorscale\":[[0.0,\"#0d0887\"],[0.1111111111111111,\"#46039f\"],[0.2222222222222222,\"#7201a8\"],[0.3333333333333333,\"#9c179e\"],[0.4444444444444444,\"#bd3786\"],[0.5555555555555556,\"#d8576b\"],[0.6666666666666666,\"#ed7953\"],[0.7777777777777778,\"#fb9f3a\"],[0.8888888888888888,\"#fdca26\"],[1.0,\"#f0f921\"]]}],\"choropleth\":[{\"type\":\"choropleth\",\"colorbar\":{\"outlinewidth\":0,\"ticks\":\"\"}}],\"histogram2d\":[{\"type\":\"histogram2d\",\"colorbar\":{\"outlinewidth\":0,\"ticks\":\"\"},\"colorscale\":[[0.0,\"#0d0887\"],[0.1111111111111111,\"#46039f\"],[0.2222222222222222,\"#7201a8\"],[0.3333333333333333,\"#9c179e\"],[0.4444444444444444,\"#bd3786\"],[0.5555555555555556,\"#d8576b\"],[0.6666666666666666,\"#ed7953\"],[0.7777777777777778,\"#fb9f3a\"],[0.8888888888888888,\"#fdca26\"],[1.0,\"#f0f921\"]]}],\"heatmap\":[{\"type\":\"heatmap\",\"colorbar\":{\"outlinewidth\":0,\"ticks\":\"\"},\"colorscale\":[[0.0,\"#0d0887\"],[0.1111111111111111,\"#46039f\"],[0.2222222222222222,\"#7201a8\"],[0.3333333333333333,\"#9c179e\"],[0.4444444444444444,\"#bd3786\"],[0.5555555555555556,\"#d8576b\"],[0.6666666666666666,\"#ed7953\"],[0.7777777777777778,\"#fb9f3a\"],[0.8888888888888888,\"#fdca26\"],[1.0,\"#f0f921\"]]}],\"heatmapgl\":[{\"type\":\"heatmapgl\",\"colorbar\":{\"outlinewidth\":0,\"ticks\":\"\"},\"colorscale\":[[0.0,\"#0d0887\"],[0.1111111111111111,\"#46039f\"],[0.2222222222222222,\"#7201a8\"],[0.3333333333333333,\"#9c179e\"],[0.4444444444444444,\"#bd3786\"],[0.5555555555555556,\"#d8576b\"],[0.6666666666666666,\"#ed7953\"],[0.7777777777777778,\"#fb9f3a\"],[0.8888888888888888,\"#fdca26\"],[1.0,\"#f0f921\"]]}],\"contourcarpet\":[{\"type\":\"contourcarpet\",\"colorbar\":{\"outlinewidth\":0,\"ticks\":\"\"}}],\"contour\":[{\"type\":\"contour\",\"colorbar\":{\"outlinewidth\":0,\"ticks\":\"\"},\"colorscale\":[[0.0,\"#0d0887\"],[0.1111111111111111,\"#46039f\"],[0.2222222222222222,\"#7201a8\"],[0.3333333333333333,\"#9c179e\"],[0.4444444444444444,\"#bd3786\"],[0.5555555555555556,\"#d8576b\"],[0.6666666666666666,\"#ed7953\"],[0.7777777777777778,\"#fb9f3a\"],[0.8888888888888888,\"#fdca26\"],[1.0,\"#f0f921\"]]}],\"surface\":[{\"type\":\"surface\",\"colorbar\":{\"outlinewidth\":0,\"ticks\":\"\"},\"colorscale\":[[0.0,\"#0d0887\"],[0.1111111111111111,\"#46039f\"],[0.2222222222222222,\"#7201a8\"],[0.3333333333333333,\"#9c179e\"],[0.4444444444444444,\"#bd3786\"],[0.5555555555555556,\"#d8576b\"],[0.6666666666666666,\"#ed7953\"],[0.7777777777777778,\"#fb9f3a\"],[0.8888888888888888,\"#fdca26\"],[1.0,\"#f0f921\"]]}],\"mesh3d\":[{\"type\":\"mesh3d\",\"colorbar\":{\"outlinewidth\":0,\"ticks\":\"\"}}],\"scatter\":[{\"fillpattern\":{\"fillmode\":\"overlay\",\"size\":10,\"solidity\":0.2},\"type\":\"scatter\"}],\"parcoords\":[{\"type\":\"parcoords\",\"line\":{\"colorbar\":{\"outlinewidth\":0,\"ticks\":\"\"}}}],\"scatterpolargl\":[{\"type\":\"scatterpolargl\",\"marker\":{\"colorbar\":{\"outlinewidth\":0,\"ticks\":\"\"}}}],\"bar\":[{\"error_x\":{\"color\":\"#2a3f5f\"},\"error_y\":{\"color\":\"#2a3f5f\"},\"marker\":{\"line\":{\"color\":\"#E5ECF6\",\"width\":0.5},\"pattern\":{\"fillmode\":\"overlay\",\"size\":10,\"solidity\":0.2}},\"type\":\"bar\"}],\"scattergeo\":[{\"type\":\"scattergeo\",\"marker\":{\"colorbar\":{\"outlinewidth\":0,\"ticks\":\"\"}}}],\"scatterpolar\":[{\"type\":\"scatterpolar\",\"marker\":{\"colorbar\":{\"outlinewidth\":0,\"ticks\":\"\"}}}],\"histogram\":[{\"marker\":{\"pattern\":{\"fillmode\":\"overlay\",\"size\":10,\"solidity\":0.2}},\"type\":\"histogram\"}],\"scattergl\":[{\"type\":\"scattergl\",\"marker\":{\"colorbar\":{\"outlinewidth\":0,\"ticks\":\"\"}}}],\"scatter3d\":[{\"type\":\"scatter3d\",\"line\":{\"colorbar\":{\"outlinewidth\":0,\"ticks\":\"\"}},\"marker\":{\"colorbar\":{\"outlinewidth\":0,\"ticks\":\"\"}}}],\"scattermapbox\":[{\"type\":\"scattermapbox\",\"marker\":{\"colorbar\":{\"outlinewidth\":0,\"ticks\":\"\"}}}],\"scatterternary\":[{\"type\":\"scatterternary\",\"marker\":{\"colorbar\":{\"outlinewidth\":0,\"ticks\":\"\"}}}],\"scattercarpet\":[{\"type\":\"scattercarpet\",\"marker\":{\"colorbar\":{\"outlinewidth\":0,\"ticks\":\"\"}}}],\"carpet\":[{\"aaxis\":{\"endlinecolor\":\"#2a3f5f\",\"gridcolor\":\"white\",\"linecolor\":\"white\",\"minorgridcolor\":\"white\",\"startlinecolor\":\"#2a3f5f\"},\"baxis\":{\"endlinecolor\":\"#2a3f5f\",\"gridcolor\":\"white\",\"linecolor\":\"white\",\"minorgridcolor\":\"white\",\"startlinecolor\":\"#2a3f5f\"},\"type\":\"carpet\"}],\"table\":[{\"cells\":{\"fill\":{\"color\":\"#EBF0F8\"},\"line\":{\"color\":\"white\"}},\"header\":{\"fill\":{\"color\":\"#C8D4E3\"},\"line\":{\"color\":\"white\"}},\"type\":\"table\"}],\"barpolar\":[{\"marker\":{\"line\":{\"color\":\"#E5ECF6\",\"width\":0.5},\"pattern\":{\"fillmode\":\"overlay\",\"size\":10,\"solidity\":0.2}},\"type\":\"barpolar\"}],\"pie\":[{\"automargin\":true,\"type\":\"pie\"}]},\"layout\":{\"autotypenumbers\":\"strict\",\"colorway\":[\"#636efa\",\"#EF553B\",\"#00cc96\",\"#ab63fa\",\"#FFA15A\",\"#19d3f3\",\"#FF6692\",\"#B6E880\",\"#FF97FF\",\"#FECB52\"],\"font\":{\"color\":\"#2a3f5f\"},\"hovermode\":\"closest\",\"hoverlabel\":{\"align\":\"left\"},\"paper_bgcolor\":\"white\",\"plot_bgcolor\":\"#E5ECF6\",\"polar\":{\"bgcolor\":\"#E5ECF6\",\"angularaxis\":{\"gridcolor\":\"white\",\"linecolor\":\"white\",\"ticks\":\"\"},\"radialaxis\":{\"gridcolor\":\"white\",\"linecolor\":\"white\",\"ticks\":\"\"}},\"ternary\":{\"bgcolor\":\"#E5ECF6\",\"aaxis\":{\"gridcolor\":\"white\",\"linecolor\":\"white\",\"ticks\":\"\"},\"baxis\":{\"gridcolor\":\"white\",\"linecolor\":\"white\",\"ticks\":\"\"},\"caxis\":{\"gridcolor\":\"white\",\"linecolor\":\"white\",\"ticks\":\"\"}},\"coloraxis\":{\"colorbar\":{\"outlinewidth\":0,\"ticks\":\"\"}},\"colorscale\":{\"sequential\":[[0.0,\"#0d0887\"],[0.1111111111111111,\"#46039f\"],[0.2222222222222222,\"#7201a8\"],[0.3333333333333333,\"#9c179e\"],[0.4444444444444444,\"#bd3786\"],[0.5555555555555556,\"#d8576b\"],[0.6666666666666666,\"#ed7953\"],[0.7777777777777778,\"#fb9f3a\"],[0.8888888888888888,\"#fdca26\"],[1.0,\"#f0f921\"]],\"sequentialminus\":[[0.0,\"#0d0887\"],[0.1111111111111111,\"#46039f\"],[0.2222222222222222,\"#7201a8\"],[0.3333333333333333,\"#9c179e\"],[0.4444444444444444,\"#bd3786\"],[0.5555555555555556,\"#d8576b\"],[0.6666666666666666,\"#ed7953\"],[0.7777777777777778,\"#fb9f3a\"],[0.8888888888888888,\"#fdca26\"],[1.0,\"#f0f921\"]],\"diverging\":[[0,\"#8e0152\"],[0.1,\"#c51b7d\"],[0.2,\"#de77ae\"],[0.3,\"#f1b6da\"],[0.4,\"#fde0ef\"],[0.5,\"#f7f7f7\"],[0.6,\"#e6f5d0\"],[0.7,\"#b8e186\"],[0.8,\"#7fbc41\"],[0.9,\"#4d9221\"],[1,\"#276419\"]]},\"xaxis\":{\"gridcolor\":\"white\",\"linecolor\":\"white\",\"ticks\":\"\",\"title\":{\"standoff\":15},\"zerolinecolor\":\"white\",\"automargin\":true,\"zerolinewidth\":2},\"yaxis\":{\"gridcolor\":\"white\",\"linecolor\":\"white\",\"ticks\":\"\",\"title\":{\"standoff\":15},\"zerolinecolor\":\"white\",\"automargin\":true,\"zerolinewidth\":2},\"scene\":{\"xaxis\":{\"backgroundcolor\":\"#E5ECF6\",\"gridcolor\":\"white\",\"linecolor\":\"white\",\"showbackground\":true,\"ticks\":\"\",\"zerolinecolor\":\"white\",\"gridwidth\":2},\"yaxis\":{\"backgroundcolor\":\"#E5ECF6\",\"gridcolor\":\"white\",\"linecolor\":\"white\",\"showbackground\":true,\"ticks\":\"\",\"zerolinecolor\":\"white\",\"gridwidth\":2},\"zaxis\":{\"backgroundcolor\":\"#E5ECF6\",\"gridcolor\":\"white\",\"linecolor\":\"white\",\"showbackground\":true,\"ticks\":\"\",\"zerolinecolor\":\"white\",\"gridwidth\":2}},\"shapedefaults\":{\"line\":{\"color\":\"#2a3f5f\"}},\"annotationdefaults\":{\"arrowcolor\":\"#2a3f5f\",\"arrowhead\":0,\"arrowwidth\":1},\"geo\":{\"bgcolor\":\"white\",\"landcolor\":\"#E5ECF6\",\"subunitcolor\":\"white\",\"showland\":true,\"showlakes\":true,\"lakecolor\":\"white\"},\"title\":{\"x\":0.05},\"mapbox\":{\"style\":\"light\"}}},\"legend\":{\"orientation\":\"h\",\"yanchor\":\"bottom\",\"y\":1.02,\"xanchor\":\"right\",\"x\":1},\"xaxis\":{\"title\":{\"text\":\"Epoch\"},\"showgrid\":true},\"yaxis\":{\"title\":{\"text\":\"Count\"},\"showgrid\":true,\"dtick\":3},\"title\":{\"text\":\"Local Size for Predicted Class & Local Size for All Classes (Mean ± Std across seeds) - pipnet_SEED_stage7_p0\"},\"hovermode\":\"x unified\",\"height\":600},                        {\"responsive\": true}                    ).then(function(){\n",
       "                            \n",
       "var gd = document.getElementById('96661e20-a546-412c-a77b-0e4423436806');\n",
       "var x = new MutationObserver(function (mutations, observer) {{\n",
       "        var display = window.getComputedStyle(gd).display;\n",
       "        if (!display || display === 'none') {{\n",
       "            console.log([gd, 'removed!']);\n",
       "            Plotly.purge(gd);\n",
       "            observer.disconnect();\n",
       "        }}\n",
       "}});\n",
       "\n",
       "// Listen for the removal of the full notebook cells\n",
       "var notebookContainer = gd.closest('#notebook-container');\n",
       "if (notebookContainer) {{\n",
       "    x.observe(notebookContainer, {childList: true});\n",
       "}}\n",
       "\n",
       "// Listen for the clearing of the current output cell\n",
       "var outputEl = gd.closest('.output');\n",
       "if (outputEl) {{\n",
       "    x.observe(outputEl, {childList: true});\n",
       "}}\n",
       "\n",
       "                        })                };                });            </script>        </div>"
      ]
     },
     "metadata": {},
     "output_type": "display_data"
    },
    {
     "data": {
      "application/vnd.plotly.v1+json": {
       "config": {
        "plotlyServerURL": "https://plot.ly"
       },
       "data": [
        {
         "line": {
          "color": "royalblue"
         },
         "marker": {
          "size": 8
         },
         "mode": "lines",
         "name": "Global explanation size",
         "type": "scatter",
         "x": [
          1,
          2,
          3,
          4,
          5,
          6,
          7,
          8,
          9,
          10,
          11,
          12,
          13,
          14,
          15,
          16,
          17,
          18,
          19,
          20,
          21,
          22,
          23,
          24,
          25,
          26,
          27,
          28,
          29,
          30,
          31,
          32,
          33,
          34,
          35,
          36,
          37,
          38,
          39,
          40,
          41,
          42,
          43,
          44,
          45,
          46,
          47,
          48,
          49,
          50
         ],
         "y": [
          768,
          768,
          768,
          768,
          768,
          768,
          768,
          767.6,
          765,
          763,
          758.2,
          745.6,
          730,
          712,
          695.4,
          676,
          653.6,
          628.6,
          596.2,
          560.6,
          539.2,
          516.6,
          500.2,
          481,
          463.8,
          447.2,
          429.2,
          409.6,
          388.8,
          370.6,
          367,
          363.8,
          358.8,
          353.4,
          345.6,
          338,
          327.8,
          318.2,
          310.4,
          298.2,
          300.6,
          298.8,
          297.4,
          293.4,
          290,
          285,
          279.6,
          273.6,
          264.8,
          256.6
         ]
        },
        {
         "line": {
          "width": 0
         },
         "mode": "lines",
         "name": "Global explanation size (Upper)",
         "showlegend": false,
         "type": "scatter",
         "x": [
          1,
          2,
          3,
          4,
          5,
          6,
          7,
          8,
          9,
          10,
          11,
          12,
          13,
          14,
          15,
          16,
          17,
          18,
          19,
          20,
          21,
          22,
          23,
          24,
          25,
          26,
          27,
          28,
          29,
          30,
          31,
          32,
          33,
          34,
          35,
          36,
          37,
          38,
          39,
          40,
          41,
          42,
          43,
          44,
          45,
          46,
          47,
          48,
          49,
          50
         ],
         "y": [
          768,
          768,
          768,
          768,
          768,
          768,
          768,
          768.1477225575052,
          767.5495097567964,
          765.8284271247462,
          762.0340579025362,
          750.8725705305857,
          739.0277350426339,
          725.3790881602597,
          709.6232204510793,
          690.1950695665784,
          666.5730489862638,
          644.2620560591514,
          608.9945300812496,
          570.8127371453495,
          549.1849887330933,
          525.9166517590817,
          515.0727939540626,
          497.5529453572468,
          479.11992167081803,
          463.0965405041474,
          442.14990347454375,
          422.7643457870112,
          402.55499909123955,
          386.03696861433616,
          380.6565002837477,
          378.45264481245624,
          372.3720300618588,
          367.44635183953466,
          359.35863365309217,
          351.2664991614216,
          336.47179335547156,
          327.3214034007931,
          318.9322916030806,
          305.7630681604756,
          309.21974477580403,
          307.08854631404085,
          305.573126696681,
          300.7688533707762,
          298.5146931829632,
          292.90569415042097,
          287.8036577207975,
          282.2486993241759,
          273.9487704091861,
          264.58749021908636
         ]
        },
        {
         "fill": "tonexty",
         "fillcolor": "rgba(65, 105, 225, 0.2)",
         "line": {
          "width": 0
         },
         "mode": "lines",
         "name": "Global explanation size (Lower)",
         "showlegend": false,
         "type": "scatter",
         "x": [
          1,
          2,
          3,
          4,
          5,
          6,
          7,
          8,
          9,
          10,
          11,
          12,
          13,
          14,
          15,
          16,
          17,
          18,
          19,
          20,
          21,
          22,
          23,
          24,
          25,
          26,
          27,
          28,
          29,
          30,
          31,
          32,
          33,
          34,
          35,
          36,
          37,
          38,
          39,
          40,
          41,
          42,
          43,
          44,
          45,
          46,
          47,
          48,
          49,
          50
         ],
         "y": [
          768,
          768,
          768,
          768,
          768,
          768,
          768,
          767.0522774424949,
          762.4504902432036,
          760.1715728752538,
          754.3659420974639,
          740.3274294694144,
          720.9722649573661,
          698.6209118397403,
          681.1767795489206,
          661.8049304334216,
          640.6269510137363,
          612.9379439408486,
          583.4054699187504,
          550.3872628546505,
          529.2150112669068,
          507.2833482409183,
          485.32720604593743,
          464.4470546427532,
          448.480078329182,
          431.30345949585256,
          416.25009652545623,
          396.4356542129888,
          375.04500090876047,
          355.1630313856639,
          353.3434997162523,
          349.1473551875438,
          345.2279699381412,
          339.3536481604653,
          331.8413663469079,
          324.7335008385784,
          319.12820664452846,
          309.0785965992069,
          301.86770839691934,
          290.6369318395244,
          291.980255224196,
          290.51145368595917,
          289.22687330331894,
          286.03114662922377,
          281.4853068170368,
          277.09430584957903,
          271.39634227920254,
          264.95130067582414,
          255.65122959081387,
          248.61250978091368
         ]
        },
        {
         "line": {
          "color": "green"
         },
         "marker": {
          "size": 8
         },
         "mode": "lines",
         "name": "Total explanation size",
         "type": "scatter",
         "x": [
          1,
          2,
          3,
          4,
          5,
          6,
          7,
          8,
          9,
          10,
          11,
          12,
          13,
          14,
          15,
          16,
          17,
          18,
          19,
          20,
          21,
          22,
          23,
          24,
          25,
          26,
          27,
          28,
          29,
          30,
          31,
          32,
          33,
          34,
          35,
          36,
          37,
          38,
          39,
          40,
          41,
          42,
          43,
          44,
          45,
          46,
          47,
          48,
          49,
          50
         ],
         "y": [
          608.72,
          626.6622373453777,
          579.8844512939453,
          398.0251883951823,
          297.1985219319662,
          257.2059297688802,
          235.04148320515952,
          221.25333511352537,
          208.414816792806,
          203.90518684387206,
          200.26074300130207,
          175.34815032958986,
          147.82666870117185,
          124.12000195821126,
          105.94370493570963,
          93.87703791300456,
          83.89777844746907,
          75.5081490834554,
          68.95407534281414,
          63.125926742553716,
          59.517037582397464,
          56.21777800242106,
          53.72148169199626,
          51.63555642445882,
          49.5481488418579,
          47.81333340962728,
          45.79111119588216,
          43.848889338175454,
          41.35703768412272,
          39.53037111918131,
          38.99259326934815,
          38.64296325683594,
          38.21925996144613,
          37.54666727701823,
          36.6933340771993,
          36.09629713694254,
          35.000000953674316,
          33.96296312967936,
          32.96296356201172,
          31.752593167622887,
          31.933333778381346,
          31.826667073567712,
          31.580741653442384,
          31.30666657765706,
          30.77185166676839,
          30.21037089029948,
          29.767407684326173,
          29.094815120697024,
          28.253333511352537,
          27.39555541992188
         ]
        },
        {
         "line": {
          "width": 0
         },
         "mode": "lines",
         "name": "Total explanation size (Upper)",
         "showlegend": false,
         "type": "scatter",
         "x": [
          1,
          2,
          3,
          4,
          5,
          6,
          7,
          8,
          9,
          10,
          11,
          12,
          13,
          14,
          15,
          16,
          17,
          18,
          19,
          20,
          21,
          22,
          23,
          24,
          25,
          26,
          27,
          28,
          29,
          30,
          31,
          32,
          33,
          34,
          35,
          36,
          37,
          38,
          39,
          40,
          41,
          42,
          43,
          44,
          45,
          46,
          47,
          48,
          49,
          50
         ],
         "y": [
          616.1883629025674,
          645.4597992338939,
          592.1518581137296,
          410.0599962381075,
          308.13863988658557,
          261.8863176720288,
          242.711324860729,
          227.64207388905442,
          212.00906353310256,
          207.77856429640758,
          206.04566604087816,
          181.0367947059663,
          152.61216787239383,
          128.674412095003,
          109.94148091467794,
          95.9391234958853,
          84.91058223823369,
          77.10159944388916,
          69.94991578824653,
          64.39828796632197,
          60.544124420430514,
          57.12968076901286,
          55.097571586225726,
          53.334126852028575,
          51.092082433485864,
          49.314859038033,
          47.28876705790544,
          45.371319688221305,
          42.74407721815737,
          41.209326594134666,
          40.445153319798386,
          40.09585858913303,
          39.63936395505062,
          39.098262386352715,
          37.99268109609355,
          37.414087415628046,
          36.148267939330076,
          34.988293844912036,
          33.92673906215116,
          32.602391156265945,
          32.84346596882048,
          32.840732384098665,
          32.47588312500886,
          32.005688198280914,
          31.638698387833017,
          31.18857858508352,
          30.666646708285782,
          29.951618673289765,
          29.156785361754814,
          28.23266769540217
         ]
        },
        {
         "fill": "tonexty",
         "fillcolor": "rgba(0, 128, 0, 0.2)",
         "line": {
          "width": 0
         },
         "mode": "lines",
         "name": "Total explanation size (Lower)",
         "showlegend": false,
         "type": "scatter",
         "x": [
          1,
          2,
          3,
          4,
          5,
          6,
          7,
          8,
          9,
          10,
          11,
          12,
          13,
          14,
          15,
          16,
          17,
          18,
          19,
          20,
          21,
          22,
          23,
          24,
          25,
          26,
          27,
          28,
          29,
          30,
          31,
          32,
          33,
          34,
          35,
          36,
          37,
          38,
          39,
          40,
          41,
          42,
          43,
          44,
          45,
          46,
          47,
          48,
          49,
          50
         ],
         "y": [
          601.2516370974326,
          607.8646754568614,
          567.6170444741609,
          385.9903805522571,
          286.2584039773468,
          252.52554186573164,
          227.37164154959004,
          214.86459633799632,
          204.82057005250942,
          200.03180939133654,
          194.475819961726,
          169.65950595321343,
          143.04116952994988,
          119.56559182141952,
          101.94592895674133,
          91.81495233012382,
          82.88497465670444,
          73.91469872302163,
          67.95823489738174,
          61.853565518785466,
          58.489950744364414,
          55.30587523582927,
          52.345391797766794,
          49.936985996889064,
          48.00421525022994,
          46.31180778122157,
          44.29345533385888,
          42.3264589881296,
          39.969998150088074,
          37.851415644227956,
          37.54003321889791,
          37.19006792453885,
          36.799155967841635,
          35.995072167683745,
          35.39398705830506,
          34.77850685825703,
          33.85173396801856,
          32.93763241444668,
          31.99918806187229,
          30.90279517897983,
          31.023201587942214,
          30.812601763036763,
          30.685600181875905,
          30.60764495703321,
          29.905004945703766,
          29.23216319551544,
          28.868168660366564,
          28.238011568104284,
          27.34988166095026,
          26.55844314444159
         ]
        }
       ],
       "layout": {
        "height": 600,
        "hovermode": "x unified",
        "legend": {
         "orientation": "h",
         "x": 1,
         "xanchor": "right",
         "y": 1.02,
         "yanchor": "bottom"
        },
        "template": {
         "data": {
          "bar": [
           {
            "error_x": {
             "color": "#2a3f5f"
            },
            "error_y": {
             "color": "#2a3f5f"
            },
            "marker": {
             "line": {
              "color": "#E5ECF6",
              "width": 0.5
             },
             "pattern": {
              "fillmode": "overlay",
              "size": 10,
              "solidity": 0.2
             }
            },
            "type": "bar"
           }
          ],
          "barpolar": [
           {
            "marker": {
             "line": {
              "color": "#E5ECF6",
              "width": 0.5
             },
             "pattern": {
              "fillmode": "overlay",
              "size": 10,
              "solidity": 0.2
             }
            },
            "type": "barpolar"
           }
          ],
          "carpet": [
           {
            "aaxis": {
             "endlinecolor": "#2a3f5f",
             "gridcolor": "white",
             "linecolor": "white",
             "minorgridcolor": "white",
             "startlinecolor": "#2a3f5f"
            },
            "baxis": {
             "endlinecolor": "#2a3f5f",
             "gridcolor": "white",
             "linecolor": "white",
             "minorgridcolor": "white",
             "startlinecolor": "#2a3f5f"
            },
            "type": "carpet"
           }
          ],
          "choropleth": [
           {
            "colorbar": {
             "outlinewidth": 0,
             "ticks": ""
            },
            "type": "choropleth"
           }
          ],
          "contour": [
           {
            "colorbar": {
             "outlinewidth": 0,
             "ticks": ""
            },
            "colorscale": [
             [
              0,
              "#0d0887"
             ],
             [
              0.1111111111111111,
              "#46039f"
             ],
             [
              0.2222222222222222,
              "#7201a8"
             ],
             [
              0.3333333333333333,
              "#9c179e"
             ],
             [
              0.4444444444444444,
              "#bd3786"
             ],
             [
              0.5555555555555556,
              "#d8576b"
             ],
             [
              0.6666666666666666,
              "#ed7953"
             ],
             [
              0.7777777777777778,
              "#fb9f3a"
             ],
             [
              0.8888888888888888,
              "#fdca26"
             ],
             [
              1,
              "#f0f921"
             ]
            ],
            "type": "contour"
           }
          ],
          "contourcarpet": [
           {
            "colorbar": {
             "outlinewidth": 0,
             "ticks": ""
            },
            "type": "contourcarpet"
           }
          ],
          "heatmap": [
           {
            "colorbar": {
             "outlinewidth": 0,
             "ticks": ""
            },
            "colorscale": [
             [
              0,
              "#0d0887"
             ],
             [
              0.1111111111111111,
              "#46039f"
             ],
             [
              0.2222222222222222,
              "#7201a8"
             ],
             [
              0.3333333333333333,
              "#9c179e"
             ],
             [
              0.4444444444444444,
              "#bd3786"
             ],
             [
              0.5555555555555556,
              "#d8576b"
             ],
             [
              0.6666666666666666,
              "#ed7953"
             ],
             [
              0.7777777777777778,
              "#fb9f3a"
             ],
             [
              0.8888888888888888,
              "#fdca26"
             ],
             [
              1,
              "#f0f921"
             ]
            ],
            "type": "heatmap"
           }
          ],
          "heatmapgl": [
           {
            "colorbar": {
             "outlinewidth": 0,
             "ticks": ""
            },
            "colorscale": [
             [
              0,
              "#0d0887"
             ],
             [
              0.1111111111111111,
              "#46039f"
             ],
             [
              0.2222222222222222,
              "#7201a8"
             ],
             [
              0.3333333333333333,
              "#9c179e"
             ],
             [
              0.4444444444444444,
              "#bd3786"
             ],
             [
              0.5555555555555556,
              "#d8576b"
             ],
             [
              0.6666666666666666,
              "#ed7953"
             ],
             [
              0.7777777777777778,
              "#fb9f3a"
             ],
             [
              0.8888888888888888,
              "#fdca26"
             ],
             [
              1,
              "#f0f921"
             ]
            ],
            "type": "heatmapgl"
           }
          ],
          "histogram": [
           {
            "marker": {
             "pattern": {
              "fillmode": "overlay",
              "size": 10,
              "solidity": 0.2
             }
            },
            "type": "histogram"
           }
          ],
          "histogram2d": [
           {
            "colorbar": {
             "outlinewidth": 0,
             "ticks": ""
            },
            "colorscale": [
             [
              0,
              "#0d0887"
             ],
             [
              0.1111111111111111,
              "#46039f"
             ],
             [
              0.2222222222222222,
              "#7201a8"
             ],
             [
              0.3333333333333333,
              "#9c179e"
             ],
             [
              0.4444444444444444,
              "#bd3786"
             ],
             [
              0.5555555555555556,
              "#d8576b"
             ],
             [
              0.6666666666666666,
              "#ed7953"
             ],
             [
              0.7777777777777778,
              "#fb9f3a"
             ],
             [
              0.8888888888888888,
              "#fdca26"
             ],
             [
              1,
              "#f0f921"
             ]
            ],
            "type": "histogram2d"
           }
          ],
          "histogram2dcontour": [
           {
            "colorbar": {
             "outlinewidth": 0,
             "ticks": ""
            },
            "colorscale": [
             [
              0,
              "#0d0887"
             ],
             [
              0.1111111111111111,
              "#46039f"
             ],
             [
              0.2222222222222222,
              "#7201a8"
             ],
             [
              0.3333333333333333,
              "#9c179e"
             ],
             [
              0.4444444444444444,
              "#bd3786"
             ],
             [
              0.5555555555555556,
              "#d8576b"
             ],
             [
              0.6666666666666666,
              "#ed7953"
             ],
             [
              0.7777777777777778,
              "#fb9f3a"
             ],
             [
              0.8888888888888888,
              "#fdca26"
             ],
             [
              1,
              "#f0f921"
             ]
            ],
            "type": "histogram2dcontour"
           }
          ],
          "mesh3d": [
           {
            "colorbar": {
             "outlinewidth": 0,
             "ticks": ""
            },
            "type": "mesh3d"
           }
          ],
          "parcoords": [
           {
            "line": {
             "colorbar": {
              "outlinewidth": 0,
              "ticks": ""
             }
            },
            "type": "parcoords"
           }
          ],
          "pie": [
           {
            "automargin": true,
            "type": "pie"
           }
          ],
          "scatter": [
           {
            "fillpattern": {
             "fillmode": "overlay",
             "size": 10,
             "solidity": 0.2
            },
            "type": "scatter"
           }
          ],
          "scatter3d": [
           {
            "line": {
             "colorbar": {
              "outlinewidth": 0,
              "ticks": ""
             }
            },
            "marker": {
             "colorbar": {
              "outlinewidth": 0,
              "ticks": ""
             }
            },
            "type": "scatter3d"
           }
          ],
          "scattercarpet": [
           {
            "marker": {
             "colorbar": {
              "outlinewidth": 0,
              "ticks": ""
             }
            },
            "type": "scattercarpet"
           }
          ],
          "scattergeo": [
           {
            "marker": {
             "colorbar": {
              "outlinewidth": 0,
              "ticks": ""
             }
            },
            "type": "scattergeo"
           }
          ],
          "scattergl": [
           {
            "marker": {
             "colorbar": {
              "outlinewidth": 0,
              "ticks": ""
             }
            },
            "type": "scattergl"
           }
          ],
          "scattermapbox": [
           {
            "marker": {
             "colorbar": {
              "outlinewidth": 0,
              "ticks": ""
             }
            },
            "type": "scattermapbox"
           }
          ],
          "scatterpolar": [
           {
            "marker": {
             "colorbar": {
              "outlinewidth": 0,
              "ticks": ""
             }
            },
            "type": "scatterpolar"
           }
          ],
          "scatterpolargl": [
           {
            "marker": {
             "colorbar": {
              "outlinewidth": 0,
              "ticks": ""
             }
            },
            "type": "scatterpolargl"
           }
          ],
          "scatterternary": [
           {
            "marker": {
             "colorbar": {
              "outlinewidth": 0,
              "ticks": ""
             }
            },
            "type": "scatterternary"
           }
          ],
          "surface": [
           {
            "colorbar": {
             "outlinewidth": 0,
             "ticks": ""
            },
            "colorscale": [
             [
              0,
              "#0d0887"
             ],
             [
              0.1111111111111111,
              "#46039f"
             ],
             [
              0.2222222222222222,
              "#7201a8"
             ],
             [
              0.3333333333333333,
              "#9c179e"
             ],
             [
              0.4444444444444444,
              "#bd3786"
             ],
             [
              0.5555555555555556,
              "#d8576b"
             ],
             [
              0.6666666666666666,
              "#ed7953"
             ],
             [
              0.7777777777777778,
              "#fb9f3a"
             ],
             [
              0.8888888888888888,
              "#fdca26"
             ],
             [
              1,
              "#f0f921"
             ]
            ],
            "type": "surface"
           }
          ],
          "table": [
           {
            "cells": {
             "fill": {
              "color": "#EBF0F8"
             },
             "line": {
              "color": "white"
             }
            },
            "header": {
             "fill": {
              "color": "#C8D4E3"
             },
             "line": {
              "color": "white"
             }
            },
            "type": "table"
           }
          ]
         },
         "layout": {
          "annotationdefaults": {
           "arrowcolor": "#2a3f5f",
           "arrowhead": 0,
           "arrowwidth": 1
          },
          "autotypenumbers": "strict",
          "coloraxis": {
           "colorbar": {
            "outlinewidth": 0,
            "ticks": ""
           }
          },
          "colorscale": {
           "diverging": [
            [
             0,
             "#8e0152"
            ],
            [
             0.1,
             "#c51b7d"
            ],
            [
             0.2,
             "#de77ae"
            ],
            [
             0.3,
             "#f1b6da"
            ],
            [
             0.4,
             "#fde0ef"
            ],
            [
             0.5,
             "#f7f7f7"
            ],
            [
             0.6,
             "#e6f5d0"
            ],
            [
             0.7,
             "#b8e186"
            ],
            [
             0.8,
             "#7fbc41"
            ],
            [
             0.9,
             "#4d9221"
            ],
            [
             1,
             "#276419"
            ]
           ],
           "sequential": [
            [
             0,
             "#0d0887"
            ],
            [
             0.1111111111111111,
             "#46039f"
            ],
            [
             0.2222222222222222,
             "#7201a8"
            ],
            [
             0.3333333333333333,
             "#9c179e"
            ],
            [
             0.4444444444444444,
             "#bd3786"
            ],
            [
             0.5555555555555556,
             "#d8576b"
            ],
            [
             0.6666666666666666,
             "#ed7953"
            ],
            [
             0.7777777777777778,
             "#fb9f3a"
            ],
            [
             0.8888888888888888,
             "#fdca26"
            ],
            [
             1,
             "#f0f921"
            ]
           ],
           "sequentialminus": [
            [
             0,
             "#0d0887"
            ],
            [
             0.1111111111111111,
             "#46039f"
            ],
            [
             0.2222222222222222,
             "#7201a8"
            ],
            [
             0.3333333333333333,
             "#9c179e"
            ],
            [
             0.4444444444444444,
             "#bd3786"
            ],
            [
             0.5555555555555556,
             "#d8576b"
            ],
            [
             0.6666666666666666,
             "#ed7953"
            ],
            [
             0.7777777777777778,
             "#fb9f3a"
            ],
            [
             0.8888888888888888,
             "#fdca26"
            ],
            [
             1,
             "#f0f921"
            ]
           ]
          },
          "colorway": [
           "#636efa",
           "#EF553B",
           "#00cc96",
           "#ab63fa",
           "#FFA15A",
           "#19d3f3",
           "#FF6692",
           "#B6E880",
           "#FF97FF",
           "#FECB52"
          ],
          "font": {
           "color": "#2a3f5f"
          },
          "geo": {
           "bgcolor": "white",
           "lakecolor": "white",
           "landcolor": "#E5ECF6",
           "showlakes": true,
           "showland": true,
           "subunitcolor": "white"
          },
          "hoverlabel": {
           "align": "left"
          },
          "hovermode": "closest",
          "mapbox": {
           "style": "light"
          },
          "paper_bgcolor": "white",
          "plot_bgcolor": "#E5ECF6",
          "polar": {
           "angularaxis": {
            "gridcolor": "white",
            "linecolor": "white",
            "ticks": ""
           },
           "bgcolor": "#E5ECF6",
           "radialaxis": {
            "gridcolor": "white",
            "linecolor": "white",
            "ticks": ""
           }
          },
          "scene": {
           "xaxis": {
            "backgroundcolor": "#E5ECF6",
            "gridcolor": "white",
            "gridwidth": 2,
            "linecolor": "white",
            "showbackground": true,
            "ticks": "",
            "zerolinecolor": "white"
           },
           "yaxis": {
            "backgroundcolor": "#E5ECF6",
            "gridcolor": "white",
            "gridwidth": 2,
            "linecolor": "white",
            "showbackground": true,
            "ticks": "",
            "zerolinecolor": "white"
           },
           "zaxis": {
            "backgroundcolor": "#E5ECF6",
            "gridcolor": "white",
            "gridwidth": 2,
            "linecolor": "white",
            "showbackground": true,
            "ticks": "",
            "zerolinecolor": "white"
           }
          },
          "shapedefaults": {
           "line": {
            "color": "#2a3f5f"
           }
          },
          "ternary": {
           "aaxis": {
            "gridcolor": "white",
            "linecolor": "white",
            "ticks": ""
           },
           "baxis": {
            "gridcolor": "white",
            "linecolor": "white",
            "ticks": ""
           },
           "bgcolor": "#E5ECF6",
           "caxis": {
            "gridcolor": "white",
            "linecolor": "white",
            "ticks": ""
           }
          },
          "title": {
           "x": 0.05
          },
          "xaxis": {
           "automargin": true,
           "gridcolor": "white",
           "linecolor": "white",
           "ticks": "",
           "title": {
            "standoff": 15
           },
           "zerolinecolor": "white",
           "zerolinewidth": 2
          },
          "yaxis": {
           "automargin": true,
           "gridcolor": "white",
           "linecolor": "white",
           "ticks": "",
           "title": {
            "standoff": 15
           },
           "zerolinecolor": "white",
           "zerolinewidth": 2
          }
         }
        },
        "title": {
         "text": "Global explanation size & Total explanation size (Mean ± Std across seeds) - pipnet_SEED_stage7_p0"
        },
        "xaxis": {
         "showgrid": true,
         "title": {
          "text": "Epoch"
         }
        },
        "yaxis": {
         "dtick": 40,
         "showgrid": true,
         "title": {
          "text": "Size"
         }
        }
       }
      },
      "image/png": "[encoded data removed]",
      "text/html": [
       "<div>                            <div id=\"b84d4f54-be01-49b0-9e68-85fba6db1a14\" class=\"plotly-graph-div\" style=\"height:600px; width:100%;\"></div>            <script type=\"text/javascript\">                require([\"plotly\"], function(Plotly) {                    window.PLOTLYENV=window.PLOTLYENV || {};                                    if (document.getElementById(\"b84d4f54-be01-49b0-9e68-85fba6db1a14\")) {                    Plotly.newPlot(                        \"b84d4f54-be01-49b0-9e68-85fba6db1a14\",                        [{\"line\":{\"color\":\"royalblue\"},\"marker\":{\"size\":8},\"mode\":\"lines\",\"name\":\"Global explanation size\",\"x\":[1.0,2.0,3.0,4.0,5.0,6.0,7.0,8.0,9.0,10.0,11.0,12.0,13.0,14.0,15.0,16.0,17.0,18.0,19.0,20.0,21.0,22.0,23.0,24.0,25.0,26.0,27.0,28.0,29.0,30.0,31.0,32.0,33.0,34.0,35.0,36.0,37.0,38.0,39.0,40.0,41.0,42.0,43.0,44.0,45.0,46.0,47.0,48.0,49.0,50.0],\"y\":[768.0,768.0,768.0,768.0,768.0,768.0,768.0,767.6,765.0,763.0,758.2,745.6,730.0,712.0,695.4,676.0,653.6,628.6,596.2,560.6,539.2,516.6,500.2,481.0,463.8,447.2,429.2,409.6,388.8,370.6,367.0,363.8,358.8,353.4,345.6,338.0,327.8,318.2,310.4,298.2,300.6,298.8,297.4,293.4,290.0,285.0,279.6,273.6,264.8,256.6],\"type\":\"scatter\"},{\"line\":{\"width\":0},\"mode\":\"lines\",\"name\":\"Global explanation size (Upper)\",\"showlegend\":false,\"x\":[1.0,2.0,3.0,4.0,5.0,6.0,7.0,8.0,9.0,10.0,11.0,12.0,13.0,14.0,15.0,16.0,17.0,18.0,19.0,20.0,21.0,22.0,23.0,24.0,25.0,26.0,27.0,28.0,29.0,30.0,31.0,32.0,33.0,34.0,35.0,36.0,37.0,38.0,39.0,40.0,41.0,42.0,43.0,44.0,45.0,46.0,47.0,48.0,49.0,50.0],\"y\":[768.0,768.0,768.0,768.0,768.0,768.0,768.0,768.1477225575052,767.5495097567964,765.8284271247462,762.0340579025362,750.8725705305857,739.0277350426339,725.3790881602597,709.6232204510793,690.1950695665784,666.5730489862638,644.2620560591514,608.9945300812496,570.8127371453495,549.1849887330933,525.9166517590817,515.0727939540626,497.5529453572468,479.11992167081803,463.0965405041474,442.14990347454375,422.7643457870112,402.55499909123955,386.03696861433616,380.6565002837477,378.45264481245624,372.3720300618588,367.44635183953466,359.35863365309217,351.2664991614216,336.47179335547156,327.3214034007931,318.9322916030806,305.7630681604756,309.21974477580403,307.08854631404085,305.573126696681,300.7688533707762,298.5146931829632,292.90569415042097,287.8036577207975,282.2486993241759,273.9487704091861,264.58749021908636],\"type\":\"scatter\"},{\"fill\":\"tonexty\",\"fillcolor\":\"rgba(65, 105, 225, 0.2)\",\"line\":{\"width\":0},\"mode\":\"lines\",\"name\":\"Global explanation size (Lower)\",\"showlegend\":false,\"x\":[1.0,2.0,3.0,4.0,5.0,6.0,7.0,8.0,9.0,10.0,11.0,12.0,13.0,14.0,15.0,16.0,17.0,18.0,19.0,20.0,21.0,22.0,23.0,24.0,25.0,26.0,27.0,28.0,29.0,30.0,31.0,32.0,33.0,34.0,35.0,36.0,37.0,38.0,39.0,40.0,41.0,42.0,43.0,44.0,45.0,46.0,47.0,48.0,49.0,50.0],\"y\":[768.0,768.0,768.0,768.0,768.0,768.0,768.0,767.0522774424949,762.4504902432036,760.1715728752538,754.3659420974639,740.3274294694144,720.9722649573661,698.6209118397403,681.1767795489206,661.8049304334216,640.6269510137363,612.9379439408486,583.4054699187504,550.3872628546505,529.2150112669068,507.2833482409183,485.32720604593743,464.4470546427532,448.480078329182,431.30345949585256,416.25009652545623,396.4356542129888,375.04500090876047,355.1630313856639,353.3434997162523,349.1473551875438,345.2279699381412,339.3536481604653,331.8413663469079,324.7335008385784,319.12820664452846,309.0785965992069,301.86770839691934,290.6369318395244,291.980255224196,290.51145368595917,289.22687330331894,286.03114662922377,281.4853068170368,277.09430584957903,271.39634227920254,264.95130067582414,255.65122959081387,248.61250978091368],\"type\":\"scatter\"},{\"line\":{\"color\":\"green\"},\"marker\":{\"size\":8},\"mode\":\"lines\",\"name\":\"Total explanation size\",\"x\":[1.0,2.0,3.0,4.0,5.0,6.0,7.0,8.0,9.0,10.0,11.0,12.0,13.0,14.0,15.0,16.0,17.0,18.0,19.0,20.0,21.0,22.0,23.0,24.0,25.0,26.0,27.0,28.0,29.0,30.0,31.0,32.0,33.0,34.0,35.0,36.0,37.0,38.0,39.0,40.0,41.0,42.0,43.0,44.0,45.0,46.0,47.0,48.0,49.0,50.0],\"y\":[608.72,626.6622373453777,579.8844512939453,398.0251883951823,297.1985219319662,257.2059297688802,235.04148320515952,221.25333511352537,208.414816792806,203.90518684387206,200.26074300130207,175.34815032958986,147.82666870117185,124.12000195821126,105.94370493570963,93.87703791300456,83.89777844746907,75.5081490834554,68.95407534281414,63.125926742553716,59.517037582397464,56.21777800242106,53.72148169199626,51.63555642445882,49.5481488418579,47.81333340962728,45.79111119588216,43.848889338175454,41.35703768412272,39.53037111918131,38.99259326934815,38.64296325683594,38.21925996144613,37.54666727701823,36.6933340771993,36.09629713694254,35.000000953674316,33.96296312967936,32.96296356201172,31.752593167622887,31.933333778381346,31.826667073567712,31.580741653442384,31.30666657765706,30.77185166676839,30.21037089029948,29.767407684326173,29.094815120697024,28.253333511352537,27.39555541992188],\"type\":\"scatter\"},{\"line\":{\"width\":0},\"mode\":\"lines\",\"name\":\"Total explanation size (Upper)\",\"showlegend\":false,\"x\":[1.0,2.0,3.0,4.0,5.0,6.0,7.0,8.0,9.0,10.0,11.0,12.0,13.0,14.0,15.0,16.0,17.0,18.0,19.0,20.0,21.0,22.0,23.0,24.0,25.0,26.0,27.0,28.0,29.0,30.0,31.0,32.0,33.0,34.0,35.0,36.0,37.0,38.0,39.0,40.0,41.0,42.0,43.0,44.0,45.0,46.0,47.0,48.0,49.0,50.0],\"y\":[616.1883629025674,645.4597992338939,592.1518581137296,410.0599962381075,308.13863988658557,261.8863176720288,242.711324860729,227.64207388905442,212.00906353310256,207.77856429640758,206.04566604087816,181.0367947059663,152.61216787239383,128.674412095003,109.94148091467794,95.9391234958853,84.91058223823369,77.10159944388916,69.94991578824653,64.39828796632197,60.544124420430514,57.12968076901286,55.097571586225726,53.334126852028575,51.092082433485864,49.314859038033,47.28876705790544,45.371319688221305,42.74407721815737,41.209326594134666,40.445153319798386,40.09585858913303,39.63936395505062,39.098262386352715,37.99268109609355,37.414087415628046,36.148267939330076,34.988293844912036,33.92673906215116,32.602391156265945,32.84346596882048,32.840732384098665,32.47588312500886,32.005688198280914,31.638698387833017,31.18857858508352,30.666646708285782,29.951618673289765,29.156785361754814,28.23266769540217],\"type\":\"scatter\"},{\"fill\":\"tonexty\",\"fillcolor\":\"rgba(0, 128, 0, 0.2)\",\"line\":{\"width\":0},\"mode\":\"lines\",\"name\":\"Total explanation size (Lower)\",\"showlegend\":false,\"x\":[1.0,2.0,3.0,4.0,5.0,6.0,7.0,8.0,9.0,10.0,11.0,12.0,13.0,14.0,15.0,16.0,17.0,18.0,19.0,20.0,21.0,22.0,23.0,24.0,25.0,26.0,27.0,28.0,29.0,30.0,31.0,32.0,33.0,34.0,35.0,36.0,37.0,38.0,39.0,40.0,41.0,42.0,43.0,44.0,45.0,46.0,47.0,48.0,49.0,50.0],\"y\":[601.2516370974326,607.8646754568614,567.6170444741609,385.9903805522571,286.2584039773468,252.52554186573164,227.37164154959004,214.86459633799632,204.82057005250942,200.03180939133654,194.475819961726,169.65950595321343,143.04116952994988,119.56559182141952,101.94592895674133,91.81495233012382,82.88497465670444,73.91469872302163,67.95823489738174,61.853565518785466,58.489950744364414,55.30587523582927,52.345391797766794,49.936985996889064,48.00421525022994,46.31180778122157,44.29345533385888,42.3264589881296,39.969998150088074,37.851415644227956,37.54003321889791,37.19006792453885,36.799155967841635,35.995072167683745,35.39398705830506,34.77850685825703,33.85173396801856,32.93763241444668,31.99918806187229,30.90279517897983,31.023201587942214,30.812601763036763,30.685600181875905,30.60764495703321,29.905004945703766,29.23216319551544,28.868168660366564,28.238011568104284,27.34988166095026,26.55844314444159],\"type\":\"scatter\"}],                        {\"template\":{\"data\":{\"histogram2dcontour\":[{\"type\":\"histogram2dcontour\",\"colorbar\":{\"outlinewidth\":0,\"ticks\":\"\"},\"colorscale\":[[0.0,\"#0d0887\"],[0.1111111111111111,\"#46039f\"],[0.2222222222222222,\"#7201a8\"],[0.3333333333333333,\"#9c179e\"],[0.4444444444444444,\"#bd3786\"],[0.5555555555555556,\"#d8576b\"],[0.6666666666666666,\"#ed7953\"],[0.7777777777777778,\"#fb9f3a\"],[0.8888888888888888,\"#fdca26\"],[1.0,\"#f0f921\"]]}],\"choropleth\":[{\"type\":\"choropleth\",\"colorbar\":{\"outlinewidth\":0,\"ticks\":\"\"}}],\"histogram2d\":[{\"type\":\"histogram2d\",\"colorbar\":{\"outlinewidth\":0,\"ticks\":\"\"},\"colorscale\":[[0.0,\"#0d0887\"],[0.1111111111111111,\"#46039f\"],[0.2222222222222222,\"#7201a8\"],[0.3333333333333333,\"#9c179e\"],[0.4444444444444444,\"#bd3786\"],[0.5555555555555556,\"#d8576b\"],[0.6666666666666666,\"#ed7953\"],[0.7777777777777778,\"#fb9f3a\"],[0.8888888888888888,\"#fdca26\"],[1.0,\"#f0f921\"]]}],\"heatmap\":[{\"type\":\"heatmap\",\"colorbar\":{\"outlinewidth\":0,\"ticks\":\"\"},\"colorscale\":[[0.0,\"#0d0887\"],[0.1111111111111111,\"#46039f\"],[0.2222222222222222,\"#7201a8\"],[0.3333333333333333,\"#9c179e\"],[0.4444444444444444,\"#bd3786\"],[0.5555555555555556,\"#d8576b\"],[0.6666666666666666,\"#ed7953\"],[0.7777777777777778,\"#fb9f3a\"],[0.8888888888888888,\"#fdca26\"],[1.0,\"#f0f921\"]]}],\"heatmapgl\":[{\"type\":\"heatmapgl\",\"colorbar\":{\"outlinewidth\":0,\"ticks\":\"\"},\"colorscale\":[[0.0,\"#0d0887\"],[0.1111111111111111,\"#46039f\"],[0.2222222222222222,\"#7201a8\"],[0.3333333333333333,\"#9c179e\"],[0.4444444444444444,\"#bd3786\"],[0.5555555555555556,\"#d8576b\"],[0.6666666666666666,\"#ed7953\"],[0.7777777777777778,\"#fb9f3a\"],[0.8888888888888888,\"#fdca26\"],[1.0,\"#f0f921\"]]}],\"contourcarpet\":[{\"type\":\"contourcarpet\",\"colorbar\":{\"outlinewidth\":0,\"ticks\":\"\"}}],\"contour\":[{\"type\":\"contour\",\"colorbar\":{\"outlinewidth\":0,\"ticks\":\"\"},\"colorscale\":[[0.0,\"#0d0887\"],[0.1111111111111111,\"#46039f\"],[0.2222222222222222,\"#7201a8\"],[0.3333333333333333,\"#9c179e\"],[0.4444444444444444,\"#bd3786\"],[0.5555555555555556,\"#d8576b\"],[0.6666666666666666,\"#ed7953\"],[0.7777777777777778,\"#fb9f3a\"],[0.8888888888888888,\"#fdca26\"],[1.0,\"#f0f921\"]]}],\"surface\":[{\"type\":\"surface\",\"colorbar\":{\"outlinewidth\":0,\"ticks\":\"\"},\"colorscale\":[[0.0,\"#0d0887\"],[0.1111111111111111,\"#46039f\"],[0.2222222222222222,\"#7201a8\"],[0.3333333333333333,\"#9c179e\"],[0.4444444444444444,\"#bd3786\"],[0.5555555555555556,\"#d8576b\"],[0.6666666666666666,\"#ed7953\"],[0.7777777777777778,\"#fb9f3a\"],[0.8888888888888888,\"#fdca26\"],[1.0,\"#f0f921\"]]}],\"mesh3d\":[{\"type\":\"mesh3d\",\"colorbar\":{\"outlinewidth\":0,\"ticks\":\"\"}}],\"scatter\":[{\"fillpattern\":{\"fillmode\":\"overlay\",\"size\":10,\"solidity\":0.2},\"type\":\"scatter\"}],\"parcoords\":[{\"type\":\"parcoords\",\"line\":{\"colorbar\":{\"outlinewidth\":0,\"ticks\":\"\"}}}],\"scatterpolargl\":[{\"type\":\"scatterpolargl\",\"marker\":{\"colorbar\":{\"outlinewidth\":0,\"ticks\":\"\"}}}],\"bar\":[{\"error_x\":{\"color\":\"#2a3f5f\"},\"error_y\":{\"color\":\"#2a3f5f\"},\"marker\":{\"line\":{\"color\":\"#E5ECF6\",\"width\":0.5},\"pattern\":{\"fillmode\":\"overlay\",\"size\":10,\"solidity\":0.2}},\"type\":\"bar\"}],\"scattergeo\":[{\"type\":\"scattergeo\",\"marker\":{\"colorbar\":{\"outlinewidth\":0,\"ticks\":\"\"}}}],\"scatterpolar\":[{\"type\":\"scatterpolar\",\"marker\":{\"colorbar\":{\"outlinewidth\":0,\"ticks\":\"\"}}}],\"histogram\":[{\"marker\":{\"pattern\":{\"fillmode\":\"overlay\",\"size\":10,\"solidity\":0.2}},\"type\":\"histogram\"}],\"scattergl\":[{\"type\":\"scattergl\",\"marker\":{\"colorbar\":{\"outlinewidth\":0,\"ticks\":\"\"}}}],\"scatter3d\":[{\"type\":\"scatter3d\",\"line\":{\"colorbar\":{\"outlinewidth\":0,\"ticks\":\"\"}},\"marker\":{\"colorbar\":{\"outlinewidth\":0,\"ticks\":\"\"}}}],\"scattermapbox\":[{\"type\":\"scattermapbox\",\"marker\":{\"colorbar\":{\"outlinewidth\":0,\"ticks\":\"\"}}}],\"scatterternary\":[{\"type\":\"scatterternary\",\"marker\":{\"colorbar\":{\"outlinewidth\":0,\"ticks\":\"\"}}}],\"scattercarpet\":[{\"type\":\"scattercarpet\",\"marker\":{\"colorbar\":{\"outlinewidth\":0,\"ticks\":\"\"}}}],\"carpet\":[{\"aaxis\":{\"endlinecolor\":\"#2a3f5f\",\"gridcolor\":\"white\",\"linecolor\":\"white\",\"minorgridcolor\":\"white\",\"startlinecolor\":\"#2a3f5f\"},\"baxis\":{\"endlinecolor\":\"#2a3f5f\",\"gridcolor\":\"white\",\"linecolor\":\"white\",\"minorgridcolor\":\"white\",\"startlinecolor\":\"#2a3f5f\"},\"type\":\"carpet\"}],\"table\":[{\"cells\":{\"fill\":{\"color\":\"#EBF0F8\"},\"line\":{\"color\":\"white\"}},\"header\":{\"fill\":{\"color\":\"#C8D4E3\"},\"line\":{\"color\":\"white\"}},\"type\":\"table\"}],\"barpolar\":[{\"marker\":{\"line\":{\"color\":\"#E5ECF6\",\"width\":0.5},\"pattern\":{\"fillmode\":\"overlay\",\"size\":10,\"solidity\":0.2}},\"type\":\"barpolar\"}],\"pie\":[{\"automargin\":true,\"type\":\"pie\"}]},\"layout\":{\"autotypenumbers\":\"strict\",\"colorway\":[\"#636efa\",\"#EF553B\",\"#00cc96\",\"#ab63fa\",\"#FFA15A\",\"#19d3f3\",\"#FF6692\",\"#B6E880\",\"#FF97FF\",\"#FECB52\"],\"font\":{\"color\":\"#2a3f5f\"},\"hovermode\":\"closest\",\"hoverlabel\":{\"align\":\"left\"},\"paper_bgcolor\":\"white\",\"plot_bgcolor\":\"#E5ECF6\",\"polar\":{\"bgcolor\":\"#E5ECF6\",\"angularaxis\":{\"gridcolor\":\"white\",\"linecolor\":\"white\",\"ticks\":\"\"},\"radialaxis\":{\"gridcolor\":\"white\",\"linecolor\":\"white\",\"ticks\":\"\"}},\"ternary\":{\"bgcolor\":\"#E5ECF6\",\"aaxis\":{\"gridcolor\":\"white\",\"linecolor\":\"white\",\"ticks\":\"\"},\"baxis\":{\"gridcolor\":\"white\",\"linecolor\":\"white\",\"ticks\":\"\"},\"caxis\":{\"gridcolor\":\"white\",\"linecolor\":\"white\",\"ticks\":\"\"}},\"coloraxis\":{\"colorbar\":{\"outlinewidth\":0,\"ticks\":\"\"}},\"colorscale\":{\"sequential\":[[0.0,\"#0d0887\"],[0.1111111111111111,\"#46039f\"],[0.2222222222222222,\"#7201a8\"],[0.3333333333333333,\"#9c179e\"],[0.4444444444444444,\"#bd3786\"],[0.5555555555555556,\"#d8576b\"],[0.6666666666666666,\"#ed7953\"],[0.7777777777777778,\"#fb9f3a\"],[0.8888888888888888,\"#fdca26\"],[1.0,\"#f0f921\"]],\"sequentialminus\":[[0.0,\"#0d0887\"],[0.1111111111111111,\"#46039f\"],[0.2222222222222222,\"#7201a8\"],[0.3333333333333333,\"#9c179e\"],[0.4444444444444444,\"#bd3786\"],[0.5555555555555556,\"#d8576b\"],[0.6666666666666666,\"#ed7953\"],[0.7777777777777778,\"#fb9f3a\"],[0.8888888888888888,\"#fdca26\"],[1.0,\"#f0f921\"]],\"diverging\":[[0,\"#8e0152\"],[0.1,\"#c51b7d\"],[0.2,\"#de77ae\"],[0.3,\"#f1b6da\"],[0.4,\"#fde0ef\"],[0.5,\"#f7f7f7\"],[0.6,\"#e6f5d0\"],[0.7,\"#b8e186\"],[0.8,\"#7fbc41\"],[0.9,\"#4d9221\"],[1,\"#276419\"]]},\"xaxis\":{\"gridcolor\":\"white\",\"linecolor\":\"white\",\"ticks\":\"\",\"title\":{\"standoff\":15},\"zerolinecolor\":\"white\",\"automargin\":true,\"zerolinewidth\":2},\"yaxis\":{\"gridcolor\":\"white\",\"linecolor\":\"white\",\"ticks\":\"\",\"title\":{\"standoff\":15},\"zerolinecolor\":\"white\",\"automargin\":true,\"zerolinewidth\":2},\"scene\":{\"xaxis\":{\"backgroundcolor\":\"#E5ECF6\",\"gridcolor\":\"white\",\"linecolor\":\"white\",\"showbackground\":true,\"ticks\":\"\",\"zerolinecolor\":\"white\",\"gridwidth\":2},\"yaxis\":{\"backgroundcolor\":\"#E5ECF6\",\"gridcolor\":\"white\",\"linecolor\":\"white\",\"showbackground\":true,\"ticks\":\"\",\"zerolinecolor\":\"white\",\"gridwidth\":2},\"zaxis\":{\"backgroundcolor\":\"#E5ECF6\",\"gridcolor\":\"white\",\"linecolor\":\"white\",\"showbackground\":true,\"ticks\":\"\",\"zerolinecolor\":\"white\",\"gridwidth\":2}},\"shapedefaults\":{\"line\":{\"color\":\"#2a3f5f\"}},\"annotationdefaults\":{\"arrowcolor\":\"#2a3f5f\",\"arrowhead\":0,\"arrowwidth\":1},\"geo\":{\"bgcolor\":\"white\",\"landcolor\":\"#E5ECF6\",\"subunitcolor\":\"white\",\"showland\":true,\"showlakes\":true,\"lakecolor\":\"white\"},\"title\":{\"x\":0.05},\"mapbox\":{\"style\":\"light\"}}},\"legend\":{\"orientation\":\"h\",\"yanchor\":\"bottom\",\"y\":1.02,\"xanchor\":\"right\",\"x\":1},\"xaxis\":{\"title\":{\"text\":\"Epoch\"},\"showgrid\":true},\"yaxis\":{\"title\":{\"text\":\"Size\"},\"showgrid\":true,\"dtick\":40},\"title\":{\"text\":\"Global explanation size & Total explanation size (Mean ± Std across seeds) - pipnet_SEED_stage7_p0\"},\"hovermode\":\"x unified\",\"height\":600},                        {\"responsive\": true}                    ).then(function(){\n",
       "                            \n",
       "var gd = document.getElementById('b84d4f54-be01-49b0-9e68-85fba6db1a14');\n",
       "var x = new MutationObserver(function (mutations, observer) {{\n",
       "        var display = window.getComputedStyle(gd).display;\n",
       "        if (!display || display === 'none') {{\n",
       "            console.log([gd, 'removed!']);\n",
       "            Plotly.purge(gd);\n",
       "            observer.disconnect();\n",
       "        }}\n",
       "}});\n",
       "\n",
       "// Listen for the removal of the full notebook cells\n",
       "var notebookContainer = gd.closest('#notebook-container');\n",
       "if (notebookContainer) {{\n",
       "    x.observe(notebookContainer, {childList: true});\n",
       "}}\n",
       "\n",
       "// Listen for the clearing of the current output cell\n",
       "var outputEl = gd.closest('.output');\n",
       "if (outputEl) {{\n",
       "    x.observe(outputEl, {childList: true});\n",
       "}}\n",
       "\n",
       "                        })                };                });            </script>        </div>"
      ]
     },
     "metadata": {},
     "output_type": "display_data"
    },
    {
     "data": {
      "application/vnd.plotly.v1+json": {
       "config": {
        "plotlyServerURL": "https://plot.ly"
       },
       "data": [
        {
         "line": {
          "color": "royalblue"
         },
         "marker": {
          "size": 8
         },
         "mode": "lines",
         "name": "Mean",
         "type": "scatter",
         "x": [
          1,
          2,
          3,
          4,
          5,
          6,
          7,
          8,
          9,
          10,
          11,
          12,
          13,
          14,
          15,
          16,
          17,
          18,
          19,
          20,
          21,
          22,
          23,
          24,
          25,
          26,
          27,
          28,
          29,
          30,
          31,
          32,
          33,
          34,
          35,
          36,
          37,
          38,
          39,
          40,
          41,
          42,
          43,
          44,
          45,
          46,
          47,
          48,
          49,
          50
         ],
         "y": [
          50.60604166666667,
          58.8375,
          63.438541666666666,
          65.324375,
          59.94145833333333,
          57.020208333333336,
          55.78479166666666,
          53.90979166666667,
          57.23145833333333,
          60.01604166666666,
          72.83979166666667,
          68.09541666666667,
          69.08729166666667,
          70.62208333333334,
          71.45270833333333,
          67.27374999999999,
          68.67645833333333,
          69.345625,
          75.46583333333334,
          75.55,
          78.99395833333332,
          76.31083333333333,
          78.0875,
          78.36812499999999,
          78.57208333333332,
          77.75479166666666,
          80.403125,
          80.31229166666667,
          79.24645833333332,
          79.32416666666667,
          77.31520833333335,
          81.09958333333334,
          78.44291666666666,
          78.76104166666667,
          78.61145833333333,
          79.11229166666666,
          79.49645833333332,
          79.18083333333334,
          78.74958333333333,
          79.40145833333334,
          78.52250000000001,
          78.08500000000001,
          77.55458333333334,
          78.26270833333334,
          77.68416666666667,
          77.454375,
          78.01208333333334,
          76.73833333333333,
          78.65520833333332,
          77.58125
         ]
        },
        {
         "line": {
          "width": 0
         },
         "mode": "lines",
         "name": "Upper Bound",
         "showlegend": false,
         "type": "scatter",
         "x": [
          1,
          2,
          3,
          4,
          5,
          6,
          7,
          8,
          9,
          10,
          11,
          12,
          13,
          14,
          15,
          16,
          17,
          18,
          19,
          20,
          21,
          22,
          23,
          24,
          25,
          26,
          27,
          28,
          29,
          30,
          31,
          32,
          33,
          34,
          35,
          36,
          37,
          38,
          39,
          40,
          41,
          42,
          43,
          44,
          45,
          46,
          47,
          48,
          49,
          50
         ],
         "y": [
          52.5367473556481,
          64.99677766778612,
          68.38966190150859,
          71.70779224576319,
          66.19765016206722,
          60.2119668414495,
          61.62595919244745,
          58.67570875698681,
          58.42579206023518,
          65.59229585613743,
          81.87465780281337,
          78.32839119446805,
          75.4600556655327,
          75.30691558345772,
          75.3298930893057,
          72.33513509028091,
          72.1701464974154,
          74.3924115489325,
          78.5453643855775,
          79.1520926715707,
          84.29216548513831,
          80.21670113408001,
          81.9012161510889,
          82.5086388611919,
          83.8870613297535,
          82.17825315081413,
          82.32169586681908,
          82.5981663786281,
          85.66910197481664,
          83.84746173134988,
          78.43689099055283,
          83.98747079456089,
          81.97962807452359,
          81.9834050982289,
          82.09445826442223,
          81.52472143410291,
          81.07893010413429,
          81.45720542509989,
          80.0801906133025,
          82.10161371482556,
          81.52974779150537,
          81.38910456672413,
          80.01977818473596,
          81.5273895831944,
          79.86846111856737,
          78.50328507626502,
          80.52367155840653,
          78.029035762407,
          80.59489334118575,
          78.79986600046824
         ]
        },
        {
         "fill": "tonexty",
         "fillcolor": "rgba(65, 105, 225, 0.2)",
         "line": {
          "width": 0
         },
         "mode": "lines",
         "name": "Lower Bound",
         "showlegend": false,
         "type": "scatter",
         "x": [
          1,
          2,
          3,
          4,
          5,
          6,
          7,
          8,
          9,
          10,
          11,
          12,
          13,
          14,
          15,
          16,
          17,
          18,
          19,
          20,
          21,
          22,
          23,
          24,
          25,
          26,
          27,
          28,
          29,
          30,
          31,
          32,
          33,
          34,
          35,
          36,
          37,
          38,
          39,
          40,
          41,
          42,
          43,
          44,
          45,
          46,
          47,
          48,
          49,
          50
         ],
         "y": [
          48.675335977685236,
          52.67822233221387,
          58.48742143182475,
          58.94095775423681,
          53.68526650459944,
          53.82844982521717,
          49.94362414088587,
          49.14387457634653,
          56.037124606431476,
          54.43978747719589,
          63.804925530519974,
          57.862442138865276,
          62.71452766780064,
          65.93725108320895,
          67.57552357736097,
          62.212364909719064,
          65.18277016925126,
          64.2988384510675,
          72.38630228108917,
          71.9479073284293,
          73.69575118152834,
          72.40496553258666,
          74.27378384891111,
          74.22761113880809,
          73.25710533691316,
          73.3313301825192,
          78.48455413318092,
          78.02641695470524,
          72.82381469185,
          74.80087160198346,
          76.19352567611386,
          78.21169587210579,
          74.90620525880973,
          75.53867823510444,
          75.12845840224443,
          76.69986189923041,
          77.91398656253236,
          76.90446124156679,
          77.41897605336416,
          76.70130295184111,
          75.51525220849464,
          74.78089543327589,
          75.08938848193073,
          74.99802708347227,
          75.49987221476597,
          76.40546492373498,
          75.50049510826014,
          75.44763090425965,
          76.71552332548089,
          76.36263399953175
         ]
        }
       ],
       "layout": {
        "height": 600,
        "hovermode": "x unified",
        "legend": {
         "orientation": "h",
         "x": 1,
         "xanchor": "right",
         "y": 1.02,
         "yanchor": "bottom"
        },
        "template": {
         "data": {
          "bar": [
           {
            "error_x": {
             "color": "#2a3f5f"
            },
            "error_y": {
             "color": "#2a3f5f"
            },
            "marker": {
             "line": {
              "color": "#E5ECF6",
              "width": 0.5
             },
             "pattern": {
              "fillmode": "overlay",
              "size": 10,
              "solidity": 0.2
             }
            },
            "type": "bar"
           }
          ],
          "barpolar": [
           {
            "marker": {
             "line": {
              "color": "#E5ECF6",
              "width": 0.5
             },
             "pattern": {
              "fillmode": "overlay",
              "size": 10,
              "solidity": 0.2
             }
            },
            "type": "barpolar"
           }
          ],
          "carpet": [
           {
            "aaxis": {
             "endlinecolor": "#2a3f5f",
             "gridcolor": "white",
             "linecolor": "white",
             "minorgridcolor": "white",
             "startlinecolor": "#2a3f5f"
            },
            "baxis": {
             "endlinecolor": "#2a3f5f",
             "gridcolor": "white",
             "linecolor": "white",
             "minorgridcolor": "white",
             "startlinecolor": "#2a3f5f"
            },
            "type": "carpet"
           }
          ],
          "choropleth": [
           {
            "colorbar": {
             "outlinewidth": 0,
             "ticks": ""
            },
            "type": "choropleth"
           }
          ],
          "contour": [
           {
            "colorbar": {
             "outlinewidth": 0,
             "ticks": ""
            },
            "colorscale": [
             [
              0,
              "#0d0887"
             ],
             [
              0.1111111111111111,
              "#46039f"
             ],
             [
              0.2222222222222222,
              "#7201a8"
             ],
             [
              0.3333333333333333,
              "#9c179e"
             ],
             [
              0.4444444444444444,
              "#bd3786"
             ],
             [
              0.5555555555555556,
              "#d8576b"
             ],
             [
              0.6666666666666666,
              "#ed7953"
             ],
             [
              0.7777777777777778,
              "#fb9f3a"
             ],
             [
              0.8888888888888888,
              "#fdca26"
             ],
             [
              1,
              "#f0f921"
             ]
            ],
            "type": "contour"
           }
          ],
          "contourcarpet": [
           {
            "colorbar": {
             "outlinewidth": 0,
             "ticks": ""
            },
            "type": "contourcarpet"
           }
          ],
          "heatmap": [
           {
            "colorbar": {
             "outlinewidth": 0,
             "ticks": ""
            },
            "colorscale": [
             [
              0,
              "#0d0887"
             ],
             [
              0.1111111111111111,
              "#46039f"
             ],
             [
              0.2222222222222222,
              "#7201a8"
             ],
             [
              0.3333333333333333,
              "#9c179e"
             ],
             [
              0.4444444444444444,
              "#bd3786"
             ],
             [
              0.5555555555555556,
              "#d8576b"
             ],
             [
              0.6666666666666666,
              "#ed7953"
             ],
             [
              0.7777777777777778,
              "#fb9f3a"
             ],
             [
              0.8888888888888888,
              "#fdca26"
             ],
             [
              1,
              "#f0f921"
             ]
            ],
            "type": "heatmap"
           }
          ],
          "heatmapgl": [
           {
            "colorbar": {
             "outlinewidth": 0,
             "ticks": ""
            },
            "colorscale": [
             [
              0,
              "#0d0887"
             ],
             [
              0.1111111111111111,
              "#46039f"
             ],
             [
              0.2222222222222222,
              "#7201a8"
             ],
             [
              0.3333333333333333,
              "#9c179e"
             ],
             [
              0.4444444444444444,
              "#bd3786"
             ],
             [
              0.5555555555555556,
              "#d8576b"
             ],
             [
              0.6666666666666666,
              "#ed7953"
             ],
             [
              0.7777777777777778,
              "#fb9f3a"
             ],
             [
              0.8888888888888888,
              "#fdca26"
             ],
             [
              1,
              "#f0f921"
             ]
            ],
            "type": "heatmapgl"
           }
          ],
          "histogram": [
           {
            "marker": {
             "pattern": {
              "fillmode": "overlay",
              "size": 10,
              "solidity": 0.2
             }
            },
            "type": "histogram"
           }
          ],
          "histogram2d": [
           {
            "colorbar": {
             "outlinewidth": 0,
             "ticks": ""
            },
            "colorscale": [
             [
              0,
              "#0d0887"
             ],
             [
              0.1111111111111111,
              "#46039f"
             ],
             [
              0.2222222222222222,
              "#7201a8"
             ],
             [
              0.3333333333333333,
              "#9c179e"
             ],
             [
              0.4444444444444444,
              "#bd3786"
             ],
             [
              0.5555555555555556,
              "#d8576b"
             ],
             [
              0.6666666666666666,
              "#ed7953"
             ],
             [
              0.7777777777777778,
              "#fb9f3a"
             ],
             [
              0.8888888888888888,
              "#fdca26"
             ],
             [
              1,
              "#f0f921"
             ]
            ],
            "type": "histogram2d"
           }
          ],
          "histogram2dcontour": [
           {
            "colorbar": {
             "outlinewidth": 0,
             "ticks": ""
            },
            "colorscale": [
             [
              0,
              "#0d0887"
             ],
             [
              0.1111111111111111,
              "#46039f"
             ],
             [
              0.2222222222222222,
              "#7201a8"
             ],
             [
              0.3333333333333333,
              "#9c179e"
             ],
             [
              0.4444444444444444,
              "#bd3786"
             ],
             [
              0.5555555555555556,
              "#d8576b"
             ],
             [
              0.6666666666666666,
              "#ed7953"
             ],
             [
              0.7777777777777778,
              "#fb9f3a"
             ],
             [
              0.8888888888888888,
              "#fdca26"
             ],
             [
              1,
              "#f0f921"
             ]
            ],
            "type": "histogram2dcontour"
           }
          ],
          "mesh3d": [
           {
            "colorbar": {
             "outlinewidth": 0,
             "ticks": ""
            },
            "type": "mesh3d"
           }
          ],
          "parcoords": [
           {
            "line": {
             "colorbar": {
              "outlinewidth": 0,
              "ticks": ""
             }
            },
            "type": "parcoords"
           }
          ],
          "pie": [
           {
            "automargin": true,
            "type": "pie"
           }
          ],
          "scatter": [
           {
            "fillpattern": {
             "fillmode": "overlay",
             "size": 10,
             "solidity": 0.2
            },
            "type": "scatter"
           }
          ],
          "scatter3d": [
           {
            "line": {
             "colorbar": {
              "outlinewidth": 0,
              "ticks": ""
             }
            },
            "marker": {
             "colorbar": {
              "outlinewidth": 0,
              "ticks": ""
             }
            },
            "type": "scatter3d"
           }
          ],
          "scattercarpet": [
           {
            "marker": {
             "colorbar": {
              "outlinewidth": 0,
              "ticks": ""
             }
            },
            "type": "scattercarpet"
           }
          ],
          "scattergeo": [
           {
            "marker": {
             "colorbar": {
              "outlinewidth": 0,
              "ticks": ""
             }
            },
            "type": "scattergeo"
           }
          ],
          "scattergl": [
           {
            "marker": {
             "colorbar": {
              "outlinewidth": 0,
              "ticks": ""
             }
            },
            "type": "scattergl"
           }
          ],
          "scattermapbox": [
           {
            "marker": {
             "colorbar": {
              "outlinewidth": 0,
              "ticks": ""
             }
            },
            "type": "scattermapbox"
           }
          ],
          "scatterpolar": [
           {
            "marker": {
             "colorbar": {
              "outlinewidth": 0,
              "ticks": ""
             }
            },
            "type": "scatterpolar"
           }
          ],
          "scatterpolargl": [
           {
            "marker": {
             "colorbar": {
              "outlinewidth": 0,
              "ticks": ""
             }
            },
            "type": "scatterpolargl"
           }
          ],
          "scatterternary": [
           {
            "marker": {
             "colorbar": {
              "outlinewidth": 0,
              "ticks": ""
             }
            },
            "type": "scatterternary"
           }
          ],
          "surface": [
           {
            "colorbar": {
             "outlinewidth": 0,
             "ticks": ""
            },
            "colorscale": [
             [
              0,
              "#0d0887"
             ],
             [
              0.1111111111111111,
              "#46039f"
             ],
             [
              0.2222222222222222,
              "#7201a8"
             ],
             [
              0.3333333333333333,
              "#9c179e"
             ],
             [
              0.4444444444444444,
              "#bd3786"
             ],
             [
              0.5555555555555556,
              "#d8576b"
             ],
             [
              0.6666666666666666,
              "#ed7953"
             ],
             [
              0.7777777777777778,
              "#fb9f3a"
             ],
             [
              0.8888888888888888,
              "#fdca26"
             ],
             [
              1,
              "#f0f921"
             ]
            ],
            "type": "surface"
           }
          ],
          "table": [
           {
            "cells": {
             "fill": {
              "color": "#EBF0F8"
             },
             "line": {
              "color": "white"
             }
            },
            "header": {
             "fill": {
              "color": "#C8D4E3"
             },
             "line": {
              "color": "white"
             }
            },
            "type": "table"
           }
          ]
         },
         "layout": {
          "annotationdefaults": {
           "arrowcolor": "#2a3f5f",
           "arrowhead": 0,
           "arrowwidth": 1
          },
          "autotypenumbers": "strict",
          "coloraxis": {
           "colorbar": {
            "outlinewidth": 0,
            "ticks": ""
           }
          },
          "colorscale": {
           "diverging": [
            [
             0,
             "#8e0152"
            ],
            [
             0.1,
             "#c51b7d"
            ],
            [
             0.2,
             "#de77ae"
            ],
            [
             0.3,
             "#f1b6da"
            ],
            [
             0.4,
             "#fde0ef"
            ],
            [
             0.5,
             "#f7f7f7"
            ],
            [
             0.6,
             "#e6f5d0"
            ],
            [
             0.7,
             "#b8e186"
            ],
            [
             0.8,
             "#7fbc41"
            ],
            [
             0.9,
             "#4d9221"
            ],
            [
             1,
             "#276419"
            ]
           ],
           "sequential": [
            [
             0,
             "#0d0887"
            ],
            [
             0.1111111111111111,
             "#46039f"
            ],
            [
             0.2222222222222222,
             "#7201a8"
            ],
            [
             0.3333333333333333,
             "#9c179e"
            ],
            [
             0.4444444444444444,
             "#bd3786"
            ],
            [
             0.5555555555555556,
             "#d8576b"
            ],
            [
             0.6666666666666666,
             "#ed7953"
            ],
            [
             0.7777777777777778,
             "#fb9f3a"
            ],
            [
             0.8888888888888888,
             "#fdca26"
            ],
            [
             1,
             "#f0f921"
            ]
           ],
           "sequentialminus": [
            [
             0,
             "#0d0887"
            ],
            [
             0.1111111111111111,
             "#46039f"
            ],
            [
             0.2222222222222222,
             "#7201a8"
            ],
            [
             0.3333333333333333,
             "#9c179e"
            ],
            [
             0.4444444444444444,
             "#bd3786"
            ],
            [
             0.5555555555555556,
             "#d8576b"
            ],
            [
             0.6666666666666666,
             "#ed7953"
            ],
            [
             0.7777777777777778,
             "#fb9f3a"
            ],
            [
             0.8888888888888888,
             "#fdca26"
            ],
            [
             1,
             "#f0f921"
            ]
           ]
          },
          "colorway": [
           "#636efa",
           "#EF553B",
           "#00cc96",
           "#ab63fa",
           "#FFA15A",
           "#19d3f3",
           "#FF6692",
           "#B6E880",
           "#FF97FF",
           "#FECB52"
          ],
          "font": {
           "color": "#2a3f5f"
          },
          "geo": {
           "bgcolor": "white",
           "lakecolor": "white",
           "landcolor": "#E5ECF6",
           "showlakes": true,
           "showland": true,
           "subunitcolor": "white"
          },
          "hoverlabel": {
           "align": "left"
          },
          "hovermode": "closest",
          "mapbox": {
           "style": "light"
          },
          "paper_bgcolor": "white",
          "plot_bgcolor": "#E5ECF6",
          "polar": {
           "angularaxis": {
            "gridcolor": "white",
            "linecolor": "white",
            "ticks": ""
           },
           "bgcolor": "#E5ECF6",
           "radialaxis": {
            "gridcolor": "white",
            "linecolor": "white",
            "ticks": ""
           }
          },
          "scene": {
           "xaxis": {
            "backgroundcolor": "#E5ECF6",
            "gridcolor": "white",
            "gridwidth": 2,
            "linecolor": "white",
            "showbackground": true,
            "ticks": "",
            "zerolinecolor": "white"
           },
           "yaxis": {
            "backgroundcolor": "#E5ECF6",
            "gridcolor": "white",
            "gridwidth": 2,
            "linecolor": "white",
            "showbackground": true,
            "ticks": "",
            "zerolinecolor": "white"
           },
           "zaxis": {
            "backgroundcolor": "#E5ECF6",
            "gridcolor": "white",
            "gridwidth": 2,
            "linecolor": "white",
            "showbackground": true,
            "ticks": "",
            "zerolinecolor": "white"
           }
          },
          "shapedefaults": {
           "line": {
            "color": "#2a3f5f"
           }
          },
          "ternary": {
           "aaxis": {
            "gridcolor": "white",
            "linecolor": "white",
            "ticks": ""
           },
           "baxis": {
            "gridcolor": "white",
            "linecolor": "white",
            "ticks": ""
           },
           "bgcolor": "#E5ECF6",
           "caxis": {
            "gridcolor": "white",
            "linecolor": "white",
            "ticks": ""
           }
          },
          "title": {
           "x": 0.05
          },
          "xaxis": {
           "automargin": true,
           "gridcolor": "white",
           "linecolor": "white",
           "ticks": "",
           "title": {
            "standoff": 15
           },
           "zerolinecolor": "white",
           "zerolinewidth": 2
          },
          "yaxis": {
           "automargin": true,
           "gridcolor": "white",
           "linecolor": "white",
           "ticks": "",
           "title": {
            "standoff": 15
           },
           "zerolinecolor": "white",
           "zerolinewidth": 2
          }
         }
        },
        "title": {
         "text": "Number of non-zero prototypes (Mean ± Std across seeds) - pipnet_SEED_stage7_p0"
        },
        "xaxis": {
         "showgrid": true,
         "title": {
          "text": "Epoch"
         }
        },
        "yaxis": {
         "dtick": 2,
         "showgrid": true,
         "title": {
          "text": "Count"
         }
        }
       }
      },
      "image/png": "[encoded data removed]",
      "text/html": [
       "<div>                            <div id=\"21a4fbbd-7f2f-4f9c-8d34-655671402faa\" class=\"plotly-graph-div\" style=\"height:600px; width:100%;\"></div>            <script type=\"text/javascript\">                require([\"plotly\"], function(Plotly) {                    window.PLOTLYENV=window.PLOTLYENV || {};                                    if (document.getElementById(\"21a4fbbd-7f2f-4f9c-8d34-655671402faa\")) {                    Plotly.newPlot(                        \"21a4fbbd-7f2f-4f9c-8d34-655671402faa\",                        [{\"line\":{\"color\":\"royalblue\"},\"marker\":{\"size\":8},\"mode\":\"lines\",\"name\":\"Mean\",\"x\":[1.0,2.0,3.0,4.0,5.0,6.0,7.0,8.0,9.0,10.0,11.0,12.0,13.0,14.0,15.0,16.0,17.0,18.0,19.0,20.0,21.0,22.0,23.0,24.0,25.0,26.0,27.0,28.0,29.0,30.0,31.0,32.0,33.0,34.0,35.0,36.0,37.0,38.0,39.0,40.0,41.0,42.0,43.0,44.0,45.0,46.0,47.0,48.0,49.0,50.0],\"y\":[50.60604166666667,58.8375,63.438541666666666,65.324375,59.94145833333333,57.020208333333336,55.78479166666666,53.90979166666667,57.23145833333333,60.01604166666666,72.83979166666667,68.09541666666667,69.08729166666667,70.62208333333334,71.45270833333333,67.27374999999999,68.67645833333333,69.345625,75.46583333333334,75.55,78.99395833333332,76.31083333333333,78.0875,78.36812499999999,78.57208333333332,77.75479166666666,80.403125,80.31229166666667,79.24645833333332,79.32416666666667,77.31520833333335,81.09958333333334,78.44291666666666,78.76104166666667,78.61145833333333,79.11229166666666,79.49645833333332,79.18083333333334,78.74958333333333,79.40145833333334,78.52250000000001,78.08500000000001,77.55458333333334,78.26270833333334,77.68416666666667,77.454375,78.01208333333334,76.73833333333333,78.65520833333332,77.58125],\"type\":\"scatter\"},{\"line\":{\"width\":0},\"mode\":\"lines\",\"name\":\"Upper Bound\",\"showlegend\":false,\"x\":[1.0,2.0,3.0,4.0,5.0,6.0,7.0,8.0,9.0,10.0,11.0,12.0,13.0,14.0,15.0,16.0,17.0,18.0,19.0,20.0,21.0,22.0,23.0,24.0,25.0,26.0,27.0,28.0,29.0,30.0,31.0,32.0,33.0,34.0,35.0,36.0,37.0,38.0,39.0,40.0,41.0,42.0,43.0,44.0,45.0,46.0,47.0,48.0,49.0,50.0],\"y\":[52.5367473556481,64.99677766778612,68.38966190150859,71.70779224576319,66.19765016206722,60.2119668414495,61.62595919244745,58.67570875698681,58.42579206023518,65.59229585613743,81.87465780281337,78.32839119446805,75.4600556655327,75.30691558345772,75.3298930893057,72.33513509028091,72.1701464974154,74.3924115489325,78.5453643855775,79.1520926715707,84.29216548513831,80.21670113408001,81.9012161510889,82.5086388611919,83.8870613297535,82.17825315081413,82.32169586681908,82.5981663786281,85.66910197481664,83.84746173134988,78.43689099055283,83.98747079456089,81.97962807452359,81.9834050982289,82.09445826442223,81.52472143410291,81.07893010413429,81.45720542509989,80.0801906133025,82.10161371482556,81.52974779150537,81.38910456672413,80.01977818473596,81.5273895831944,79.86846111856737,78.50328507626502,80.52367155840653,78.029035762407,80.59489334118575,78.79986600046824],\"type\":\"scatter\"},{\"fill\":\"tonexty\",\"fillcolor\":\"rgba(65, 105, 225, 0.2)\",\"line\":{\"width\":0},\"mode\":\"lines\",\"name\":\"Lower Bound\",\"showlegend\":false,\"x\":[1.0,2.0,3.0,4.0,5.0,6.0,7.0,8.0,9.0,10.0,11.0,12.0,13.0,14.0,15.0,16.0,17.0,18.0,19.0,20.0,21.0,22.0,23.0,24.0,25.0,26.0,27.0,28.0,29.0,30.0,31.0,32.0,33.0,34.0,35.0,36.0,37.0,38.0,39.0,40.0,41.0,42.0,43.0,44.0,45.0,46.0,47.0,48.0,49.0,50.0],\"y\":[48.675335977685236,52.67822233221387,58.48742143182475,58.94095775423681,53.68526650459944,53.82844982521717,49.94362414088587,49.14387457634653,56.037124606431476,54.43978747719589,63.804925530519974,57.862442138865276,62.71452766780064,65.93725108320895,67.57552357736097,62.212364909719064,65.18277016925126,64.2988384510675,72.38630228108917,71.9479073284293,73.69575118152834,72.40496553258666,74.27378384891111,74.22761113880809,73.25710533691316,73.3313301825192,78.48455413318092,78.02641695470524,72.82381469185,74.80087160198346,76.19352567611386,78.21169587210579,74.90620525880973,75.53867823510444,75.12845840224443,76.69986189923041,77.91398656253236,76.90446124156679,77.41897605336416,76.70130295184111,75.51525220849464,74.78089543327589,75.08938848193073,74.99802708347227,75.49987221476597,76.40546492373498,75.50049510826014,75.44763090425965,76.71552332548089,76.36263399953175],\"type\":\"scatter\"}],                        {\"template\":{\"data\":{\"histogram2dcontour\":[{\"type\":\"histogram2dcontour\",\"colorbar\":{\"outlinewidth\":0,\"ticks\":\"\"},\"colorscale\":[[0.0,\"#0d0887\"],[0.1111111111111111,\"#46039f\"],[0.2222222222222222,\"#7201a8\"],[0.3333333333333333,\"#9c179e\"],[0.4444444444444444,\"#bd3786\"],[0.5555555555555556,\"#d8576b\"],[0.6666666666666666,\"#ed7953\"],[0.7777777777777778,\"#fb9f3a\"],[0.8888888888888888,\"#fdca26\"],[1.0,\"#f0f921\"]]}],\"choropleth\":[{\"type\":\"choropleth\",\"colorbar\":{\"outlinewidth\":0,\"ticks\":\"\"}}],\"histogram2d\":[{\"type\":\"histogram2d\",\"colorbar\":{\"outlinewidth\":0,\"ticks\":\"\"},\"colorscale\":[[0.0,\"#0d0887\"],[0.1111111111111111,\"#46039f\"],[0.2222222222222222,\"#7201a8\"],[0.3333333333333333,\"#9c179e\"],[0.4444444444444444,\"#bd3786\"],[0.5555555555555556,\"#d8576b\"],[0.6666666666666666,\"#ed7953\"],[0.7777777777777778,\"#fb9f3a\"],[0.8888888888888888,\"#fdca26\"],[1.0,\"#f0f921\"]]}],\"heatmap\":[{\"type\":\"heatmap\",\"colorbar\":{\"outlinewidth\":0,\"ticks\":\"\"},\"colorscale\":[[0.0,\"#0d0887\"],[0.1111111111111111,\"#46039f\"],[0.2222222222222222,\"#7201a8\"],[0.3333333333333333,\"#9c179e\"],[0.4444444444444444,\"#bd3786\"],[0.5555555555555556,\"#d8576b\"],[0.6666666666666666,\"#ed7953\"],[0.7777777777777778,\"#fb9f3a\"],[0.8888888888888888,\"#fdca26\"],[1.0,\"#f0f921\"]]}],\"heatmapgl\":[{\"type\":\"heatmapgl\",\"colorbar\":{\"outlinewidth\":0,\"ticks\":\"\"},\"colorscale\":[[0.0,\"#0d0887\"],[0.1111111111111111,\"#46039f\"],[0.2222222222222222,\"#7201a8\"],[0.3333333333333333,\"#9c179e\"],[0.4444444444444444,\"#bd3786\"],[0.5555555555555556,\"#d8576b\"],[0.6666666666666666,\"#ed7953\"],[0.7777777777777778,\"#fb9f3a\"],[0.8888888888888888,\"#fdca26\"],[1.0,\"#f0f921\"]]}],\"contourcarpet\":[{\"type\":\"contourcarpet\",\"colorbar\":{\"outlinewidth\":0,\"ticks\":\"\"}}],\"contour\":[{\"type\":\"contour\",\"colorbar\":{\"outlinewidth\":0,\"ticks\":\"\"},\"colorscale\":[[0.0,\"#0d0887\"],[0.1111111111111111,\"#46039f\"],[0.2222222222222222,\"#7201a8\"],[0.3333333333333333,\"#9c179e\"],[0.4444444444444444,\"#bd3786\"],[0.5555555555555556,\"#d8576b\"],[0.6666666666666666,\"#ed7953\"],[0.7777777777777778,\"#fb9f3a\"],[0.8888888888888888,\"#fdca26\"],[1.0,\"#f0f921\"]]}],\"surface\":[{\"type\":\"surface\",\"colorbar\":{\"outlinewidth\":0,\"ticks\":\"\"},\"colorscale\":[[0.0,\"#0d0887\"],[0.1111111111111111,\"#46039f\"],[0.2222222222222222,\"#7201a8\"],[0.3333333333333333,\"#9c179e\"],[0.4444444444444444,\"#bd3786\"],[0.5555555555555556,\"#d8576b\"],[0.6666666666666666,\"#ed7953\"],[0.7777777777777778,\"#fb9f3a\"],[0.8888888888888888,\"#fdca26\"],[1.0,\"#f0f921\"]]}],\"mesh3d\":[{\"type\":\"mesh3d\",\"colorbar\":{\"outlinewidth\":0,\"ticks\":\"\"}}],\"scatter\":[{\"fillpattern\":{\"fillmode\":\"overlay\",\"size\":10,\"solidity\":0.2},\"type\":\"scatter\"}],\"parcoords\":[{\"type\":\"parcoords\",\"line\":{\"colorbar\":{\"outlinewidth\":0,\"ticks\":\"\"}}}],\"scatterpolargl\":[{\"type\":\"scatterpolargl\",\"marker\":{\"colorbar\":{\"outlinewidth\":0,\"ticks\":\"\"}}}],\"bar\":[{\"error_x\":{\"color\":\"#2a3f5f\"},\"error_y\":{\"color\":\"#2a3f5f\"},\"marker\":{\"line\":{\"color\":\"#E5ECF6\",\"width\":0.5},\"pattern\":{\"fillmode\":\"overlay\",\"size\":10,\"solidity\":0.2}},\"type\":\"bar\"}],\"scattergeo\":[{\"type\":\"scattergeo\",\"marker\":{\"colorbar\":{\"outlinewidth\":0,\"ticks\":\"\"}}}],\"scatterpolar\":[{\"type\":\"scatterpolar\",\"marker\":{\"colorbar\":{\"outlinewidth\":0,\"ticks\":\"\"}}}],\"histogram\":[{\"marker\":{\"pattern\":{\"fillmode\":\"overlay\",\"size\":10,\"solidity\":0.2}},\"type\":\"histogram\"}],\"scattergl\":[{\"type\":\"scattergl\",\"marker\":{\"colorbar\":{\"outlinewidth\":0,\"ticks\":\"\"}}}],\"scatter3d\":[{\"type\":\"scatter3d\",\"line\":{\"colorbar\":{\"outlinewidth\":0,\"ticks\":\"\"}},\"marker\":{\"colorbar\":{\"outlinewidth\":0,\"ticks\":\"\"}}}],\"scattermapbox\":[{\"type\":\"scattermapbox\",\"marker\":{\"colorbar\":{\"outlinewidth\":0,\"ticks\":\"\"}}}],\"scatterternary\":[{\"type\":\"scatterternary\",\"marker\":{\"colorbar\":{\"outlinewidth\":0,\"ticks\":\"\"}}}],\"scattercarpet\":[{\"type\":\"scattercarpet\",\"marker\":{\"colorbar\":{\"outlinewidth\":0,\"ticks\":\"\"}}}],\"carpet\":[{\"aaxis\":{\"endlinecolor\":\"#2a3f5f\",\"gridcolor\":\"white\",\"linecolor\":\"white\",\"minorgridcolor\":\"white\",\"startlinecolor\":\"#2a3f5f\"},\"baxis\":{\"endlinecolor\":\"#2a3f5f\",\"gridcolor\":\"white\",\"linecolor\":\"white\",\"minorgridcolor\":\"white\",\"startlinecolor\":\"#2a3f5f\"},\"type\":\"carpet\"}],\"table\":[{\"cells\":{\"fill\":{\"color\":\"#EBF0F8\"},\"line\":{\"color\":\"white\"}},\"header\":{\"fill\":{\"color\":\"#C8D4E3\"},\"line\":{\"color\":\"white\"}},\"type\":\"table\"}],\"barpolar\":[{\"marker\":{\"line\":{\"color\":\"#E5ECF6\",\"width\":0.5},\"pattern\":{\"fillmode\":\"overlay\",\"size\":10,\"solidity\":0.2}},\"type\":\"barpolar\"}],\"pie\":[{\"automargin\":true,\"type\":\"pie\"}]},\"layout\":{\"autotypenumbers\":\"strict\",\"colorway\":[\"#636efa\",\"#EF553B\",\"#00cc96\",\"#ab63fa\",\"#FFA15A\",\"#19d3f3\",\"#FF6692\",\"#B6E880\",\"#FF97FF\",\"#FECB52\"],\"font\":{\"color\":\"#2a3f5f\"},\"hovermode\":\"closest\",\"hoverlabel\":{\"align\":\"left\"},\"paper_bgcolor\":\"white\",\"plot_bgcolor\":\"#E5ECF6\",\"polar\":{\"bgcolor\":\"#E5ECF6\",\"angularaxis\":{\"gridcolor\":\"white\",\"linecolor\":\"white\",\"ticks\":\"\"},\"radialaxis\":{\"gridcolor\":\"white\",\"linecolor\":\"white\",\"ticks\":\"\"}},\"ternary\":{\"bgcolor\":\"#E5ECF6\",\"aaxis\":{\"gridcolor\":\"white\",\"linecolor\":\"white\",\"ticks\":\"\"},\"baxis\":{\"gridcolor\":\"white\",\"linecolor\":\"white\",\"ticks\":\"\"},\"caxis\":{\"gridcolor\":\"white\",\"linecolor\":\"white\",\"ticks\":\"\"}},\"coloraxis\":{\"colorbar\":{\"outlinewidth\":0,\"ticks\":\"\"}},\"colorscale\":{\"sequential\":[[0.0,\"#0d0887\"],[0.1111111111111111,\"#46039f\"],[0.2222222222222222,\"#7201a8\"],[0.3333333333333333,\"#9c179e\"],[0.4444444444444444,\"#bd3786\"],[0.5555555555555556,\"#d8576b\"],[0.6666666666666666,\"#ed7953\"],[0.7777777777777778,\"#fb9f3a\"],[0.8888888888888888,\"#fdca26\"],[1.0,\"#f0f921\"]],\"sequentialminus\":[[0.0,\"#0d0887\"],[0.1111111111111111,\"#46039f\"],[0.2222222222222222,\"#7201a8\"],[0.3333333333333333,\"#9c179e\"],[0.4444444444444444,\"#bd3786\"],[0.5555555555555556,\"#d8576b\"],[0.6666666666666666,\"#ed7953\"],[0.7777777777777778,\"#fb9f3a\"],[0.8888888888888888,\"#fdca26\"],[1.0,\"#f0f921\"]],\"diverging\":[[0,\"#8e0152\"],[0.1,\"#c51b7d\"],[0.2,\"#de77ae\"],[0.3,\"#f1b6da\"],[0.4,\"#fde0ef\"],[0.5,\"#f7f7f7\"],[0.6,\"#e6f5d0\"],[0.7,\"#b8e186\"],[0.8,\"#7fbc41\"],[0.9,\"#4d9221\"],[1,\"#276419\"]]},\"xaxis\":{\"gridcolor\":\"white\",\"linecolor\":\"white\",\"ticks\":\"\",\"title\":{\"standoff\":15},\"zerolinecolor\":\"white\",\"automargin\":true,\"zerolinewidth\":2},\"yaxis\":{\"gridcolor\":\"white\",\"linecolor\":\"white\",\"ticks\":\"\",\"title\":{\"standoff\":15},\"zerolinecolor\":\"white\",\"automargin\":true,\"zerolinewidth\":2},\"scene\":{\"xaxis\":{\"backgroundcolor\":\"#E5ECF6\",\"gridcolor\":\"white\",\"linecolor\":\"white\",\"showbackground\":true,\"ticks\":\"\",\"zerolinecolor\":\"white\",\"gridwidth\":2},\"yaxis\":{\"backgroundcolor\":\"#E5ECF6\",\"gridcolor\":\"white\",\"linecolor\":\"white\",\"showbackground\":true,\"ticks\":\"\",\"zerolinecolor\":\"white\",\"gridwidth\":2},\"zaxis\":{\"backgroundcolor\":\"#E5ECF6\",\"gridcolor\":\"white\",\"linecolor\":\"white\",\"showbackground\":true,\"ticks\":\"\",\"zerolinecolor\":\"white\",\"gridwidth\":2}},\"shapedefaults\":{\"line\":{\"color\":\"#2a3f5f\"}},\"annotationdefaults\":{\"arrowcolor\":\"#2a3f5f\",\"arrowhead\":0,\"arrowwidth\":1},\"geo\":{\"bgcolor\":\"white\",\"landcolor\":\"#E5ECF6\",\"subunitcolor\":\"white\",\"showland\":true,\"showlakes\":true,\"lakecolor\":\"white\"},\"title\":{\"x\":0.05},\"mapbox\":{\"style\":\"light\"}}},\"legend\":{\"orientation\":\"h\",\"yanchor\":\"bottom\",\"y\":1.02,\"xanchor\":\"right\",\"x\":1},\"xaxis\":{\"title\":{\"text\":\"Epoch\"},\"showgrid\":true},\"yaxis\":{\"title\":{\"text\":\"Count\"},\"showgrid\":true,\"dtick\":2},\"title\":{\"text\":\"Number of non-zero prototypes (Mean ± Std across seeds) - pipnet_SEED_stage7_p0\"},\"hovermode\":\"x unified\",\"height\":600},                        {\"responsive\": true}                    ).then(function(){\n",
       "                            \n",
       "var gd = document.getElementById('21a4fbbd-7f2f-4f9c-8d34-655671402faa');\n",
       "var x = new MutationObserver(function (mutations, observer) {{\n",
       "        var display = window.getComputedStyle(gd).display;\n",
       "        if (!display || display === 'none') {{\n",
       "            console.log([gd, 'removed!']);\n",
       "            Plotly.purge(gd);\n",
       "            observer.disconnect();\n",
       "        }}\n",
       "}});\n",
       "\n",
       "// Listen for the removal of the full notebook cells\n",
       "var notebookContainer = gd.closest('#notebook-container');\n",
       "if (notebookContainer) {{\n",
       "    x.observe(notebookContainer, {childList: true});\n",
       "}}\n",
       "\n",
       "// Listen for the clearing of the current output cell\n",
       "var outputEl = gd.closest('.output');\n",
       "if (outputEl) {{\n",
       "    x.observe(outputEl, {childList: true});\n",
       "}}\n",
       "\n",
       "                        })                };                });            </script>        </div>"
      ]
     },
     "metadata": {},
     "output_type": "display_data"
    }
   ],
   "source": [
    "# Visualize metrics for each configuration group\n",
    "for config_name, seed_runs in config_groups.items():\n",
    "    print(f\"\\nPlotting metrics for configuration: {config_name}\")\n",
    "    \n",
    "    # Create output directory for this configuration\n",
    "    config_output_dir = os.path.join(eval_results_dir, config_name)\n",
    "    os.makedirs(config_output_dir, exist_ok=True)\n",
    "    \n",
    "    # Collect metrics DataFrames from all seeds in this configuration\n",
    "    metrics_dfs = []\n",
    "    for seed, run_dir, full_name in seed_runs:\n",
    "        df = load_training_metrics(run_dir)\n",
    "        if df is not None:\n",
    "            # Add seed information to the DataFrame\n",
    "            df['seed'] = seed\n",
    "            df['full_name'] = full_name\n",
    "            metrics_dfs.append(df)\n",
    "    \n",
    "    # Combine metrics from all seeds\n",
    "    if metrics_dfs:\n",
    "        combined_df = pd.concat(metrics_dfs, ignore_index=True)\n",
    "        \n",
    "        # Plot metrics with error bars\n",
    "        plot_group_metrics(combined_df, config_output_dir, config_name, metrics_to_plot=metrics_to_plot,\n",
    "                           num_y_ticks=15, suffix=\"pipnet_p768\")\n",
    "    else:\n",
    "        print(f\"No metrics data available for configuration: {config_name}\")"
   ]
  },
  {
   "cell_type": "code",
   "execution_count": null,
   "metadata": {},
   "outputs": [],
   "source": []
  }
 ],
 "metadata": {
  "kernelspec": {
   "display_name": "Python 3 (ipykernel)",
   "language": "python",
   "name": "python3"
  },
  "language_info": {
   "codemirror_mode": {
    "name": "ipython",
    "version": 3
   },
   "file_extension": ".py",
   "mimetype": "text/x-python",
   "name": "python",
   "nbconvert_exporter": "python",
   "pygments_lexer": "ipython3",
   "version": "3.12.8"
  }
 },
 "nbformat": 4,
 "nbformat_minor": 4
}
