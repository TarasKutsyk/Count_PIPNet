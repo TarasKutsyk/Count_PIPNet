{
 "cells": [
  {
   "cell_type": "markdown",
   "metadata": {},
   "source": [
    "# Setup"
   ]
  },
  {
   "cell_type": "code",
   "execution_count": 4,
   "metadata": {},
   "outputs": [
    {
     "name": "stdout",
     "output_type": "stream",
     "text": [
      "The autoreload extension is already loaded. To reload it, use:\n",
      "  %reload_ext autoreload\n",
      "Base path: C:\\Edu\\Mech_Interp\\PIPNet\n"
     ]
    }
   ],
   "source": [
    "# Enable auto-reloading of imports when they have been modified\n",
    "from IPython import get_ipython\n",
    "ipython = get_ipython(); assert ipython is not None\n",
    "ipython.run_line_magic(\"load_ext\", \"autoreload\")\n",
    "ipython.run_line_magic(\"autoreload\", \"2\")\n",
    "\n",
    "import os\n",
    "import json\n",
    "import torch\n",
    "import torch.nn as nn\n",
    "import pandas as pd\n",
    "import numpy as np\n",
    "import matplotlib.pyplot as plt\n",
    "import seaborn as sns\n",
    "from pathlib import Path\n",
    "import sys\n",
    "import plotly.express as px\n",
    "import plotly.graph_objects as go\n",
    "from tqdm.notebook import tqdm\n",
    "\n",
    "# Disable gradient computation - this notebook will only perform forward passes\n",
    "torch.set_grad_enabled(False)\n",
    "\n",
    "from pathlib import Path\n",
    "import sys\n",
    "import os\n",
    "\n",
    "# Add the base (root) directory to the path so we can import the util modules\n",
    "def get_base_folder(project_root = \"PIPNet\"):\n",
    "\t# Find the project root dynamically\n",
    "\tcurrent_dir = os.getcwd()\n",
    "\twhile True:\n",
    "\t\tif os.path.basename(current_dir) == project_root:  # Adjust to match your project root folder name\n",
    "\t\t\tbreak\n",
    "\t\tparent = os.path.dirname(current_dir)\n",
    "\t\tif parent == current_dir:  # Stop if we reach the system root (failsafe)\n",
    "\t\t\traise RuntimeError(f\"Project root {project_root} not found. Check your folder structure.\")\n",
    "\t\tcurrent_dir = parent\n",
    "\n",
    "\treturn Path(current_dir)\n",
    "\n",
    "base_path = get_base_folder()\n",
    "print(f\"Base path: {base_path}\")\n",
    "sys.path.append(str(base_path))"
   ]
  },
  {
   "cell_type": "code",
   "execution_count": 5,
   "metadata": {},
   "outputs": [],
   "source": [
    "from util.vis_pipnet import vizualize_network\n",
    "from pipnet.count_pipnet import get_count_network\n",
    "from pipnet.pipnet import get_pipnet\n",
    "from pipnet.test import evaluate_model_lightweight\n",
    "from util.checkpoint_manager import CheckpointManager\n",
    "from util.data import get_dataloaders\n",
    "from util.args import get_args\n",
    "from util.vis_pipnet import vizualize_network"
   ]
  },
  {
   "cell_type": "code",
   "execution_count": 7,
   "metadata": {},
   "outputs": [
    {
     "name": "stdout",
     "output_type": "stream",
     "text": [
      ">>> Using cuda:0 device <<<\n"
     ]
    }
   ],
   "source": [
    "# Device setup\n",
    "GPU_TO_USE = 0\n",
    "\n",
    "if torch.backends.mps.is_available():\n",
    "    device = \"mps\"\n",
    "else:\n",
    "    device = f\"cuda:{GPU_TO_USE}\" if torch.cuda.is_available() else \"cpu\"\n",
    "\n",
    "print(f'>>> Using {device} device <<<')"
   ]
  },
  {
   "cell_type": "markdown",
   "metadata": {},
   "source": [
    "# Loading utilities"
   ]
  },
  {
   "cell_type": "code",
   "execution_count": 8,
   "metadata": {},
   "outputs": [],
   "source": [
    "# Function to load a model from a checkpoint\n",
    "def load_model(run_dir, checkpoint_name='net_trained_best', base_path=base_path, gpu_id=GPU_TO_USE):\n",
    "    \"\"\"\n",
    "    Load a model from a checkpoint directory for evaluation purposes.\n",
    "\n",
    "    Args:\n",
    "        run_dir: Directory containing the run results\n",
    "        checkpoint_name: Name of checkpoint to load (default: 'net_trained_best')\n",
    "        base_path: Base path for dataset directories\n",
    "        gpu_id: GPU ID to use\n",
    "        \n",
    "    Returns:\n",
    "        Tuple of (net, trainloader, testloader, classes, args, is_count_pipnet)\n",
    "    \"\"\"\n",
    "    # Step 1: Load the configuration used for this run\n",
    "    metadata_dir = os.path.join(run_dir, 'metadata')\n",
    "    args_path = os.path.join(metadata_dir, 'args.pickle')\n",
    "\n",
    "    import pickle\n",
    "    with open(args_path, 'rb') as f:\n",
    "        args = pickle.load(f)\n",
    "    print(f\"Loaded configuration from {args_path}\")\n",
    "\n",
    "    # Explicitly set GPU ID to ensure device consistency\n",
    "    if torch.cuda.is_available():\n",
    "        args.gpu_ids = str(gpu_id)\n",
    "        device = torch.device(f'cuda:{gpu_id}')\n",
    "        torch.cuda.set_device(device)\n",
    "    else:\n",
    "        device = torch.device('cpu')\n",
    "\n",
    "    print(f\"Using device: {device}\")\n",
    "\n",
    "    # Step 2: Create dataloaders\n",
    "    args.log_dir = run_dir  # Use the run directory as log_dir\n",
    "    trainloader, trainloader_pretraining, trainloader_normal, \\\n",
    "    trainloader_normal_augment, projectloader, valid_loader, testloader, classes = get_dataloaders(args, device, base_path,\n",
    "                                                                                                    test_set_projection_full=True)\n",
    "    # Step 3: Create a model with the same architecture\n",
    "    if hasattr(args, 'model') and args.model == 'count_pipnet':\n",
    "        is_count_pipnet = True\n",
    "        net, num_prototypes = get_count_network(\n",
    "            num_classes=len(classes), \n",
    "            args=args,\n",
    "            max_count=getattr(args, 'max_count', 3),\n",
    "            use_ste=getattr(args, 'use_ste', False))\n",
    "    else:\n",
    "        is_count_pipnet = False\n",
    "        net, num_prototypes = get_pipnet(len(classes), args)\n",
    "\n",
    "    # Step 4: Move model to device\n",
    "    net = net.to(device)\n",
    "\n",
    "    # Step 5: Forward one batch through the backbone to get the latent output size\n",
    "    with torch.no_grad():\n",
    "        # Use a small batch to determine output shape\n",
    "        xs1, _, _ = next(iter(trainloader))\n",
    "        xs1 = xs1.to(device)\n",
    "\n",
    "        # Single-forward pass without DataParallel\n",
    "        features = net._net(xs1)\n",
    "        proto_features = net._add_on(features)\n",
    "\n",
    "        wshape = proto_features.shape[-1]\n",
    "        args.wshape = wshape  # needed for calculating image patch size\n",
    "        print(f\"Output shape: {proto_features.shape}, setting wshape={wshape}\")\n",
    "            \n",
    "    # Step 6: Now wrap with DataParallel\n",
    "    device_ids = [gpu_id]\n",
    "    print(f\"Using device_ids: {device_ids}\")\n",
    "    net = nn.DataParallel(net, device_ids=device_ids)\n",
    "\n",
    "    # Step 7: Direct checkpoint loading\n",
    "    checkpoint_path = os.path.join(run_dir, 'checkpoints', checkpoint_name)\n",
    "    if not os.path.exists(checkpoint_path):\n",
    "        print(f\"Checkpoint not found at {checkpoint_path}, trying alternative paths...\")\n",
    "        # Try with full path as fallback\n",
    "        if os.path.exists(checkpoint_name):\n",
    "            checkpoint_path = checkpoint_name\n",
    "        else:\n",
    "            # Try other common checkpoint names\n",
    "            alternatives = [\n",
    "                os.path.join(run_dir, 'checkpoints', 'net_trained_last'),\n",
    "                os.path.join(run_dir, 'checkpoints', 'net_trained'),\n",
    "                checkpoint_name # in case the direct path was passed\n",
    "            ]\n",
    "            for alt_path in alternatives:\n",
    "                if os.path.exists(alt_path):\n",
    "                    checkpoint_path = alt_path\n",
    "                    print(f\"Found alternative checkpoint at {checkpoint_path}\")\n",
    "                    break\n",
    "            else:\n",
    "                print(\"No checkpoint found\")\n",
    "                return None, None, None, None, None, None\n",
    "\n",
    "    try:\n",
    "        # Load just the model state dict\n",
    "        checkpoint = torch.load(checkpoint_path, map_location=device)\n",
    "        \n",
    "        if 'model_state_dict' in checkpoint:\n",
    "            net.load_state_dict(checkpoint['model_state_dict'], strict=True)\n",
    "            print(f\"Successfully loaded model state from {checkpoint_path}\")\n",
    "            \n",
    "            # Display additional information if available\n",
    "            if 'epoch' in checkpoint:\n",
    "                print(f\"Checkpoint from epoch {checkpoint['epoch']}\")\n",
    "            if 'accuracy' in checkpoint:\n",
    "                print(f\"Model accuracy: {checkpoint['accuracy']:.4f}\")\n",
    "            \n",
    "            return net, testloader, classes, args, is_count_pipnet\n",
    "        else:\n",
    "            print(f\"Checkpoint doesn't contain model_state_dict\")\n",
    "            return None, None, None, None, None, None\n",
    "            \n",
    "    except Exception as e:\n",
    "        print(f\"Error loading checkpoint: {str(e)}\")\n",
    "        import traceback\n",
    "        traceback.print_exc()\n",
    "        return None, None, None, None, None, None"
   ]
  },
  {
   "cell_type": "markdown",
   "metadata": {},
   "source": [
    "# Evaluation utilities"
   ]
  },
  {
   "cell_type": "code",
   "execution_count": 9,
   "metadata": {},
   "outputs": [],
   "source": [
    "import warnings\n",
    "# Suppress SettingWithCopyWarning\n",
    "warnings.simplefilter(action='ignore', category=pd.errors.SettingWithCopyWarning)\n",
    "# Suppress FutureWarning\n",
    "warnings.simplefilter(action='ignore', category=FutureWarning)"
   ]
  },
  {
   "cell_type": "code",
   "execution_count": 10,
   "metadata": {},
   "outputs": [],
   "source": [
    "def evaluate_model(net, testloader, device, args=None):\n",
    "    \"\"\"\n",
    "    Evaluate a model on the test set using a lightweight evaluation.\n",
    "    \n",
    "    Args:\n",
    "        net: The model to evaluate\n",
    "        testloader: DataLoader for the test set\n",
    "        device: Device to run evaluation on\n",
    "        args: Arguments object containing parameters (optional)\n",
    "        \n",
    "    Returns:\n",
    "        Dictionary containing evaluation metrics\n",
    "    \"\"\"\n",
    "    print(\"Evaluating model...\")\n",
    "    \n",
    "    # Use the lightweight evaluation function\n",
    "    eval_info = evaluate_model_lightweight(net, testloader, device)\n",
    "    \n",
    "    # If you still want to run the full eval_pipnet for additional metrics,\n",
    "    # you can add a parameter to control this\n",
    "    if args and getattr(args, 'run_full_evaluation', False):\n",
    "        from pipnet.test import eval_pipnet\n",
    "        enforce_weight_sparsity = getattr(args, 'enforce_weight_sparsity', True)\n",
    "        full_eval_info = eval_pipnet(net, testloader, \"evaluation\", device, \n",
    "                                    log=None, enforce_weight_sparsity=enforce_weight_sparsity,\n",
    "                                    args=args)\n",
    "        # Add full evaluation metrics to the results\n",
    "        eval_info.update(full_eval_info)\n",
    "    \n",
    "    return eval_info"
   ]
  },
  {
   "cell_type": "code",
   "execution_count": 11,
   "metadata": {},
   "outputs": [],
   "source": [
    "# Function to load and parse the log_epoch_overview.csv file\n",
    "def load_training_metrics(run_dir):\n",
    "    \"\"\"\n",
    "    Load the training metrics from the log_epoch_overview.csv file.\n",
    "    \n",
    "    Args:\n",
    "        run_dir: Directory containing the run results\n",
    "        \n",
    "    Returns:\n",
    "        pandas DataFrame containing the metrics\n",
    "    \"\"\"\n",
    "    log_path = os.path.join(run_dir, 'log_epoch_overview.csv')\n",
    "    \n",
    "    if not os.path.exists(log_path):\n",
    "        print(f\"Log file not found at {log_path}\")\n",
    "        return None\n",
    "    \n",
    "    try:\n",
    "        # Load the CSV file\n",
    "        df = pd.read_csv(log_path)\n",
    "        \n",
    "        # Convert 'n.a.' strings to NaN\n",
    "        df = df.replace('n.a.', np.nan)\n",
    "        \n",
    "        # Convert to numeric types where possible\n",
    "        for col in df.columns:\n",
    "            df[col] = pd.to_numeric(df[col], errors='ignore')\n",
    "        \n",
    "        # Determine which epochs were pretraining\n",
    "        pretraining_mask = df['test_top1_acc'].isna()\n",
    "        df['phase'] = 'training'\n",
    "        df.loc[pretraining_mask, 'phase'] = 'pretraining'\n",
    "        \n",
    "        # Calculate the real epoch number (pretraining + training)\n",
    "        df['real_epoch'] = df.index + 1\n",
    "        \n",
    "        # Calculate the training epoch number (just for the training phase)\n",
    "        training_epochs = (~pretraining_mask).cumsum()\n",
    "        df.loc[~pretraining_mask, 'training_epoch'] = training_epochs[~pretraining_mask]\n",
    "        \n",
    "        return df\n",
    "    \n",
    "    except Exception as e:\n",
    "        print(f\"Error loading log file: {str(e)}\")\n",
    "        import traceback\n",
    "        traceback.print_exc()\n",
    "        return None"
   ]
  },
  {
   "cell_type": "code",
   "execution_count": 12,
   "metadata": {},
   "outputs": [],
   "source": [
    "def compare_models(run_dirs, output_dir, metric='test_top1_acc', display_in_notebook=True):\n",
    "    \"\"\"\n",
    "    Compare multiple models based on a specific metric from their log files.\n",
    "    \n",
    "    Args:\n",
    "        run_dirs: Dictionary mapping run names to run directories\n",
    "        output_dir: Directory to save the comparison plot\n",
    "        metric: Metric to compare (default: 'test_top1_acc')\n",
    "        display_in_notebook: Whether to display the figure in the notebook\n",
    "        \n",
    "    Returns:\n",
    "        plotly figure object\n",
    "    \"\"\"\n",
    "    # Create a combined DataFrame\n",
    "    combined_data = []\n",
    "    \n",
    "    for run_name, run_dir in run_dirs.items():\n",
    "        df = load_training_metrics(run_dir)\n",
    "        if df is not None:\n",
    "            # Only use training phase data\n",
    "            training_df = df[df['phase'] == 'training']\n",
    "            if not training_df.empty and metric in training_df.columns:\n",
    "                # Add run name for identification\n",
    "                training_df['run'] = run_name\n",
    "                combined_data.append(training_df[['training_epoch', metric, 'run']])\n",
    "    \n",
    "    if not combined_data:\n",
    "        print(\"No data to compare\")\n",
    "        return None\n",
    "    \n",
    "    # Concatenate the DataFrames\n",
    "    combined_df = pd.concat(combined_data, ignore_index=True)\n",
    "    \n",
    "    # Create comparison plot\n",
    "    fig = px.line(combined_df, x='training_epoch', y=metric, \n",
    "                 color='run',\n",
    "                 title=f\"Comparison of {metric} Across Models\",\n",
    "                 labels={'training_epoch': 'Epoch', metric: metric})\n",
    "    \n",
    "    # Improve readability with grid and legend\n",
    "    fig.update_layout(\n",
    "        legend=dict(orientation=\"h\", yanchor=\"bottom\", y=1.02, xanchor=\"right\", x=1),\n",
    "        xaxis=dict(showgrid=True),\n",
    "        yaxis=dict(showgrid=True)\n",
    "    )\n",
    "    \n",
    "    # Save the plot\n",
    "    fig_path = os.path.join(output_dir, f\"comparison_{metric}.html\")\n",
    "    fig.write_html(fig_path)\n",
    "    \n",
    "    print(f\"Comparison plot saved to {fig_path}\")\n",
    "    \n",
    "    # Display the figure in the notebook if requested\n",
    "    if display_in_notebook:\n",
    "        from IPython.display import display\n",
    "        display(fig)\n",
    "    \n",
    "    return fig"
   ]
  },
  {
   "cell_type": "code",
   "execution_count": 13,
   "metadata": {},
   "outputs": [],
   "source": [
    "def plot_training_metrics(df, output_dir, run_name=None, \n",
    "                         metrics_to_plot=None, display_plots=True, save_png=True):\n",
    "    \"\"\"\n",
    "    Plot training metrics from the log_epoch_overview.csv file.\n",
    "    \n",
    "    Args:\n",
    "        df: DataFrame containing the metrics\n",
    "        output_dir: Directory to save the plots\n",
    "        run_name: Name of the run (for labeling plots)\n",
    "        metrics_to_plot: List of metrics to plot (if None, use default metrics)\n",
    "        display_plots: Whether to display plots in notebook\n",
    "        save_png: Whether to save plots as PNG files in addition to HTML\n",
    "        \n",
    "    Returns:\n",
    "        Dictionary of plotly figure objects\n",
    "    \"\"\"\n",
    "    if df is None:\n",
    "        print(\"No metrics data to plot\")\n",
    "        return {}\n",
    "    \n",
    "    # Create directory for plots\n",
    "    os.makedirs(output_dir, exist_ok=True)\n",
    "    \n",
    "    # Default metrics to plot\n",
    "    default_metrics = [\n",
    "        'test_top1_acc',\n",
    "        'local_size_for_true_class',\n",
    "        'local_size_for_all_classes',\n",
    "        'prototypes_per_class',\n",
    "        'almost_nonzeros_pooled',\n",
    "        'mean_train_acc',\n",
    "        'align_loss_raw',\n",
    "        'tanh_loss_raw',\n",
    "        'class_loss_raw'\n",
    "    ]\n",
    "    \n",
    "    # Use provided metrics or default metrics\n",
    "    if metrics_to_plot is None:\n",
    "        metrics_to_plot = default_metrics\n",
    "    \n",
    "    # Filter to include only metrics that exist in the DataFrame\n",
    "    available_metrics = [m for m in metrics_to_plot if m in df.columns]\n",
    "    if len(available_metrics) < len(metrics_to_plot):\n",
    "        missing = set(metrics_to_plot) - set(available_metrics)\n",
    "        print(f\"Warning: Some requested metrics not found in data: {missing}\")\n",
    "    \n",
    "    # Create figures dictionary\n",
    "    figures = {}\n",
    "    \n",
    "    # Helper function to create and save a plot\n",
    "    def create_metric_plot(y_col, title, y_axis_title, pretraining=False, use_training_epoch=False):\n",
    "        if pretraining:\n",
    "            data = df[df['phase'] == 'pretraining']\n",
    "            x_col = 'real_epoch'\n",
    "        else:\n",
    "            data = df[df['phase'] == 'training']\n",
    "            x_col = 'training_epoch' if use_training_epoch else 'real_epoch'\n",
    "        \n",
    "        if data[y_col].isna().all():\n",
    "            print(f\"No data for {y_col} in {'pretraining' if pretraining else 'training'} phase\")\n",
    "            return None\n",
    "        \n",
    "        fig = px.line(data, x=x_col, y=y_col, \n",
    "                     title=f\"{title}{' - ' + run_name if run_name else ''}\",\n",
    "                     labels={'x': 'Epoch', 'y': y_axis_title})\n",
    "        \n",
    "        # Add horizontal line for best performance if applicable\n",
    "        if y_col == 'test_top1_acc' and not pretraining:\n",
    "            best_acc = data[y_col].max()\n",
    "            best_epoch = data[data[y_col] == best_acc][x_col].values[0]\n",
    "            \n",
    "            fig.add_shape(\n",
    "                type=\"line\",\n",
    "                x0=data[x_col].min(),\n",
    "                x1=data[x_col].max(),\n",
    "                y0=best_acc,\n",
    "                y1=best_acc,\n",
    "                line=dict(color=\"red\", dash=\"dash\"),\n",
    "            )\n",
    "            \n",
    "            fig.add_annotation(\n",
    "                x=best_epoch,\n",
    "                y=best_acc,\n",
    "                text=f\"Best: {best_acc:.4f} at epoch {best_epoch}\",\n",
    "                showarrow=True,\n",
    "                arrowhead=1,\n",
    "            )\n",
    "        \n",
    "        # Save the plot\n",
    "        if pretraining:\n",
    "            base_filename = f\"pretraining_{y_col}\"\n",
    "        else:\n",
    "            base_filename = f\"training_{y_col}\"\n",
    "        \n",
    "        # Save as HTML\n",
    "        html_path = os.path.join(output_dir, f\"{base_filename}.html\")\n",
    "        fig.write_html(html_path)\n",
    "        \n",
    "        # Save as PNG if requested\n",
    "        if save_png:\n",
    "            png_path = os.path.join(output_dir, f\"{base_filename}.png\")\n",
    "            fig.write_image(png_path, width=1000, height=600)\n",
    "        \n",
    "        # Display the plot if requested\n",
    "        if display_plots:\n",
    "            from IPython.display import display\n",
    "            display(fig)\n",
    "        \n",
    "        return fig\n",
    "    \n",
    "    # Generate title and y-axis label mappings for known metrics\n",
    "    metric_info = {\n",
    "        'test_top1_acc': ('Test Accuracy', 'Accuracy'),\n",
    "        'local_size_for_true_class': ('Local Size for True Class', 'Size'),\n",
    "        'local_size_for_all_classes': ('Local Size for All Classes', 'Size'),\n",
    "        'prototypes_per_class': ('Prototypes Per Class', 'Count'),\n",
    "        'almost_nonzeros_pooled': ('Almost Non-Zeros Pooled', 'Count'),\n",
    "        'num_nonzero_prototypes': ('Number of Non-Zero Prototypes', 'Count'),\n",
    "        'mean_train_acc': ('Training Accuracy', 'Accuracy'),\n",
    "        'align_loss_raw': ('Alignment Loss (Raw)', 'Loss Value'),\n",
    "        'tanh_loss_raw': ('Tanh Loss (Raw)', 'Loss Value'),\n",
    "        'class_loss_raw': ('Classification Loss (Raw)', 'Loss Value'),\n",
    "    }\n",
    "    \n",
    "    # Plot each requested metric for the training phase\n",
    "    for metric in available_metrics:\n",
    "        if metric in df.columns and not df[df['phase'] == 'training'][metric].isna().all():\n",
    "            # Get title and y-axis label, or use metric name if not in mapping\n",
    "            title, y_label = metric_info.get(metric, (metric.replace('_', ' ').title(), metric))\n",
    "            \n",
    "            figures[metric] = create_metric_plot(\n",
    "                metric, title, y_label, pretraining=False, use_training_epoch=True\n",
    "            )\n",
    "    \n",
    "    # Plot pretraining metrics separately\n",
    "    pretraining_metrics = ['align_loss_raw', 'tanh_loss_raw']\n",
    "    pretraining_metrics = [m for m in pretraining_metrics if m in available_metrics]\n",
    "    \n",
    "    if any(df[df['phase'] == 'pretraining'][m].notna().any() for m in pretraining_metrics):\n",
    "        pre_data = df[df['phase'] == 'pretraining']\n",
    "        pre_data_melt = pd.melt(pre_data.reset_index(), \n",
    "                               id_vars=['index', 'real_epoch'], \n",
    "                               value_vars=pretraining_metrics,\n",
    "                               var_name='Loss Component',\n",
    "                               value_name='Value')\n",
    "        \n",
    "        fig = px.line(pre_data_melt, x='real_epoch', y='Value', \n",
    "                     color='Loss Component',\n",
    "                     title=f\"Pretraining Loss Components{' - ' + run_name if run_name else ''}\",\n",
    "                     labels={'real_epoch': 'Epoch', 'Value': 'Loss Value'})\n",
    "        \n",
    "        # Save the plot\n",
    "        base_filename = \"pretraining_loss_components\"\n",
    "        html_path = os.path.join(output_dir, f\"{base_filename}.html\")\n",
    "        fig.write_html(html_path)\n",
    "        \n",
    "        # Save as PNG if requested\n",
    "        if save_png:\n",
    "            png_path = os.path.join(output_dir, f\"{base_filename}.png\")\n",
    "            fig.write_image(png_path, width=1000, height=600)\n",
    "        \n",
    "        # Display the plot if requested\n",
    "        if display_plots:\n",
    "            from IPython.display import display\n",
    "            display(fig)\n",
    "        \n",
    "        figures['pretraining_loss_components'] = fig\n",
    "    \n",
    "    print(f\"Plots saved to {output_dir}\")\n",
    "    return figures"
   ]
  },
  {
   "cell_type": "code",
   "execution_count": 14,
   "metadata": {},
   "outputs": [],
   "source": [
    "def analyze_run(run_dir, output_dir, evaluate_test=True, checkpoint_name='net_trained_best',\n",
    "                metrics_to_plot=None, display_plots=True, save_png=True):\n",
    "    \"\"\"\n",
    "    Analyze a single run by loading its model, evaluating on test set, and plotting metrics.\n",
    "    \n",
    "    Args:\n",
    "        run_dir: Directory containing the run results\n",
    "        output_dir: Directory to save analysis results\n",
    "        evaluate_test: Whether to evaluate the model on the test set\n",
    "        checkpoint_name: Name of checkpoint to load\n",
    "        metrics_to_plot: List of metrics to plot (if None, use default metrics)\n",
    "        display_plots: Whether to display plots in notebook\n",
    "        save_png: Whether to save plots as PNG files in addition to HTML\n",
    "        \n",
    "    Returns:\n",
    "        Dictionary containing analysis results\n",
    "    \"\"\"\n",
    "    print(f\"\\n{'='*60}\")\n",
    "    print(f\"Analyzing run: {os.path.basename(run_dir)}\")\n",
    "    print(f\"{'='*60}\")\n",
    "    \n",
    "    run_name = os.path.basename(run_dir)\n",
    "    run_output_dir = os.path.join(output_dir, run_name)\n",
    "    os.makedirs(run_output_dir, exist_ok=True)\n",
    "    \n",
    "    results = {'name': run_name, 'run_dir': run_dir}\n",
    "    \n",
    "    # Load training metrics\n",
    "    df = load_training_metrics(run_dir)\n",
    "    if df is not None:\n",
    "        results['metrics_df'] = df\n",
    "        \n",
    "        # Plot training metrics\n",
    "        figures = plot_training_metrics(\n",
    "            df, run_output_dir, run_name, \n",
    "            metrics_to_plot=metrics_to_plot,\n",
    "            display_plots=display_plots,\n",
    "            save_png=save_png\n",
    "        )\n",
    "        results['figures'] = figures\n",
    "        \n",
    "        # Extract best performance\n",
    "        if 'test_top1_acc' in df.columns and not df['test_top1_acc'].isna().all():\n",
    "            best_acc = df['test_top1_acc'].max()\n",
    "            best_epoch = df[df['test_top1_acc'] == best_acc]['real_epoch'].values[0]\n",
    "            results['best_accuracy'] = best_acc\n",
    "            results['best_epoch'] = best_epoch\n",
    "            print(f\"Best accuracy from log: {best_acc:.4f} at epoch {best_epoch}\")\n",
    "    \n",
    "    # Evaluate on test set if requested\n",
    "    if evaluate_test:\n",
    "        print(\"Loading model for test evaluation...\")\n",
    "        net, testloader, classes, args, is_count_pipnet = load_model(\n",
    "            run_dir, checkpoint_name=checkpoint_name\n",
    "        )\n",
    "        \n",
    "        if net is not None:\n",
    "            # Evaluate on test set\n",
    "            print(f\"Evaluating on test set...\")\n",
    "            eval_info = evaluate_model_lightweight(net, testloader, device)\n",
    "            results['eval_info'] = eval_info\n",
    "            \n",
    "            # Save evaluation results\n",
    "            eval_results_path = os.path.join(run_output_dir, 'test_evaluation.json')\n",
    "            with open(eval_results_path, 'w') as f:\n",
    "                # Convert any non-serializable objects to strings\n",
    "                serializable_info = {}\n",
    "                for k, v in eval_info.items():\n",
    "                    if isinstance(v, (int, float, str, bool, list, dict)) or v is None:\n",
    "                        serializable_info[k] = v\n",
    "                    else:\n",
    "                        serializable_info[k] = str(v)\n",
    "                        \n",
    "                json.dump(serializable_info, f, indent=2)\n",
    "                \n",
    "            print(f\"Test evaluation results saved to {eval_results_path}\")\n",
    "    \n",
    "    return results"
   ]
  },
  {
   "cell_type": "markdown",
   "metadata": {},
   "source": [
    "# Loading the models"
   ]
  },
  {
   "cell_type": "code",
   "execution_count": 15,
   "metadata": {},
   "outputs": [
    {
     "name": "stdout",
     "output_type": "stream",
     "text": [
      "Experiment directory: C:\\Edu\\Mech_Interp\\PIPNet\\runs\\final\n"
     ]
    }
   ],
   "source": [
    "# Define the base directory for your experiments\n",
    "multi_experiment_dir = base_path / 'runs/final' \n",
    "print(f\"Experiment directory: {multi_experiment_dir}\")"
   ]
  },
  {
   "cell_type": "code",
   "execution_count": 16,
   "metadata": {},
   "outputs": [
    {
     "name": "stdout",
     "output_type": "stream",
     "text": [
      "Evaluation results will be saved to C:\\Edu\\Mech_Interp\\PIPNet\\evaluations\n"
     ]
    }
   ],
   "source": [
    "# Create a directory for saving evaluation results\n",
    "eval_results_dir = base_path / 'evaluations'\n",
    "os.makedirs(eval_results_dir, exist_ok=True)\n",
    "print(f\"Evaluation results will be saved to {eval_results_dir}\")"
   ]
  },
  {
   "cell_type": "code",
   "execution_count": 17,
   "metadata": {},
   "outputs": [],
   "source": [
    "use_summary_file = False \n",
    "# Option to use hard-coded run directories (specify just the base names)\n",
    "hard_coded_run_dirs = [\n",
    "    'final/20250706_032740_5_final_s21_stage7_p16_onehot_current_grad_train',\n",
    "]\n",
    "\n",
    "if use_summary_file:\n",
    "    summary_path = os.path.join(multi_experiment_dir, 'summary.json')\n",
    "    \n",
    "    try:\n",
    "    \t# Load the summary file to get all run directories\n",
    "    \twith open(summary_path, 'r') as f:\n",
    "    \t\tsummary = json.load(f)\n",
    "    \n",
    "    \tprint(f\"Found {len(summary)} trained models\")\n",
    "    except FileNotFoundError:\n",
    "        summary = None\n",
    "        print(f\"Summary file NOT found at {summary_path}. Please ensure the training was completed and the summary file was generated.\")\n",
    "else:\n",
    "    summary = None"
   ]
  },
  {
   "cell_type": "code",
   "execution_count": 18,
   "metadata": {},
   "outputs": [
    {
     "data": {
      "text/plain": [
       "['final/20250706_032740_5_final_s21_stage7_p16_onehot_current_grad_train']"
      ]
     },
     "execution_count": 18,
     "metadata": {},
     "output_type": "execute_result"
    }
   ],
   "source": [
    "hard_coded_run_dirs"
   ]
  },
  {
   "cell_type": "code",
   "execution_count": 19,
   "metadata": {},
   "outputs": [
    {
     "name": "stdout",
     "output_type": "stream",
     "text": [
      "Using 1 manually specified run directories\n"
     ]
    }
   ],
   "source": [
    "if hard_coded_run_dirs:\n",
    "    # Convert base names to full paths (assume they're in the 'runs/' folder)\n",
    "    run_dirs = {}\n",
    "    for run_name in hard_coded_run_dirs:\n",
    "        full_path = base_path / 'runs' / run_name\n",
    "        if os.path.isdir(full_path) and os.path.exists(os.path.join(full_path, 'metadata')):\n",
    "            run_dirs[run_name] = str(full_path)\n",
    "        else:\n",
    "            print(f\"Warning: Run directory '{run_name}' not found at {full_path}\")\n",
    "    print(f\"Using {len(run_dirs)} manually specified run directories\")\n",
    "elif summary is None:\n",
    "    run_dirs = {}\n",
    "    for item in os.listdir(multi_experiment_dir):\n",
    "        item_path = os.path.join(multi_experiment_dir, item)\n",
    "        if os.path.isdir(item_path) and os.path.exists(os.path.join(item_path, 'metadata')):\n",
    "            run_dirs[item] = item_path\n",
    "    print(f\"Found {len(run_dirs)} run directories\")\n",
    "else:\n",
    "    # Use the runs from the summary file\n",
    "    run_dirs = {os.path.basename(run['output_dir']): run['output_dir'] for run in summary}"
   ]
  },
  {
   "cell_type": "code",
   "execution_count": 20,
   "metadata": {},
   "outputs": [
    {
     "data": {
      "text/plain": [
       "{'final/20250706_032740_5_final_s21_stage7_p16_onehot_current_grad_train': 'C:\\\\Edu\\\\Mech_Interp\\\\PIPNet\\\\runs\\\\final\\\\20250706_032740_5_final_s21_stage7_p16_onehot_current_grad_train'}"
      ]
     },
     "execution_count": 20,
     "metadata": {},
     "output_type": "execute_result"
    }
   ],
   "source": [
    "run_dirs"
   ]
  },
  {
   "cell_type": "markdown",
   "metadata": {},
   "source": [
    "# Main part (single seed)"
   ]
  },
  {
   "cell_type": "code",
   "execution_count": 21,
   "metadata": {},
   "outputs": [
    {
     "data": {
      "text/plain": [
       "{'final/20250706_032740_5_final_s21_stage7_p16_onehot_current_grad_train': 'C:\\\\Edu\\\\Mech_Interp\\\\PIPNet\\\\runs\\\\final\\\\20250706_032740_5_final_s21_stage7_p16_onehot_current_grad_train'}"
      ]
     },
     "execution_count": 21,
     "metadata": {},
     "output_type": "execute_result"
    }
   ],
   "source": [
    "# Select only the runs containing a specific string\n",
    "filter_str = ''\n",
    "\n",
    "if filter_str:\n",
    "    run_dirs = {dir: value for dir, value in run_dirs.items() if filter_str in dir}\n",
    "run_dirs"
   ]
  },
  {
   "cell_type": "markdown",
   "metadata": {},
   "source": [
    "## Plotting validation metrics"
   ]
  },
  {
   "cell_type": "code",
   "execution_count": 19,
   "metadata": {},
   "outputs": [],
   "source": [
    "# Compare models if we have multiple runs\n",
    "if len(run_dirs) > 1:\n",
    "    print(\"\\nComparing models...\")\n",
    "    # Compare test accuracy\n",
    "    compare_models(run_dirs, eval_results_dir, metric='test_top1_acc')\n",
    "    # Compare number of non-zero prototypes\n",
    "    compare_models(run_dirs, eval_results_dir, metric='num_nonzero_prototypes')\n",
    "    # Compare local size for all classes\n",
    "    compare_models(run_dirs, eval_results_dir, metric='local_size_all_classes')"
   ]
  },
  {
   "cell_type": "markdown",
   "metadata": {},
   "source": [
    "## Plotting test accuracy"
   ]
  },
  {
   "cell_type": "code",
   "execution_count": 22,
   "metadata": {},
   "outputs": [],
   "source": [
    "metrics_to_plot=[]\n",
    "\n",
    "plot_confusion_matrix = True\n",
    "# Hard-code the desired order for the confusion matrix\n",
    "# This assumes the class indices match the order in class_idx_to_name\n",
    "desired_order = [\n",
    "    \"1 Circle\", \"2 Circles\", \"3 Circles\",\n",
    "    \"1 Triangle\", \"2 Triangles\", \"3 Triangles\",\n",
    "    \"1 Hexagon\", \"2 Hexagons\", \"3 Hexagons\"\n",
    "]"
   ]
  },
  {
   "cell_type": "code",
   "execution_count": 25,
   "metadata": {},
   "outputs": [
    {
     "data": {
      "application/vnd.jupyter.widget-view+json": {
       "model_id": "321246046d2945e4816946ac007fe0ec",
       "version_major": 2,
       "version_minor": 0
      },
      "text/plain": [
       "Analyzing runs:   0%|          | 0/1 [00:00<?, ?it/s]"
      ]
     },
     "metadata": {},
     "output_type": "display_data"
    },
    {
     "name": "stdout",
     "output_type": "stream",
     "text": [
      "\n",
      "============================================================\n",
      "Analyzing run: 20250706_032740_5_final_s21_stage7_p16_onehot_current_grad_train\n",
      "============================================================\n",
      "Plots saved to C:\\Edu\\Mech_Interp\\PIPNet\\evaluations\\20250706_032740_5_final_s21_stage7_p16_onehot_current_grad_train\n",
      "Best accuracy from log: 0.8969 at epoch 78\n",
      "Loading model for test evaluation...\n",
      "Loaded configuration from C:\\Edu\\Mech_Interp\\PIPNet\\runs\\final\\20250706_032740_5_final_s21_stage7_p16_onehot_current_grad_train\\metadata\\args.pickle\n",
      "Using device: cuda:0\n",
      "Num classes (k) =  9 ['class_1', 'class_2', 'class_3', 'class_4', 'class_5'] etc.\n",
      "Detected 768 output channels from last conv layer\n",
      "Number of prototypes set from 768 to 16. Extra 1x1 conv layer added.\n",
      "Using positive gradient strategy: current_grad\n",
      "Using backward clamp strategy: Gated\n",
      "Using backward clamp strategy: Gated\n",
      "Output shape: torch.Size([64, 16, 22, 22]), setting wshape=22\n",
      "Using device_ids: [0]\n",
      "Successfully loaded model state from C:\\Edu\\Mech_Interp\\PIPNet\\runs\\final\\20250706_032740_5_final_s21_stage7_p16_onehot_current_grad_train\\checkpoints\\net_trained_best\n",
      "Checkpoint from epoch 78\n",
      "Model accuracy: 0.8969\n",
      "Evaluating on test set...\n"
     ]
    },
    {
     "name": "stderr",
     "output_type": "stream",
     "text": [
      "\n",
      "Evaluating:   0%|                                           | 0/15 [00:00<?, ?it/s]\u001b[A\n",
      "Evaluating:   7%|██▎                                | 1/15 [00:17<04:06, 17.60s/it]\u001b[A\n",
      "Evaluating:  13%|████▋                              | 2/15 [00:17<01:36,  7.43s/it]\u001b[A\n",
      "Evaluating:  20%|███████                            | 3/15 [00:18<00:50,  4.17s/it]\u001b[A\n",
      "Evaluating:  27%|█████████▎                         | 4/15 [00:18<00:29,  2.65s/it]\u001b[A\n",
      "Evaluating:  33%|███████████▋                       | 5/15 [00:18<00:17,  1.80s/it]\u001b[A\n",
      "Evaluating:  40%|██████████████                     | 6/15 [00:19<00:11,  1.29s/it]\u001b[A\n",
      "Evaluating:  47%|████████████████▎                  | 7/15 [00:19<00:07,  1.03it/s]\u001b[A\n",
      "Evaluating:  53%|██████████████████▋                | 8/15 [00:19<00:05,  1.32it/s]\u001b[A\n",
      "Evaluating:  60%|█████████████████████              | 9/15 [00:20<00:03,  1.63it/s]\u001b[A\n",
      "Evaluating:  67%|██████████████████████▋           | 10/15 [00:20<00:02,  1.93it/s]\u001b[A\n",
      "Evaluating:  73%|████████████████████████▉         | 11/15 [00:20<00:01,  2.21it/s]\u001b[A\n",
      "Evaluating:  80%|███████████████████████████▏      | 12/15 [00:20<00:01,  2.46it/s]\u001b[A\n",
      "Evaluating:  87%|█████████████████████████████▍    | 13/15 [00:21<00:00,  2.66it/s]\u001b[A\n",
      "Evaluating: 100%|██████████████████████████████████| 15/15 [00:22<00:00,  1.48s/it]\u001b[A\n"
     ]
    },
    {
     "name": "stdout",
     "output_type": "stream",
     "text": [
      "Evaluation completed. Accuracy: 0.8944\n",
      "Test evaluation results saved to C:\\Edu\\Mech_Interp\\PIPNet\\evaluations\\20250706_032740_5_final_s21_stage7_p16_onehot_current_grad_train\\test_evaluation.json\n",
      "Saving confusion matrix to C:\\Edu\\Mech_Interp\\PIPNet\\evaluations\\final/20250706_032740_5_final_s21_stage7_p16_onehot_current_grad_train\\visualizations\\confusion_matrix.png\n"
     ]
    },
    {
     "data": {
      "image/png": "[encoded data removed]",
      "text/plain": [
       "<Figure size 1200x1000 with 2 Axes>"
      ]
     },
     "metadata": {},
     "output_type": "display_data"
    },
    {
     "name": "stdout",
     "output_type": "stream",
     "text": [
      "\n",
      "Summary of results:\n"
     ]
    },
    {
     "data": {
      "text/html": [
       "<div>\n",
       "<style scoped>\n",
       "    .dataframe tbody tr th:only-of-type {\n",
       "        vertical-align: middle;\n",
       "    }\n",
       "\n",
       "    .dataframe tbody tr th {\n",
       "        vertical-align: top;\n",
       "    }\n",
       "\n",
       "    .dataframe thead th {\n",
       "        text-align: right;\n",
       "    }\n",
       "</style>\n",
       "<table border=\"1\" class=\"dataframe\">\n",
       "  <thead>\n",
       "    <tr style=\"text-align: right;\">\n",
       "      <th></th>\n",
       "      <th>run</th>\n",
       "      <th>val_accuracy</th>\n",
       "      <th>best_epoch</th>\n",
       "      <th>test_accuracy</th>\n",
       "    </tr>\n",
       "  </thead>\n",
       "  <tbody>\n",
       "    <tr>\n",
       "      <th>0</th>\n",
       "      <td>20250706_032740_5_final_s21_stage7_p16_onehot_...</td>\n",
       "      <td>0.896875</td>\n",
       "      <td>78</td>\n",
       "      <td>0.894444</td>\n",
       "    </tr>\n",
       "  </tbody>\n",
       "</table>\n",
       "</div>"
      ],
      "text/plain": [
       "                                                 run  val_accuracy  \\\n",
       "0  20250706_032740_5_final_s21_stage7_p16_onehot_...      0.896875   \n",
       "\n",
       "   best_epoch  test_accuracy  \n",
       "0          78       0.894444  "
      ]
     },
     "metadata": {},
     "output_type": "display_data"
    },
    {
     "name": "stdout",
     "output_type": "stream",
     "text": [
      "\n",
      "Summary saved to C:\\Edu\\Mech_Interp\\PIPNet\\evaluations\\results_summary.csv\n",
      "\n",
      "Analysis complete!\n"
     ]
    }
   ],
   "source": [
    "from util.histograms import class_idx_to_name\n",
    "from IPython.display import display\n",
    "\n",
    "# Analyze each run\n",
    "all_results = []\n",
    "for run_name, run_dir in tqdm(run_dirs.items(), desc=\"Analyzing runs\"):\n",
    "    result = analyze_run(run_dir, eval_results_dir, metrics_to_plot=metrics_to_plot)\n",
    "    all_results.append(result)\n",
    "    \n",
    "    # Plot confusion matrix if available\n",
    "    if 'eval_info' in result and 'confusion_matrix' in result['eval_info']:\n",
    "        # Create a directory for visualization\n",
    "        vis_dir = os.path.join(eval_results_dir, run_name, 'visualizations')\n",
    "        os.makedirs(vis_dir, exist_ok=True)\n",
    "\n",
    "        # Get confusion matrix and class information\n",
    "        cm = result['eval_info']['confusion_matrix']\n",
    "        num_classes = result['eval_info']['num_classes']\n",
    "        \n",
    "        # Get class names for all indices\n",
    "        class_names = [class_idx_to_name(i) for i in range(num_classes)]\n",
    "        \n",
    "        # Convert class names to indices\n",
    "        reorder_idx = []\n",
    "        for desired_name in desired_order:\n",
    "            if desired_name in class_names:\n",
    "                idx = class_names.index(desired_name)\n",
    "                reorder_idx.append(idx)\n",
    "        \n",
    "        # If we have the wrong number of classes, fall back to original order\n",
    "        if len(reorder_idx) != num_classes:\n",
    "            print(f\"Warning: Not all classes found in desired order. Using original order.\")\n",
    "            reorder_idx = list(range(num_classes))\n",
    "        \n",
    "        # Reorder confusion matrix\n",
    "        cm_reordered = cm[reorder_idx, :][:, reorder_idx]\n",
    "        class_names_reordered = [class_names[i] for i in reorder_idx]\n",
    "        \n",
    "        # Plot confusion matrix\n",
    "        plt.figure(figsize=(12, 10))\n",
    "        sns.heatmap(cm_reordered, annot=True, fmt='d', cmap='Blues',\n",
    "                   xticklabels=class_names_reordered,\n",
    "                   yticklabels=class_names_reordered)\n",
    "        plt.xlabel('Predicted')\n",
    "        plt.ylabel('True')\n",
    "        # plt.title(f'Confusion Matrix - {run_name}')\n",
    "        \n",
    "        # Rotate x labels for better readability\n",
    "        plt.xticks(rotation=45, ha='right')\n",
    "        plt.tight_layout()\n",
    "        \n",
    "        # Save the plot\n",
    "        cm_path = os.path.join(vis_dir, 'confusion_matrix.png')\n",
    "        print(f'Saving confusion matrix to', cm_path)\n",
    "        plt.savefig(cm_path, bbox_inches='tight', dpi=300)\n",
    "\n",
    "        if plot_confusion_matrix:\n",
    "            # Display in notebook\n",
    "            display(plt.gcf())\n",
    "        plt.close()\n",
    "\n",
    "# Create a summary table of results with both validation and test accuracies\n",
    "print(\"\\nSummary of results:\")\n",
    "summary_data = []\n",
    "for result in all_results:\n",
    "    result_dict = {'run': result['name']}\n",
    "    \n",
    "    # Add validation accuracy (from log)\n",
    "    if 'best_accuracy' in result:\n",
    "        result_dict['val_accuracy'] = result['best_accuracy']\n",
    "        result_dict['best_epoch'] = result['best_epoch']\n",
    "    \n",
    "    # Add test accuracy (from evaluation)\n",
    "    if 'eval_info' in result and 'accuracy' in result['eval_info']:\n",
    "        result_dict['test_accuracy'] = result['eval_info']['accuracy']\n",
    "    \n",
    "    summary_data.append(result_dict)\n",
    "\n",
    "if summary_data:\n",
    "    summary_df = pd.DataFrame(summary_data)\n",
    "    \n",
    "    # Sort by test accuracy if available, otherwise by validation accuracy\n",
    "    if 'test_accuracy' in summary_df.columns:\n",
    "        summary_df = summary_df.sort_values('test_accuracy', ascending=False)\n",
    "    elif 'val_accuracy' in summary_df.columns:\n",
    "        summary_df = summary_df.sort_values('val_accuracy', ascending=False)\n",
    "    \n",
    "    # Save to CSV\n",
    "    summary_path = os.path.join(eval_results_dir, 'results_summary.csv')\n",
    "    summary_df.to_csv(summary_path, index=False)\n",
    "    \n",
    "    # Print summary\n",
    "    from IPython.display import display\n",
    "    display(summary_df)\n",
    "    print(f\"\\nSummary saved to {summary_path}\")\n",
    "\n",
    "print(\"\\nAnalysis complete!\")"
   ]
  },
  {
   "cell_type": "code",
   "execution_count": 65,
   "metadata": {},
   "outputs": [
    {
     "data": {
      "application/vnd.plotly.v1+json": {
       "config": {
        "plotlyServerURL": "https://plot.ly"
       },
       "data": [
        {
         "coloraxis": "coloraxis",
         "hovertemplate": "Number of Prototypes: %{x}<br>Number of Stages: %{y}<br>Test Accuracy: %{z}<extra></extra>",
         "name": "0",
         "texttemplate": "%{z:.3f}",
         "type": "heatmap",
         "x": [
          "4",
          "16",
          "64",
          "unrestricted"
         ],
         "xaxis": "x",
         "y": [
          "1",
          "2",
          "3",
          "4",
          "5",
          "6",
          "7"
         ],
         "yaxis": "y",
         "z": [
          [
           0.4144444444444444,
           0.5311111111111111,
           0.6166666666666667,
           0.5755555555555556
          ],
          [
           0.2222222222222222,
           0.51,
           0.3388888888888889,
           0.1111111111111111
          ],
          [
           0.3388888888888889,
           0.6822222222222222,
           0.5644444444444444,
           0.5111111111111111
          ],
          [
           0.2866666666666667,
           0.5855555555555556,
           0.3466666666666667,
           0.7022222222222222
          ],
          [
           0.24,
           0.4922222222222222,
           0.6966666666666667,
           0.3322222222222222
          ],
          [
           0.4066666666666667,
           0.5944444444444444,
           0.6622222222222223,
           0.8911111111111111
          ],
          [
           0.3233333333333333,
           0.7077777777777777,
           0.9977777777777778,
           0.9055555555555556
          ]
         ]
        }
       ],
       "layout": {
        "coloraxis": {
         "colorbar": {
          "title": {
           "text": "Test Accuracy"
          }
         },
         "colorscale": [
          [
           0,
           "#440154"
          ],
          [
           0.1111111111111111,
           "#482878"
          ],
          [
           0.2222222222222222,
           "#3e4989"
          ],
          [
           0.3333333333333333,
           "#31688e"
          ],
          [
           0.4444444444444444,
           "#26828e"
          ],
          [
           0.5555555555555556,
           "#1f9e89"
          ],
          [
           0.6666666666666666,
           "#35b779"
          ],
          [
           0.7777777777777778,
           "#6ece58"
          ],
          [
           0.8888888888888888,
           "#b5de2b"
          ],
          [
           1,
           "#fde725"
          ]
         ]
        },
        "margin": {
         "t": 60
        },
        "template": {
         "data": {
          "bar": [
           {
            "error_x": {
             "color": "#2a3f5f"
            },
            "error_y": {
             "color": "#2a3f5f"
            },
            "marker": {
             "line": {
              "color": "#E5ECF6",
              "width": 0.5
             },
             "pattern": {
              "fillmode": "overlay",
              "size": 10,
              "solidity": 0.2
             }
            },
            "type": "bar"
           }
          ],
          "barpolar": [
           {
            "marker": {
             "line": {
              "color": "#E5ECF6",
              "width": 0.5
             },
             "pattern": {
              "fillmode": "overlay",
              "size": 10,
              "solidity": 0.2
             }
            },
            "type": "barpolar"
           }
          ],
          "carpet": [
           {
            "aaxis": {
             "endlinecolor": "#2a3f5f",
             "gridcolor": "white",
             "linecolor": "white",
             "minorgridcolor": "white",
             "startlinecolor": "#2a3f5f"
            },
            "baxis": {
             "endlinecolor": "#2a3f5f",
             "gridcolor": "white",
             "linecolor": "white",
             "minorgridcolor": "white",
             "startlinecolor": "#2a3f5f"
            },
            "type": "carpet"
           }
          ],
          "choropleth": [
           {
            "colorbar": {
             "outlinewidth": 0,
             "ticks": ""
            },
            "type": "choropleth"
           }
          ],
          "contour": [
           {
            "colorbar": {
             "outlinewidth": 0,
             "ticks": ""
            },
            "colorscale": [
             [
              0,
              "#0d0887"
             ],
             [
              0.1111111111111111,
              "#46039f"
             ],
             [
              0.2222222222222222,
              "#7201a8"
             ],
             [
              0.3333333333333333,
              "#9c179e"
             ],
             [
              0.4444444444444444,
              "#bd3786"
             ],
             [
              0.5555555555555556,
              "#d8576b"
             ],
             [
              0.6666666666666666,
              "#ed7953"
             ],
             [
              0.7777777777777778,
              "#fb9f3a"
             ],
             [
              0.8888888888888888,
              "#fdca26"
             ],
             [
              1,
              "#f0f921"
             ]
            ],
            "type": "contour"
           }
          ],
          "contourcarpet": [
           {
            "colorbar": {
             "outlinewidth": 0,
             "ticks": ""
            },
            "type": "contourcarpet"
           }
          ],
          "heatmap": [
           {
            "colorbar": {
             "outlinewidth": 0,
             "ticks": ""
            },
            "colorscale": [
             [
              0,
              "#0d0887"
             ],
             [
              0.1111111111111111,
              "#46039f"
             ],
             [
              0.2222222222222222,
              "#7201a8"
             ],
             [
              0.3333333333333333,
              "#9c179e"
             ],
             [
              0.4444444444444444,
              "#bd3786"
             ],
             [
              0.5555555555555556,
              "#d8576b"
             ],
             [
              0.6666666666666666,
              "#ed7953"
             ],
             [
              0.7777777777777778,
              "#fb9f3a"
             ],
             [
              0.8888888888888888,
              "#fdca26"
             ],
             [
              1,
              "#f0f921"
             ]
            ],
            "type": "heatmap"
           }
          ],
          "heatmapgl": [
           {
            "colorbar": {
             "outlinewidth": 0,
             "ticks": ""
            },
            "colorscale": [
             [
              0,
              "#0d0887"
             ],
             [
              0.1111111111111111,
              "#46039f"
             ],
             [
              0.2222222222222222,
              "#7201a8"
             ],
             [
              0.3333333333333333,
              "#9c179e"
             ],
             [
              0.4444444444444444,
              "#bd3786"
             ],
             [
              0.5555555555555556,
              "#d8576b"
             ],
             [
              0.6666666666666666,
              "#ed7953"
             ],
             [
              0.7777777777777778,
              "#fb9f3a"
             ],
             [
              0.8888888888888888,
              "#fdca26"
             ],
             [
              1,
              "#f0f921"
             ]
            ],
            "type": "heatmapgl"
           }
          ],
          "histogram": [
           {
            "marker": {
             "pattern": {
              "fillmode": "overlay",
              "size": 10,
              "solidity": 0.2
             }
            },
            "type": "histogram"
           }
          ],
          "histogram2d": [
           {
            "colorbar": {
             "outlinewidth": 0,
             "ticks": ""
            },
            "colorscale": [
             [
              0,
              "#0d0887"
             ],
             [
              0.1111111111111111,
              "#46039f"
             ],
             [
              0.2222222222222222,
              "#7201a8"
             ],
             [
              0.3333333333333333,
              "#9c179e"
             ],
             [
              0.4444444444444444,
              "#bd3786"
             ],
             [
              0.5555555555555556,
              "#d8576b"
             ],
             [
              0.6666666666666666,
              "#ed7953"
             ],
             [
              0.7777777777777778,
              "#fb9f3a"
             ],
             [
              0.8888888888888888,
              "#fdca26"
             ],
             [
              1,
              "#f0f921"
             ]
            ],
            "type": "histogram2d"
           }
          ],
          "histogram2dcontour": [
           {
            "colorbar": {
             "outlinewidth": 0,
             "ticks": ""
            },
            "colorscale": [
             [
              0,
              "#0d0887"
             ],
             [
              0.1111111111111111,
              "#46039f"
             ],
             [
              0.2222222222222222,
              "#7201a8"
             ],
             [
              0.3333333333333333,
              "#9c179e"
             ],
             [
              0.4444444444444444,
              "#bd3786"
             ],
             [
              0.5555555555555556,
              "#d8576b"
             ],
             [
              0.6666666666666666,
              "#ed7953"
             ],
             [
              0.7777777777777778,
              "#fb9f3a"
             ],
             [
              0.8888888888888888,
              "#fdca26"
             ],
             [
              1,
              "#f0f921"
             ]
            ],
            "type": "histogram2dcontour"
           }
          ],
          "mesh3d": [
           {
            "colorbar": {
             "outlinewidth": 0,
             "ticks": ""
            },
            "type": "mesh3d"
           }
          ],
          "parcoords": [
           {
            "line": {
             "colorbar": {
              "outlinewidth": 0,
              "ticks": ""
             }
            },
            "type": "parcoords"
           }
          ],
          "pie": [
           {
            "automargin": true,
            "type": "pie"
           }
          ],
          "scatter": [
           {
            "fillpattern": {
             "fillmode": "overlay",
             "size": 10,
             "solidity": 0.2
            },
            "type": "scatter"
           }
          ],
          "scatter3d": [
           {
            "line": {
             "colorbar": {
              "outlinewidth": 0,
              "ticks": ""
             }
            },
            "marker": {
             "colorbar": {
              "outlinewidth": 0,
              "ticks": ""
             }
            },
            "type": "scatter3d"
           }
          ],
          "scattercarpet": [
           {
            "marker": {
             "colorbar": {
              "outlinewidth": 0,
              "ticks": ""
             }
            },
            "type": "scattercarpet"
           }
          ],
          "scattergeo": [
           {
            "marker": {
             "colorbar": {
              "outlinewidth": 0,
              "ticks": ""
             }
            },
            "type": "scattergeo"
           }
          ],
          "scattergl": [
           {
            "marker": {
             "colorbar": {
              "outlinewidth": 0,
              "ticks": ""
             }
            },
            "type": "scattergl"
           }
          ],
          "scattermapbox": [
           {
            "marker": {
             "colorbar": {
              "outlinewidth": 0,
              "ticks": ""
             }
            },
            "type": "scattermapbox"
           }
          ],
          "scatterpolar": [
           {
            "marker": {
             "colorbar": {
              "outlinewidth": 0,
              "ticks": ""
             }
            },
            "type": "scatterpolar"
           }
          ],
          "scatterpolargl": [
           {
            "marker": {
             "colorbar": {
              "outlinewidth": 0,
              "ticks": ""
             }
            },
            "type": "scatterpolargl"
           }
          ],
          "scatterternary": [
           {
            "marker": {
             "colorbar": {
              "outlinewidth": 0,
              "ticks": ""
             }
            },
            "type": "scatterternary"
           }
          ],
          "surface": [
           {
            "colorbar": {
             "outlinewidth": 0,
             "ticks": ""
            },
            "colorscale": [
             [
              0,
              "#0d0887"
             ],
             [
              0.1111111111111111,
              "#46039f"
             ],
             [
              0.2222222222222222,
              "#7201a8"
             ],
             [
              0.3333333333333333,
              "#9c179e"
             ],
             [
              0.4444444444444444,
              "#bd3786"
             ],
             [
              0.5555555555555556,
              "#d8576b"
             ],
             [
              0.6666666666666666,
              "#ed7953"
             ],
             [
              0.7777777777777778,
              "#fb9f3a"
             ],
             [
              0.8888888888888888,
              "#fdca26"
             ],
             [
              1,
              "#f0f921"
             ]
            ],
            "type": "surface"
           }
          ],
          "table": [
           {
            "cells": {
             "fill": {
              "color": "#EBF0F8"
             },
             "line": {
              "color": "white"
             }
            },
            "header": {
             "fill": {
              "color": "#C8D4E3"
             },
             "line": {
              "color": "white"
             }
            },
            "type": "table"
           }
          ]
         },
         "layout": {
          "annotationdefaults": {
           "arrowcolor": "#2a3f5f",
           "arrowhead": 0,
           "arrowwidth": 1
          },
          "autotypenumbers": "strict",
          "coloraxis": {
           "colorbar": {
            "outlinewidth": 0,
            "ticks": ""
           }
          },
          "colorscale": {
           "diverging": [
            [
             0,
             "#8e0152"
            ],
            [
             0.1,
             "#c51b7d"
            ],
            [
             0.2,
             "#de77ae"
            ],
            [
             0.3,
             "#f1b6da"
            ],
            [
             0.4,
             "#fde0ef"
            ],
            [
             0.5,
             "#f7f7f7"
            ],
            [
             0.6,
             "#e6f5d0"
            ],
            [
             0.7,
             "#b8e186"
            ],
            [
             0.8,
             "#7fbc41"
            ],
            [
             0.9,
             "#4d9221"
            ],
            [
             1,
             "#276419"
            ]
           ],
           "sequential": [
            [
             0,
             "#0d0887"
            ],
            [
             0.1111111111111111,
             "#46039f"
            ],
            [
             0.2222222222222222,
             "#7201a8"
            ],
            [
             0.3333333333333333,
             "#9c179e"
            ],
            [
             0.4444444444444444,
             "#bd3786"
            ],
            [
             0.5555555555555556,
             "#d8576b"
            ],
            [
             0.6666666666666666,
             "#ed7953"
            ],
            [
             0.7777777777777778,
             "#fb9f3a"
            ],
            [
             0.8888888888888888,
             "#fdca26"
            ],
            [
             1,
             "#f0f921"
            ]
           ],
           "sequentialminus": [
            [
             0,
             "#0d0887"
            ],
            [
             0.1111111111111111,
             "#46039f"
            ],
            [
             0.2222222222222222,
             "#7201a8"
            ],
            [
             0.3333333333333333,
             "#9c179e"
            ],
            [
             0.4444444444444444,
             "#bd3786"
            ],
            [
             0.5555555555555556,
             "#d8576b"
            ],
            [
             0.6666666666666666,
             "#ed7953"
            ],
            [
             0.7777777777777778,
             "#fb9f3a"
            ],
            [
             0.8888888888888888,
             "#fdca26"
            ],
            [
             1,
             "#f0f921"
            ]
           ]
          },
          "colorway": [
           "#636efa",
           "#EF553B",
           "#00cc96",
           "#ab63fa",
           "#FFA15A",
           "#19d3f3",
           "#FF6692",
           "#B6E880",
           "#FF97FF",
           "#FECB52"
          ],
          "font": {
           "color": "#2a3f5f"
          },
          "geo": {
           "bgcolor": "white",
           "lakecolor": "white",
           "landcolor": "#E5ECF6",
           "showlakes": true,
           "showland": true,
           "subunitcolor": "white"
          },
          "hoverlabel": {
           "align": "left"
          },
          "hovermode": "closest",
          "mapbox": {
           "style": "light"
          },
          "paper_bgcolor": "white",
          "plot_bgcolor": "#E5ECF6",
          "polar": {
           "angularaxis": {
            "gridcolor": "white",
            "linecolor": "white",
            "ticks": ""
           },
           "bgcolor": "#E5ECF6",
           "radialaxis": {
            "gridcolor": "white",
            "linecolor": "white",
            "ticks": ""
           }
          },
          "scene": {
           "xaxis": {
            "backgroundcolor": "#E5ECF6",
            "gridcolor": "white",
            "gridwidth": 2,
            "linecolor": "white",
            "showbackground": true,
            "ticks": "",
            "zerolinecolor": "white"
           },
           "yaxis": {
            "backgroundcolor": "#E5ECF6",
            "gridcolor": "white",
            "gridwidth": 2,
            "linecolor": "white",
            "showbackground": true,
            "ticks": "",
            "zerolinecolor": "white"
           },
           "zaxis": {
            "backgroundcolor": "#E5ECF6",
            "gridcolor": "white",
            "gridwidth": 2,
            "linecolor": "white",
            "showbackground": true,
            "ticks": "",
            "zerolinecolor": "white"
           }
          },
          "shapedefaults": {
           "line": {
            "color": "#2a3f5f"
           }
          },
          "ternary": {
           "aaxis": {
            "gridcolor": "white",
            "linecolor": "white",
            "ticks": ""
           },
           "baxis": {
            "gridcolor": "white",
            "linecolor": "white",
            "ticks": ""
           },
           "bgcolor": "#E5ECF6",
           "caxis": {
            "gridcolor": "white",
            "linecolor": "white",
            "ticks": ""
           }
          },
          "title": {
           "x": 0.05
          },
          "xaxis": {
           "automargin": true,
           "gridcolor": "white",
           "linecolor": "white",
           "ticks": "",
           "title": {
            "standoff": 15
           },
           "zerolinecolor": "white",
           "zerolinewidth": 2
          },
          "yaxis": {
           "automargin": true,
           "gridcolor": "white",
           "linecolor": "white",
           "ticks": "",
           "title": {
            "standoff": 15
           },
           "zerolinecolor": "white",
           "zerolinewidth": 2
          }
         }
        },
        "title": {
         "text": "Test Accuracy across Stages and Prototype Counts"
        },
        "xaxis": {
         "anchor": "y",
         "domain": [
          0,
          1
         ],
         "title": {
          "text": "Number of Prototypes"
         }
        },
        "yaxis": {
         "anchor": "x",
         "autorange": "reversed",
         "domain": [
          0,
          1
         ],
         "title": {
          "text": "Number of Stages"
         }
        }
       }
      },
      "image/png": "[encoded data removed]",
      "text/html": [
       "<div>                            <div id=\"e0191c5a-7d21-43e4-8ce8-9e923ed8ca25\" class=\"plotly-graph-div\" style=\"height:525px; width:100%;\"></div>            <script type=\"text/javascript\">                require([\"plotly\"], function(Plotly) {                    window.PLOTLYENV=window.PLOTLYENV || {};                                    if (document.getElementById(\"e0191c5a-7d21-43e4-8ce8-9e923ed8ca25\")) {                    Plotly.newPlot(                        \"e0191c5a-7d21-43e4-8ce8-9e923ed8ca25\",                        [{\"coloraxis\":\"coloraxis\",\"name\":\"0\",\"texttemplate\":\"%{z:.3f}\",\"x\":[\"4\",\"16\",\"64\",\"unrestricted\"],\"y\":[\"1\",\"2\",\"3\",\"4\",\"5\",\"6\",\"7\"],\"z\":[[0.4144444444444444,0.5311111111111111,0.6166666666666667,0.5755555555555556],[0.2222222222222222,0.51,0.3388888888888889,0.1111111111111111],[0.3388888888888889,0.6822222222222222,0.5644444444444444,0.5111111111111111],[0.2866666666666667,0.5855555555555556,0.3466666666666667,0.7022222222222222],[0.24,0.4922222222222222,0.6966666666666667,0.3322222222222222],[0.4066666666666667,0.5944444444444444,0.6622222222222223,0.8911111111111111],[0.3233333333333333,0.7077777777777777,0.9977777777777778,0.9055555555555556]],\"type\":\"heatmap\",\"xaxis\":\"x\",\"yaxis\":\"y\",\"hovertemplate\":\"Number of Prototypes: %{x}\\u003cbr\\u003eNumber of Stages: %{y}\\u003cbr\\u003eTest Accuracy: %{z}\\u003cextra\\u003e\\u003c\\u002fextra\\u003e\"}],                        {\"template\":{\"data\":{\"histogram2dcontour\":[{\"type\":\"histogram2dcontour\",\"colorbar\":{\"outlinewidth\":0,\"ticks\":\"\"},\"colorscale\":[[0.0,\"#0d0887\"],[0.1111111111111111,\"#46039f\"],[0.2222222222222222,\"#7201a8\"],[0.3333333333333333,\"#9c179e\"],[0.4444444444444444,\"#bd3786\"],[0.5555555555555556,\"#d8576b\"],[0.6666666666666666,\"#ed7953\"],[0.7777777777777778,\"#fb9f3a\"],[0.8888888888888888,\"#fdca26\"],[1.0,\"#f0f921\"]]}],\"choropleth\":[{\"type\":\"choropleth\",\"colorbar\":{\"outlinewidth\":0,\"ticks\":\"\"}}],\"histogram2d\":[{\"type\":\"histogram2d\",\"colorbar\":{\"outlinewidth\":0,\"ticks\":\"\"},\"colorscale\":[[0.0,\"#0d0887\"],[0.1111111111111111,\"#46039f\"],[0.2222222222222222,\"#7201a8\"],[0.3333333333333333,\"#9c179e\"],[0.4444444444444444,\"#bd3786\"],[0.5555555555555556,\"#d8576b\"],[0.6666666666666666,\"#ed7953\"],[0.7777777777777778,\"#fb9f3a\"],[0.8888888888888888,\"#fdca26\"],[1.0,\"#f0f921\"]]}],\"heatmap\":[{\"type\":\"heatmap\",\"colorbar\":{\"outlinewidth\":0,\"ticks\":\"\"},\"colorscale\":[[0.0,\"#0d0887\"],[0.1111111111111111,\"#46039f\"],[0.2222222222222222,\"#7201a8\"],[0.3333333333333333,\"#9c179e\"],[0.4444444444444444,\"#bd3786\"],[0.5555555555555556,\"#d8576b\"],[0.6666666666666666,\"#ed7953\"],[0.7777777777777778,\"#fb9f3a\"],[0.8888888888888888,\"#fdca26\"],[1.0,\"#f0f921\"]]}],\"heatmapgl\":[{\"type\":\"heatmapgl\",\"colorbar\":{\"outlinewidth\":0,\"ticks\":\"\"},\"colorscale\":[[0.0,\"#0d0887\"],[0.1111111111111111,\"#46039f\"],[0.2222222222222222,\"#7201a8\"],[0.3333333333333333,\"#9c179e\"],[0.4444444444444444,\"#bd3786\"],[0.5555555555555556,\"#d8576b\"],[0.6666666666666666,\"#ed7953\"],[0.7777777777777778,\"#fb9f3a\"],[0.8888888888888888,\"#fdca26\"],[1.0,\"#f0f921\"]]}],\"contourcarpet\":[{\"type\":\"contourcarpet\",\"colorbar\":{\"outlinewidth\":0,\"ticks\":\"\"}}],\"contour\":[{\"type\":\"contour\",\"colorbar\":{\"outlinewidth\":0,\"ticks\":\"\"},\"colorscale\":[[0.0,\"#0d0887\"],[0.1111111111111111,\"#46039f\"],[0.2222222222222222,\"#7201a8\"],[0.3333333333333333,\"#9c179e\"],[0.4444444444444444,\"#bd3786\"],[0.5555555555555556,\"#d8576b\"],[0.6666666666666666,\"#ed7953\"],[0.7777777777777778,\"#fb9f3a\"],[0.8888888888888888,\"#fdca26\"],[1.0,\"#f0f921\"]]}],\"surface\":[{\"type\":\"surface\",\"colorbar\":{\"outlinewidth\":0,\"ticks\":\"\"},\"colorscale\":[[0.0,\"#0d0887\"],[0.1111111111111111,\"#46039f\"],[0.2222222222222222,\"#7201a8\"],[0.3333333333333333,\"#9c179e\"],[0.4444444444444444,\"#bd3786\"],[0.5555555555555556,\"#d8576b\"],[0.6666666666666666,\"#ed7953\"],[0.7777777777777778,\"#fb9f3a\"],[0.8888888888888888,\"#fdca26\"],[1.0,\"#f0f921\"]]}],\"mesh3d\":[{\"type\":\"mesh3d\",\"colorbar\":{\"outlinewidth\":0,\"ticks\":\"\"}}],\"scatter\":[{\"fillpattern\":{\"fillmode\":\"overlay\",\"size\":10,\"solidity\":0.2},\"type\":\"scatter\"}],\"parcoords\":[{\"type\":\"parcoords\",\"line\":{\"colorbar\":{\"outlinewidth\":0,\"ticks\":\"\"}}}],\"scatterpolargl\":[{\"type\":\"scatterpolargl\",\"marker\":{\"colorbar\":{\"outlinewidth\":0,\"ticks\":\"\"}}}],\"bar\":[{\"error_x\":{\"color\":\"#2a3f5f\"},\"error_y\":{\"color\":\"#2a3f5f\"},\"marker\":{\"line\":{\"color\":\"#E5ECF6\",\"width\":0.5},\"pattern\":{\"fillmode\":\"overlay\",\"size\":10,\"solidity\":0.2}},\"type\":\"bar\"}],\"scattergeo\":[{\"type\":\"scattergeo\",\"marker\":{\"colorbar\":{\"outlinewidth\":0,\"ticks\":\"\"}}}],\"scatterpolar\":[{\"type\":\"scatterpolar\",\"marker\":{\"colorbar\":{\"outlinewidth\":0,\"ticks\":\"\"}}}],\"histogram\":[{\"marker\":{\"pattern\":{\"fillmode\":\"overlay\",\"size\":10,\"solidity\":0.2}},\"type\":\"histogram\"}],\"scattergl\":[{\"type\":\"scattergl\",\"marker\":{\"colorbar\":{\"outlinewidth\":0,\"ticks\":\"\"}}}],\"scatter3d\":[{\"type\":\"scatter3d\",\"line\":{\"colorbar\":{\"outlinewidth\":0,\"ticks\":\"\"}},\"marker\":{\"colorbar\":{\"outlinewidth\":0,\"ticks\":\"\"}}}],\"scattermapbox\":[{\"type\":\"scattermapbox\",\"marker\":{\"colorbar\":{\"outlinewidth\":0,\"ticks\":\"\"}}}],\"scatterternary\":[{\"type\":\"scatterternary\",\"marker\":{\"colorbar\":{\"outlinewidth\":0,\"ticks\":\"\"}}}],\"scattercarpet\":[{\"type\":\"scattercarpet\",\"marker\":{\"colorbar\":{\"outlinewidth\":0,\"ticks\":\"\"}}}],\"carpet\":[{\"aaxis\":{\"endlinecolor\":\"#2a3f5f\",\"gridcolor\":\"white\",\"linecolor\":\"white\",\"minorgridcolor\":\"white\",\"startlinecolor\":\"#2a3f5f\"},\"baxis\":{\"endlinecolor\":\"#2a3f5f\",\"gridcolor\":\"white\",\"linecolor\":\"white\",\"minorgridcolor\":\"white\",\"startlinecolor\":\"#2a3f5f\"},\"type\":\"carpet\"}],\"table\":[{\"cells\":{\"fill\":{\"color\":\"#EBF0F8\"},\"line\":{\"color\":\"white\"}},\"header\":{\"fill\":{\"color\":\"#C8D4E3\"},\"line\":{\"color\":\"white\"}},\"type\":\"table\"}],\"barpolar\":[{\"marker\":{\"line\":{\"color\":\"#E5ECF6\",\"width\":0.5},\"pattern\":{\"fillmode\":\"overlay\",\"size\":10,\"solidity\":0.2}},\"type\":\"barpolar\"}],\"pie\":[{\"automargin\":true,\"type\":\"pie\"}]},\"layout\":{\"autotypenumbers\":\"strict\",\"colorway\":[\"#636efa\",\"#EF553B\",\"#00cc96\",\"#ab63fa\",\"#FFA15A\",\"#19d3f3\",\"#FF6692\",\"#B6E880\",\"#FF97FF\",\"#FECB52\"],\"font\":{\"color\":\"#2a3f5f\"},\"hovermode\":\"closest\",\"hoverlabel\":{\"align\":\"left\"},\"paper_bgcolor\":\"white\",\"plot_bgcolor\":\"#E5ECF6\",\"polar\":{\"bgcolor\":\"#E5ECF6\",\"angularaxis\":{\"gridcolor\":\"white\",\"linecolor\":\"white\",\"ticks\":\"\"},\"radialaxis\":{\"gridcolor\":\"white\",\"linecolor\":\"white\",\"ticks\":\"\"}},\"ternary\":{\"bgcolor\":\"#E5ECF6\",\"aaxis\":{\"gridcolor\":\"white\",\"linecolor\":\"white\",\"ticks\":\"\"},\"baxis\":{\"gridcolor\":\"white\",\"linecolor\":\"white\",\"ticks\":\"\"},\"caxis\":{\"gridcolor\":\"white\",\"linecolor\":\"white\",\"ticks\":\"\"}},\"coloraxis\":{\"colorbar\":{\"outlinewidth\":0,\"ticks\":\"\"}},\"colorscale\":{\"sequential\":[[0.0,\"#0d0887\"],[0.1111111111111111,\"#46039f\"],[0.2222222222222222,\"#7201a8\"],[0.3333333333333333,\"#9c179e\"],[0.4444444444444444,\"#bd3786\"],[0.5555555555555556,\"#d8576b\"],[0.6666666666666666,\"#ed7953\"],[0.7777777777777778,\"#fb9f3a\"],[0.8888888888888888,\"#fdca26\"],[1.0,\"#f0f921\"]],\"sequentialminus\":[[0.0,\"#0d0887\"],[0.1111111111111111,\"#46039f\"],[0.2222222222222222,\"#7201a8\"],[0.3333333333333333,\"#9c179e\"],[0.4444444444444444,\"#bd3786\"],[0.5555555555555556,\"#d8576b\"],[0.6666666666666666,\"#ed7953\"],[0.7777777777777778,\"#fb9f3a\"],[0.8888888888888888,\"#fdca26\"],[1.0,\"#f0f921\"]],\"diverging\":[[0,\"#8e0152\"],[0.1,\"#c51b7d\"],[0.2,\"#de77ae\"],[0.3,\"#f1b6da\"],[0.4,\"#fde0ef\"],[0.5,\"#f7f7f7\"],[0.6,\"#e6f5d0\"],[0.7,\"#b8e186\"],[0.8,\"#7fbc41\"],[0.9,\"#4d9221\"],[1,\"#276419\"]]},\"xaxis\":{\"gridcolor\":\"white\",\"linecolor\":\"white\",\"ticks\":\"\",\"title\":{\"standoff\":15},\"zerolinecolor\":\"white\",\"automargin\":true,\"zerolinewidth\":2},\"yaxis\":{\"gridcolor\":\"white\",\"linecolor\":\"white\",\"ticks\":\"\",\"title\":{\"standoff\":15},\"zerolinecolor\":\"white\",\"automargin\":true,\"zerolinewidth\":2},\"scene\":{\"xaxis\":{\"backgroundcolor\":\"#E5ECF6\",\"gridcolor\":\"white\",\"linecolor\":\"white\",\"showbackground\":true,\"ticks\":\"\",\"zerolinecolor\":\"white\",\"gridwidth\":2},\"yaxis\":{\"backgroundcolor\":\"#E5ECF6\",\"gridcolor\":\"white\",\"linecolor\":\"white\",\"showbackground\":true,\"ticks\":\"\",\"zerolinecolor\":\"white\",\"gridwidth\":2},\"zaxis\":{\"backgroundcolor\":\"#E5ECF6\",\"gridcolor\":\"white\",\"linecolor\":\"white\",\"showbackground\":true,\"ticks\":\"\",\"zerolinecolor\":\"white\",\"gridwidth\":2}},\"shapedefaults\":{\"line\":{\"color\":\"#2a3f5f\"}},\"annotationdefaults\":{\"arrowcolor\":\"#2a3f5f\",\"arrowhead\":0,\"arrowwidth\":1},\"geo\":{\"bgcolor\":\"white\",\"landcolor\":\"#E5ECF6\",\"subunitcolor\":\"white\",\"showland\":true,\"showlakes\":true,\"lakecolor\":\"white\"},\"title\":{\"x\":0.05},\"mapbox\":{\"style\":\"light\"}}},\"xaxis\":{\"anchor\":\"y\",\"domain\":[0.0,1.0],\"title\":{\"text\":\"Number of Prototypes\"}},\"yaxis\":{\"anchor\":\"x\",\"domain\":[0.0,1.0],\"autorange\":\"reversed\",\"title\":{\"text\":\"Number of Stages\"}},\"coloraxis\":{\"colorbar\":{\"title\":{\"text\":\"Test Accuracy\"}},\"colorscale\":[[0.0,\"#440154\"],[0.1111111111111111,\"#482878\"],[0.2222222222222222,\"#3e4989\"],[0.3333333333333333,\"#31688e\"],[0.4444444444444444,\"#26828e\"],[0.5555555555555556,\"#1f9e89\"],[0.6666666666666666,\"#35b779\"],[0.7777777777777778,\"#6ece58\"],[0.8888888888888888,\"#b5de2b\"],[1.0,\"#fde725\"]]},\"margin\":{\"t\":60},\"title\":{\"text\":\"Test Accuracy across Stages and Prototype Counts\"}},                        {\"responsive\": true}                    ).then(function(){\n",
       "                            \n",
       "var gd = document.getElementById('e0191c5a-7d21-43e4-8ce8-9e923ed8ca25');\n",
       "var x = new MutationObserver(function (mutations, observer) {{\n",
       "        var display = window.getComputedStyle(gd).display;\n",
       "        if (!display || display === 'none') {{\n",
       "            console.log([gd, 'removed!']);\n",
       "            Plotly.purge(gd);\n",
       "            observer.disconnect();\n",
       "        }}\n",
       "}});\n",
       "\n",
       "// Listen for the removal of the full notebook cells\n",
       "var notebookContainer = gd.closest('#notebook-container');\n",
       "if (notebookContainer) {{\n",
       "    x.observe(notebookContainer, {childList: true});\n",
       "}}\n",
       "\n",
       "// Listen for the clearing of the current output cell\n",
       "var outputEl = gd.closest('.output');\n",
       "if (outputEl) {{\n",
       "    x.observe(outputEl, {childList: true});\n",
       "}}\n",
       "\n",
       "                        })                };                });            </script>        </div>"
      ]
     },
     "metadata": {},
     "output_type": "display_data"
    }
   ],
   "source": [
    "import os\n",
    "import pandas as pd\n",
    "import plotly.express as px\n",
    "\n",
    "summary_path = os.path.join(eval_results_dir, 'results_summary.csv')\n",
    "if os.path.exists(summary_path):\n",
    "    results_df = pd.read_csv(summary_path)\n",
    "\n",
    "    if 'multi_stage' in str(multi_experiment_dir):\n",
    "        # Extract stage and prototype count\n",
    "        results_df['stage'] = results_df['run'].str.extract(r'_stage_(\\d+)_p_')[0].astype(int)\n",
    "        results_df['num_prototypes'] = results_df['run'].str.extract(r'_p_(\\d+)$')[0].astype(int)\n",
    "\n",
    "        # Convert to string for display\n",
    "        results_df['stage_str'] = results_df['stage'].astype(str)\n",
    "        results_df['num_prototypes_str'] = results_df['num_prototypes'].astype(str)\n",
    "\n",
    "        # Rename prototype \"0\" to \"unrestricted\"\n",
    "        results_df.loc[results_df['num_prototypes'] == 0, 'num_prototypes_str'] = 'unrestricted'\n",
    "\n",
    "        # Set desired prototype display order: numeric ones first, then 'unrestricted'\n",
    "        other_protos = sorted(results_df['num_prototypes'].unique())\n",
    "        if 0 in other_protos:\n",
    "            other_protos.remove(0)\n",
    "        proto_order = [str(p) for p in other_protos] + ['unrestricted']\n",
    "\n",
    "        # Stage order\n",
    "        stage_order = [str(s) for s in sorted(results_df['stage'].unique())]\n",
    "\n",
    "        # Pivot and reorder\n",
    "        heatmap_data = results_df.pivot(index='stage_str', columns='num_prototypes_str', values='test_accuracy')\n",
    "        heatmap_data = heatmap_data[proto_order].loc[stage_order]\n",
    "\n",
    "        # Plot\n",
    "        fig = px.imshow(\n",
    "            heatmap_data,\n",
    "            labels=dict(x=\"Number of Prototypes\", y=\"Number of Stages\", color=\"Test Accuracy\"),\n",
    "            x=proto_order,\n",
    "            y=stage_order,\n",
    "            text_auto=\".3f\",\n",
    "            aspect=\"auto\",\n",
    "            color_continuous_scale=\"Viridis\"\n",
    "        )\n",
    "        fig.update_layout(title=\"Test Accuracy across Stages and Prototype Counts\")\n",
    "        fig.show()"
   ]
  },
  {
   "cell_type": "code",
   "execution_count": null,
   "metadata": {},
   "outputs": [],
   "source": []
  }
 ],
 "metadata": {
  "kernelspec": {
   "display_name": "Python 3 (ipykernel)",
   "language": "python",
   "name": "python3"
  },
  "language_info": {
   "codemirror_mode": {
    "name": "ipython",
    "version": 3
   },
   "file_extension": ".py",
   "mimetype": "text/x-python",
   "name": "python",
   "nbconvert_exporter": "python",
   "pygments_lexer": "ipython3",
   "version": "3.12.8"
  }
 },
 "nbformat": 4,
 "nbformat_minor": 4
}
