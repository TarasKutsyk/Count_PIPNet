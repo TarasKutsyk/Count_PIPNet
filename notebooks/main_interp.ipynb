{
 "cells": [
  {
   "cell_type": "code",
   "execution_count": 1,
   "metadata": {},
   "outputs": [
    {
     "name": "stdout",
     "output_type": "stream",
     "text": [
      "Base path: /mnt/ssd-1/mechinterp/taras/Count_PIPNet\n"
     ]
    }
   ],
   "source": [
    "# Enable auto-reloading of imports when they have been modified\n",
    "from IPython import get_ipython\n",
    "ipython = get_ipython(); assert ipython is not None\n",
    "ipython.run_line_magic(\"load_ext\", \"autoreload\")\n",
    "ipython.run_line_magic(\"autoreload\", \"2\")\n",
    "\n",
    "import os\n",
    "import json\n",
    "import torch\n",
    "import torch.nn as nn\n",
    "\n",
    "# Disable gradient computation - this notebook will only perform forward passes\n",
    "torch.set_grad_enabled(False)\n",
    "\n",
    "from pathlib import Path\n",
    "import sys\n",
    "import os\n",
    "\n",
    "# Add the base (root) directory to the path so we can import the util modules\n",
    "def get_base_folder(project_root = \"Count_PIPNet\"):\n",
    "\t# Find the project root dynamically\n",
    "\tcurrent_dir = os.getcwd()\n",
    "\twhile True:\n",
    "\t\tif os.path.basename(current_dir) == project_root:  # Adjust to match your project root folder name\n",
    "\t\t\tbreak\n",
    "\t\tparent = os.path.dirname(current_dir)\n",
    "\t\tif parent == current_dir:  # Stop if we reach the system root (failsafe)\n",
    "\t\t\traise RuntimeError(f\"Project root {project_root} not found. Check your folder structure.\")\n",
    "\t\tcurrent_dir = parent\n",
    "\n",
    "\treturn Path(current_dir)\n",
    "\n",
    "base_path = get_base_folder()\n",
    "print(f\"Base path: {base_path}\")\n",
    "sys.path.append(str(base_path))"
   ]
  },
  {
   "cell_type": "code",
   "execution_count": 2,
   "metadata": {},
   "outputs": [],
   "source": [
    "from util.vis_pipnet import visualize_topk\n",
    "from pipnet.count_pipnet import get_count_network\n",
    "from util.checkpoint_manager import CheckpointManager\n",
    "from util.data import get_dataloaders\n",
    "from util.args import get_args\n",
    "from util.vis_pipnet import visualize_topk"
   ]
  },
  {
   "cell_type": "code",
   "execution_count": 3,
   "metadata": {},
   "outputs": [
    {
     "name": "stdout",
     "output_type": "stream",
     "text": [
      ">>> Using cuda:3 device <<<\n"
     ]
    }
   ],
   "source": [
    "# Device setup\n",
    "GPU_TO_USE = 3\n",
    "\n",
    "if torch.backends.mps.is_available():\n",
    "    device = \"mps\"\n",
    "else:\n",
    "    device = f\"cuda:{GPU_TO_USE}\" if torch.cuda.is_available() else \"cpu\"\n",
    "\n",
    "print(f'>>> Using {device} device <<<')"
   ]
  },
  {
   "cell_type": "code",
   "execution_count": 4,
   "metadata": {},
   "outputs": [
    {
     "data": {
      "text/plain": [
       "PosixPath('/mnt/ssd-1/mechinterp/taras/Count_PIPNet/runs/stage_3')"
      ]
     },
     "execution_count": 4,
     "metadata": {},
     "output_type": "execute_result"
    }
   ],
   "source": [
    "multi_experiment_dir = base_path / 'runs/stage_3'\n",
    "multi_experiment_dir"
   ]
  },
  {
   "cell_type": "code",
   "execution_count": 5,
   "metadata": {},
   "outputs": [],
   "source": [
    "visualization_dir = base_path / 'visualizations'\n",
    "os.makedirs(visualization_dir, exist_ok=True)"
   ]
  },
  {
   "cell_type": "code",
   "execution_count": 6,
   "metadata": {},
   "outputs": [
    {
     "name": "stdout",
     "output_type": "stream",
     "text": [
      "Found 2 trained models\n"
     ]
    }
   ],
   "source": [
    "summary_path = os.path.join(multi_experiment_dir, 'summary.json')\n",
    "\n",
    "# Load the summary file to get all run directories\n",
    "with open(summary_path, 'r') as f:\n",
    "    summary = json.load(f)\n",
    "\n",
    "print(f\"Found {len(summary)} trained models\")"
   ]
  },
  {
   "cell_type": "code",
   "execution_count": 25,
   "metadata": {},
   "outputs": [],
   "source": [
    "def load_model(run_dir, checkpoint_name='net_trained_best', base_path=base_path, gpu_id=3):\n",
    "\t\"\"\"\n",
    "\tLoad a model from a checkpoint directory for visualization purposes.\n",
    "\n",
    "\tArgs:\n",
    "\t\trun_dir: Directory containing the run results\n",
    "\t\tcheckpoint_name: Name of checkpoint to load (default: 'net_trained_best')\n",
    "\t\tbase_path: Base path for dataset directories (default: None)\n",
    "\t\tgpu_id: GPU ID to use (default: 0)\n",
    "\t\t\n",
    "\tReturns:\n",
    "\t\tTuple of (net, projectloader, classes, args, is_count_pipnet)\n",
    "\t\"\"\"\n",
    "\t# Step 1: Load the configuration used for this run\n",
    "\tmetadata_dir = os.path.join(run_dir, 'metadata')\n",
    "\targs_path = os.path.join(metadata_dir, 'args.pickle')\n",
    "\n",
    "\timport pickle\n",
    "\twith open(args_path, 'rb') as f:\n",
    "\t\targs = pickle.load(f)\n",
    "\tprint(f\"Loaded configuration from {args_path}\")\n",
    "\n",
    "\t# Explicitly set GPU ID to ensure device consistency\n",
    "\tif torch.cuda.is_available():\n",
    "\t\targs.gpu_ids = str(gpu_id)\n",
    "\t\tdevice = torch.device(f'cuda:{gpu_id}')\n",
    "\t\ttorch.cuda.set_device(device)\n",
    "\telse:\n",
    "\t\tdevice = torch.device('cpu')\n",
    "\n",
    "\tprint(f\"Using device: {device}\")\n",
    "\n",
    "\t# Step 2: Create dataloaders (needed for projectloader)\n",
    "\targs.log_dir = run_dir  # Use the run directory as log_dir\n",
    "\ttrainloader, trainloader_pretraining, trainloader_normal, \\\n",
    "\ttrainloader_normal_augment, projectloader, testloader, test_projectloader, classes = get_dataloaders(args, device, base_path)\n",
    "\n",
    "\t# Step 3: Create a model with the same architecture\n",
    "\tif hasattr(args, 'model') and args.model == 'count_pipnet':\n",
    "\t\tis_count_pipnet = True\n",
    "\t\tnet, num_prototypes = get_count_network(\n",
    "\t\t\tnum_classes=len(classes), \n",
    "\t\t\targs=args,\n",
    "\t\t\tmax_count=getattr(args, 'max_count', 3),\n",
    "\t\t\tuse_ste=getattr(args, 'use_ste', False))\n",
    "\telse:\n",
    "\t\tfrom pipnet.pipnet import get_pipnet\n",
    "\t\tis_count_pipnet = False\n",
    "\t\tnet, num_prototypes = get_pipnet(len(classes), args)\n",
    "\n",
    "\t# Step 4: Move model to device (don't use DataParallel yet)\n",
    "\tnet = net.to(device)\n",
    "\n",
    "\t# Step 5: Forward one batch through the backbone to get the latent output size\n",
    "\t# This needs to happen BEFORE loading the checkpoint\n",
    "\twith torch.no_grad():\n",
    "\t\t# Use a small batch to determine output shape\n",
    "\t\txs1, _, _ = next(iter(trainloader))\n",
    "\t\txs1 = xs1.to(device)\n",
    "\n",
    "\t\t# Single-forward pass without DataParallel\n",
    "\t\tfeatures = net._net(xs1)\n",
    "\t\tproto_features = net._add_on(features)\n",
    "\n",
    "\t\twshape = proto_features.shape[-1]\n",
    "\t\targs.wshape = wshape  # needed for calculating image patch size\n",
    "\t\tprint(f\"Output shape: {proto_features.shape}, setting wshape={wshape}\")\n",
    "            \n",
    "\t# Step 6: Now wrap with DataParallel\n",
    "\tdevice_ids = [gpu_id]\n",
    "\tprint(f\"Using device_ids: {device_ids}\")\n",
    "\tnet = nn.DataParallel(net, device_ids=device_ids)\n",
    "\n",
    "\t# Step 7: Direct checkpoint loading\n",
    "\tcheckpoint_path = os.path.join(run_dir, 'checkpoints', checkpoint_name)\n",
    "\tif not os.path.exists(checkpoint_path):\n",
    "\t\tprint(f\"Checkpoint not found at {checkpoint_path}, trying alternative paths...\")\n",
    "\t\t# Try with full path as fallback\n",
    "\t\tif os.path.exists(checkpoint_name):\n",
    "\t\t\tcheckpoint_path = checkpoint_name\n",
    "\t\telse:\n",
    "\t\t\t# Try other common checkpoint names\n",
    "\t\t\talternatives = [\n",
    "\t\t\t\tos.path.join(run_dir, 'checkpoints', 'net_trained_last'),\n",
    "\t\t\t\tos.path.join(run_dir, 'checkpoints', 'net_trained'),\n",
    "\t\t\t\tcheckpoint_name # in case the direct path was passed\n",
    "\t\t\t]\n",
    "\t\t\tfor alt_path in alternatives:\n",
    "\t\t\t\tif os.path.exists(alt_path):\n",
    "\t\t\t\t\tcheckpoint_path = alt_path\n",
    "\t\t\t\t\tprint(f\"Found alternative checkpoint at {checkpoint_path}\")\n",
    "\t\t\t\t\tbreak\n",
    "\t\t\telse:\n",
    "\t\t\t\tprint(\"No checkpoint found\")\n",
    "\t\t\t\treturn None, None, None, None, None\n",
    "\n",
    "\ttry:\n",
    "\t\t# Load just the model state dict, ignore optimizer states\n",
    "\t\tcheckpoint = torch.load(checkpoint_path, map_location=device)\n",
    "\t\t\n",
    "\t\tif 'model_state_dict' in checkpoint:\n",
    "\t\t\tnet.load_state_dict(checkpoint['model_state_dict'], strict=True)\n",
    "\t\t\tprint(f\"Successfully loaded model state from {checkpoint_path}\")\n",
    "\t\t\t\n",
    "\t\t\t# Display additional information if available\n",
    "\t\t\tif 'epoch' in checkpoint:\n",
    "\t\t\t\tprint(f\"Checkpoint from epoch {checkpoint['epoch']}\")\n",
    "\t\t\tif 'accuracy' in checkpoint:\n",
    "\t\t\t\tprint(f\"Model accuracy: {checkpoint['accuracy']:.4f}\")\n",
    "\t\t\t\n",
    "\t\t\treturn net, projectloader, classes, args, is_count_pipnet\n",
    "\t\telse:\n",
    "\t\t\tprint(f\"Checkpoint doesn't contain model_state_dict\")\n",
    "\t\t\treturn None, None, None, None, None\n",
    "\t\t\t\n",
    "\texcept Exception as e:\n",
    "\t\tprint(f\"Error loading checkpoint: {str(e)}\")\n",
    "\t\timport traceback\n",
    "\t\ttraceback.print_exc()\n",
    "\t\treturn None, None, None, None, None"
   ]
  },
  {
   "cell_type": "markdown",
   "metadata": {},
   "source": [
    "# Pre-trained prototypes visualization"
   ]
  },
  {
   "cell_type": "code",
   "execution_count": 31,
   "metadata": {},
   "outputs": [
    {
     "name": "stdout",
     "output_type": "stream",
     "text": [
      "Loading a checkpoint net_pretrained_e9aef2d9e9 from /mnt/ssd-1/mechinterp/taras/Count_PIPNet/runs/45_shapesGN_linear\n"
     ]
    }
   ],
   "source": [
    "checkpoint_to_load = 'runs/45_shapesGN_linear'\n",
    "checkpoint_to_load_pretrain_dir = base_path / checkpoint_to_load\n",
    "checkpoint_name = 'net_pretrained_e9aef2d9e9'\n",
    "\n",
    "print(f'Loading a checkpoint {checkpoint_name} from {checkpoint_to_load_pretrain_dir}')"
   ]
  },
  {
   "cell_type": "code",
   "execution_count": 32,
   "metadata": {},
   "outputs": [
    {
     "name": "stdout",
     "output_type": "stream",
     "text": [
      "Loaded configuration from /mnt/ssd-1/mechinterp/taras/Count_PIPNet/runs/45_shapesGN_linear/metadata/args.pickle\n",
      "Using device: cuda:3\n",
      "Num classes (k) =  9 ['class_1', 'class_2', 'class_3', 'class_4', 'class_5'] etc.\n"
     ]
    },
    {
     "name": "stdout",
     "output_type": "stream",
     "text": [
      "Detected 192 output channels from last conv layer\n",
      "Number of prototypes set from 192 to 16. Extra 1x1 conv layer added.\n",
      "Output shape: torch.Size([64, 16, 24, 24]), setting wshape=24\n",
      "Using device_ids: [3]\n",
      "Successfully loaded model state from /mnt/ssd-1/mechinterp/taras/Count_PIPNet/runs/45_shapesGN_linear/checkpoints/net_pretrained_e9aef2d9e9\n"
     ]
    }
   ],
   "source": [
    "net, projectloader, classes, args, is_count_pipnet = load_model(checkpoint_to_load_pretrain_dir, gpu_id=GPU_TO_USE,\n",
    "                                                                checkpoint_name=checkpoint_name)"
   ]
  },
  {
   "cell_type": "code",
   "execution_count": 33,
   "metadata": {},
   "outputs": [
    {
     "name": "stdout",
     "output_type": "stream",
     "text": [
      "Saving viz to /mnt/ssd-1/mechinterp/taras/Count_PIPNet/visualizations/45_shapesGN_linear\n"
     ]
    }
   ],
   "source": [
    "run_vis_dir = visualization_dir / checkpoint_to_load.split('/')[-1]\n",
    "\n",
    "print(f'Saving viz to {run_vis_dir}')\n",
    "\n",
    "os.makedirs(run_vis_dir, exist_ok=True)"
   ]
  },
  {
   "cell_type": "code",
   "execution_count": 34,
   "metadata": {},
   "outputs": [
    {
     "name": "stdout",
     "output_type": "stream",
     "text": [
      "Visualizing prototypes for topk (CountPIPNet with class-based count selection)...\n",
      "Using class-to-count mapping: {(1, 3): 1, (4, 6): 2, (7, 9): 3}\n",
      "Available counts: [1, 2, 3]\n",
      "classifier_input_weights shape: torch.Size([48])\n",
      "classifier_input_weights:\n",
      "tensor([0.3333, 0.6667, 1.0000, 0.0000, 0.0000, 0.0000, 0.0000, 0.0000, 0.0000,\n",
      "        0.0000, 0.0000, 0.0000, 0.0000, 0.0000, 0.0000, 0.0000, 0.0000, 0.0000,\n",
      "        0.0000, 0.0000, 0.0000, 0.0000, 0.0000, 0.0000, 0.0000, 0.0000, 0.0000,\n",
      "        0.0000, 0.0000, 0.0000, 0.0000, 0.0000, 0.0000, 0.0000, 0.0000, 0.0000,\n",
      "        0.0000, 0.0000, 0.0000, 0.0000, 0.0000, 0.0000, 0.0000, 0.0000, 0.0000,\n",
      "        0.0000, 0.0000, 0.0000], device='cuda:3')\n",
      "Detected model type: CountPIPNet with max_count=3\n",
      "Visualizing pretraining prototypes\n",
      "Examples per count group: 10\n",
      "Pooled shape: torch.Size([16]), min: 0.0, max: 561.0\n",
      "Feature maps shape: torch.Size([16, 24, 24])\n",
      "Non-zero pooled values: 10 out of 16\n",
      "Pooled values (counts): [3.0, 0.0, 2.0, 0.0, 0.0, 2.0, 561.0, 3.0, 1.0, 1.0, 1.0, 0.0, 1.0, 1.0, 0.0, 0.0]\n",
      "Classification weights shape: torch.Size([9, 48]) (expanded)\n",
      "Visualizing all prototypes (ignoring classification weights during pretraining)\n"
     ]
    },
    {
     "name": "stderr",
     "output_type": "stream",
     "text": [
      "Collecting activations:  28%|██▊       | 1000/3600 [00:03<00:08, 289.88it/s]\n",
      "Single-pass processing for class-based count selection: 100% 3600/3600 [00:19<00:00, 183.06it/s]"
     ]
    },
    {
     "name": "stdout",
     "output_type": "stream",
     "text": [
      "Abstained: 0\n"
     ]
    },
    {
     "name": "stderr",
     "output_type": "stream",
     "text": [
      "\n"
     ]
    },
    {
     "name": "stdout",
     "output_type": "stream",
     "text": [
      "0 prototypes do not have any examples. Will be ignored in visualization.\n",
      "Creating prototype feature map visualizations with count information...\n"
     ]
    },
    {
     "name": "stderr",
     "output_type": "stream",
     "text": [
      "Traceback (most recent call last):\n",
      "  File \"/home/taras/.conda/envs/taras_ami/lib/python3.10/multiprocessing/queues.py\", line 239, in _feed\n",
      "    reader_close()\n",
      "  File \"/home/taras/.conda/envs/taras_ami/lib/python3.10/multiprocessing/connection.py\", line 177, in close\n",
      "    self._close()\n",
      "  File \"/home/taras/.conda/envs/taras_ami/lib/python3.10/multiprocessing/connection.py\", line 361, in _close\n",
      "    _close(self._handle)\n",
      "OSError: [Errno 9] Bad file descriptor\n"
     ]
    },
    {
     "name": "stdout",
     "output_type": "stream",
     "text": [
      "Visualization saved to /mnt/ssd-1/mechinterp/taras/Count_PIPNet/visualizations/45_shapesGN_linear\n"
     ]
    }
   ],
   "source": [
    "topks = visualize_topk(net, projectloader, len(classes), device, run_vis_dir, args, k=10,\n",
    "\t\t\t\t\t   plot_histograms=True, visualize_prototype_maps=True, are_pretraining_prototypes=True)\n",
    "print(f\"Visualization saved to {run_vis_dir}\")"
   ]
  },
  {
   "cell_type": "markdown",
   "metadata": {},
   "source": [
    "# Best trained model visualization"
   ]
  },
  {
   "cell_type": "code",
   "execution_count": 35,
   "metadata": {},
   "outputs": [
    {
     "name": "stdout",
     "output_type": "stream",
     "text": [
      "Loading a checkpoint from /mnt/ssd-1/mechinterp/taras/Count_PIPNet/runs/stage_3/20250401_064200_0_linear...\n"
     ]
    }
   ],
   "source": [
    "checkpoint_to_load = '20250401_064200_0_linear'\n",
    "path_to_load = multi_experiment_dir / checkpoint_to_load\n",
    "\n",
    "print(f'Loading a checkpoint from {path_to_load}...')"
   ]
  },
  {
   "cell_type": "code",
   "execution_count": 36,
   "metadata": {},
   "outputs": [
    {
     "name": "stdout",
     "output_type": "stream",
     "text": [
      "Loaded configuration from /mnt/ssd-1/mechinterp/taras/Count_PIPNet/runs/stage_3/20250401_064200_0_linear/metadata/args.pickle\n",
      "Using device: cuda:3\n",
      "Num classes (k) =  9 ['class_1', 'class_2', 'class_3', 'class_4', 'class_5'] etc.\n"
     ]
    },
    {
     "name": "stdout",
     "output_type": "stream",
     "text": [
      "Detected 192 output channels from last conv layer\n",
      "Number of prototypes set from 192 to 16. Extra 1x1 conv layer added.\n",
      "Output shape: torch.Size([64, 16, 24, 24]), setting wshape=24\n",
      "Using device_ids: [3]\n",
      "Successfully loaded model state from /mnt/ssd-1/mechinterp/taras/Count_PIPNet/runs/stage_3/20250401_064200_0_linear/checkpoints/net_trained_best\n",
      "Checkpoint from epoch 93\n",
      "Model accuracy: 0.9922\n"
     ]
    }
   ],
   "source": [
    "net, projectloader, classes, args, is_count_pipnet = load_model(path_to_load, gpu_id=GPU_TO_USE)"
   ]
  },
  {
   "cell_type": "code",
   "execution_count": 37,
   "metadata": {},
   "outputs": [
    {
     "name": "stdout",
     "output_type": "stream",
     "text": [
      "Saving viz to /mnt/ssd-1/mechinterp/taras/Count_PIPNet/visualizations/20250401_064200_0_linear\n"
     ]
    }
   ],
   "source": [
    "run_vis_dir = visualization_dir /checkpoint_to_load\n",
    "\n",
    "print(f'Saving viz to {run_vis_dir}')\n",
    "\n",
    "os.makedirs(run_vis_dir, exist_ok=True)"
   ]
  },
  {
   "cell_type": "code",
   "execution_count": 38,
   "metadata": {},
   "outputs": [
    {
     "name": "stdout",
     "output_type": "stream",
     "text": [
      "Visualizing prototypes for topk (CountPIPNet with class-based count selection)...\n",
      "Using class-to-count mapping: {(1, 3): 1, (4, 6): 2, (7, 9): 3}\n",
      "Available counts: [1, 2, 3]\n",
      "classifier_input_weights shape: torch.Size([48])\n",
      "classifier_input_weights:\n",
      "tensor([0.3333, 0.6667, 1.0000, 0.0000, 0.0000, 0.0000, 0.0000, 0.0000, 0.0000,\n",
      "        0.0000, 0.0000, 0.0000, 0.0000, 0.0000, 0.0000, 0.0000, 0.0000, 0.0000,\n",
      "        0.0000, 0.0000, 0.0000, 0.0000, 0.0000, 0.0000, 0.0000, 0.0000, 0.0000,\n",
      "        0.0000, 0.0000, 0.0000, 0.0000, 0.0000, 0.0000, 0.0000, 0.0000, 0.0000,\n",
      "        0.0000, 0.0000, 0.0000, 0.0000, 0.0000, 0.0000, 0.0000, 0.0000, 0.0000,\n",
      "        0.0000, 0.0000, 0.0000], device='cuda:3')\n",
      "Detected model type: CountPIPNet with max_count=3\n",
      "Visualizing trained prototypes\n",
      "Examples per count group: 10\n"
     ]
    },
    {
     "name": "stdout",
     "output_type": "stream",
     "text": [
      "Pooled shape: torch.Size([16]), min: 0.0, max: 554.0\n",
      "Feature maps shape: torch.Size([16, 24, 24])\n",
      "Non-zero pooled values: 4 out of 16\n",
      "Pooled values (counts): [9.0, 12.0, 0.0, 0.0, 0.0, 0.0, 554.0, 0.0, 1.0, 0.0, 0.0, 0.0, 0.0, 0.0, 0.0, 0.0]\n",
      "Classification weights shape: torch.Size([9, 48]) (expanded)\n",
      "Max classification weight per prototype: [2.0725, 0.0, 0.2801, 5.7195, 0.0, 1.96, 0.0, 6.4921, 0.043, 0.0, 5.0559, 2.8195, 1.4803, 1.3423, 1.5896, 2.6441]\n",
      "Prototypes with weight > 1e-1: 11\n",
      "Prototype indices with weight > 1e-1: [0, 2, 3, 5, 7, 10, 11, 12, 13, 14, 15]\n"
     ]
    },
    {
     "name": "stderr",
     "output_type": "stream",
     "text": [
      "Collecting activations:  28%|██▊       | 1000/3600 [00:03<00:09, 286.51it/s]\n",
      "Single-pass processing for class-based count selection: 100% 3600/3600 [00:17<00:00, 211.10it/s]"
     ]
    },
    {
     "name": "stdout",
     "output_type": "stream",
     "text": [
      "Abstained: 0\n",
      "0 prototypes do not have any examples. Will be ignored in visualization.\n",
      "Creating prototype feature map visualizations with count information...\n"
     ]
    },
    {
     "name": "stderr",
     "output_type": "stream",
     "text": [
      "\n"
     ]
    },
    {
     "name": "stdout",
     "output_type": "stream",
     "text": [
      "Visualization saved to /mnt/ssd-1/mechinterp/taras/Count_PIPNet/visualizations/20250401_064200_0_linear\n"
     ]
    }
   ],
   "source": [
    "topks = visualize_topk(net, projectloader, len(classes), device, run_vis_dir, args, k=10,\n",
    "\t\t\t\t\t   plot_histograms=True, visualize_prototype_maps=True)\n",
    "print(f\"Visualization saved to {run_vis_dir}\")"
   ]
  },
  {
   "cell_type": "markdown",
   "metadata": {},
   "source": [
    "## Global explanation"
   ]
  },
  {
   "cell_type": "code",
   "execution_count": 72,
   "metadata": {},
   "outputs": [],
   "source": [
    "def calculate_global_explanation(net, classes):\n",
    "    \"\"\"\n",
    "    Calculate the importance of each prototype for each class in the network.\n",
    "    \n",
    "    Args:\n",
    "        net: The trained CountPIPNet model\n",
    "        classes: List of class names\n",
    "        \n",
    "    Returns:\n",
    "        Dictionary mapping class indices to tensors of prototype importances\n",
    "    \"\"\"\n",
    "    num_prototypes = net.module._num_prototypes\n",
    "\n",
    "    # Dictionary to store the importance of each prototype for each class\n",
    "    class_prototype_importances = {}\n",
    "\n",
    "    # Iterate through all prototypes\n",
    "    for i in range(num_prototypes):\n",
    "        # Get importance of this prototype for each class\n",
    "        prototype_importance_per_class = net.module.get_prototype_importance_per_class(i)\n",
    "        \n",
    "        # Distribute the importance values to their respective classes\n",
    "        for class_idx, class_importance in enumerate(prototype_importance_per_class):\n",
    "            if class_idx not in class_prototype_importances.keys():\n",
    "                class_prototype_importances[class_idx] = torch.zeros([num_prototypes], device=class_importance.device)\n",
    "\n",
    "            class_prototype_importances[class_idx][i] += class_importance\n",
    "    \n",
    "    return class_prototype_importances\n",
    "\n",
    "def show_global_explanation(net, classes, global_explanation=None, top_k_prototypes=None, output_path=None):\n",
    "    \"\"\"\n",
    "    Visualize the global explanation as a heatmap using Plotly.\n",
    "    \n",
    "    Args:\n",
    "        net: The trained CountPIPNet model\n",
    "        classes: List of class names\n",
    "        global_explanation: Pre-computed global explanation (optional)\n",
    "        top_k_prototypes: Number of top prototypes to display per class (optional)\n",
    "        output_path: Path to save the visualization (optional)\n",
    "        \n",
    "    Returns:\n",
    "        Plotly figure object\n",
    "    \"\"\"\n",
    "    import plotly.graph_objects as go\n",
    "    import numpy as np\n",
    "    \n",
    "    # Calculate global explanation if not provided\n",
    "    if global_explanation is None:\n",
    "        global_explanation = calculate_global_explanation(net, classes)\n",
    "    \n",
    "    # Convert dictionary to numpy array for heatmap\n",
    "    num_classes = len(global_explanation)\n",
    "    num_prototypes = net.module._num_prototypes\n",
    "    \n",
    "    # Initialize the data matrix\n",
    "    data_matrix = np.zeros((num_classes, num_prototypes))\n",
    "    \n",
    "    # Fill in the data matrix with importance values\n",
    "    for class_idx, prototype_importances in global_explanation.items():\n",
    "        data_matrix[class_idx] = prototype_importances.cpu().numpy()\n",
    "    \n",
    "    # Optionally filter to show only the top-k most important prototypes per class\n",
    "    if top_k_prototypes is not None:\n",
    "        # Create a mask of top-k prototypes per class\n",
    "        top_k_mask = np.zeros_like(data_matrix, dtype=bool)\n",
    "        for class_idx in range(num_classes):\n",
    "            # Get indices of top-k prototypes for this class\n",
    "            top_indices = np.argsort(data_matrix[class_idx])[-top_k_prototypes:]\n",
    "            top_k_mask[class_idx, top_indices] = True\n",
    "        \n",
    "        # Apply mask (set non-top-k values to NaN for better visibility)\n",
    "        filtered_data = np.where(top_k_mask, data_matrix, np.nan)\n",
    "    else:\n",
    "        filtered_data = data_matrix\n",
    "    \n",
    "    # Create x and y labels\n",
    "    y_labels = [f\"{classes[i]}\" if i < len(classes) else f\"Class {i}\" \n",
    "               for i in range(num_classes)]\n",
    "    x_labels = [f\"Prototype {i}\" for i in range(num_prototypes)]\n",
    "    \n",
    "    # Create heatmap\n",
    "    fig = go.Figure(data=go.Heatmap(\n",
    "        z=filtered_data,\n",
    "        x=x_labels,\n",
    "        y=y_labels,\n",
    "        colorscale='Plasma',\n",
    "        hoverongaps=False,\n",
    "        colorbar=dict(\n",
    "            title=\"Importance\",\n",
    "            titleside=\"right\"\n",
    "        )\n",
    "    ))\n",
    "    \n",
    "    # Update layout for better readability\n",
    "    fig.update_layout(\n",
    "        title=\"Global Explanation: Prototype Importance per Class\",\n",
    "        xaxis=dict(\n",
    "            title=\"Prototypes\",\n",
    "            tickangle=-45,\n",
    "        ),\n",
    "        yaxis=dict(\n",
    "            title=\"Classes\",\n",
    "        ),\n",
    "        width=max(800, num_prototypes * 25),  # Adjust width based on number of prototypes\n",
    "        height=max(600, num_classes * 30),    # Adjust height based on number of classes\n",
    "        margin=dict(l=150, r=50, t=100, b=150)\n",
    "    )\n",
    "    \n",
    "    # Save the figure if output path is provided\n",
    "    if output_path:\n",
    "        fig.write_image(output_path)\n",
    "        print(f\"Saved global explanation visualization to {output_path}\")\n",
    "    \n",
    "    # Display the figure\n",
    "    fig.show()"
   ]
  },
  {
   "cell_type": "code",
   "execution_count": 73,
   "metadata": {},
   "outputs": [
    {
     "data": {
      "application/vnd.plotly.v1+json": {
       "config": {
        "plotlyServerURL": "https://plot.ly"
       },
       "data": [
        {
         "colorbar": {
          "title": {
           "side": "right",
           "text": "Importance"
          }
         },
         "colorscale": [
          [
           0,
           "#0d0887"
          ],
          [
           0.1111111111111111,
           "#46039f"
          ],
          [
           0.2222222222222222,
           "#7201a8"
          ],
          [
           0.3333333333333333,
           "#9c179e"
          ],
          [
           0.4444444444444444,
           "#bd3786"
          ],
          [
           0.5555555555555556,
           "#d8576b"
          ],
          [
           0.6666666666666666,
           "#ed7953"
          ],
          [
           0.7777777777777778,
           "#fb9f3a"
          ],
          [
           0.8888888888888888,
           "#fdca26"
          ],
          [
           1,
           "#f0f921"
          ]
         ],
         "hoverongaps": false,
         "type": "heatmap",
         "x": [
          "Prototype 0",
          "Prototype 1",
          "Prototype 2",
          "Prototype 3",
          "Prototype 4",
          "Prototype 5",
          "Prototype 6",
          "Prototype 7",
          "Prototype 8",
          "Prototype 9",
          "Prototype 10",
          "Prototype 11",
          "Prototype 12",
          "Prototype 13",
          "Prototype 14",
          "Prototype 15"
         ],
         "y": [
          "class_1",
          "class_2",
          "class_3",
          "class_4",
          "class_5",
          "class_6",
          "class_7",
          "class_8",
          "class_9"
         ],
         "z": [
          [
           2.0725245475769043,
           0,
           0,
           0,
           0,
           0,
           0,
           0,
           0,
           0,
           0,
           0,
           0,
           0,
           0,
           0
          ],
          [
           0,
           0,
           0.2800847589969635,
           0,
           0,
           0,
           0,
           0,
           0,
           0,
           0,
           0,
           1.4802789688110352,
           0,
           0,
           0
          ],
          [
           0,
           0,
           0,
           0,
           0,
           1.960025668144226,
           0,
           0,
           0.04296684265136719,
           0,
           0,
           0,
           0,
           0,
           0,
           0
          ],
          [
           0,
           0,
           0,
           0,
           0,
           0,
           0,
           0,
           0,
           0,
           0,
           0,
           0,
           1.3422528505325317,
           1.5896273851394653,
           0
          ],
          [
           0,
           0,
           0,
           0,
           0,
           0,
           0,
           0,
           0,
           0,
           0,
           0,
           0,
           0,
           0,
           2.644127368927002
          ],
          [
           0,
           0,
           0,
           0,
           0,
           0,
           0,
           0,
           0,
           0,
           0,
           2.8195483684539795,
           0,
           0,
           0,
           0
          ],
          [
           0,
           0,
           0,
           0,
           0,
           0,
           0,
           6.492127895355225,
           0,
           0,
           0,
           0,
           0,
           0,
           0,
           0
          ],
          [
           0,
           0,
           0,
           0,
           0,
           0,
           0,
           0,
           0,
           0,
           5.055850982666016,
           0,
           0,
           0,
           0,
           0
          ],
          [
           0,
           0,
           0,
           5.719520568847656,
           0,
           0,
           0,
           0,
           0,
           0,
           0,
           0,
           0,
           0,
           0,
           0
          ]
         ]
        }
       ],
       "layout": {
        "height": 600,
        "margin": {
         "b": 150,
         "l": 150,
         "r": 50,
         "t": 100
        },
        "template": {
         "data": {
          "bar": [
           {
            "error_x": {
             "color": "#2a3f5f"
            },
            "error_y": {
             "color": "#2a3f5f"
            },
            "marker": {
             "line": {
              "color": "#E5ECF6",
              "width": 0.5
             },
             "pattern": {
              "fillmode": "overlay",
              "size": 10,
              "solidity": 0.2
             }
            },
            "type": "bar"
           }
          ],
          "barpolar": [
           {
            "marker": {
             "line": {
              "color": "#E5ECF6",
              "width": 0.5
             },
             "pattern": {
              "fillmode": "overlay",
              "size": 10,
              "solidity": 0.2
             }
            },
            "type": "barpolar"
           }
          ],
          "carpet": [
           {
            "aaxis": {
             "endlinecolor": "#2a3f5f",
             "gridcolor": "white",
             "linecolor": "white",
             "minorgridcolor": "white",
             "startlinecolor": "#2a3f5f"
            },
            "baxis": {
             "endlinecolor": "#2a3f5f",
             "gridcolor": "white",
             "linecolor": "white",
             "minorgridcolor": "white",
             "startlinecolor": "#2a3f5f"
            },
            "type": "carpet"
           }
          ],
          "choropleth": [
           {
            "colorbar": {
             "outlinewidth": 0,
             "ticks": ""
            },
            "type": "choropleth"
           }
          ],
          "contour": [
           {
            "colorbar": {
             "outlinewidth": 0,
             "ticks": ""
            },
            "colorscale": [
             [
              0,
              "#0d0887"
             ],
             [
              0.1111111111111111,
              "#46039f"
             ],
             [
              0.2222222222222222,
              "#7201a8"
             ],
             [
              0.3333333333333333,
              "#9c179e"
             ],
             [
              0.4444444444444444,
              "#bd3786"
             ],
             [
              0.5555555555555556,
              "#d8576b"
             ],
             [
              0.6666666666666666,
              "#ed7953"
             ],
             [
              0.7777777777777778,
              "#fb9f3a"
             ],
             [
              0.8888888888888888,
              "#fdca26"
             ],
             [
              1,
              "#f0f921"
             ]
            ],
            "type": "contour"
           }
          ],
          "contourcarpet": [
           {
            "colorbar": {
             "outlinewidth": 0,
             "ticks": ""
            },
            "type": "contourcarpet"
           }
          ],
          "heatmap": [
           {
            "colorbar": {
             "outlinewidth": 0,
             "ticks": ""
            },
            "colorscale": [
             [
              0,
              "#0d0887"
             ],
             [
              0.1111111111111111,
              "#46039f"
             ],
             [
              0.2222222222222222,
              "#7201a8"
             ],
             [
              0.3333333333333333,
              "#9c179e"
             ],
             [
              0.4444444444444444,
              "#bd3786"
             ],
             [
              0.5555555555555556,
              "#d8576b"
             ],
             [
              0.6666666666666666,
              "#ed7953"
             ],
             [
              0.7777777777777778,
              "#fb9f3a"
             ],
             [
              0.8888888888888888,
              "#fdca26"
             ],
             [
              1,
              "#f0f921"
             ]
            ],
            "type": "heatmap"
           }
          ],
          "heatmapgl": [
           {
            "colorbar": {
             "outlinewidth": 0,
             "ticks": ""
            },
            "colorscale": [
             [
              0,
              "#0d0887"
             ],
             [
              0.1111111111111111,
              "#46039f"
             ],
             [
              0.2222222222222222,
              "#7201a8"
             ],
             [
              0.3333333333333333,
              "#9c179e"
             ],
             [
              0.4444444444444444,
              "#bd3786"
             ],
             [
              0.5555555555555556,
              "#d8576b"
             ],
             [
              0.6666666666666666,
              "#ed7953"
             ],
             [
              0.7777777777777778,
              "#fb9f3a"
             ],
             [
              0.8888888888888888,
              "#fdca26"
             ],
             [
              1,
              "#f0f921"
             ]
            ],
            "type": "heatmapgl"
           }
          ],
          "histogram": [
           {
            "marker": {
             "pattern": {
              "fillmode": "overlay",
              "size": 10,
              "solidity": 0.2
             }
            },
            "type": "histogram"
           }
          ],
          "histogram2d": [
           {
            "colorbar": {
             "outlinewidth": 0,
             "ticks": ""
            },
            "colorscale": [
             [
              0,
              "#0d0887"
             ],
             [
              0.1111111111111111,
              "#46039f"
             ],
             [
              0.2222222222222222,
              "#7201a8"
             ],
             [
              0.3333333333333333,
              "#9c179e"
             ],
             [
              0.4444444444444444,
              "#bd3786"
             ],
             [
              0.5555555555555556,
              "#d8576b"
             ],
             [
              0.6666666666666666,
              "#ed7953"
             ],
             [
              0.7777777777777778,
              "#fb9f3a"
             ],
             [
              0.8888888888888888,
              "#fdca26"
             ],
             [
              1,
              "#f0f921"
             ]
            ],
            "type": "histogram2d"
           }
          ],
          "histogram2dcontour": [
           {
            "colorbar": {
             "outlinewidth": 0,
             "ticks": ""
            },
            "colorscale": [
             [
              0,
              "#0d0887"
             ],
             [
              0.1111111111111111,
              "#46039f"
             ],
             [
              0.2222222222222222,
              "#7201a8"
             ],
             [
              0.3333333333333333,
              "#9c179e"
             ],
             [
              0.4444444444444444,
              "#bd3786"
             ],
             [
              0.5555555555555556,
              "#d8576b"
             ],
             [
              0.6666666666666666,
              "#ed7953"
             ],
             [
              0.7777777777777778,
              "#fb9f3a"
             ],
             [
              0.8888888888888888,
              "#fdca26"
             ],
             [
              1,
              "#f0f921"
             ]
            ],
            "type": "histogram2dcontour"
           }
          ],
          "mesh3d": [
           {
            "colorbar": {
             "outlinewidth": 0,
             "ticks": ""
            },
            "type": "mesh3d"
           }
          ],
          "parcoords": [
           {
            "line": {
             "colorbar": {
              "outlinewidth": 0,
              "ticks": ""
             }
            },
            "type": "parcoords"
           }
          ],
          "pie": [
           {
            "automargin": true,
            "type": "pie"
           }
          ],
          "scatter": [
           {
            "fillpattern": {
             "fillmode": "overlay",
             "size": 10,
             "solidity": 0.2
            },
            "type": "scatter"
           }
          ],
          "scatter3d": [
           {
            "line": {
             "colorbar": {
              "outlinewidth": 0,
              "ticks": ""
             }
            },
            "marker": {
             "colorbar": {
              "outlinewidth": 0,
              "ticks": ""
             }
            },
            "type": "scatter3d"
           }
          ],
          "scattercarpet": [
           {
            "marker": {
             "colorbar": {
              "outlinewidth": 0,
              "ticks": ""
             }
            },
            "type": "scattercarpet"
           }
          ],
          "scattergeo": [
           {
            "marker": {
             "colorbar": {
              "outlinewidth": 0,
              "ticks": ""
             }
            },
            "type": "scattergeo"
           }
          ],
          "scattergl": [
           {
            "marker": {
             "colorbar": {
              "outlinewidth": 0,
              "ticks": ""
             }
            },
            "type": "scattergl"
           }
          ],
          "scattermapbox": [
           {
            "marker": {
             "colorbar": {
              "outlinewidth": 0,
              "ticks": ""
             }
            },
            "type": "scattermapbox"
           }
          ],
          "scatterpolar": [
           {
            "marker": {
             "colorbar": {
              "outlinewidth": 0,
              "ticks": ""
             }
            },
            "type": "scatterpolar"
           }
          ],
          "scatterpolargl": [
           {
            "marker": {
             "colorbar": {
              "outlinewidth": 0,
              "ticks": ""
             }
            },
            "type": "scatterpolargl"
           }
          ],
          "scatterternary": [
           {
            "marker": {
             "colorbar": {
              "outlinewidth": 0,
              "ticks": ""
             }
            },
            "type": "scatterternary"
           }
          ],
          "surface": [
           {
            "colorbar": {
             "outlinewidth": 0,
             "ticks": ""
            },
            "colorscale": [
             [
              0,
              "#0d0887"
             ],
             [
              0.1111111111111111,
              "#46039f"
             ],
             [
              0.2222222222222222,
              "#7201a8"
             ],
             [
              0.3333333333333333,
              "#9c179e"
             ],
             [
              0.4444444444444444,
              "#bd3786"
             ],
             [
              0.5555555555555556,
              "#d8576b"
             ],
             [
              0.6666666666666666,
              "#ed7953"
             ],
             [
              0.7777777777777778,
              "#fb9f3a"
             ],
             [
              0.8888888888888888,
              "#fdca26"
             ],
             [
              1,
              "#f0f921"
             ]
            ],
            "type": "surface"
           }
          ],
          "table": [
           {
            "cells": {
             "fill": {
              "color": "#EBF0F8"
             },
             "line": {
              "color": "white"
             }
            },
            "header": {
             "fill": {
              "color": "#C8D4E3"
             },
             "line": {
              "color": "white"
             }
            },
            "type": "table"
           }
          ]
         },
         "layout": {
          "annotationdefaults": {
           "arrowcolor": "#2a3f5f",
           "arrowhead": 0,
           "arrowwidth": 1
          },
          "autotypenumbers": "strict",
          "coloraxis": {
           "colorbar": {
            "outlinewidth": 0,
            "ticks": ""
           }
          },
          "colorscale": {
           "diverging": [
            [
             0,
             "#8e0152"
            ],
            [
             0.1,
             "#c51b7d"
            ],
            [
             0.2,
             "#de77ae"
            ],
            [
             0.3,
             "#f1b6da"
            ],
            [
             0.4,
             "#fde0ef"
            ],
            [
             0.5,
             "#f7f7f7"
            ],
            [
             0.6,
             "#e6f5d0"
            ],
            [
             0.7,
             "#b8e186"
            ],
            [
             0.8,
             "#7fbc41"
            ],
            [
             0.9,
             "#4d9221"
            ],
            [
             1,
             "#276419"
            ]
           ],
           "sequential": [
            [
             0,
             "#0d0887"
            ],
            [
             0.1111111111111111,
             "#46039f"
            ],
            [
             0.2222222222222222,
             "#7201a8"
            ],
            [
             0.3333333333333333,
             "#9c179e"
            ],
            [
             0.4444444444444444,
             "#bd3786"
            ],
            [
             0.5555555555555556,
             "#d8576b"
            ],
            [
             0.6666666666666666,
             "#ed7953"
            ],
            [
             0.7777777777777778,
             "#fb9f3a"
            ],
            [
             0.8888888888888888,
             "#fdca26"
            ],
            [
             1,
             "#f0f921"
            ]
           ],
           "sequentialminus": [
            [
             0,
             "#0d0887"
            ],
            [
             0.1111111111111111,
             "#46039f"
            ],
            [
             0.2222222222222222,
             "#7201a8"
            ],
            [
             0.3333333333333333,
             "#9c179e"
            ],
            [
             0.4444444444444444,
             "#bd3786"
            ],
            [
             0.5555555555555556,
             "#d8576b"
            ],
            [
             0.6666666666666666,
             "#ed7953"
            ],
            [
             0.7777777777777778,
             "#fb9f3a"
            ],
            [
             0.8888888888888888,
             "#fdca26"
            ],
            [
             1,
             "#f0f921"
            ]
           ]
          },
          "colorway": [
           "#636efa",
           "#EF553B",
           "#00cc96",
           "#ab63fa",
           "#FFA15A",
           "#19d3f3",
           "#FF6692",
           "#B6E880",
           "#FF97FF",
           "#FECB52"
          ],
          "font": {
           "color": "#2a3f5f"
          },
          "geo": {
           "bgcolor": "white",
           "lakecolor": "white",
           "landcolor": "#E5ECF6",
           "showlakes": true,
           "showland": true,
           "subunitcolor": "white"
          },
          "hoverlabel": {
           "align": "left"
          },
          "hovermode": "closest",
          "mapbox": {
           "style": "light"
          },
          "paper_bgcolor": "white",
          "plot_bgcolor": "#E5ECF6",
          "polar": {
           "angularaxis": {
            "gridcolor": "white",
            "linecolor": "white",
            "ticks": ""
           },
           "bgcolor": "#E5ECF6",
           "radialaxis": {
            "gridcolor": "white",
            "linecolor": "white",
            "ticks": ""
           }
          },
          "scene": {
           "xaxis": {
            "backgroundcolor": "#E5ECF6",
            "gridcolor": "white",
            "gridwidth": 2,
            "linecolor": "white",
            "showbackground": true,
            "ticks": "",
            "zerolinecolor": "white"
           },
           "yaxis": {
            "backgroundcolor": "#E5ECF6",
            "gridcolor": "white",
            "gridwidth": 2,
            "linecolor": "white",
            "showbackground": true,
            "ticks": "",
            "zerolinecolor": "white"
           },
           "zaxis": {
            "backgroundcolor": "#E5ECF6",
            "gridcolor": "white",
            "gridwidth": 2,
            "linecolor": "white",
            "showbackground": true,
            "ticks": "",
            "zerolinecolor": "white"
           }
          },
          "shapedefaults": {
           "line": {
            "color": "#2a3f5f"
           }
          },
          "ternary": {
           "aaxis": {
            "gridcolor": "white",
            "linecolor": "white",
            "ticks": ""
           },
           "baxis": {
            "gridcolor": "white",
            "linecolor": "white",
            "ticks": ""
           },
           "bgcolor": "#E5ECF6",
           "caxis": {
            "gridcolor": "white",
            "linecolor": "white",
            "ticks": ""
           }
          },
          "title": {
           "x": 0.05
          },
          "xaxis": {
           "automargin": true,
           "gridcolor": "white",
           "linecolor": "white",
           "ticks": "",
           "title": {
            "standoff": 15
           },
           "zerolinecolor": "white",
           "zerolinewidth": 2
          },
          "yaxis": {
           "automargin": true,
           "gridcolor": "white",
           "linecolor": "white",
           "ticks": "",
           "title": {
            "standoff": 15
           },
           "zerolinecolor": "white",
           "zerolinewidth": 2
          }
         }
        },
        "title": {
         "text": "Global Explanation: Prototype Importance per Class"
        },
        "width": 800,
        "xaxis": {
         "tickangle": -45,
         "title": {
          "text": "Prototypes"
         }
        },
        "yaxis": {
         "title": {
          "text": "Classes"
         }
        }
       }
      },
      "text/html": [
       "<div>                            <div id=\"4a15298a-ad22-44ac-bfbf-7f6d80d0437f\" class=\"plotly-graph-div\" style=\"height:600px; width:800px;\"></div>            <script type=\"text/javascript\">                require([\"plotly\"], function(Plotly) {                    window.PLOTLYENV=window.PLOTLYENV || {};                                    if (document.getElementById(\"4a15298a-ad22-44ac-bfbf-7f6d80d0437f\")) {                    Plotly.newPlot(                        \"4a15298a-ad22-44ac-bfbf-7f6d80d0437f\",                        [{\"colorbar\":{\"title\":{\"side\":\"right\",\"text\":\"Importance\"}},\"colorscale\":[[0.0,\"#0d0887\"],[0.1111111111111111,\"#46039f\"],[0.2222222222222222,\"#7201a8\"],[0.3333333333333333,\"#9c179e\"],[0.4444444444444444,\"#bd3786\"],[0.5555555555555556,\"#d8576b\"],[0.6666666666666666,\"#ed7953\"],[0.7777777777777778,\"#fb9f3a\"],[0.8888888888888888,\"#fdca26\"],[1.0,\"#f0f921\"]],\"hoverongaps\":false,\"x\":[\"Prototype 0\",\"Prototype 1\",\"Prototype 2\",\"Prototype 3\",\"Prototype 4\",\"Prototype 5\",\"Prototype 6\",\"Prototype 7\",\"Prototype 8\",\"Prototype 9\",\"Prototype 10\",\"Prototype 11\",\"Prototype 12\",\"Prototype 13\",\"Prototype 14\",\"Prototype 15\"],\"y\":[\"class_1\",\"class_2\",\"class_3\",\"class_4\",\"class_5\",\"class_6\",\"class_7\",\"class_8\",\"class_9\"],\"z\":[[2.0725245475769043,0.0,0.0,0.0,0.0,0.0,0.0,0.0,0.0,0.0,0.0,0.0,0.0,0.0,0.0,0.0],[0.0,0.0,0.2800847589969635,0.0,0.0,0.0,0.0,0.0,0.0,0.0,0.0,0.0,1.4802789688110352,0.0,0.0,0.0],[0.0,0.0,0.0,0.0,0.0,1.960025668144226,0.0,0.0,0.04296684265136719,0.0,0.0,0.0,0.0,0.0,0.0,0.0],[0.0,0.0,0.0,0.0,0.0,0.0,0.0,0.0,0.0,0.0,0.0,0.0,0.0,1.3422528505325317,1.5896273851394653,0.0],[0.0,0.0,0.0,0.0,0.0,0.0,0.0,0.0,0.0,0.0,0.0,0.0,0.0,0.0,0.0,2.644127368927002],[0.0,0.0,0.0,0.0,0.0,0.0,0.0,0.0,0.0,0.0,0.0,2.8195483684539795,0.0,0.0,0.0,0.0],[0.0,0.0,0.0,0.0,0.0,0.0,0.0,6.492127895355225,0.0,0.0,0.0,0.0,0.0,0.0,0.0,0.0],[0.0,0.0,0.0,0.0,0.0,0.0,0.0,0.0,0.0,0.0,5.055850982666016,0.0,0.0,0.0,0.0,0.0],[0.0,0.0,0.0,5.719520568847656,0.0,0.0,0.0,0.0,0.0,0.0,0.0,0.0,0.0,0.0,0.0,0.0]],\"type\":\"heatmap\"}],                        {\"template\":{\"data\":{\"histogram2dcontour\":[{\"type\":\"histogram2dcontour\",\"colorbar\":{\"outlinewidth\":0,\"ticks\":\"\"},\"colorscale\":[[0.0,\"#0d0887\"],[0.1111111111111111,\"#46039f\"],[0.2222222222222222,\"#7201a8\"],[0.3333333333333333,\"#9c179e\"],[0.4444444444444444,\"#bd3786\"],[0.5555555555555556,\"#d8576b\"],[0.6666666666666666,\"#ed7953\"],[0.7777777777777778,\"#fb9f3a\"],[0.8888888888888888,\"#fdca26\"],[1.0,\"#f0f921\"]]}],\"choropleth\":[{\"type\":\"choropleth\",\"colorbar\":{\"outlinewidth\":0,\"ticks\":\"\"}}],\"histogram2d\":[{\"type\":\"histogram2d\",\"colorbar\":{\"outlinewidth\":0,\"ticks\":\"\"},\"colorscale\":[[0.0,\"#0d0887\"],[0.1111111111111111,\"#46039f\"],[0.2222222222222222,\"#7201a8\"],[0.3333333333333333,\"#9c179e\"],[0.4444444444444444,\"#bd3786\"],[0.5555555555555556,\"#d8576b\"],[0.6666666666666666,\"#ed7953\"],[0.7777777777777778,\"#fb9f3a\"],[0.8888888888888888,\"#fdca26\"],[1.0,\"#f0f921\"]]}],\"heatmap\":[{\"type\":\"heatmap\",\"colorbar\":{\"outlinewidth\":0,\"ticks\":\"\"},\"colorscale\":[[0.0,\"#0d0887\"],[0.1111111111111111,\"#46039f\"],[0.2222222222222222,\"#7201a8\"],[0.3333333333333333,\"#9c179e\"],[0.4444444444444444,\"#bd3786\"],[0.5555555555555556,\"#d8576b\"],[0.6666666666666666,\"#ed7953\"],[0.7777777777777778,\"#fb9f3a\"],[0.8888888888888888,\"#fdca26\"],[1.0,\"#f0f921\"]]}],\"heatmapgl\":[{\"type\":\"heatmapgl\",\"colorbar\":{\"outlinewidth\":0,\"ticks\":\"\"},\"colorscale\":[[0.0,\"#0d0887\"],[0.1111111111111111,\"#46039f\"],[0.2222222222222222,\"#7201a8\"],[0.3333333333333333,\"#9c179e\"],[0.4444444444444444,\"#bd3786\"],[0.5555555555555556,\"#d8576b\"],[0.6666666666666666,\"#ed7953\"],[0.7777777777777778,\"#fb9f3a\"],[0.8888888888888888,\"#fdca26\"],[1.0,\"#f0f921\"]]}],\"contourcarpet\":[{\"type\":\"contourcarpet\",\"colorbar\":{\"outlinewidth\":0,\"ticks\":\"\"}}],\"contour\":[{\"type\":\"contour\",\"colorbar\":{\"outlinewidth\":0,\"ticks\":\"\"},\"colorscale\":[[0.0,\"#0d0887\"],[0.1111111111111111,\"#46039f\"],[0.2222222222222222,\"#7201a8\"],[0.3333333333333333,\"#9c179e\"],[0.4444444444444444,\"#bd3786\"],[0.5555555555555556,\"#d8576b\"],[0.6666666666666666,\"#ed7953\"],[0.7777777777777778,\"#fb9f3a\"],[0.8888888888888888,\"#fdca26\"],[1.0,\"#f0f921\"]]}],\"surface\":[{\"type\":\"surface\",\"colorbar\":{\"outlinewidth\":0,\"ticks\":\"\"},\"colorscale\":[[0.0,\"#0d0887\"],[0.1111111111111111,\"#46039f\"],[0.2222222222222222,\"#7201a8\"],[0.3333333333333333,\"#9c179e\"],[0.4444444444444444,\"#bd3786\"],[0.5555555555555556,\"#d8576b\"],[0.6666666666666666,\"#ed7953\"],[0.7777777777777778,\"#fb9f3a\"],[0.8888888888888888,\"#fdca26\"],[1.0,\"#f0f921\"]]}],\"mesh3d\":[{\"type\":\"mesh3d\",\"colorbar\":{\"outlinewidth\":0,\"ticks\":\"\"}}],\"scatter\":[{\"fillpattern\":{\"fillmode\":\"overlay\",\"size\":10,\"solidity\":0.2},\"type\":\"scatter\"}],\"parcoords\":[{\"type\":\"parcoords\",\"line\":{\"colorbar\":{\"outlinewidth\":0,\"ticks\":\"\"}}}],\"scatterpolargl\":[{\"type\":\"scatterpolargl\",\"marker\":{\"colorbar\":{\"outlinewidth\":0,\"ticks\":\"\"}}}],\"bar\":[{\"error_x\":{\"color\":\"#2a3f5f\"},\"error_y\":{\"color\":\"#2a3f5f\"},\"marker\":{\"line\":{\"color\":\"#E5ECF6\",\"width\":0.5},\"pattern\":{\"fillmode\":\"overlay\",\"size\":10,\"solidity\":0.2}},\"type\":\"bar\"}],\"scattergeo\":[{\"type\":\"scattergeo\",\"marker\":{\"colorbar\":{\"outlinewidth\":0,\"ticks\":\"\"}}}],\"scatterpolar\":[{\"type\":\"scatterpolar\",\"marker\":{\"colorbar\":{\"outlinewidth\":0,\"ticks\":\"\"}}}],\"histogram\":[{\"marker\":{\"pattern\":{\"fillmode\":\"overlay\",\"size\":10,\"solidity\":0.2}},\"type\":\"histogram\"}],\"scattergl\":[{\"type\":\"scattergl\",\"marker\":{\"colorbar\":{\"outlinewidth\":0,\"ticks\":\"\"}}}],\"scatter3d\":[{\"type\":\"scatter3d\",\"line\":{\"colorbar\":{\"outlinewidth\":0,\"ticks\":\"\"}},\"marker\":{\"colorbar\":{\"outlinewidth\":0,\"ticks\":\"\"}}}],\"scattermapbox\":[{\"type\":\"scattermapbox\",\"marker\":{\"colorbar\":{\"outlinewidth\":0,\"ticks\":\"\"}}}],\"scatterternary\":[{\"type\":\"scatterternary\",\"marker\":{\"colorbar\":{\"outlinewidth\":0,\"ticks\":\"\"}}}],\"scattercarpet\":[{\"type\":\"scattercarpet\",\"marker\":{\"colorbar\":{\"outlinewidth\":0,\"ticks\":\"\"}}}],\"carpet\":[{\"aaxis\":{\"endlinecolor\":\"#2a3f5f\",\"gridcolor\":\"white\",\"linecolor\":\"white\",\"minorgridcolor\":\"white\",\"startlinecolor\":\"#2a3f5f\"},\"baxis\":{\"endlinecolor\":\"#2a3f5f\",\"gridcolor\":\"white\",\"linecolor\":\"white\",\"minorgridcolor\":\"white\",\"startlinecolor\":\"#2a3f5f\"},\"type\":\"carpet\"}],\"table\":[{\"cells\":{\"fill\":{\"color\":\"#EBF0F8\"},\"line\":{\"color\":\"white\"}},\"header\":{\"fill\":{\"color\":\"#C8D4E3\"},\"line\":{\"color\":\"white\"}},\"type\":\"table\"}],\"barpolar\":[{\"marker\":{\"line\":{\"color\":\"#E5ECF6\",\"width\":0.5},\"pattern\":{\"fillmode\":\"overlay\",\"size\":10,\"solidity\":0.2}},\"type\":\"barpolar\"}],\"pie\":[{\"automargin\":true,\"type\":\"pie\"}]},\"layout\":{\"autotypenumbers\":\"strict\",\"colorway\":[\"#636efa\",\"#EF553B\",\"#00cc96\",\"#ab63fa\",\"#FFA15A\",\"#19d3f3\",\"#FF6692\",\"#B6E880\",\"#FF97FF\",\"#FECB52\"],\"font\":{\"color\":\"#2a3f5f\"},\"hovermode\":\"closest\",\"hoverlabel\":{\"align\":\"left\"},\"paper_bgcolor\":\"white\",\"plot_bgcolor\":\"#E5ECF6\",\"polar\":{\"bgcolor\":\"#E5ECF6\",\"angularaxis\":{\"gridcolor\":\"white\",\"linecolor\":\"white\",\"ticks\":\"\"},\"radialaxis\":{\"gridcolor\":\"white\",\"linecolor\":\"white\",\"ticks\":\"\"}},\"ternary\":{\"bgcolor\":\"#E5ECF6\",\"aaxis\":{\"gridcolor\":\"white\",\"linecolor\":\"white\",\"ticks\":\"\"},\"baxis\":{\"gridcolor\":\"white\",\"linecolor\":\"white\",\"ticks\":\"\"},\"caxis\":{\"gridcolor\":\"white\",\"linecolor\":\"white\",\"ticks\":\"\"}},\"coloraxis\":{\"colorbar\":{\"outlinewidth\":0,\"ticks\":\"\"}},\"colorscale\":{\"sequential\":[[0.0,\"#0d0887\"],[0.1111111111111111,\"#46039f\"],[0.2222222222222222,\"#7201a8\"],[0.3333333333333333,\"#9c179e\"],[0.4444444444444444,\"#bd3786\"],[0.5555555555555556,\"#d8576b\"],[0.6666666666666666,\"#ed7953\"],[0.7777777777777778,\"#fb9f3a\"],[0.8888888888888888,\"#fdca26\"],[1.0,\"#f0f921\"]],\"sequentialminus\":[[0.0,\"#0d0887\"],[0.1111111111111111,\"#46039f\"],[0.2222222222222222,\"#7201a8\"],[0.3333333333333333,\"#9c179e\"],[0.4444444444444444,\"#bd3786\"],[0.5555555555555556,\"#d8576b\"],[0.6666666666666666,\"#ed7953\"],[0.7777777777777778,\"#fb9f3a\"],[0.8888888888888888,\"#fdca26\"],[1.0,\"#f0f921\"]],\"diverging\":[[0,\"#8e0152\"],[0.1,\"#c51b7d\"],[0.2,\"#de77ae\"],[0.3,\"#f1b6da\"],[0.4,\"#fde0ef\"],[0.5,\"#f7f7f7\"],[0.6,\"#e6f5d0\"],[0.7,\"#b8e186\"],[0.8,\"#7fbc41\"],[0.9,\"#4d9221\"],[1,\"#276419\"]]},\"xaxis\":{\"gridcolor\":\"white\",\"linecolor\":\"white\",\"ticks\":\"\",\"title\":{\"standoff\":15},\"zerolinecolor\":\"white\",\"automargin\":true,\"zerolinewidth\":2},\"yaxis\":{\"gridcolor\":\"white\",\"linecolor\":\"white\",\"ticks\":\"\",\"title\":{\"standoff\":15},\"zerolinecolor\":\"white\",\"automargin\":true,\"zerolinewidth\":2},\"scene\":{\"xaxis\":{\"backgroundcolor\":\"#E5ECF6\",\"gridcolor\":\"white\",\"linecolor\":\"white\",\"showbackground\":true,\"ticks\":\"\",\"zerolinecolor\":\"white\",\"gridwidth\":2},\"yaxis\":{\"backgroundcolor\":\"#E5ECF6\",\"gridcolor\":\"white\",\"linecolor\":\"white\",\"showbackground\":true,\"ticks\":\"\",\"zerolinecolor\":\"white\",\"gridwidth\":2},\"zaxis\":{\"backgroundcolor\":\"#E5ECF6\",\"gridcolor\":\"white\",\"linecolor\":\"white\",\"showbackground\":true,\"ticks\":\"\",\"zerolinecolor\":\"white\",\"gridwidth\":2}},\"shapedefaults\":{\"line\":{\"color\":\"#2a3f5f\"}},\"annotationdefaults\":{\"arrowcolor\":\"#2a3f5f\",\"arrowhead\":0,\"arrowwidth\":1},\"geo\":{\"bgcolor\":\"white\",\"landcolor\":\"#E5ECF6\",\"subunitcolor\":\"white\",\"showland\":true,\"showlakes\":true,\"lakecolor\":\"white\"},\"title\":{\"x\":0.05},\"mapbox\":{\"style\":\"light\"}}},\"xaxis\":{\"title\":{\"text\":\"Prototypes\"},\"tickangle\":-45},\"margin\":{\"l\":150,\"r\":50,\"t\":100,\"b\":150},\"title\":{\"text\":\"Global Explanation: Prototype Importance per Class\"},\"yaxis\":{\"title\":{\"text\":\"Classes\"}},\"width\":800,\"height\":600},                        {\"responsive\": true}                    ).then(function(){\n",
       "                            \n",
       "var gd = document.getElementById('4a15298a-ad22-44ac-bfbf-7f6d80d0437f');\n",
       "var x = new MutationObserver(function (mutations, observer) {{\n",
       "        var display = window.getComputedStyle(gd).display;\n",
       "        if (!display || display === 'none') {{\n",
       "            console.log([gd, 'removed!']);\n",
       "            Plotly.purge(gd);\n",
       "            observer.disconnect();\n",
       "        }}\n",
       "}});\n",
       "\n",
       "// Listen for the removal of the full notebook cells\n",
       "var notebookContainer = gd.closest('#notebook-container');\n",
       "if (notebookContainer) {{\n",
       "    x.observe(notebookContainer, {childList: true});\n",
       "}}\n",
       "\n",
       "// Listen for the clearing of the current output cell\n",
       "var outputEl = gd.closest('.output');\n",
       "if (outputEl) {{\n",
       "    x.observe(outputEl, {childList: true});\n",
       "}}\n",
       "\n",
       "                        })                };                });            </script>        </div>"
      ]
     },
     "metadata": {},
     "output_type": "display_data"
    }
   ],
   "source": [
    "show_global_explanation(net, classes)"
   ]
  },
  {
   "cell_type": "code",
   "execution_count": 1,
   "metadata": {},
   "outputs": [
    {
     "data": {
      "text/plain": [
       "1.1111111111111112"
      ]
     },
     "execution_count": 1,
     "metadata": {},
     "output_type": "execute_result"
    }
   ],
   "source": [
    "(8 + 2) / 9"
   ]
  },
  {
   "cell_type": "code",
   "execution_count": 1,
   "metadata": {},
   "outputs": [
    {
     "data": {
      "text/plain": [
       "0.7454890788224122"
      ]
     },
     "execution_count": 1,
     "metadata": {},
     "output_type": "execute_result"
    }
   ],
   "source": [
    "3.488888888888889 / 4.68"
   ]
  },
  {
   "cell_type": "code",
   "execution_count": 2,
   "metadata": {},
   "outputs": [
    {
     "data": {
      "text/plain": [
       "0.6886227544910178"
      ]
     },
     "execution_count": 2,
     "metadata": {},
     "output_type": "execute_result"
    }
   ],
   "source": [
    "1.2777777777777777 / 1.8555555555555556"
   ]
  },
  {
   "cell_type": "code",
   "execution_count": null,
   "metadata": {},
   "outputs": [],
   "source": []
  }
 ],
 "metadata": {
  "kernelspec": {
   "display_name": "taras_ami",
   "language": "python",
   "name": "python3"
  },
  "language_info": {
   "codemirror_mode": {
    "name": "ipython",
    "version": 3
   },
   "file_extension": ".py",
   "mimetype": "text/x-python",
   "name": "python",
   "nbconvert_exporter": "python",
   "pygments_lexer": "ipython3",
   "version": "3.10.16"
  }
 },
 "nbformat": 4,
 "nbformat_minor": 2
}
